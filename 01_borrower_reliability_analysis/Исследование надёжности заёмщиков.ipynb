{
 "cells": [
  {
   "cell_type": "markdown",
   "metadata": {},
   "source": [
    "# Исследование надёжности заёмщиков\n",
    "\n",
    "Заказчик — кредитный отдел банка. Нужно разобраться, влияет ли семейное положение и количество детей клиента на факт погашения кредита в срок. Входные данные от банка — статистика о платёжеспособности клиентов.\n",
    "\n",
    "Результаты исследования будут учтены при построении модели **кредитного скоринга** — специальной системы, которая оценивает способность потенциального заёмщика вернуть кредит банку."
   ]
  },
  {
   "cell_type": "markdown",
   "metadata": {},
   "source": [
    "##  Откроем файл с данными и изучим общую информацию"
   ]
  },
  {
   "cell_type": "code",
   "execution_count": 1,
   "metadata": {},
   "outputs": [
    {
     "data": {
      "text/html": [
       "<div>\n",
       "<style scoped>\n",
       "    .dataframe tbody tr th:only-of-type {\n",
       "        vertical-align: middle;\n",
       "    }\n",
       "\n",
       "    .dataframe tbody tr th {\n",
       "        vertical-align: top;\n",
       "    }\n",
       "\n",
       "    .dataframe thead th {\n",
       "        text-align: right;\n",
       "    }\n",
       "</style>\n",
       "<table border=\"1\" class=\"dataframe\">\n",
       "  <thead>\n",
       "    <tr style=\"text-align: right;\">\n",
       "      <th></th>\n",
       "      <th>children</th>\n",
       "      <th>days_employed</th>\n",
       "      <th>dob_years</th>\n",
       "      <th>education</th>\n",
       "      <th>education_id</th>\n",
       "      <th>family_status</th>\n",
       "      <th>family_status_id</th>\n",
       "      <th>gender</th>\n",
       "      <th>income_type</th>\n",
       "      <th>debt</th>\n",
       "      <th>total_income</th>\n",
       "      <th>purpose</th>\n",
       "    </tr>\n",
       "  </thead>\n",
       "  <tbody>\n",
       "    <tr>\n",
       "      <td>0</td>\n",
       "      <td>1</td>\n",
       "      <td>-8437.673028</td>\n",
       "      <td>42</td>\n",
       "      <td>высшее</td>\n",
       "      <td>0</td>\n",
       "      <td>женат / замужем</td>\n",
       "      <td>0</td>\n",
       "      <td>F</td>\n",
       "      <td>сотрудник</td>\n",
       "      <td>0</td>\n",
       "      <td>253875.639453</td>\n",
       "      <td>покупка жилья</td>\n",
       "    </tr>\n",
       "    <tr>\n",
       "      <td>1</td>\n",
       "      <td>1</td>\n",
       "      <td>-4024.803754</td>\n",
       "      <td>36</td>\n",
       "      <td>среднее</td>\n",
       "      <td>1</td>\n",
       "      <td>женат / замужем</td>\n",
       "      <td>0</td>\n",
       "      <td>F</td>\n",
       "      <td>сотрудник</td>\n",
       "      <td>0</td>\n",
       "      <td>112080.014102</td>\n",
       "      <td>приобретение автомобиля</td>\n",
       "    </tr>\n",
       "    <tr>\n",
       "      <td>2</td>\n",
       "      <td>0</td>\n",
       "      <td>-5623.422610</td>\n",
       "      <td>33</td>\n",
       "      <td>Среднее</td>\n",
       "      <td>1</td>\n",
       "      <td>женат / замужем</td>\n",
       "      <td>0</td>\n",
       "      <td>M</td>\n",
       "      <td>сотрудник</td>\n",
       "      <td>0</td>\n",
       "      <td>145885.952297</td>\n",
       "      <td>покупка жилья</td>\n",
       "    </tr>\n",
       "    <tr>\n",
       "      <td>3</td>\n",
       "      <td>3</td>\n",
       "      <td>-4124.747207</td>\n",
       "      <td>32</td>\n",
       "      <td>среднее</td>\n",
       "      <td>1</td>\n",
       "      <td>женат / замужем</td>\n",
       "      <td>0</td>\n",
       "      <td>M</td>\n",
       "      <td>сотрудник</td>\n",
       "      <td>0</td>\n",
       "      <td>267628.550329</td>\n",
       "      <td>дополнительное образование</td>\n",
       "    </tr>\n",
       "    <tr>\n",
       "      <td>4</td>\n",
       "      <td>0</td>\n",
       "      <td>340266.072047</td>\n",
       "      <td>53</td>\n",
       "      <td>среднее</td>\n",
       "      <td>1</td>\n",
       "      <td>гражданский брак</td>\n",
       "      <td>1</td>\n",
       "      <td>F</td>\n",
       "      <td>пенсионер</td>\n",
       "      <td>0</td>\n",
       "      <td>158616.077870</td>\n",
       "      <td>сыграть свадьбу</td>\n",
       "    </tr>\n",
       "    <tr>\n",
       "      <td>5</td>\n",
       "      <td>0</td>\n",
       "      <td>-926.185831</td>\n",
       "      <td>27</td>\n",
       "      <td>высшее</td>\n",
       "      <td>0</td>\n",
       "      <td>гражданский брак</td>\n",
       "      <td>1</td>\n",
       "      <td>M</td>\n",
       "      <td>компаньон</td>\n",
       "      <td>0</td>\n",
       "      <td>255763.565419</td>\n",
       "      <td>покупка жилья</td>\n",
       "    </tr>\n",
       "    <tr>\n",
       "      <td>6</td>\n",
       "      <td>0</td>\n",
       "      <td>-2879.202052</td>\n",
       "      <td>43</td>\n",
       "      <td>высшее</td>\n",
       "      <td>0</td>\n",
       "      <td>женат / замужем</td>\n",
       "      <td>0</td>\n",
       "      <td>F</td>\n",
       "      <td>компаньон</td>\n",
       "      <td>0</td>\n",
       "      <td>240525.971920</td>\n",
       "      <td>операции с жильем</td>\n",
       "    </tr>\n",
       "    <tr>\n",
       "      <td>7</td>\n",
       "      <td>0</td>\n",
       "      <td>-152.779569</td>\n",
       "      <td>50</td>\n",
       "      <td>СРЕДНЕЕ</td>\n",
       "      <td>1</td>\n",
       "      <td>женат / замужем</td>\n",
       "      <td>0</td>\n",
       "      <td>M</td>\n",
       "      <td>сотрудник</td>\n",
       "      <td>0</td>\n",
       "      <td>135823.934197</td>\n",
       "      <td>образование</td>\n",
       "    </tr>\n",
       "    <tr>\n",
       "      <td>8</td>\n",
       "      <td>2</td>\n",
       "      <td>-6929.865299</td>\n",
       "      <td>35</td>\n",
       "      <td>ВЫСШЕЕ</td>\n",
       "      <td>0</td>\n",
       "      <td>гражданский брак</td>\n",
       "      <td>1</td>\n",
       "      <td>F</td>\n",
       "      <td>сотрудник</td>\n",
       "      <td>0</td>\n",
       "      <td>95856.832424</td>\n",
       "      <td>на проведение свадьбы</td>\n",
       "    </tr>\n",
       "    <tr>\n",
       "      <td>9</td>\n",
       "      <td>0</td>\n",
       "      <td>-2188.756445</td>\n",
       "      <td>41</td>\n",
       "      <td>среднее</td>\n",
       "      <td>1</td>\n",
       "      <td>женат / замужем</td>\n",
       "      <td>0</td>\n",
       "      <td>M</td>\n",
       "      <td>сотрудник</td>\n",
       "      <td>0</td>\n",
       "      <td>144425.938277</td>\n",
       "      <td>покупка жилья для семьи</td>\n",
       "    </tr>\n",
       "    <tr>\n",
       "      <td>10</td>\n",
       "      <td>2</td>\n",
       "      <td>-4171.483647</td>\n",
       "      <td>36</td>\n",
       "      <td>высшее</td>\n",
       "      <td>0</td>\n",
       "      <td>женат / замужем</td>\n",
       "      <td>0</td>\n",
       "      <td>M</td>\n",
       "      <td>компаньон</td>\n",
       "      <td>0</td>\n",
       "      <td>113943.491460</td>\n",
       "      <td>покупка недвижимости</td>\n",
       "    </tr>\n",
       "    <tr>\n",
       "      <td>11</td>\n",
       "      <td>0</td>\n",
       "      <td>-792.701887</td>\n",
       "      <td>40</td>\n",
       "      <td>среднее</td>\n",
       "      <td>1</td>\n",
       "      <td>женат / замужем</td>\n",
       "      <td>0</td>\n",
       "      <td>F</td>\n",
       "      <td>сотрудник</td>\n",
       "      <td>0</td>\n",
       "      <td>77069.234271</td>\n",
       "      <td>покупка коммерческой недвижимости</td>\n",
       "    </tr>\n",
       "    <tr>\n",
       "      <td>12</td>\n",
       "      <td>0</td>\n",
       "      <td>NaN</td>\n",
       "      <td>65</td>\n",
       "      <td>среднее</td>\n",
       "      <td>1</td>\n",
       "      <td>гражданский брак</td>\n",
       "      <td>1</td>\n",
       "      <td>M</td>\n",
       "      <td>пенсионер</td>\n",
       "      <td>0</td>\n",
       "      <td>NaN</td>\n",
       "      <td>сыграть свадьбу</td>\n",
       "    </tr>\n",
       "    <tr>\n",
       "      <td>13</td>\n",
       "      <td>0</td>\n",
       "      <td>-1846.641941</td>\n",
       "      <td>54</td>\n",
       "      <td>неоконченное высшее</td>\n",
       "      <td>2</td>\n",
       "      <td>женат / замужем</td>\n",
       "      <td>0</td>\n",
       "      <td>F</td>\n",
       "      <td>сотрудник</td>\n",
       "      <td>0</td>\n",
       "      <td>130458.228857</td>\n",
       "      <td>приобретение автомобиля</td>\n",
       "    </tr>\n",
       "    <tr>\n",
       "      <td>14</td>\n",
       "      <td>0</td>\n",
       "      <td>-1844.956182</td>\n",
       "      <td>56</td>\n",
       "      <td>высшее</td>\n",
       "      <td>0</td>\n",
       "      <td>гражданский брак</td>\n",
       "      <td>1</td>\n",
       "      <td>F</td>\n",
       "      <td>компаньон</td>\n",
       "      <td>1</td>\n",
       "      <td>165127.911772</td>\n",
       "      <td>покупка жилой недвижимости</td>\n",
       "    </tr>\n",
       "  </tbody>\n",
       "</table>\n",
       "</div>"
      ],
      "text/plain": [
       "    children  days_employed  dob_years            education  education_id  \\\n",
       "0          1   -8437.673028         42               высшее             0   \n",
       "1          1   -4024.803754         36              среднее             1   \n",
       "2          0   -5623.422610         33              Среднее             1   \n",
       "3          3   -4124.747207         32              среднее             1   \n",
       "4          0  340266.072047         53              среднее             1   \n",
       "5          0    -926.185831         27               высшее             0   \n",
       "6          0   -2879.202052         43               высшее             0   \n",
       "7          0    -152.779569         50              СРЕДНЕЕ             1   \n",
       "8          2   -6929.865299         35               ВЫСШЕЕ             0   \n",
       "9          0   -2188.756445         41              среднее             1   \n",
       "10         2   -4171.483647         36               высшее             0   \n",
       "11         0    -792.701887         40              среднее             1   \n",
       "12         0            NaN         65              среднее             1   \n",
       "13         0   -1846.641941         54  неоконченное высшее             2   \n",
       "14         0   -1844.956182         56               высшее             0   \n",
       "\n",
       "       family_status  family_status_id gender income_type  debt  \\\n",
       "0    женат / замужем                 0      F   сотрудник     0   \n",
       "1    женат / замужем                 0      F   сотрудник     0   \n",
       "2    женат / замужем                 0      M   сотрудник     0   \n",
       "3    женат / замужем                 0      M   сотрудник     0   \n",
       "4   гражданский брак                 1      F   пенсионер     0   \n",
       "5   гражданский брак                 1      M   компаньон     0   \n",
       "6    женат / замужем                 0      F   компаньон     0   \n",
       "7    женат / замужем                 0      M   сотрудник     0   \n",
       "8   гражданский брак                 1      F   сотрудник     0   \n",
       "9    женат / замужем                 0      M   сотрудник     0   \n",
       "10   женат / замужем                 0      M   компаньон     0   \n",
       "11   женат / замужем                 0      F   сотрудник     0   \n",
       "12  гражданский брак                 1      M   пенсионер     0   \n",
       "13   женат / замужем                 0      F   сотрудник     0   \n",
       "14  гражданский брак                 1      F   компаньон     1   \n",
       "\n",
       "     total_income                            purpose  \n",
       "0   253875.639453                      покупка жилья  \n",
       "1   112080.014102            приобретение автомобиля  \n",
       "2   145885.952297                      покупка жилья  \n",
       "3   267628.550329         дополнительное образование  \n",
       "4   158616.077870                    сыграть свадьбу  \n",
       "5   255763.565419                      покупка жилья  \n",
       "6   240525.971920                  операции с жильем  \n",
       "7   135823.934197                        образование  \n",
       "8    95856.832424              на проведение свадьбы  \n",
       "9   144425.938277            покупка жилья для семьи  \n",
       "10  113943.491460               покупка недвижимости  \n",
       "11   77069.234271  покупка коммерческой недвижимости  \n",
       "12            NaN                    сыграть свадьбу  \n",
       "13  130458.228857            приобретение автомобиля  \n",
       "14  165127.911772         покупка жилой недвижимости  "
      ]
     },
     "execution_count": 1,
     "metadata": {},
     "output_type": "execute_result"
    }
   ],
   "source": [
    "import numpy as np\n",
    "import pandas as pd\n",
    "import seaborn\n",
    "\n",
    "df = pd.read_csv('/datasets/data.csv')\n",
    "\n",
    "df.head(15)"
   ]
  },
  {
   "cell_type": "code",
   "execution_count": 2,
   "metadata": {},
   "outputs": [
    {
     "name": "stdout",
     "output_type": "stream",
     "text": [
      "<class 'pandas.core.frame.DataFrame'>\n",
      "RangeIndex: 21525 entries, 0 to 21524\n",
      "Data columns (total 12 columns):\n",
      "children            21525 non-null int64\n",
      "days_employed       19351 non-null float64\n",
      "dob_years           21525 non-null int64\n",
      "education           21525 non-null object\n",
      "education_id        21525 non-null int64\n",
      "family_status       21525 non-null object\n",
      "family_status_id    21525 non-null int64\n",
      "gender              21525 non-null object\n",
      "income_type         21525 non-null object\n",
      "debt                21525 non-null int64\n",
      "total_income        19351 non-null float64\n",
      "purpose             21525 non-null object\n",
      "dtypes: float64(2), int64(5), object(5)\n",
      "memory usage: 2.0+ MB\n"
     ]
    }
   ],
   "source": [
    "df.info()"
   ]
  },
  {
   "cell_type": "markdown",
   "metadata": {},
   "source": [
    "Датасет содержит \n",
    "Типы данных в столбцах соответствуют их содержанию. Но количество значений в столбцах различается. Значит, в данных есть пропущенные значения.\n",
    "\n"
   ]
  },
  {
   "cell_type": "code",
   "execution_count": 3,
   "metadata": {},
   "outputs": [
    {
     "data": {
      "text/html": [
       "<div>\n",
       "<style scoped>\n",
       "    .dataframe tbody tr th:only-of-type {\n",
       "        vertical-align: middle;\n",
       "    }\n",
       "\n",
       "    .dataframe tbody tr th {\n",
       "        vertical-align: top;\n",
       "    }\n",
       "\n",
       "    .dataframe thead th {\n",
       "        text-align: right;\n",
       "    }\n",
       "</style>\n",
       "<table border=\"1\" class=\"dataframe\">\n",
       "  <thead>\n",
       "    <tr style=\"text-align: right;\">\n",
       "      <th></th>\n",
       "      <th>children</th>\n",
       "      <th>days_employed</th>\n",
       "      <th>dob_years</th>\n",
       "      <th>education_id</th>\n",
       "      <th>family_status_id</th>\n",
       "      <th>debt</th>\n",
       "      <th>total_income</th>\n",
       "    </tr>\n",
       "  </thead>\n",
       "  <tbody>\n",
       "    <tr>\n",
       "      <td>count</td>\n",
       "      <td>21525.000000</td>\n",
       "      <td>19351.000000</td>\n",
       "      <td>21525.000000</td>\n",
       "      <td>21525.000000</td>\n",
       "      <td>21525.000000</td>\n",
       "      <td>21525.000000</td>\n",
       "      <td>1.935100e+04</td>\n",
       "    </tr>\n",
       "    <tr>\n",
       "      <td>mean</td>\n",
       "      <td>0.538908</td>\n",
       "      <td>63046.497661</td>\n",
       "      <td>43.293380</td>\n",
       "      <td>0.817236</td>\n",
       "      <td>0.972544</td>\n",
       "      <td>0.080883</td>\n",
       "      <td>1.674223e+05</td>\n",
       "    </tr>\n",
       "    <tr>\n",
       "      <td>std</td>\n",
       "      <td>1.381587</td>\n",
       "      <td>140827.311974</td>\n",
       "      <td>12.574584</td>\n",
       "      <td>0.548138</td>\n",
       "      <td>1.420324</td>\n",
       "      <td>0.272661</td>\n",
       "      <td>1.029716e+05</td>\n",
       "    </tr>\n",
       "    <tr>\n",
       "      <td>min</td>\n",
       "      <td>-1.000000</td>\n",
       "      <td>-18388.949901</td>\n",
       "      <td>0.000000</td>\n",
       "      <td>0.000000</td>\n",
       "      <td>0.000000</td>\n",
       "      <td>0.000000</td>\n",
       "      <td>2.066726e+04</td>\n",
       "    </tr>\n",
       "    <tr>\n",
       "      <td>25%</td>\n",
       "      <td>0.000000</td>\n",
       "      <td>-2747.423625</td>\n",
       "      <td>33.000000</td>\n",
       "      <td>1.000000</td>\n",
       "      <td>0.000000</td>\n",
       "      <td>0.000000</td>\n",
       "      <td>1.030532e+05</td>\n",
       "    </tr>\n",
       "    <tr>\n",
       "      <td>50%</td>\n",
       "      <td>0.000000</td>\n",
       "      <td>-1203.369529</td>\n",
       "      <td>42.000000</td>\n",
       "      <td>1.000000</td>\n",
       "      <td>0.000000</td>\n",
       "      <td>0.000000</td>\n",
       "      <td>1.450179e+05</td>\n",
       "    </tr>\n",
       "    <tr>\n",
       "      <td>75%</td>\n",
       "      <td>1.000000</td>\n",
       "      <td>-291.095954</td>\n",
       "      <td>53.000000</td>\n",
       "      <td>1.000000</td>\n",
       "      <td>1.000000</td>\n",
       "      <td>0.000000</td>\n",
       "      <td>2.034351e+05</td>\n",
       "    </tr>\n",
       "    <tr>\n",
       "      <td>max</td>\n",
       "      <td>20.000000</td>\n",
       "      <td>401755.400475</td>\n",
       "      <td>75.000000</td>\n",
       "      <td>4.000000</td>\n",
       "      <td>4.000000</td>\n",
       "      <td>1.000000</td>\n",
       "      <td>2.265604e+06</td>\n",
       "    </tr>\n",
       "  </tbody>\n",
       "</table>\n",
       "</div>"
      ],
      "text/plain": [
       "           children  days_employed     dob_years  education_id  \\\n",
       "count  21525.000000   19351.000000  21525.000000  21525.000000   \n",
       "mean       0.538908   63046.497661     43.293380      0.817236   \n",
       "std        1.381587  140827.311974     12.574584      0.548138   \n",
       "min       -1.000000  -18388.949901      0.000000      0.000000   \n",
       "25%        0.000000   -2747.423625     33.000000      1.000000   \n",
       "50%        0.000000   -1203.369529     42.000000      1.000000   \n",
       "75%        1.000000    -291.095954     53.000000      1.000000   \n",
       "max       20.000000  401755.400475     75.000000      4.000000   \n",
       "\n",
       "       family_status_id          debt  total_income  \n",
       "count      21525.000000  21525.000000  1.935100e+04  \n",
       "mean           0.972544      0.080883  1.674223e+05  \n",
       "std            1.420324      0.272661  1.029716e+05  \n",
       "min            0.000000      0.000000  2.066726e+04  \n",
       "25%            0.000000      0.000000  1.030532e+05  \n",
       "50%            0.000000      0.000000  1.450179e+05  \n",
       "75%            1.000000      0.000000  2.034351e+05  \n",
       "max            4.000000      1.000000  2.265604e+06  "
      ]
     },
     "execution_count": 3,
     "metadata": {},
     "output_type": "execute_result"
    }
   ],
   "source": [
    "df.describe()"
   ]
  },
  {
   "cell_type": "markdown",
   "metadata": {},
   "source": [
    "**Выводы**\n",
    "\n",
    "1. В каждой строке таблицы — данные о заёмщике банковского кредита. В таблице есть как информация о самом кредите (цель получения кредита), так и информация о заемщике: его кредитная история, ежемесячный доход, пол, возраст, семейное положение, уровень образования. \n",
    "\n",
    "2. В данных встречаются пропуски: датафрейм содержит 21525, а количество заполенных значений в столбцах `days_employed` и `total_income` одинаково и равно 19351. Возможно, отсутствие данных о ежемесячном доходе как-то связано с пропущенными значениями в столбце с информацией о трудовом стаже заёмщиков.\n",
    "\n",
    "3. В столбце `children`, содержащем информацию о количестве детей заёмщика, встречаются аномальные значения: минимальное число  равно -1, а максимальное - 20. Вероятно, при вводе данных были допущены опечатки. \n",
    "\n",
    "4. В столбце `days_employed`, содержащем информацию о трудовом стаже заёмщика в днях, встречаются отрицательные значения. Скорее всего, это связано с тем, что стаж считается в отрицательную сторону, и правильно взять значения по модулю. Максимальное значение в этом столбце, если считать, что данные записаны в днях, равно почти 401755, а это 1101 год. Вероятно, эти данные записаны в часах.\n",
    "\n",
    "5. В столбце `dob_years`, содержащем информацию о возрасте клиента в годах, минимальное значение равно 0. Оно некорректно, нужно проверить, сколько таких ячеек. "
   ]
  },
  {
   "cell_type": "markdown",
   "metadata": {},
   "source": [
    "Количество заполенных значений в столбцах `days_employed` и `total_income` одинаково и равно 19351. Проверим, связано ли отсутствие данных о ежемесячном доходе с пропущенными значениями в столбце с информацией о трудовом стаже заёмщиков."
   ]
  },
  {
   "cell_type": "code",
   "execution_count": 4,
   "metadata": {},
   "outputs": [
    {
     "name": "stdout",
     "output_type": "stream",
     "text": [
      "<class 'pandas.core.frame.DataFrame'>\n",
      "Int64Index: 2174 entries, 12 to 21510\n",
      "Data columns (total 12 columns):\n",
      "children            2174 non-null int64\n",
      "days_employed       0 non-null float64\n",
      "dob_years           2174 non-null int64\n",
      "education           2174 non-null object\n",
      "education_id        2174 non-null int64\n",
      "family_status       2174 non-null object\n",
      "family_status_id    2174 non-null int64\n",
      "gender              2174 non-null object\n",
      "income_type         2174 non-null object\n",
      "debt                2174 non-null int64\n",
      "total_income        0 non-null float64\n",
      "purpose             2174 non-null object\n",
      "dtypes: float64(2), int64(5), object(5)\n",
      "memory usage: 220.8+ KB\n"
     ]
    }
   ],
   "source": [
    "df[(df['days_employed'].isnull()) & (df['total_income'].isnull())].info()"
   ]
  },
  {
   "cell_type": "markdown",
   "metadata": {},
   "source": [
    "Видно, что пропущенные пропущенные значения в столбце `total_income` соответствуют пропускам в столбце `days_employed`. Вероятно, это связано с тем, что часть заёмщиков, например студенты, работает неофициально."
   ]
  },
  {
   "cell_type": "markdown",
   "metadata": {},
   "source": [
    "## Предобработка данных"
   ]
  },
  {
   "cell_type": "markdown",
   "metadata": {},
   "source": [
    "### Обработка пропусков\n",
    "Посчитаем, сколько в таблице пропущенных значений:"
   ]
  },
  {
   "cell_type": "code",
   "execution_count": 5,
   "metadata": {},
   "outputs": [
    {
     "data": {
      "text/plain": [
       "children               0\n",
       "days_employed       2174\n",
       "dob_years              0\n",
       "education              0\n",
       "education_id           0\n",
       "family_status          0\n",
       "family_status_id       0\n",
       "gender                 0\n",
       "income_type            0\n",
       "debt                   0\n",
       "total_income        2174\n",
       "purpose                0\n",
       "dtype: int64"
      ]
     },
     "execution_count": 5,
     "metadata": {},
     "output_type": "execute_result"
    }
   ],
   "source": [
    "df.isna().sum()"
   ]
  },
  {
   "cell_type": "markdown",
   "metadata": {},
   "source": [
    "Также оценим долевое соотношение пропусков относительно общей длины датафрейма:"
   ]
  },
  {
   "cell_type": "code",
   "execution_count": 6,
   "metadata": {},
   "outputs": [
    {
     "data": {
      "text/plain": [
       "children            0.000000\n",
       "days_employed       0.100999\n",
       "dob_years           0.000000\n",
       "education           0.000000\n",
       "education_id        0.000000\n",
       "family_status       0.000000\n",
       "family_status_id    0.000000\n",
       "gender              0.000000\n",
       "income_type         0.000000\n",
       "debt                0.000000\n",
       "total_income        0.100999\n",
       "purpose             0.000000\n",
       "dtype: float64"
      ]
     },
     "execution_count": 6,
     "metadata": {},
     "output_type": "execute_result"
    }
   ],
   "source": [
    "df.isna().mean()"
   ]
  },
  {
   "cell_type": "markdown",
   "metadata": {
    "id": "qubhgnlO_Zct"
   },
   "source": [
    "Видим, что количество пропущенных значений в столбце, содержащем информацию о трудовом стаже (`days_employed`), и в столбце с данными о ежемесячном доходе заёмщика (`total_income`), превышает 10% от общей длины датафрема. Такое число пропусков повлияет на данные исследования."
   ]
  },
  {
   "cell_type": "markdown",
   "metadata": {},
   "source": [
    "Ежемесяный доход и трудовой стаж - количественные переменные. Поэтому пропуски в них заполним медианными значениями, так как среднее значение не всегда корректно характеризует выборку: некоторые значения могут сильно выделяться среди большинства.\n",
    "\n",
    "1. Сначала заполним пропуски в столбце `total_income`. \n",
    "\n",
    "Уровень доходов человека зависит от его типа занятости. Выведем все уникальные значения столбца `total_income`:"
   ]
  },
  {
   "cell_type": "code",
   "execution_count": 7,
   "metadata": {},
   "outputs": [
    {
     "data": {
      "text/plain": [
       "сотрудник          11119\n",
       "компаньон           5085\n",
       "пенсионер           3856\n",
       "госслужащий         1459\n",
       "безработный            2\n",
       "предприниматель        2\n",
       "студент                1\n",
       "в декрете              1\n",
       "Name: income_type, dtype: int64"
      ]
     },
     "execution_count": 7,
     "metadata": {},
     "output_type": "execute_result"
    }
   ],
   "source": [
    "df['income_type'].value_counts()"
   ]
  },
  {
   "cell_type": "markdown",
   "metadata": {},
   "source": [
    "Видим, что в числе заёмщиков есть как безработные и пенсионеры, так и госслужащие и предприниматели. Вероятно, предствители каждой из этих категорий имеют разный уровень дохода. И для адекватного заполения пропусков найдем медианное значение столбца `total_income` для каждой из этих подгрупп."
   ]
  },
  {
   "cell_type": "code",
   "execution_count": 8,
   "metadata": {},
   "outputs": [
    {
     "data": {
      "text/plain": [
       "income_type\n",
       "в декрете           53829.130729\n",
       "студент             98201.625314\n",
       "пенсионер          118514.486412\n",
       "безработный        131339.751676\n",
       "сотрудник          142594.396847\n",
       "госслужащий        150447.935283\n",
       "компаньон          172357.950966\n",
       "предприниматель    499163.144947\n",
       "Name: total_income, dtype: float64"
      ]
     },
     "metadata": {},
     "output_type": "display_data"
    }
   ],
   "source": [
    "median_income = df.groupby('income_type')['total_income'].median()\n",
    "display(median_income.sort_values())"
   ]
  },
  {
   "cell_type": "markdown",
   "metadata": {},
   "source": [
    "Действительно, уровень дохода зависит от трудового статуса человека: наименьший доход - у сотрудников в декрете, наибольший - у предпринимателей."
   ]
  },
  {
   "cell_type": "markdown",
   "metadata": {},
   "source": [
    "Создадим функцию, с помощью которой заполним пропущенные значения в столбце `total_income` в зависимости от типа занятости заёмщика:"
   ]
  },
  {
   "cell_type": "code",
   "execution_count": 9,
   "metadata": {},
   "outputs": [],
   "source": [
    "dict_type = {'в декрете': median_income[1],\n",
    "            'студент': median_income[7],\n",
    "            'пенсионер': median_income[4],\n",
    "            'безработный': median_income[0],\n",
    "            'сотрудник': median_income[6],\n",
    "            'госслужащий': median_income[2],\n",
    "            'компаньон': median_income[3],\n",
    "            'предприниматель': median_income[5]}\n",
    "\n",
    "def fill_type(row):\n",
    "    \n",
    "    type_job = row['income_type']\n",
    "    income = row['total_income']\n",
    "    \n",
    "    if np.isnan(income):\n",
    "        for key in dict_type:\n",
    "            if key == type_job:\n",
    "                return dict_type.get(key)\n",
    "    else:\n",
    "        return income"
   ]
  },
  {
   "cell_type": "code",
   "execution_count": 10,
   "metadata": {},
   "outputs": [],
   "source": [
    "df['total_income'] = df.apply(fill_type, axis=1)"
   ]
  },
  {
   "cell_type": "code",
   "execution_count": 11,
   "metadata": {},
   "outputs": [
    {
     "data": {
      "text/html": [
       "<div>\n",
       "<style scoped>\n",
       "    .dataframe tbody tr th:only-of-type {\n",
       "        vertical-align: middle;\n",
       "    }\n",
       "\n",
       "    .dataframe tbody tr th {\n",
       "        vertical-align: top;\n",
       "    }\n",
       "\n",
       "    .dataframe thead th {\n",
       "        text-align: right;\n",
       "    }\n",
       "</style>\n",
       "<table border=\"1\" class=\"dataframe\">\n",
       "  <thead>\n",
       "    <tr style=\"text-align: right;\">\n",
       "      <th></th>\n",
       "      <th>children</th>\n",
       "      <th>days_employed</th>\n",
       "      <th>dob_years</th>\n",
       "      <th>education</th>\n",
       "      <th>education_id</th>\n",
       "      <th>family_status</th>\n",
       "      <th>family_status_id</th>\n",
       "      <th>gender</th>\n",
       "      <th>income_type</th>\n",
       "      <th>debt</th>\n",
       "      <th>total_income</th>\n",
       "      <th>purpose</th>\n",
       "    </tr>\n",
       "  </thead>\n",
       "  <tbody>\n",
       "    <tr>\n",
       "      <td>0</td>\n",
       "      <td>1</td>\n",
       "      <td>-8437.673028</td>\n",
       "      <td>42</td>\n",
       "      <td>высшее</td>\n",
       "      <td>0</td>\n",
       "      <td>женат / замужем</td>\n",
       "      <td>0</td>\n",
       "      <td>F</td>\n",
       "      <td>сотрудник</td>\n",
       "      <td>0</td>\n",
       "      <td>253875.639453</td>\n",
       "      <td>покупка жилья</td>\n",
       "    </tr>\n",
       "    <tr>\n",
       "      <td>1</td>\n",
       "      <td>1</td>\n",
       "      <td>-4024.803754</td>\n",
       "      <td>36</td>\n",
       "      <td>среднее</td>\n",
       "      <td>1</td>\n",
       "      <td>женат / замужем</td>\n",
       "      <td>0</td>\n",
       "      <td>F</td>\n",
       "      <td>сотрудник</td>\n",
       "      <td>0</td>\n",
       "      <td>112080.014102</td>\n",
       "      <td>приобретение автомобиля</td>\n",
       "    </tr>\n",
       "    <tr>\n",
       "      <td>2</td>\n",
       "      <td>0</td>\n",
       "      <td>-5623.422610</td>\n",
       "      <td>33</td>\n",
       "      <td>Среднее</td>\n",
       "      <td>1</td>\n",
       "      <td>женат / замужем</td>\n",
       "      <td>0</td>\n",
       "      <td>M</td>\n",
       "      <td>сотрудник</td>\n",
       "      <td>0</td>\n",
       "      <td>145885.952297</td>\n",
       "      <td>покупка жилья</td>\n",
       "    </tr>\n",
       "    <tr>\n",
       "      <td>3</td>\n",
       "      <td>3</td>\n",
       "      <td>-4124.747207</td>\n",
       "      <td>32</td>\n",
       "      <td>среднее</td>\n",
       "      <td>1</td>\n",
       "      <td>женат / замужем</td>\n",
       "      <td>0</td>\n",
       "      <td>M</td>\n",
       "      <td>сотрудник</td>\n",
       "      <td>0</td>\n",
       "      <td>267628.550329</td>\n",
       "      <td>дополнительное образование</td>\n",
       "    </tr>\n",
       "    <tr>\n",
       "      <td>4</td>\n",
       "      <td>0</td>\n",
       "      <td>340266.072047</td>\n",
       "      <td>53</td>\n",
       "      <td>среднее</td>\n",
       "      <td>1</td>\n",
       "      <td>гражданский брак</td>\n",
       "      <td>1</td>\n",
       "      <td>F</td>\n",
       "      <td>пенсионер</td>\n",
       "      <td>0</td>\n",
       "      <td>158616.077870</td>\n",
       "      <td>сыграть свадьбу</td>\n",
       "    </tr>\n",
       "    <tr>\n",
       "      <td>...</td>\n",
       "      <td>...</td>\n",
       "      <td>...</td>\n",
       "      <td>...</td>\n",
       "      <td>...</td>\n",
       "      <td>...</td>\n",
       "      <td>...</td>\n",
       "      <td>...</td>\n",
       "      <td>...</td>\n",
       "      <td>...</td>\n",
       "      <td>...</td>\n",
       "      <td>...</td>\n",
       "      <td>...</td>\n",
       "    </tr>\n",
       "    <tr>\n",
       "      <td>95</td>\n",
       "      <td>0</td>\n",
       "      <td>-541.832241</td>\n",
       "      <td>51</td>\n",
       "      <td>высшее</td>\n",
       "      <td>0</td>\n",
       "      <td>женат / замужем</td>\n",
       "      <td>0</td>\n",
       "      <td>F</td>\n",
       "      <td>сотрудник</td>\n",
       "      <td>0</td>\n",
       "      <td>94187.878082</td>\n",
       "      <td>автомобиль</td>\n",
       "    </tr>\n",
       "    <tr>\n",
       "      <td>96</td>\n",
       "      <td>0</td>\n",
       "      <td>NaN</td>\n",
       "      <td>44</td>\n",
       "      <td>СРЕДНЕЕ</td>\n",
       "      <td>1</td>\n",
       "      <td>женат / замужем</td>\n",
       "      <td>0</td>\n",
       "      <td>F</td>\n",
       "      <td>сотрудник</td>\n",
       "      <td>0</td>\n",
       "      <td>142594.396847</td>\n",
       "      <td>покупка жилой недвижимости</td>\n",
       "    </tr>\n",
       "    <tr>\n",
       "      <td>97</td>\n",
       "      <td>0</td>\n",
       "      <td>NaN</td>\n",
       "      <td>47</td>\n",
       "      <td>высшее</td>\n",
       "      <td>0</td>\n",
       "      <td>женат / замужем</td>\n",
       "      <td>0</td>\n",
       "      <td>F</td>\n",
       "      <td>сотрудник</td>\n",
       "      <td>0</td>\n",
       "      <td>142594.396847</td>\n",
       "      <td>профильное образование</td>\n",
       "    </tr>\n",
       "    <tr>\n",
       "      <td>98</td>\n",
       "      <td>0</td>\n",
       "      <td>364906.205736</td>\n",
       "      <td>54</td>\n",
       "      <td>высшее</td>\n",
       "      <td>0</td>\n",
       "      <td>женат / замужем</td>\n",
       "      <td>0</td>\n",
       "      <td>F</td>\n",
       "      <td>пенсионер</td>\n",
       "      <td>0</td>\n",
       "      <td>199707.298524</td>\n",
       "      <td>покупка жилья для сдачи</td>\n",
       "    </tr>\n",
       "    <tr>\n",
       "      <td>99</td>\n",
       "      <td>0</td>\n",
       "      <td>346541.618895</td>\n",
       "      <td>0</td>\n",
       "      <td>Среднее</td>\n",
       "      <td>1</td>\n",
       "      <td>женат / замужем</td>\n",
       "      <td>0</td>\n",
       "      <td>F</td>\n",
       "      <td>пенсионер</td>\n",
       "      <td>0</td>\n",
       "      <td>71291.522491</td>\n",
       "      <td>автомобиль</td>\n",
       "    </tr>\n",
       "  </tbody>\n",
       "</table>\n",
       "<p>100 rows × 12 columns</p>\n",
       "</div>"
      ],
      "text/plain": [
       "    children  days_employed  dob_years education  education_id  \\\n",
       "0          1   -8437.673028         42    высшее             0   \n",
       "1          1   -4024.803754         36   среднее             1   \n",
       "2          0   -5623.422610         33   Среднее             1   \n",
       "3          3   -4124.747207         32   среднее             1   \n",
       "4          0  340266.072047         53   среднее             1   \n",
       "..       ...            ...        ...       ...           ...   \n",
       "95         0    -541.832241         51    высшее             0   \n",
       "96         0            NaN         44   СРЕДНЕЕ             1   \n",
       "97         0            NaN         47    высшее             0   \n",
       "98         0  364906.205736         54    высшее             0   \n",
       "99         0  346541.618895          0   Среднее             1   \n",
       "\n",
       "       family_status  family_status_id gender income_type  debt  \\\n",
       "0    женат / замужем                 0      F   сотрудник     0   \n",
       "1    женат / замужем                 0      F   сотрудник     0   \n",
       "2    женат / замужем                 0      M   сотрудник     0   \n",
       "3    женат / замужем                 0      M   сотрудник     0   \n",
       "4   гражданский брак                 1      F   пенсионер     0   \n",
       "..               ...               ...    ...         ...   ...   \n",
       "95   женат / замужем                 0      F   сотрудник     0   \n",
       "96   женат / замужем                 0      F   сотрудник     0   \n",
       "97   женат / замужем                 0      F   сотрудник     0   \n",
       "98   женат / замужем                 0      F   пенсионер     0   \n",
       "99   женат / замужем                 0      F   пенсионер     0   \n",
       "\n",
       "     total_income                     purpose  \n",
       "0   253875.639453               покупка жилья  \n",
       "1   112080.014102     приобретение автомобиля  \n",
       "2   145885.952297               покупка жилья  \n",
       "3   267628.550329  дополнительное образование  \n",
       "4   158616.077870             сыграть свадьбу  \n",
       "..            ...                         ...  \n",
       "95   94187.878082                  автомобиль  \n",
       "96  142594.396847  покупка жилой недвижимости  \n",
       "97  142594.396847      профильное образование  \n",
       "98  199707.298524     покупка жилья для сдачи  \n",
       "99   71291.522491                  автомобиль  \n",
       "\n",
       "[100 rows x 12 columns]"
      ]
     },
     "execution_count": 11,
     "metadata": {},
     "output_type": "execute_result"
    }
   ],
   "source": [
    "df.head(100)"
   ]
  },
  {
   "cell_type": "markdown",
   "metadata": {},
   "source": [
    "2. Заполним пропуски в столбце `days_employed`.\n",
    "\n",
    "Трудовой стаж - суммарная продолжительность трудовой деятельности. Очевидно, что он напрямую зависит от возраста: чем человек старше, тем стаж больше. Для заполнения пропущенных значений в этом столбце распределим заёмщиков по возрастным категориям, а затем заполним пропуски медианными значениями для каждой из подгрупп.  \n",
    "Для объединения данных в категории для начала определим возрастной диапазон, в котором находятся заёмщики. Выведем максимальное и минимальное значения столбца `dob_years`:"
   ]
  },
  {
   "cell_type": "code",
   "execution_count": 12,
   "metadata": {},
   "outputs": [
    {
     "data": {
      "text/plain": [
       "(75, 0)"
      ]
     },
     "execution_count": 12,
     "metadata": {},
     "output_type": "execute_result"
    }
   ],
   "source": [
    "df['dob_years'].max(), df['dob_years'].min()"
   ]
  },
  {
   "cell_type": "markdown",
   "metadata": {},
   "source": [
    "Минимальное значение возраста заёмщика равно 0. Оно некорректно. Посмотрим, сколько таких ячеек и какой тип занятости имеют заёмщики с нулевым возрастом."
   ]
  },
  {
   "cell_type": "code",
   "execution_count": 13,
   "metadata": {},
   "outputs": [
    {
     "data": {
      "text/plain": [
       "'Количество заёмщиков с возрастом, равным 0: 101'"
      ]
     },
     "metadata": {},
     "output_type": "display_data"
    },
    {
     "data": {
      "text/plain": [
       "сотрудник      55\n",
       "пенсионер      20\n",
       "компаньон      20\n",
       "госслужащий     6\n",
       "Name: income_type, dtype: int64"
      ]
     },
     "execution_count": 13,
     "metadata": {},
     "output_type": "execute_result"
    }
   ],
   "source": [
    "display('Количество заёмщиков с возрастом, равным 0: ' + str(df[df['dob_years'] == 0].count()[0]))\n",
    "\n",
    "df.loc[df['dob_years'] == 0, 'income_type'].value_counts()"
   ]
  },
  {
   "cell_type": "markdown",
   "metadata": {},
   "source": [
    "Итак, общее количество нулевых значений возраста равно 101. Для более точного заполнения пропусков в столбце `days_employed` сначала исправим эти нулевые значения.\n",
    "\n",
    "Видим, что наибольшее количество ячеек с некорректным возрастом у сотрудников организаций. Исправим все некорректные значения на медианные столбца `dob_years` для каждого типа занятости."
   ]
  },
  {
   "cell_type": "code",
   "execution_count": 14,
   "metadata": {},
   "outputs": [
    {
     "data": {
      "text/plain": [
       "income_type\n",
       "студент            22.0\n",
       "безработный        38.0\n",
       "в декрете          39.0\n",
       "компаньон          39.0\n",
       "сотрудник          39.0\n",
       "госслужащий        40.0\n",
       "предприниматель    42.5\n",
       "пенсионер          60.0\n",
       "Name: dob_years, dtype: float64"
      ]
     },
     "metadata": {},
     "output_type": "display_data"
    }
   ],
   "source": [
    "median_age = df.groupby('income_type')['dob_years'].median()\n",
    "display(median_age.sort_values())"
   ]
  },
  {
   "cell_type": "markdown",
   "metadata": {},
   "source": [
    "Создадим функцию, с помощью которой заполним нулевые значения в столбце `dob_years` в зависимости от типа занятости заёмщика:"
   ]
  },
  {
   "cell_type": "code",
   "execution_count": 15,
   "metadata": {},
   "outputs": [],
   "source": [
    "dict_type = {'в декрете': median_age[1],\n",
    "            'студент': median_age[7],\n",
    "            'пенсионер': median_age[4],\n",
    "            'безработный': median_age[0],\n",
    "            'сотрудник': median_age[6],\n",
    "            'госслужащий': median_age[2],\n",
    "            'компаньон': median_age[3],\n",
    "            'предприниматель': median_age[5]}\n",
    "\n",
    "def fill_age(row):\n",
    "    \n",
    "    type_job = row['income_type']\n",
    "    age = row['dob_years']\n",
    "    \n",
    "    if age == 0:\n",
    "        for key in dict_type:\n",
    "            if key == type_job:\n",
    "                return dict_type.get(key)\n",
    "    else:\n",
    "        return age"
   ]
  },
  {
   "cell_type": "code",
   "execution_count": 16,
   "metadata": {},
   "outputs": [],
   "source": [
    "df['dob_years'] = df.apply(fill_age, axis=1)"
   ]
  },
  {
   "cell_type": "markdown",
   "metadata": {},
   "source": [
    "Проверим, сколько осталось ячеек с некорректным возрастом:"
   ]
  },
  {
   "cell_type": "code",
   "execution_count": 17,
   "metadata": {},
   "outputs": [
    {
     "data": {
      "text/plain": [
       "'Количество заёмщиков с возрастом, равным 0: 0'"
      ]
     },
     "metadata": {},
     "output_type": "display_data"
    },
    {
     "data": {
      "text/plain": [
       "Series([], Name: income_type, dtype: int64)"
      ]
     },
     "execution_count": 17,
     "metadata": {},
     "output_type": "execute_result"
    }
   ],
   "source": [
    "display('Количество заёмщиков с возрастом, равным 0: ' + str(df[df['dob_years'] == 0].count()[0]))\n",
    "\n",
    "df.loc[df['dob_years'] == 0, 'income_type'].value_counts()"
   ]
  },
  {
   "cell_type": "markdown",
   "metadata": {},
   "source": [
    "Теперь можно приступать к заполнению пропусков в столбце `days_employed`."
   ]
  },
  {
   "cell_type": "markdown",
   "metadata": {},
   "source": [
    "Официально получать кредитные средства можно лицам от 18 лет. Выделим четыре возрастные категории:\n",
    "1) от 18 до 24\n",
    "\n",
    "2) от 25 до 34\n",
    "\n",
    "3) от 35 до 59\n",
    "\n",
    "4) с 60 до 75"
   ]
  },
  {
   "cell_type": "markdown",
   "metadata": {},
   "source": [
    "Для адекватного заполения пропусков найдем медианные значения столбца `days_employed` для каждой возрастной категории."
   ]
  },
  {
   "cell_type": "markdown",
   "metadata": {},
   "source": [
    "Сначала создадим функцию, с помощью которой распределим заёмщиков по возрастным категориям, выделенным выше:"
   ]
  },
  {
   "cell_type": "code",
   "execution_count": 18,
   "metadata": {},
   "outputs": [
    {
     "data": {
      "text/html": [
       "<div>\n",
       "<style scoped>\n",
       "    .dataframe tbody tr th:only-of-type {\n",
       "        vertical-align: middle;\n",
       "    }\n",
       "\n",
       "    .dataframe tbody tr th {\n",
       "        vertical-align: top;\n",
       "    }\n",
       "\n",
       "    .dataframe thead th {\n",
       "        text-align: right;\n",
       "    }\n",
       "</style>\n",
       "<table border=\"1\" class=\"dataframe\">\n",
       "  <thead>\n",
       "    <tr style=\"text-align: right;\">\n",
       "      <th></th>\n",
       "      <th>children</th>\n",
       "      <th>days_employed</th>\n",
       "      <th>dob_years</th>\n",
       "      <th>education</th>\n",
       "      <th>education_id</th>\n",
       "      <th>family_status</th>\n",
       "      <th>family_status_id</th>\n",
       "      <th>gender</th>\n",
       "      <th>income_type</th>\n",
       "      <th>debt</th>\n",
       "      <th>total_income</th>\n",
       "      <th>purpose</th>\n",
       "      <th>age_group</th>\n",
       "    </tr>\n",
       "  </thead>\n",
       "  <tbody>\n",
       "    <tr>\n",
       "      <td>0</td>\n",
       "      <td>1</td>\n",
       "      <td>-8437.673028</td>\n",
       "      <td>42.0</td>\n",
       "      <td>высшее</td>\n",
       "      <td>0</td>\n",
       "      <td>женат / замужем</td>\n",
       "      <td>0</td>\n",
       "      <td>F</td>\n",
       "      <td>сотрудник</td>\n",
       "      <td>0</td>\n",
       "      <td>253875.639453</td>\n",
       "      <td>покупка жилья</td>\n",
       "      <td>35-59</td>\n",
       "    </tr>\n",
       "    <tr>\n",
       "      <td>1</td>\n",
       "      <td>1</td>\n",
       "      <td>-4024.803754</td>\n",
       "      <td>36.0</td>\n",
       "      <td>среднее</td>\n",
       "      <td>1</td>\n",
       "      <td>женат / замужем</td>\n",
       "      <td>0</td>\n",
       "      <td>F</td>\n",
       "      <td>сотрудник</td>\n",
       "      <td>0</td>\n",
       "      <td>112080.014102</td>\n",
       "      <td>приобретение автомобиля</td>\n",
       "      <td>35-59</td>\n",
       "    </tr>\n",
       "    <tr>\n",
       "      <td>2</td>\n",
       "      <td>0</td>\n",
       "      <td>-5623.422610</td>\n",
       "      <td>33.0</td>\n",
       "      <td>Среднее</td>\n",
       "      <td>1</td>\n",
       "      <td>женат / замужем</td>\n",
       "      <td>0</td>\n",
       "      <td>M</td>\n",
       "      <td>сотрудник</td>\n",
       "      <td>0</td>\n",
       "      <td>145885.952297</td>\n",
       "      <td>покупка жилья</td>\n",
       "      <td>25-34</td>\n",
       "    </tr>\n",
       "    <tr>\n",
       "      <td>3</td>\n",
       "      <td>3</td>\n",
       "      <td>-4124.747207</td>\n",
       "      <td>32.0</td>\n",
       "      <td>среднее</td>\n",
       "      <td>1</td>\n",
       "      <td>женат / замужем</td>\n",
       "      <td>0</td>\n",
       "      <td>M</td>\n",
       "      <td>сотрудник</td>\n",
       "      <td>0</td>\n",
       "      <td>267628.550329</td>\n",
       "      <td>дополнительное образование</td>\n",
       "      <td>25-34</td>\n",
       "    </tr>\n",
       "    <tr>\n",
       "      <td>4</td>\n",
       "      <td>0</td>\n",
       "      <td>340266.072047</td>\n",
       "      <td>53.0</td>\n",
       "      <td>среднее</td>\n",
       "      <td>1</td>\n",
       "      <td>гражданский брак</td>\n",
       "      <td>1</td>\n",
       "      <td>F</td>\n",
       "      <td>пенсионер</td>\n",
       "      <td>0</td>\n",
       "      <td>158616.077870</td>\n",
       "      <td>сыграть свадьбу</td>\n",
       "      <td>35-59</td>\n",
       "    </tr>\n",
       "    <tr>\n",
       "      <td>5</td>\n",
       "      <td>0</td>\n",
       "      <td>-926.185831</td>\n",
       "      <td>27.0</td>\n",
       "      <td>высшее</td>\n",
       "      <td>0</td>\n",
       "      <td>гражданский брак</td>\n",
       "      <td>1</td>\n",
       "      <td>M</td>\n",
       "      <td>компаньон</td>\n",
       "      <td>0</td>\n",
       "      <td>255763.565419</td>\n",
       "      <td>покупка жилья</td>\n",
       "      <td>25-34</td>\n",
       "    </tr>\n",
       "    <tr>\n",
       "      <td>6</td>\n",
       "      <td>0</td>\n",
       "      <td>-2879.202052</td>\n",
       "      <td>43.0</td>\n",
       "      <td>высшее</td>\n",
       "      <td>0</td>\n",
       "      <td>женат / замужем</td>\n",
       "      <td>0</td>\n",
       "      <td>F</td>\n",
       "      <td>компаньон</td>\n",
       "      <td>0</td>\n",
       "      <td>240525.971920</td>\n",
       "      <td>операции с жильем</td>\n",
       "      <td>35-59</td>\n",
       "    </tr>\n",
       "    <tr>\n",
       "      <td>7</td>\n",
       "      <td>0</td>\n",
       "      <td>-152.779569</td>\n",
       "      <td>50.0</td>\n",
       "      <td>СРЕДНЕЕ</td>\n",
       "      <td>1</td>\n",
       "      <td>женат / замужем</td>\n",
       "      <td>0</td>\n",
       "      <td>M</td>\n",
       "      <td>сотрудник</td>\n",
       "      <td>0</td>\n",
       "      <td>135823.934197</td>\n",
       "      <td>образование</td>\n",
       "      <td>35-59</td>\n",
       "    </tr>\n",
       "    <tr>\n",
       "      <td>8</td>\n",
       "      <td>2</td>\n",
       "      <td>-6929.865299</td>\n",
       "      <td>35.0</td>\n",
       "      <td>ВЫСШЕЕ</td>\n",
       "      <td>0</td>\n",
       "      <td>гражданский брак</td>\n",
       "      <td>1</td>\n",
       "      <td>F</td>\n",
       "      <td>сотрудник</td>\n",
       "      <td>0</td>\n",
       "      <td>95856.832424</td>\n",
       "      <td>на проведение свадьбы</td>\n",
       "      <td>35-59</td>\n",
       "    </tr>\n",
       "    <tr>\n",
       "      <td>9</td>\n",
       "      <td>0</td>\n",
       "      <td>-2188.756445</td>\n",
       "      <td>41.0</td>\n",
       "      <td>среднее</td>\n",
       "      <td>1</td>\n",
       "      <td>женат / замужем</td>\n",
       "      <td>0</td>\n",
       "      <td>M</td>\n",
       "      <td>сотрудник</td>\n",
       "      <td>0</td>\n",
       "      <td>144425.938277</td>\n",
       "      <td>покупка жилья для семьи</td>\n",
       "      <td>35-59</td>\n",
       "    </tr>\n",
       "  </tbody>\n",
       "</table>\n",
       "</div>"
      ],
      "text/plain": [
       "   children  days_employed  dob_years education  education_id  \\\n",
       "0         1   -8437.673028       42.0    высшее             0   \n",
       "1         1   -4024.803754       36.0   среднее             1   \n",
       "2         0   -5623.422610       33.0   Среднее             1   \n",
       "3         3   -4124.747207       32.0   среднее             1   \n",
       "4         0  340266.072047       53.0   среднее             1   \n",
       "5         0    -926.185831       27.0    высшее             0   \n",
       "6         0   -2879.202052       43.0    высшее             0   \n",
       "7         0    -152.779569       50.0   СРЕДНЕЕ             1   \n",
       "8         2   -6929.865299       35.0    ВЫСШЕЕ             0   \n",
       "9         0   -2188.756445       41.0   среднее             1   \n",
       "\n",
       "      family_status  family_status_id gender income_type  debt   total_income  \\\n",
       "0   женат / замужем                 0      F   сотрудник     0  253875.639453   \n",
       "1   женат / замужем                 0      F   сотрудник     0  112080.014102   \n",
       "2   женат / замужем                 0      M   сотрудник     0  145885.952297   \n",
       "3   женат / замужем                 0      M   сотрудник     0  267628.550329   \n",
       "4  гражданский брак                 1      F   пенсионер     0  158616.077870   \n",
       "5  гражданский брак                 1      M   компаньон     0  255763.565419   \n",
       "6   женат / замужем                 0      F   компаньон     0  240525.971920   \n",
       "7   женат / замужем                 0      M   сотрудник     0  135823.934197   \n",
       "8  гражданский брак                 1      F   сотрудник     0   95856.832424   \n",
       "9   женат / замужем                 0      M   сотрудник     0  144425.938277   \n",
       "\n",
       "                      purpose age_group  \n",
       "0               покупка жилья     35-59  \n",
       "1     приобретение автомобиля     35-59  \n",
       "2               покупка жилья     25-34  \n",
       "3  дополнительное образование     25-34  \n",
       "4             сыграть свадьбу     35-59  \n",
       "5               покупка жилья     25-34  \n",
       "6           операции с жильем     35-59  \n",
       "7                 образование     35-59  \n",
       "8       на проведение свадьбы     35-59  \n",
       "9     покупка жилья для семьи     35-59  "
      ]
     },
     "execution_count": 18,
     "metadata": {},
     "output_type": "execute_result"
    }
   ],
   "source": [
    "def age_group(age):\n",
    "    \n",
    "    if age <= 24:\n",
    "        return '18-24'\n",
    "\n",
    "    if age >= 25 and age <= 34:\n",
    "        return '25-34'\n",
    "\n",
    "    if age >= 35 and age <= 59:\n",
    "        return '35-59'\n",
    "    \n",
    "    if age >= 60 and age <= 75:\n",
    "        return '60-75'\n",
    "\n",
    "df['age_group'] = df['dob_years'].apply(age_group)\n",
    "\n",
    "df.head(10)"
   ]
  },
  {
   "cell_type": "code",
   "execution_count": 19,
   "metadata": {},
   "outputs": [
    {
     "data": {
      "text/plain": [
       "age_group\n",
       "35-59     -1587.646022\n",
       "25-34     -1280.124639\n",
       "18-24      -744.016267\n",
       "60-75    355324.823353\n",
       "Name: days_employed, dtype: float64"
      ]
     },
     "metadata": {},
     "output_type": "display_data"
    }
   ],
   "source": [
    "median_days_empl = df.groupby('age_group')['days_employed'].median()\n",
    "display(median_days_empl.sort_values())"
   ]
  },
  {
   "cell_type": "markdown",
   "metadata": {},
   "source": [
    "В данных столбца `days_employed`, помимо 10% пропущенных значений, обнаружены следующие проблемы:\n",
    "\n",
    "1) Видим, что встречаются отрицательные значения трудового стажа. Скорее всего, стаж считается в отрицательную сторону, и правильно взять значения по модулю. \n",
    "\n",
    "2) В возрастной категории `60 - 75` медианное значение трудового стажа равно примерно 973 годам, если считать, что данные записаны в днях. Значение неадекватное и скорее всего, некторые из них были записаны в часах. Проверим эту гипотезу:"
   ]
  },
  {
   "cell_type": "code",
   "execution_count": 20,
   "metadata": {},
   "outputs": [
    {
     "data": {
      "text/plain": [
       "'Максимальное значение трудового стажа равно: 46.0 годам'"
      ]
     },
     "execution_count": 20,
     "metadata": {},
     "output_type": "execute_result"
    }
   ],
   "source": [
    "'Максимальное значение трудового стажа равно: '+ str((df['days_employed'].max()/(24*365)).round()) + ' годам'"
   ]
  },
  {
   "cell_type": "code",
   "execution_count": 21,
   "metadata": {},
   "outputs": [
    {
     "data": {
      "text/plain": [
       "'Возраст заёмщика с максимальным стажем равен: 56.0 годам'"
      ]
     },
     "execution_count": 21,
     "metadata": {},
     "output_type": "execute_result"
    }
   ],
   "source": [
    "'Возраст заёмщика с максимальным стажем равен: ' + str(df.loc[df['days_employed'].idxmax(), 'dob_years']) + ' годам'"
   ]
  },
  {
   "cell_type": "markdown",
   "metadata": {},
   "source": [
    "Получается, человек начал работать в 10 лет. Это настораживает, т.к. официально в России трудовую книжку граждане имеют право заводить с 14 лет. Несмотря на эту странность, считаем, что гипотеза подтвердилась."
   ]
  },
  {
   "cell_type": "markdown",
   "metadata": {},
   "source": [
    "1. Сперва исправим все отрицательные значения столбца `days_employed`.\n",
    "\n",
    "Возьмем значения столбца `days_employed` по модулю:"
   ]
  },
  {
   "cell_type": "code",
   "execution_count": 22,
   "metadata": {},
   "outputs": [],
   "source": [
    "df['days_employed'] = df['days_employed'].abs()"
   ]
  },
  {
   "cell_type": "markdown",
   "metadata": {},
   "source": [
    "2. Затем исправим аномально большие значения столбца `days_employed`.\n",
    "\n",
    "Проверим, только ли в возрастной категории `60 - 75` проблемы с данными. Для этого выведем максимальное значение трудового стажа для каждой категории:"
   ]
  },
  {
   "cell_type": "code",
   "execution_count": 23,
   "metadata": {},
   "outputs": [
    {
     "data": {
      "text/plain": [
       "'Максимальное значение трудового стажа для возрастной категории 35-59 равно 401755.40047533'"
      ]
     },
     "metadata": {},
     "output_type": "display_data"
    },
    {
     "data": {
      "text/plain": [
       "'Максимальное значение трудового стажа для возрастной категории 25-34 равно 397905.00319993024'"
      ]
     },
     "metadata": {},
     "output_type": "display_data"
    },
    {
     "data": {
      "text/plain": [
       "'Максимальное значение трудового стажа для возрастной категории 60-75 равно 401715.8117488882'"
      ]
     },
     "metadata": {},
     "output_type": "display_data"
    },
    {
     "data": {
      "text/plain": [
       "'Максимальное значение трудового стажа для возрастной категории 18-24 равно 334764.25983126624'"
      ]
     },
     "metadata": {},
     "output_type": "display_data"
    }
   ],
   "source": [
    "groups = df['age_group'].unique()\n",
    "for group in groups:\n",
    "    display('Максимальное значение трудового стажа для возрастной категории ' + group + ' равно ' + str(df[df['age_group'] == group].max()['days_employed'])) "
   ]
  },
  {
   "cell_type": "markdown",
   "metadata": {},
   "source": [
    "Видим, что аномальные значения содержатся в каждой из категорий. Посмотрим на точечные графики распредления трудового стажа по возрасту для каждой из подгрупп."
   ]
  },
  {
   "cell_type": "code",
   "execution_count": 24,
   "metadata": {},
   "outputs": [
    {
     "data": {
      "text/plain": [
       "<matplotlib.axes._subplots.AxesSubplot at 0x7f3ac2fb3490>"
      ]
     },
     "execution_count": 24,
     "metadata": {},
     "output_type": "execute_result"
    },
    {
     "data": {
      "image/png": "[encoded data removed]",
      "text/plain": [
       "<Figure size 432x288 with 1 Axes>"
      ]
     },
     "metadata": {
      "needs_background": "light"
     },
     "output_type": "display_data"
    }
   ],
   "source": [
    "seaborn.scatterplot(data = df[df['age_group'] == '18-24'], x='dob_years', y='days_employed')"
   ]
  },
  {
   "cell_type": "code",
   "execution_count": 25,
   "metadata": {},
   "outputs": [
    {
     "data": {
      "text/plain": [
       "<matplotlib.axes._subplots.AxesSubplot at 0x7f3ac2f2c310>"
      ]
     },
     "execution_count": 25,
     "metadata": {},
     "output_type": "execute_result"
    },
    {
     "data": {
      "image/png": "[encoded data removed]",
      "text/plain": [
       "<Figure size 432x288 with 1 Axes>"
      ]
     },
     "metadata": {
      "needs_background": "light"
     },
     "output_type": "display_data"
    }
   ],
   "source": [
    "seaborn.scatterplot(data = df[df['age_group'] == '25-34'], x='dob_years', y='days_employed');"
   ]
  },
  {
   "cell_type": "code",
   "execution_count": 26,
   "metadata": {},
   "outputs": [
    {
     "data": {
      "text/plain": [
       "<matplotlib.axes._subplots.AxesSubplot at 0x7f3ac2eac5d0>"
      ]
     },
     "execution_count": 26,
     "metadata": {},
     "output_type": "execute_result"
    },
    {
     "data": {
      "image/png": "[encoded data removed]",
      "text/plain": [
       "<Figure size 432x288 with 1 Axes>"
      ]
     },
     "metadata": {
      "needs_background": "light"
     },
     "output_type": "display_data"
    }
   ],
   "source": [
    "seaborn.scatterplot(data = df[df['age_group'] == '35-59'], x='dob_years', y='days_employed');"
   ]
  },
  {
   "cell_type": "code",
   "execution_count": 27,
   "metadata": {},
   "outputs": [
    {
     "data": {
      "text/plain": [
       "<matplotlib.axes._subplots.AxesSubplot at 0x7f3ac2e48c10>"
      ]
     },
     "execution_count": 27,
     "metadata": {},
     "output_type": "execute_result"
    },
    {
     "data": {
      "image/png": "[encoded data removed]",
      "text/plain": [
       "<Figure size 432x288 with 1 Axes>"
      ]
     },
     "metadata": {
      "needs_background": "light"
     },
     "output_type": "display_data"
    }
   ],
   "source": [
    "seaborn.scatterplot(data = df[df['age_group'] == '60-75'], x='dob_years', y='days_employed');"
   ]
  },
  {
   "cell_type": "markdown",
   "metadata": {},
   "source": [
    "Из графиков видно, что аномальные значения трудового стажа содержатся во всех возрастных категориях и только для возрастной группы `18-24` его можно считать выбросом, в остальных случаях ввод этих аномальных данных производился систематически. Скорее всего, это подтверждает гипотезу о том, что данные о трудовом стаже для некоторой части заёмщиков были записаны не в днях, как говорится в описании данных от заказчика, а в часах. Для приведения данных в столбце `days_employed` к одним единицам измерения (дням) разделим ячейки, превышающие значения 150000 на 24."
   ]
  },
  {
   "cell_type": "code",
   "execution_count": 28,
   "metadata": {},
   "outputs": [
    {
     "data": {
      "text/html": [
       "<div>\n",
       "<style scoped>\n",
       "    .dataframe tbody tr th:only-of-type {\n",
       "        vertical-align: middle;\n",
       "    }\n",
       "\n",
       "    .dataframe tbody tr th {\n",
       "        vertical-align: top;\n",
       "    }\n",
       "\n",
       "    .dataframe thead th {\n",
       "        text-align: right;\n",
       "    }\n",
       "</style>\n",
       "<table border=\"1\" class=\"dataframe\">\n",
       "  <thead>\n",
       "    <tr style=\"text-align: right;\">\n",
       "      <th></th>\n",
       "      <th>children</th>\n",
       "      <th>days_employed</th>\n",
       "      <th>dob_years</th>\n",
       "      <th>education</th>\n",
       "      <th>education_id</th>\n",
       "      <th>family_status</th>\n",
       "      <th>family_status_id</th>\n",
       "      <th>gender</th>\n",
       "      <th>income_type</th>\n",
       "      <th>debt</th>\n",
       "      <th>total_income</th>\n",
       "      <th>purpose</th>\n",
       "      <th>age_group</th>\n",
       "    </tr>\n",
       "  </thead>\n",
       "  <tbody>\n",
       "    <tr>\n",
       "      <td>0</td>\n",
       "      <td>1</td>\n",
       "      <td>8437.673028</td>\n",
       "      <td>42.0</td>\n",
       "      <td>высшее</td>\n",
       "      <td>0</td>\n",
       "      <td>женат / замужем</td>\n",
       "      <td>0</td>\n",
       "      <td>F</td>\n",
       "      <td>сотрудник</td>\n",
       "      <td>0</td>\n",
       "      <td>253875.639453</td>\n",
       "      <td>покупка жилья</td>\n",
       "      <td>35-59</td>\n",
       "    </tr>\n",
       "    <tr>\n",
       "      <td>1</td>\n",
       "      <td>1</td>\n",
       "      <td>4024.803754</td>\n",
       "      <td>36.0</td>\n",
       "      <td>среднее</td>\n",
       "      <td>1</td>\n",
       "      <td>женат / замужем</td>\n",
       "      <td>0</td>\n",
       "      <td>F</td>\n",
       "      <td>сотрудник</td>\n",
       "      <td>0</td>\n",
       "      <td>112080.014102</td>\n",
       "      <td>приобретение автомобиля</td>\n",
       "      <td>35-59</td>\n",
       "    </tr>\n",
       "    <tr>\n",
       "      <td>2</td>\n",
       "      <td>0</td>\n",
       "      <td>5623.422610</td>\n",
       "      <td>33.0</td>\n",
       "      <td>Среднее</td>\n",
       "      <td>1</td>\n",
       "      <td>женат / замужем</td>\n",
       "      <td>0</td>\n",
       "      <td>M</td>\n",
       "      <td>сотрудник</td>\n",
       "      <td>0</td>\n",
       "      <td>145885.952297</td>\n",
       "      <td>покупка жилья</td>\n",
       "      <td>25-34</td>\n",
       "    </tr>\n",
       "    <tr>\n",
       "      <td>3</td>\n",
       "      <td>3</td>\n",
       "      <td>4124.747207</td>\n",
       "      <td>32.0</td>\n",
       "      <td>среднее</td>\n",
       "      <td>1</td>\n",
       "      <td>женат / замужем</td>\n",
       "      <td>0</td>\n",
       "      <td>M</td>\n",
       "      <td>сотрудник</td>\n",
       "      <td>0</td>\n",
       "      <td>267628.550329</td>\n",
       "      <td>дополнительное образование</td>\n",
       "      <td>25-34</td>\n",
       "    </tr>\n",
       "    <tr>\n",
       "      <td>4</td>\n",
       "      <td>0</td>\n",
       "      <td>14177.753002</td>\n",
       "      <td>53.0</td>\n",
       "      <td>среднее</td>\n",
       "      <td>1</td>\n",
       "      <td>гражданский брак</td>\n",
       "      <td>1</td>\n",
       "      <td>F</td>\n",
       "      <td>пенсионер</td>\n",
       "      <td>0</td>\n",
       "      <td>158616.077870</td>\n",
       "      <td>сыграть свадьбу</td>\n",
       "      <td>35-59</td>\n",
       "    </tr>\n",
       "    <tr>\n",
       "      <td>...</td>\n",
       "      <td>...</td>\n",
       "      <td>...</td>\n",
       "      <td>...</td>\n",
       "      <td>...</td>\n",
       "      <td>...</td>\n",
       "      <td>...</td>\n",
       "      <td>...</td>\n",
       "      <td>...</td>\n",
       "      <td>...</td>\n",
       "      <td>...</td>\n",
       "      <td>...</td>\n",
       "      <td>...</td>\n",
       "      <td>...</td>\n",
       "    </tr>\n",
       "    <tr>\n",
       "      <td>95</td>\n",
       "      <td>0</td>\n",
       "      <td>541.832241</td>\n",
       "      <td>51.0</td>\n",
       "      <td>высшее</td>\n",
       "      <td>0</td>\n",
       "      <td>женат / замужем</td>\n",
       "      <td>0</td>\n",
       "      <td>F</td>\n",
       "      <td>сотрудник</td>\n",
       "      <td>0</td>\n",
       "      <td>94187.878082</td>\n",
       "      <td>автомобиль</td>\n",
       "      <td>35-59</td>\n",
       "    </tr>\n",
       "    <tr>\n",
       "      <td>96</td>\n",
       "      <td>0</td>\n",
       "      <td>NaN</td>\n",
       "      <td>44.0</td>\n",
       "      <td>СРЕДНЕЕ</td>\n",
       "      <td>1</td>\n",
       "      <td>женат / замужем</td>\n",
       "      <td>0</td>\n",
       "      <td>F</td>\n",
       "      <td>сотрудник</td>\n",
       "      <td>0</td>\n",
       "      <td>142594.396847</td>\n",
       "      <td>покупка жилой недвижимости</td>\n",
       "      <td>35-59</td>\n",
       "    </tr>\n",
       "    <tr>\n",
       "      <td>97</td>\n",
       "      <td>0</td>\n",
       "      <td>NaN</td>\n",
       "      <td>47.0</td>\n",
       "      <td>высшее</td>\n",
       "      <td>0</td>\n",
       "      <td>женат / замужем</td>\n",
       "      <td>0</td>\n",
       "      <td>F</td>\n",
       "      <td>сотрудник</td>\n",
       "      <td>0</td>\n",
       "      <td>142594.396847</td>\n",
       "      <td>профильное образование</td>\n",
       "      <td>35-59</td>\n",
       "    </tr>\n",
       "    <tr>\n",
       "      <td>98</td>\n",
       "      <td>0</td>\n",
       "      <td>15204.425239</td>\n",
       "      <td>54.0</td>\n",
       "      <td>высшее</td>\n",
       "      <td>0</td>\n",
       "      <td>женат / замужем</td>\n",
       "      <td>0</td>\n",
       "      <td>F</td>\n",
       "      <td>пенсионер</td>\n",
       "      <td>0</td>\n",
       "      <td>199707.298524</td>\n",
       "      <td>покупка жилья для сдачи</td>\n",
       "      <td>35-59</td>\n",
       "    </tr>\n",
       "    <tr>\n",
       "      <td>99</td>\n",
       "      <td>0</td>\n",
       "      <td>14439.234121</td>\n",
       "      <td>60.0</td>\n",
       "      <td>Среднее</td>\n",
       "      <td>1</td>\n",
       "      <td>женат / замужем</td>\n",
       "      <td>0</td>\n",
       "      <td>F</td>\n",
       "      <td>пенсионер</td>\n",
       "      <td>0</td>\n",
       "      <td>71291.522491</td>\n",
       "      <td>автомобиль</td>\n",
       "      <td>60-75</td>\n",
       "    </tr>\n",
       "  </tbody>\n",
       "</table>\n",
       "<p>100 rows × 13 columns</p>\n",
       "</div>"
      ],
      "text/plain": [
       "    children  days_employed  dob_years education  education_id  \\\n",
       "0          1    8437.673028       42.0    высшее             0   \n",
       "1          1    4024.803754       36.0   среднее             1   \n",
       "2          0    5623.422610       33.0   Среднее             1   \n",
       "3          3    4124.747207       32.0   среднее             1   \n",
       "4          0   14177.753002       53.0   среднее             1   \n",
       "..       ...            ...        ...       ...           ...   \n",
       "95         0     541.832241       51.0    высшее             0   \n",
       "96         0            NaN       44.0   СРЕДНЕЕ             1   \n",
       "97         0            NaN       47.0    высшее             0   \n",
       "98         0   15204.425239       54.0    высшее             0   \n",
       "99         0   14439.234121       60.0   Среднее             1   \n",
       "\n",
       "       family_status  family_status_id gender income_type  debt  \\\n",
       "0    женат / замужем                 0      F   сотрудник     0   \n",
       "1    женат / замужем                 0      F   сотрудник     0   \n",
       "2    женат / замужем                 0      M   сотрудник     0   \n",
       "3    женат / замужем                 0      M   сотрудник     0   \n",
       "4   гражданский брак                 1      F   пенсионер     0   \n",
       "..               ...               ...    ...         ...   ...   \n",
       "95   женат / замужем                 0      F   сотрудник     0   \n",
       "96   женат / замужем                 0      F   сотрудник     0   \n",
       "97   женат / замужем                 0      F   сотрудник     0   \n",
       "98   женат / замужем                 0      F   пенсионер     0   \n",
       "99   женат / замужем                 0      F   пенсионер     0   \n",
       "\n",
       "     total_income                     purpose age_group  \n",
       "0   253875.639453               покупка жилья     35-59  \n",
       "1   112080.014102     приобретение автомобиля     35-59  \n",
       "2   145885.952297               покупка жилья     25-34  \n",
       "3   267628.550329  дополнительное образование     25-34  \n",
       "4   158616.077870             сыграть свадьбу     35-59  \n",
       "..            ...                         ...       ...  \n",
       "95   94187.878082                  автомобиль     35-59  \n",
       "96  142594.396847  покупка жилой недвижимости     35-59  \n",
       "97  142594.396847      профильное образование     35-59  \n",
       "98  199707.298524     покупка жилья для сдачи     35-59  \n",
       "99   71291.522491                  автомобиль     60-75  \n",
       "\n",
       "[100 rows x 13 columns]"
      ]
     },
     "execution_count": 28,
     "metadata": {},
     "output_type": "execute_result"
    }
   ],
   "source": [
    "df.loc[(pd.isnull(df['days_employed']) == False) & (df['days_employed'] > 150000), 'days_employed'] = df['days_employed']/24\n",
    "\n",
    "df.head(100)"
   ]
  },
  {
   "cell_type": "markdown",
   "metadata": {},
   "source": [
    "И теперь определим медианные значения трудового стажа для каждой возрасной категории:"
   ]
  },
  {
   "cell_type": "code",
   "execution_count": 29,
   "metadata": {},
   "outputs": [
    {
     "data": {
      "text/plain": [
       "age_group\n",
       "18-24      745.0\n",
       "25-34     1292.0\n",
       "35-59     2510.0\n",
       "60-75    14816.0\n",
       "Name: days_employed, dtype: float64"
      ]
     },
     "metadata": {},
     "output_type": "display_data"
    }
   ],
   "source": [
    "median_days_empl = df.groupby('age_group')['days_employed'].median().round()\n",
    "display(median_days_empl.sort_values())"
   ]
  },
  {
   "cell_type": "markdown",
   "metadata": {},
   "source": [
    "Создадим функцию, с помощью которой заполним пропущенные значения в столбце `days_employed`в зависимости от возраста заёмщика:"
   ]
  },
  {
   "cell_type": "code",
   "execution_count": 30,
   "metadata": {},
   "outputs": [],
   "source": [
    "dict_age_empl = {'18-24': median_days_empl[0],\n",
    "            '25-34': median_days_empl[1],\n",
    "            '35-59': median_days_empl[2],\n",
    "            '60-75': median_days_empl[3]}\n",
    "\n",
    "def fill_days(row):\n",
    "    \n",
    "    age_group = row['age_group']\n",
    "    days_empl = row['days_employed']\n",
    "    \n",
    "    if np.isnan(days_empl):\n",
    "        for key in dict_age_empl:\n",
    "            if key == age_group:\n",
    "                return dict_age_empl.get(key)\n",
    "    else:\n",
    "        return days_empl"
   ]
  },
  {
   "cell_type": "code",
   "execution_count": 31,
   "metadata": {},
   "outputs": [],
   "source": [
    "df['days_employed'] = df.apply(fill_days, axis=1)"
   ]
  },
  {
   "cell_type": "code",
   "execution_count": 32,
   "metadata": {
    "scrolled": true
   },
   "outputs": [
    {
     "data": {
      "text/html": [
       "<div>\n",
       "<style scoped>\n",
       "    .dataframe tbody tr th:only-of-type {\n",
       "        vertical-align: middle;\n",
       "    }\n",
       "\n",
       "    .dataframe tbody tr th {\n",
       "        vertical-align: top;\n",
       "    }\n",
       "\n",
       "    .dataframe thead th {\n",
       "        text-align: right;\n",
       "    }\n",
       "</style>\n",
       "<table border=\"1\" class=\"dataframe\">\n",
       "  <thead>\n",
       "    <tr style=\"text-align: right;\">\n",
       "      <th></th>\n",
       "      <th>children</th>\n",
       "      <th>days_employed</th>\n",
       "      <th>dob_years</th>\n",
       "      <th>education</th>\n",
       "      <th>education_id</th>\n",
       "      <th>family_status</th>\n",
       "      <th>family_status_id</th>\n",
       "      <th>gender</th>\n",
       "      <th>income_type</th>\n",
       "      <th>debt</th>\n",
       "      <th>total_income</th>\n",
       "      <th>purpose</th>\n",
       "      <th>age_group</th>\n",
       "    </tr>\n",
       "  </thead>\n",
       "  <tbody>\n",
       "    <tr>\n",
       "      <td>0</td>\n",
       "      <td>1</td>\n",
       "      <td>8437.673028</td>\n",
       "      <td>42.0</td>\n",
       "      <td>высшее</td>\n",
       "      <td>0</td>\n",
       "      <td>женат / замужем</td>\n",
       "      <td>0</td>\n",
       "      <td>F</td>\n",
       "      <td>сотрудник</td>\n",
       "      <td>0</td>\n",
       "      <td>253875.639453</td>\n",
       "      <td>покупка жилья</td>\n",
       "      <td>35-59</td>\n",
       "    </tr>\n",
       "    <tr>\n",
       "      <td>1</td>\n",
       "      <td>1</td>\n",
       "      <td>4024.803754</td>\n",
       "      <td>36.0</td>\n",
       "      <td>среднее</td>\n",
       "      <td>1</td>\n",
       "      <td>женат / замужем</td>\n",
       "      <td>0</td>\n",
       "      <td>F</td>\n",
       "      <td>сотрудник</td>\n",
       "      <td>0</td>\n",
       "      <td>112080.014102</td>\n",
       "      <td>приобретение автомобиля</td>\n",
       "      <td>35-59</td>\n",
       "    </tr>\n",
       "    <tr>\n",
       "      <td>2</td>\n",
       "      <td>0</td>\n",
       "      <td>5623.422610</td>\n",
       "      <td>33.0</td>\n",
       "      <td>Среднее</td>\n",
       "      <td>1</td>\n",
       "      <td>женат / замужем</td>\n",
       "      <td>0</td>\n",
       "      <td>M</td>\n",
       "      <td>сотрудник</td>\n",
       "      <td>0</td>\n",
       "      <td>145885.952297</td>\n",
       "      <td>покупка жилья</td>\n",
       "      <td>25-34</td>\n",
       "    </tr>\n",
       "    <tr>\n",
       "      <td>3</td>\n",
       "      <td>3</td>\n",
       "      <td>4124.747207</td>\n",
       "      <td>32.0</td>\n",
       "      <td>среднее</td>\n",
       "      <td>1</td>\n",
       "      <td>женат / замужем</td>\n",
       "      <td>0</td>\n",
       "      <td>M</td>\n",
       "      <td>сотрудник</td>\n",
       "      <td>0</td>\n",
       "      <td>267628.550329</td>\n",
       "      <td>дополнительное образование</td>\n",
       "      <td>25-34</td>\n",
       "    </tr>\n",
       "    <tr>\n",
       "      <td>4</td>\n",
       "      <td>0</td>\n",
       "      <td>14177.753002</td>\n",
       "      <td>53.0</td>\n",
       "      <td>среднее</td>\n",
       "      <td>1</td>\n",
       "      <td>гражданский брак</td>\n",
       "      <td>1</td>\n",
       "      <td>F</td>\n",
       "      <td>пенсионер</td>\n",
       "      <td>0</td>\n",
       "      <td>158616.077870</td>\n",
       "      <td>сыграть свадьбу</td>\n",
       "      <td>35-59</td>\n",
       "    </tr>\n",
       "    <tr>\n",
       "      <td>...</td>\n",
       "      <td>...</td>\n",
       "      <td>...</td>\n",
       "      <td>...</td>\n",
       "      <td>...</td>\n",
       "      <td>...</td>\n",
       "      <td>...</td>\n",
       "      <td>...</td>\n",
       "      <td>...</td>\n",
       "      <td>...</td>\n",
       "      <td>...</td>\n",
       "      <td>...</td>\n",
       "      <td>...</td>\n",
       "      <td>...</td>\n",
       "    </tr>\n",
       "    <tr>\n",
       "      <td>95</td>\n",
       "      <td>0</td>\n",
       "      <td>541.832241</td>\n",
       "      <td>51.0</td>\n",
       "      <td>высшее</td>\n",
       "      <td>0</td>\n",
       "      <td>женат / замужем</td>\n",
       "      <td>0</td>\n",
       "      <td>F</td>\n",
       "      <td>сотрудник</td>\n",
       "      <td>0</td>\n",
       "      <td>94187.878082</td>\n",
       "      <td>автомобиль</td>\n",
       "      <td>35-59</td>\n",
       "    </tr>\n",
       "    <tr>\n",
       "      <td>96</td>\n",
       "      <td>0</td>\n",
       "      <td>2510.000000</td>\n",
       "      <td>44.0</td>\n",
       "      <td>СРЕДНЕЕ</td>\n",
       "      <td>1</td>\n",
       "      <td>женат / замужем</td>\n",
       "      <td>0</td>\n",
       "      <td>F</td>\n",
       "      <td>сотрудник</td>\n",
       "      <td>0</td>\n",
       "      <td>142594.396847</td>\n",
       "      <td>покупка жилой недвижимости</td>\n",
       "      <td>35-59</td>\n",
       "    </tr>\n",
       "    <tr>\n",
       "      <td>97</td>\n",
       "      <td>0</td>\n",
       "      <td>2510.000000</td>\n",
       "      <td>47.0</td>\n",
       "      <td>высшее</td>\n",
       "      <td>0</td>\n",
       "      <td>женат / замужем</td>\n",
       "      <td>0</td>\n",
       "      <td>F</td>\n",
       "      <td>сотрудник</td>\n",
       "      <td>0</td>\n",
       "      <td>142594.396847</td>\n",
       "      <td>профильное образование</td>\n",
       "      <td>35-59</td>\n",
       "    </tr>\n",
       "    <tr>\n",
       "      <td>98</td>\n",
       "      <td>0</td>\n",
       "      <td>15204.425239</td>\n",
       "      <td>54.0</td>\n",
       "      <td>высшее</td>\n",
       "      <td>0</td>\n",
       "      <td>женат / замужем</td>\n",
       "      <td>0</td>\n",
       "      <td>F</td>\n",
       "      <td>пенсионер</td>\n",
       "      <td>0</td>\n",
       "      <td>199707.298524</td>\n",
       "      <td>покупка жилья для сдачи</td>\n",
       "      <td>35-59</td>\n",
       "    </tr>\n",
       "    <tr>\n",
       "      <td>99</td>\n",
       "      <td>0</td>\n",
       "      <td>14439.234121</td>\n",
       "      <td>60.0</td>\n",
       "      <td>Среднее</td>\n",
       "      <td>1</td>\n",
       "      <td>женат / замужем</td>\n",
       "      <td>0</td>\n",
       "      <td>F</td>\n",
       "      <td>пенсионер</td>\n",
       "      <td>0</td>\n",
       "      <td>71291.522491</td>\n",
       "      <td>автомобиль</td>\n",
       "      <td>60-75</td>\n",
       "    </tr>\n",
       "  </tbody>\n",
       "</table>\n",
       "<p>100 rows × 13 columns</p>\n",
       "</div>"
      ],
      "text/plain": [
       "    children  days_employed  dob_years education  education_id  \\\n",
       "0          1    8437.673028       42.0    высшее             0   \n",
       "1          1    4024.803754       36.0   среднее             1   \n",
       "2          0    5623.422610       33.0   Среднее             1   \n",
       "3          3    4124.747207       32.0   среднее             1   \n",
       "4          0   14177.753002       53.0   среднее             1   \n",
       "..       ...            ...        ...       ...           ...   \n",
       "95         0     541.832241       51.0    высшее             0   \n",
       "96         0    2510.000000       44.0   СРЕДНЕЕ             1   \n",
       "97         0    2510.000000       47.0    высшее             0   \n",
       "98         0   15204.425239       54.0    высшее             0   \n",
       "99         0   14439.234121       60.0   Среднее             1   \n",
       "\n",
       "       family_status  family_status_id gender income_type  debt  \\\n",
       "0    женат / замужем                 0      F   сотрудник     0   \n",
       "1    женат / замужем                 0      F   сотрудник     0   \n",
       "2    женат / замужем                 0      M   сотрудник     0   \n",
       "3    женат / замужем                 0      M   сотрудник     0   \n",
       "4   гражданский брак                 1      F   пенсионер     0   \n",
       "..               ...               ...    ...         ...   ...   \n",
       "95   женат / замужем                 0      F   сотрудник     0   \n",
       "96   женат / замужем                 0      F   сотрудник     0   \n",
       "97   женат / замужем                 0      F   сотрудник     0   \n",
       "98   женат / замужем                 0      F   пенсионер     0   \n",
       "99   женат / замужем                 0      F   пенсионер     0   \n",
       "\n",
       "     total_income                     purpose age_group  \n",
       "0   253875.639453               покупка жилья     35-59  \n",
       "1   112080.014102     приобретение автомобиля     35-59  \n",
       "2   145885.952297               покупка жилья     25-34  \n",
       "3   267628.550329  дополнительное образование     25-34  \n",
       "4   158616.077870             сыграть свадьбу     35-59  \n",
       "..            ...                         ...       ...  \n",
       "95   94187.878082                  автомобиль     35-59  \n",
       "96  142594.396847  покупка жилой недвижимости     35-59  \n",
       "97  142594.396847      профильное образование     35-59  \n",
       "98  199707.298524     покупка жилья для сдачи     35-59  \n",
       "99   71291.522491                  автомобиль     60-75  \n",
       "\n",
       "[100 rows x 13 columns]"
      ]
     },
     "execution_count": 32,
     "metadata": {},
     "output_type": "execute_result"
    }
   ],
   "source": [
    "df.head(100)"
   ]
  },
  {
   "cell_type": "markdown",
   "metadata": {},
   "source": [
    "Проверим, что все пропущенные значения в таблице заполнены:"
   ]
  },
  {
   "cell_type": "code",
   "execution_count": 33,
   "metadata": {},
   "outputs": [
    {
     "name": "stdout",
     "output_type": "stream",
     "text": [
      "<class 'pandas.core.frame.DataFrame'>\n",
      "RangeIndex: 21525 entries, 0 to 21524\n",
      "Data columns (total 13 columns):\n",
      "children            21525 non-null int64\n",
      "days_employed       21525 non-null float64\n",
      "dob_years           21525 non-null float64\n",
      "education           21525 non-null object\n",
      "education_id        21525 non-null int64\n",
      "family_status       21525 non-null object\n",
      "family_status_id    21525 non-null int64\n",
      "gender              21525 non-null object\n",
      "income_type         21525 non-null object\n",
      "debt                21525 non-null int64\n",
      "total_income        21525 non-null float64\n",
      "purpose             21525 non-null object\n",
      "age_group           21525 non-null object\n",
      "dtypes: float64(3), int64(4), object(6)\n",
      "memory usage: 2.1+ MB\n"
     ]
    }
   ],
   "source": [
    "df.info()"
   ]
  },
  {
   "cell_type": "markdown",
   "metadata": {},
   "source": [
    "Все пропущенные значения датафрейме заполнены."
   ]
  },
  {
   "cell_type": "markdown",
   "metadata": {},
   "source": [
    "### Исправление аномальных значений"
   ]
  },
  {
   "cell_type": "markdown",
   "metadata": {},
   "source": [
    "Выведем уникальные значения столбца `children`:"
   ]
  },
  {
   "cell_type": "code",
   "execution_count": 34,
   "metadata": {},
   "outputs": [
    {
     "data": {
      "text/plain": [
       "array([ 1,  0,  3,  2, -1,  4, 20,  5])"
      ]
     },
     "execution_count": 34,
     "metadata": {},
     "output_type": "execute_result"
    }
   ],
   "source": [
    "df['children'].unique()"
   ]
  },
  {
   "cell_type": "markdown",
   "metadata": {},
   "source": [
    "Посмотрим на распределение этих значений по возрастным категориям:"
   ]
  },
  {
   "cell_type": "code",
   "execution_count": 35,
   "metadata": {},
   "outputs": [
    {
     "data": {
      "text/plain": [
       "35-59    50\n",
       "25-34    18\n",
       "60-75     5\n",
       "18-24     3\n",
       "Name: age_group, dtype: int64"
      ]
     },
     "execution_count": 35,
     "metadata": {},
     "output_type": "execute_result"
    }
   ],
   "source": [
    "df.loc[df['children'] == 20, 'age_group'].value_counts()"
   ]
  },
  {
   "cell_type": "code",
   "execution_count": 36,
   "metadata": {},
   "outputs": [
    {
     "data": {
      "text/plain": [
       "35-59    28\n",
       "25-34    14\n",
       "60-75     4\n",
       "18-24     1\n",
       "Name: age_group, dtype: int64"
      ]
     },
     "execution_count": 36,
     "metadata": {},
     "output_type": "execute_result"
    }
   ],
   "source": [
    "df.loc[df['children'] == -1, 'age_group'].value_counts()"
   ]
  },
  {
   "cell_type": "markdown",
   "metadata": {},
   "source": [
    "Видим, что в столбце children, содержащем информацию о количестве детей заёмщика, встречаются аномальные значения: минимальное число равно -1, а максимальное - 20. Вероятно, при вводе данных были допущены опечатки и действительное количество детей равно 1 и 2. Исправим данные в датафрейме:"
   ]
  },
  {
   "cell_type": "code",
   "execution_count": 37,
   "metadata": {},
   "outputs": [],
   "source": [
    "df.loc[(df['children'] == 20) , 'children'] = 2\n",
    "df.loc[(df['children'] == -1) , 'children'] = 1"
   ]
  },
  {
   "cell_type": "markdown",
   "metadata": {},
   "source": [
    "**Выводы**\n",
    " \n",
    "1.  Пропущенные значения в столбце `total_income` были заменены на медианные значения уровня дохода в зависимости от типа занятости заёмщика. \n",
    "\n",
    "2. Отрицательные значения в столбце `days_employed` были взяты по модулю. Также было выявлено, что аномально большие значения трудового стажа были записаны в часах для некоторых заёмщиков, поэтому эти значения были переведены в дни. Нулевые значения в столбце `dob_years`, содержащем информацию о возрасте заемщика, были заменены медианными значениями для каждого типа занятости.\n",
    "\n",
    "2. Пропущенные значения в столбце `days_employed` были заменены на медианные значения трудового стажа в зависимости от возраста заёмщика. Для этого были выделены четыре возрастные категории.  \n",
    "\n",
    "3. В столбце `children`, содержащем информацию о количестве детей заёмщика, встречались аномальные значения: минимальное число  равно -1, а максимальное - 20. Количество таких значений выделялось из общей выборки, а значит, ошибки были допущены при вводе данных. Эти значения были заменены на 1 и 2, соответственно.  \n",
    "\n",
    "5. В столбце `dob_years`, содержащем информацию о возрасте клиента в годах, минимальное значение равно 0. Оно некорректно, нужно проверить, сколько таких ячеек. "
   ]
  },
  {
   "cell_type": "markdown",
   "metadata": {},
   "source": [
    "### Изменение типов данных"
   ]
  },
  {
   "cell_type": "markdown",
   "metadata": {},
   "source": [
    "### Изменение типов данных"
   ]
  },
  {
   "cell_type": "markdown",
   "metadata": {},
   "source": [
    "Из таблицы, представленной выше, видно, что столбец `days_employed`, содержащий информацию о трудовом стаже в днях, и `dob_years`, содержащий возраст заёмщика, записаны вещественным числом. Изменим эти данные на целочисленные:"
   ]
  },
  {
   "cell_type": "code",
   "execution_count": 38,
   "metadata": {},
   "outputs": [],
   "source": [
    "df['days_employed'] = df['days_employed'].astype(int)\n",
    "df['dob_years'] = df['dob_years'].astype(int)"
   ]
  },
  {
   "cell_type": "code",
   "execution_count": 39,
   "metadata": {},
   "outputs": [
    {
     "name": "stdout",
     "output_type": "stream",
     "text": [
      "<class 'pandas.core.frame.DataFrame'>\n",
      "RangeIndex: 21525 entries, 0 to 21524\n",
      "Data columns (total 13 columns):\n",
      "children            21525 non-null int64\n",
      "days_employed       21525 non-null int64\n",
      "dob_years           21525 non-null int64\n",
      "education           21525 non-null object\n",
      "education_id        21525 non-null int64\n",
      "family_status       21525 non-null object\n",
      "family_status_id    21525 non-null int64\n",
      "gender              21525 non-null object\n",
      "income_type         21525 non-null object\n",
      "debt                21525 non-null int64\n",
      "total_income        21525 non-null float64\n",
      "purpose             21525 non-null object\n",
      "age_group           21525 non-null object\n",
      "dtypes: float64(1), int64(6), object(6)\n",
      "memory usage: 2.1+ MB\n"
     ]
    }
   ],
   "source": [
    "df.info()"
   ]
  },
  {
   "cell_type": "code",
   "execution_count": 40,
   "metadata": {},
   "outputs": [
    {
     "data": {
      "text/html": [
       "<div>\n",
       "<style scoped>\n",
       "    .dataframe tbody tr th:only-of-type {\n",
       "        vertical-align: middle;\n",
       "    }\n",
       "\n",
       "    .dataframe tbody tr th {\n",
       "        vertical-align: top;\n",
       "    }\n",
       "\n",
       "    .dataframe thead th {\n",
       "        text-align: right;\n",
       "    }\n",
       "</style>\n",
       "<table border=\"1\" class=\"dataframe\">\n",
       "  <thead>\n",
       "    <tr style=\"text-align: right;\">\n",
       "      <th></th>\n",
       "      <th>children</th>\n",
       "      <th>days_employed</th>\n",
       "      <th>dob_years</th>\n",
       "      <th>education</th>\n",
       "      <th>education_id</th>\n",
       "      <th>family_status</th>\n",
       "      <th>family_status_id</th>\n",
       "      <th>gender</th>\n",
       "      <th>income_type</th>\n",
       "      <th>debt</th>\n",
       "      <th>total_income</th>\n",
       "      <th>purpose</th>\n",
       "      <th>age_group</th>\n",
       "    </tr>\n",
       "  </thead>\n",
       "  <tbody>\n",
       "    <tr>\n",
       "      <td>0</td>\n",
       "      <td>1</td>\n",
       "      <td>8437</td>\n",
       "      <td>42</td>\n",
       "      <td>высшее</td>\n",
       "      <td>0</td>\n",
       "      <td>женат / замужем</td>\n",
       "      <td>0</td>\n",
       "      <td>F</td>\n",
       "      <td>сотрудник</td>\n",
       "      <td>0</td>\n",
       "      <td>253875.639453</td>\n",
       "      <td>покупка жилья</td>\n",
       "      <td>35-59</td>\n",
       "    </tr>\n",
       "    <tr>\n",
       "      <td>1</td>\n",
       "      <td>1</td>\n",
       "      <td>4024</td>\n",
       "      <td>36</td>\n",
       "      <td>среднее</td>\n",
       "      <td>1</td>\n",
       "      <td>женат / замужем</td>\n",
       "      <td>0</td>\n",
       "      <td>F</td>\n",
       "      <td>сотрудник</td>\n",
       "      <td>0</td>\n",
       "      <td>112080.014102</td>\n",
       "      <td>приобретение автомобиля</td>\n",
       "      <td>35-59</td>\n",
       "    </tr>\n",
       "    <tr>\n",
       "      <td>2</td>\n",
       "      <td>0</td>\n",
       "      <td>5623</td>\n",
       "      <td>33</td>\n",
       "      <td>Среднее</td>\n",
       "      <td>1</td>\n",
       "      <td>женат / замужем</td>\n",
       "      <td>0</td>\n",
       "      <td>M</td>\n",
       "      <td>сотрудник</td>\n",
       "      <td>0</td>\n",
       "      <td>145885.952297</td>\n",
       "      <td>покупка жилья</td>\n",
       "      <td>25-34</td>\n",
       "    </tr>\n",
       "    <tr>\n",
       "      <td>3</td>\n",
       "      <td>3</td>\n",
       "      <td>4124</td>\n",
       "      <td>32</td>\n",
       "      <td>среднее</td>\n",
       "      <td>1</td>\n",
       "      <td>женат / замужем</td>\n",
       "      <td>0</td>\n",
       "      <td>M</td>\n",
       "      <td>сотрудник</td>\n",
       "      <td>0</td>\n",
       "      <td>267628.550329</td>\n",
       "      <td>дополнительное образование</td>\n",
       "      <td>25-34</td>\n",
       "    </tr>\n",
       "    <tr>\n",
       "      <td>4</td>\n",
       "      <td>0</td>\n",
       "      <td>14177</td>\n",
       "      <td>53</td>\n",
       "      <td>среднее</td>\n",
       "      <td>1</td>\n",
       "      <td>гражданский брак</td>\n",
       "      <td>1</td>\n",
       "      <td>F</td>\n",
       "      <td>пенсионер</td>\n",
       "      <td>0</td>\n",
       "      <td>158616.077870</td>\n",
       "      <td>сыграть свадьбу</td>\n",
       "      <td>35-59</td>\n",
       "    </tr>\n",
       "    <tr>\n",
       "      <td>5</td>\n",
       "      <td>0</td>\n",
       "      <td>926</td>\n",
       "      <td>27</td>\n",
       "      <td>высшее</td>\n",
       "      <td>0</td>\n",
       "      <td>гражданский брак</td>\n",
       "      <td>1</td>\n",
       "      <td>M</td>\n",
       "      <td>компаньон</td>\n",
       "      <td>0</td>\n",
       "      <td>255763.565419</td>\n",
       "      <td>покупка жилья</td>\n",
       "      <td>25-34</td>\n",
       "    </tr>\n",
       "    <tr>\n",
       "      <td>6</td>\n",
       "      <td>0</td>\n",
       "      <td>2879</td>\n",
       "      <td>43</td>\n",
       "      <td>высшее</td>\n",
       "      <td>0</td>\n",
       "      <td>женат / замужем</td>\n",
       "      <td>0</td>\n",
       "      <td>F</td>\n",
       "      <td>компаньон</td>\n",
       "      <td>0</td>\n",
       "      <td>240525.971920</td>\n",
       "      <td>операции с жильем</td>\n",
       "      <td>35-59</td>\n",
       "    </tr>\n",
       "    <tr>\n",
       "      <td>7</td>\n",
       "      <td>0</td>\n",
       "      <td>152</td>\n",
       "      <td>50</td>\n",
       "      <td>СРЕДНЕЕ</td>\n",
       "      <td>1</td>\n",
       "      <td>женат / замужем</td>\n",
       "      <td>0</td>\n",
       "      <td>M</td>\n",
       "      <td>сотрудник</td>\n",
       "      <td>0</td>\n",
       "      <td>135823.934197</td>\n",
       "      <td>образование</td>\n",
       "      <td>35-59</td>\n",
       "    </tr>\n",
       "    <tr>\n",
       "      <td>8</td>\n",
       "      <td>2</td>\n",
       "      <td>6929</td>\n",
       "      <td>35</td>\n",
       "      <td>ВЫСШЕЕ</td>\n",
       "      <td>0</td>\n",
       "      <td>гражданский брак</td>\n",
       "      <td>1</td>\n",
       "      <td>F</td>\n",
       "      <td>сотрудник</td>\n",
       "      <td>0</td>\n",
       "      <td>95856.832424</td>\n",
       "      <td>на проведение свадьбы</td>\n",
       "      <td>35-59</td>\n",
       "    </tr>\n",
       "    <tr>\n",
       "      <td>9</td>\n",
       "      <td>0</td>\n",
       "      <td>2188</td>\n",
       "      <td>41</td>\n",
       "      <td>среднее</td>\n",
       "      <td>1</td>\n",
       "      <td>женат / замужем</td>\n",
       "      <td>0</td>\n",
       "      <td>M</td>\n",
       "      <td>сотрудник</td>\n",
       "      <td>0</td>\n",
       "      <td>144425.938277</td>\n",
       "      <td>покупка жилья для семьи</td>\n",
       "      <td>35-59</td>\n",
       "    </tr>\n",
       "  </tbody>\n",
       "</table>\n",
       "</div>"
      ],
      "text/plain": [
       "   children  days_employed  dob_years education  education_id  \\\n",
       "0         1           8437         42    высшее             0   \n",
       "1         1           4024         36   среднее             1   \n",
       "2         0           5623         33   Среднее             1   \n",
       "3         3           4124         32   среднее             1   \n",
       "4         0          14177         53   среднее             1   \n",
       "5         0            926         27    высшее             0   \n",
       "6         0           2879         43    высшее             0   \n",
       "7         0            152         50   СРЕДНЕЕ             1   \n",
       "8         2           6929         35    ВЫСШЕЕ             0   \n",
       "9         0           2188         41   среднее             1   \n",
       "\n",
       "      family_status  family_status_id gender income_type  debt   total_income  \\\n",
       "0   женат / замужем                 0      F   сотрудник     0  253875.639453   \n",
       "1   женат / замужем                 0      F   сотрудник     0  112080.014102   \n",
       "2   женат / замужем                 0      M   сотрудник     0  145885.952297   \n",
       "3   женат / замужем                 0      M   сотрудник     0  267628.550329   \n",
       "4  гражданский брак                 1      F   пенсионер     0  158616.077870   \n",
       "5  гражданский брак                 1      M   компаньон     0  255763.565419   \n",
       "6   женат / замужем                 0      F   компаньон     0  240525.971920   \n",
       "7   женат / замужем                 0      M   сотрудник     0  135823.934197   \n",
       "8  гражданский брак                 1      F   сотрудник     0   95856.832424   \n",
       "9   женат / замужем                 0      M   сотрудник     0  144425.938277   \n",
       "\n",
       "                      purpose age_group  \n",
       "0               покупка жилья     35-59  \n",
       "1     приобретение автомобиля     35-59  \n",
       "2               покупка жилья     25-34  \n",
       "3  дополнительное образование     25-34  \n",
       "4             сыграть свадьбу     35-59  \n",
       "5               покупка жилья     25-34  \n",
       "6           операции с жильем     35-59  \n",
       "7                 образование     35-59  \n",
       "8       на проведение свадьбы     35-59  \n",
       "9     покупка жилья для семьи     35-59  "
      ]
     },
     "execution_count": 40,
     "metadata": {},
     "output_type": "execute_result"
    }
   ],
   "source": [
    "df.head(10)"
   ]
  },
  {
   "cell_type": "markdown",
   "metadata": {},
   "source": [
    "Данные в столбцах с информацией о трудовом стаже в днях и возрасте заёмщиков, были изменены на целочисленные значения. "
   ]
  },
  {
   "cell_type": "markdown",
   "metadata": {},
   "source": [
    "### Обработка дубликатов"
   ]
  },
  {
   "cell_type": "markdown",
   "metadata": {},
   "source": [
    "Перед поиском дубликатов в данных таблицы приведем все символы в столбцах, содержащих данные строкового типа, к нижнему регистру:"
   ]
  },
  {
   "cell_type": "code",
   "execution_count": 41,
   "metadata": {},
   "outputs": [],
   "source": [
    "df['education'] = df['education'].str.lower()\n",
    "\n",
    "df['family_status'] = df['family_status'].str.lower()\n",
    "\n",
    "df['income_type'] = df['income_type'].str.lower()\n",
    "\n",
    "df['purpose'] = df['purpose'].str.lower()"
   ]
  },
  {
   "cell_type": "markdown",
   "metadata": {},
   "source": [
    "Посчитаем суммарное количество дубликатов в датафрейме:"
   ]
  },
  {
   "cell_type": "code",
   "execution_count": 42,
   "metadata": {},
   "outputs": [
    {
     "data": {
      "text/plain": [
       "71"
      ]
     },
     "execution_count": 42,
     "metadata": {},
     "output_type": "execute_result"
    }
   ],
   "source": [
    "df.duplicated().sum()"
   ]
  },
  {
   "cell_type": "markdown",
   "metadata": {},
   "source": [
    "Выведем строки, содержащие одинаковую информацию:"
   ]
  },
  {
   "cell_type": "code",
   "execution_count": 43,
   "metadata": {},
   "outputs": [
    {
     "data": {
      "text/html": [
       "<div>\n",
       "<style scoped>\n",
       "    .dataframe tbody tr th:only-of-type {\n",
       "        vertical-align: middle;\n",
       "    }\n",
       "\n",
       "    .dataframe tbody tr th {\n",
       "        vertical-align: top;\n",
       "    }\n",
       "\n",
       "    .dataframe thead th {\n",
       "        text-align: right;\n",
       "    }\n",
       "</style>\n",
       "<table border=\"1\" class=\"dataframe\">\n",
       "  <thead>\n",
       "    <tr style=\"text-align: right;\">\n",
       "      <th></th>\n",
       "      <th>children</th>\n",
       "      <th>days_employed</th>\n",
       "      <th>dob_years</th>\n",
       "      <th>education</th>\n",
       "      <th>education_id</th>\n",
       "      <th>family_status</th>\n",
       "      <th>family_status_id</th>\n",
       "      <th>gender</th>\n",
       "      <th>income_type</th>\n",
       "      <th>debt</th>\n",
       "      <th>total_income</th>\n",
       "      <th>purpose</th>\n",
       "      <th>age_group</th>\n",
       "    </tr>\n",
       "  </thead>\n",
       "  <tbody>\n",
       "    <tr>\n",
       "      <td>20297</td>\n",
       "      <td>1</td>\n",
       "      <td>745</td>\n",
       "      <td>23</td>\n",
       "      <td>среднее</td>\n",
       "      <td>1</td>\n",
       "      <td>гражданский брак</td>\n",
       "      <td>1</td>\n",
       "      <td>F</td>\n",
       "      <td>сотрудник</td>\n",
       "      <td>0</td>\n",
       "      <td>142594.396847</td>\n",
       "      <td>сыграть свадьбу</td>\n",
       "      <td>18-24</td>\n",
       "    </tr>\n",
       "    <tr>\n",
       "      <td>19321</td>\n",
       "      <td>0</td>\n",
       "      <td>745</td>\n",
       "      <td>23</td>\n",
       "      <td>среднее</td>\n",
       "      <td>1</td>\n",
       "      <td>не женат / не замужем</td>\n",
       "      <td>4</td>\n",
       "      <td>F</td>\n",
       "      <td>сотрудник</td>\n",
       "      <td>0</td>\n",
       "      <td>142594.396847</td>\n",
       "      <td>сделка с подержанным автомобилем</td>\n",
       "      <td>18-24</td>\n",
       "    </tr>\n",
       "    <tr>\n",
       "      <td>13878</td>\n",
       "      <td>1</td>\n",
       "      <td>1292</td>\n",
       "      <td>31</td>\n",
       "      <td>среднее</td>\n",
       "      <td>1</td>\n",
       "      <td>женат / замужем</td>\n",
       "      <td>0</td>\n",
       "      <td>F</td>\n",
       "      <td>компаньон</td>\n",
       "      <td>0</td>\n",
       "      <td>172357.950966</td>\n",
       "      <td>покупка жилья</td>\n",
       "      <td>25-34</td>\n",
       "    </tr>\n",
       "    <tr>\n",
       "      <td>21281</td>\n",
       "      <td>1</td>\n",
       "      <td>1292</td>\n",
       "      <td>30</td>\n",
       "      <td>высшее</td>\n",
       "      <td>0</td>\n",
       "      <td>женат / замужем</td>\n",
       "      <td>0</td>\n",
       "      <td>F</td>\n",
       "      <td>сотрудник</td>\n",
       "      <td>0</td>\n",
       "      <td>142594.396847</td>\n",
       "      <td>покупка коммерческой недвижимости</td>\n",
       "      <td>25-34</td>\n",
       "    </tr>\n",
       "    <tr>\n",
       "      <td>4182</td>\n",
       "      <td>1</td>\n",
       "      <td>1292</td>\n",
       "      <td>34</td>\n",
       "      <td>высшее</td>\n",
       "      <td>0</td>\n",
       "      <td>гражданский брак</td>\n",
       "      <td>1</td>\n",
       "      <td>F</td>\n",
       "      <td>сотрудник</td>\n",
       "      <td>0</td>\n",
       "      <td>142594.396847</td>\n",
       "      <td>свадьба</td>\n",
       "      <td>25-34</td>\n",
       "    </tr>\n",
       "    <tr>\n",
       "      <td>...</td>\n",
       "      <td>...</td>\n",
       "      <td>...</td>\n",
       "      <td>...</td>\n",
       "      <td>...</td>\n",
       "      <td>...</td>\n",
       "      <td>...</td>\n",
       "      <td>...</td>\n",
       "      <td>...</td>\n",
       "      <td>...</td>\n",
       "      <td>...</td>\n",
       "      <td>...</td>\n",
       "      <td>...</td>\n",
       "      <td>...</td>\n",
       "    </tr>\n",
       "    <tr>\n",
       "      <td>10994</td>\n",
       "      <td>0</td>\n",
       "      <td>14816</td>\n",
       "      <td>62</td>\n",
       "      <td>среднее</td>\n",
       "      <td>1</td>\n",
       "      <td>женат / замужем</td>\n",
       "      <td>0</td>\n",
       "      <td>F</td>\n",
       "      <td>пенсионер</td>\n",
       "      <td>0</td>\n",
       "      <td>118514.486412</td>\n",
       "      <td>ремонт жилью</td>\n",
       "      <td>60-75</td>\n",
       "    </tr>\n",
       "    <tr>\n",
       "      <td>17338</td>\n",
       "      <td>0</td>\n",
       "      <td>14816</td>\n",
       "      <td>64</td>\n",
       "      <td>среднее</td>\n",
       "      <td>1</td>\n",
       "      <td>гражданский брак</td>\n",
       "      <td>1</td>\n",
       "      <td>F</td>\n",
       "      <td>пенсионер</td>\n",
       "      <td>0</td>\n",
       "      <td>118514.486412</td>\n",
       "      <td>сыграть свадьбу</td>\n",
       "      <td>60-75</td>\n",
       "    </tr>\n",
       "    <tr>\n",
       "      <td>18428</td>\n",
       "      <td>0</td>\n",
       "      <td>14816</td>\n",
       "      <td>64</td>\n",
       "      <td>среднее</td>\n",
       "      <td>1</td>\n",
       "      <td>женат / замужем</td>\n",
       "      <td>0</td>\n",
       "      <td>F</td>\n",
       "      <td>пенсионер</td>\n",
       "      <td>0</td>\n",
       "      <td>118514.486412</td>\n",
       "      <td>жилье</td>\n",
       "      <td>60-75</td>\n",
       "    </tr>\n",
       "    <tr>\n",
       "      <td>9528</td>\n",
       "      <td>0</td>\n",
       "      <td>14816</td>\n",
       "      <td>66</td>\n",
       "      <td>среднее</td>\n",
       "      <td>1</td>\n",
       "      <td>вдовец / вдова</td>\n",
       "      <td>2</td>\n",
       "      <td>F</td>\n",
       "      <td>пенсионер</td>\n",
       "      <td>0</td>\n",
       "      <td>118514.486412</td>\n",
       "      <td>операции со своей недвижимостью</td>\n",
       "      <td>60-75</td>\n",
       "    </tr>\n",
       "    <tr>\n",
       "      <td>19688</td>\n",
       "      <td>0</td>\n",
       "      <td>14816</td>\n",
       "      <td>61</td>\n",
       "      <td>среднее</td>\n",
       "      <td>1</td>\n",
       "      <td>женат / замужем</td>\n",
       "      <td>0</td>\n",
       "      <td>F</td>\n",
       "      <td>пенсионер</td>\n",
       "      <td>0</td>\n",
       "      <td>118514.486412</td>\n",
       "      <td>операции с недвижимостью</td>\n",
       "      <td>60-75</td>\n",
       "    </tr>\n",
       "  </tbody>\n",
       "</table>\n",
       "<p>71 rows × 13 columns</p>\n",
       "</div>"
      ],
      "text/plain": [
       "       children  days_employed  dob_years education  education_id  \\\n",
       "20297         1            745         23   среднее             1   \n",
       "19321         0            745         23   среднее             1   \n",
       "13878         1           1292         31   среднее             1   \n",
       "21281         1           1292         30    высшее             0   \n",
       "4182          1           1292         34    высшее             0   \n",
       "...         ...            ...        ...       ...           ...   \n",
       "10994         0          14816         62   среднее             1   \n",
       "17338         0          14816         64   среднее             1   \n",
       "18428         0          14816         64   среднее             1   \n",
       "9528          0          14816         66   среднее             1   \n",
       "19688         0          14816         61   среднее             1   \n",
       "\n",
       "               family_status  family_status_id gender income_type  debt  \\\n",
       "20297       гражданский брак                 1      F   сотрудник     0   \n",
       "19321  не женат / не замужем                 4      F   сотрудник     0   \n",
       "13878        женат / замужем                 0      F   компаньон     0   \n",
       "21281        женат / замужем                 0      F   сотрудник     0   \n",
       "4182        гражданский брак                 1      F   сотрудник     0   \n",
       "...                      ...               ...    ...         ...   ...   \n",
       "10994        женат / замужем                 0      F   пенсионер     0   \n",
       "17338       гражданский брак                 1      F   пенсионер     0   \n",
       "18428        женат / замужем                 0      F   пенсионер     0   \n",
       "9528          вдовец / вдова                 2      F   пенсионер     0   \n",
       "19688        женат / замужем                 0      F   пенсионер     0   \n",
       "\n",
       "        total_income                            purpose age_group  \n",
       "20297  142594.396847                    сыграть свадьбу     18-24  \n",
       "19321  142594.396847   сделка с подержанным автомобилем     18-24  \n",
       "13878  172357.950966                      покупка жилья     25-34  \n",
       "21281  142594.396847  покупка коммерческой недвижимости     25-34  \n",
       "4182   142594.396847                            свадьба     25-34  \n",
       "...              ...                                ...       ...  \n",
       "10994  118514.486412                       ремонт жилью     60-75  \n",
       "17338  118514.486412                    сыграть свадьбу     60-75  \n",
       "18428  118514.486412                              жилье     60-75  \n",
       "9528   118514.486412    операции со своей недвижимостью     60-75  \n",
       "19688  118514.486412           операции с недвижимостью     60-75  \n",
       "\n",
       "[71 rows x 13 columns]"
      ]
     },
     "execution_count": 43,
     "metadata": {},
     "output_type": "execute_result"
    }
   ],
   "source": [
    "df[df[['children', 'days_employed', 'dob_years', 'education', 'family_status', 'family_status_id', 'gender', 'income_type', 'debt', 'total_income', 'purpose', 'age_group']].duplicated() == True].sort_values(by = 'days_employed')"
   ]
  },
  {
   "cell_type": "markdown",
   "metadata": {},
   "source": [
    "Удалим дубликаты:"
   ]
  },
  {
   "cell_type": "code",
   "execution_count": 44,
   "metadata": {},
   "outputs": [],
   "source": [
    "df = df.drop_duplicates().reset_index(drop = True)"
   ]
  },
  {
   "cell_type": "markdown",
   "metadata": {},
   "source": [
    "Проверим, исчезли ли дубликаты:"
   ]
  },
  {
   "cell_type": "code",
   "execution_count": 45,
   "metadata": {},
   "outputs": [
    {
     "data": {
      "text/plain": [
       "0"
      ]
     },
     "execution_count": 45,
     "metadata": {},
     "output_type": "execute_result"
    }
   ],
   "source": [
    "df.duplicated().sum()"
   ]
  },
  {
   "cell_type": "markdown",
   "metadata": {},
   "source": [
    "Все дубликаты удалены."
   ]
  },
  {
   "cell_type": "markdown",
   "metadata": {},
   "source": [
    "### Лемматизация"
   ]
  },
  {
   "cell_type": "markdown",
   "metadata": {},
   "source": [
    "Выведем уникальные значения списка `purpose`, содержащий цели взятия кредита:"
   ]
  },
  {
   "cell_type": "code",
   "execution_count": 46,
   "metadata": {},
   "outputs": [
    {
     "data": {
      "text/plain": [
       "свадьба                                   791\n",
       "на проведение свадьбы                     768\n",
       "сыграть свадьбу                           765\n",
       "операции с недвижимостью                  675\n",
       "покупка коммерческой недвижимости         661\n",
       "операции с жильем                         652\n",
       "покупка жилья для сдачи                   651\n",
       "операции с коммерческой недвижимостью     650\n",
       "жилье                                     646\n",
       "покупка жилья                             646\n",
       "покупка жилья для семьи                   638\n",
       "строительство собственной недвижимости    635\n",
       "недвижимость                              633\n",
       "операции со своей недвижимостью           627\n",
       "строительство жилой недвижимости          624\n",
       "покупка недвижимости                      621\n",
       "покупка своего жилья                      620\n",
       "строительство недвижимости                619\n",
       "ремонт жилью                              607\n",
       "покупка жилой недвижимости                606\n",
       "на покупку своего автомобиля              505\n",
       "заняться высшим образованием              496\n",
       "автомобиль                                494\n",
       "сделка с подержанным автомобилем          486\n",
       "автомобили                                478\n",
       "свой автомобиль                           478\n",
       "на покупку подержанного автомобиля        478\n",
       "на покупку автомобиля                     471\n",
       "приобретение автомобиля                   461\n",
       "дополнительное образование                460\n",
       "сделка с автомобилем                      455\n",
       "высшее образование                        452\n",
       "образование                               447\n",
       "получение дополнительного образования     446\n",
       "получение образования                     442\n",
       "профильное образование                    436\n",
       "получение высшего образования             426\n",
       "заняться образованием                     408\n",
       "Name: purpose, dtype: int64"
      ]
     },
     "execution_count": 46,
     "metadata": {},
     "output_type": "execute_result"
    }
   ],
   "source": [
    "df['purpose'].value_counts()"
   ]
  },
  {
   "cell_type": "markdown",
   "metadata": {},
   "source": [
    "Видим, что многие цели взятия кредита по смыслу дублируют друг друга. Поэтому выделим леммы в значениях столбца `purpose` для дальнейшей категоризации данных по целям выдачи кредита. \n",
    "\n",
    "Выделим леммы и выведем их в виде словаря, элементы которого расположены в порядке уменьшения количества упоминания. "
   ]
  },
  {
   "cell_type": "code",
   "execution_count": 47,
   "metadata": {},
   "outputs": [
    {
     "data": {
      "text/plain": [
       "[(' ', 33570),\n",
       " ('\\n', 21454),\n",
       " ('недвижимость', 6351),\n",
       " ('покупка', 5897),\n",
       " ('жилье', 4460),\n",
       " ('автомобиль', 4306),\n",
       " ('образование', 4013),\n",
       " ('с', 2918),\n",
       " ('операция', 2604),\n",
       " ('свадьба', 2324),\n",
       " ('свой', 2230),\n",
       " ('на', 2222),\n",
       " ('строительство', 1878),\n",
       " ('высокий', 1374),\n",
       " ('получение', 1314),\n",
       " ('коммерческий', 1311),\n",
       " ('для', 1289),\n",
       " ('жилой', 1230),\n",
       " ('сделка', 941),\n",
       " ('дополнительный', 906),\n",
       " ('заниматься', 904),\n",
       " ('проведение', 768),\n",
       " ('сыграть', 765),\n",
       " ('сдача', 651),\n",
       " ('семья', 638),\n",
       " ('собственный', 635),\n",
       " ('со', 627),\n",
       " ('ремонт', 607),\n",
       " ('подержанный', 486),\n",
       " ('подержать', 478),\n",
       " ('приобретение', 461),\n",
       " ('профильный', 436)]"
      ]
     },
     "execution_count": 47,
     "metadata": {},
     "output_type": "execute_result"
    }
   ],
   "source": [
    "import pandas as pd\n",
    "from pymystem3 import Mystem\n",
    "m = Mystem() \n",
    "from collections import Counter\n",
    "\n",
    "purposes = df['purpose']\n",
    "purpose_unique = []\n",
    "\n",
    "for purpose in purposes:\n",
    "    \n",
    "    lemma = m.lemmatize(purpose)\n",
    "    purpose_unique.append(lemma)\n",
    "    \n",
    "result = []    \n",
    "for i in range (len(purpose_unique)):\n",
    "    for j in range (len(purpose_unique[i])):\n",
    "        result.append(purpose_unique[i][j])\n",
    "    \n",
    "Counter(result).most_common()"
   ]
  },
  {
   "cell_type": "markdown",
   "metadata": {},
   "source": [
    "Выберем из лемматизированного словаря 8 целей, которые встречаются чаще других, при этом пробелы, служебные части речи, местоимения учитывать не будем. Тогда получим следующий список:"
   ]
  },
  {
   "cell_type": "code",
   "execution_count": 48,
   "metadata": {},
   "outputs": [],
   "source": [
    "new_purpose = ['недвижимость', 'покупка', 'жилье', 'автомобиль', 'образование', 'операция', 'свадьба', 'строительство', 'коммерческий']"
   ]
  },
  {
   "cell_type": "markdown",
   "metadata": {},
   "source": [
    "Существует множество целей взятия кредита, но все их можно разделить на две категории: потребительский кредит и кредит на развитие. Первая категория кредитов направлена на удовлетворение потребностей физических лиц, вторая - вложение денег в оборот для получения дополнительной прибыли. \n",
    "\n",
    "Выделим основные виды потребительских кредитов, встречающихся в датафрейме, и обозначим новые категории для каждой из целей:\n",
    "1) на приобретение, строительство и других операций с недвижимостью - общее название - `жилищные кредиты`;\n",
    "\n",
    "2) займы на покупку авто - общее название - `автокредиты`;\n",
    "\n",
    "3) кредиты на образование - общее название - `обучение`;\n",
    "\n",
    "4) кредиты на проведение свадеб - общее название - `свадьба`;\n",
    "\n",
    "Кредиты на операции с коммерческой недвижимостью обозначим как `кредит на развитие`. Полученные средства чаще направляются на операции, предполагающие конечную прибыль. Эта прибыль, в большинстве случаев, и должна служить источником для погашения займа.\n",
    "\n",
    "Тогда получим следующий список целей:"
   ]
  },
  {
   "cell_type": "code",
   "execution_count": 49,
   "metadata": {},
   "outputs": [],
   "source": [
    "new_purpose = ['жилищный кредит', 'автокредит', 'обучение', 'свадьба', 'кредит на развитие']"
   ]
  },
  {
   "cell_type": "markdown",
   "metadata": {},
   "source": [
    "**Вывод**\n",
    "\n",
    "С помощью лемматизации были выделены основные цели в значениях столбца `purpose` для дальнейшей категоризации заёмщиков."
   ]
  },
  {
   "cell_type": "markdown",
   "metadata": {},
   "source": [
    "### Категоризация данных"
   ]
  },
  {
   "cell_type": "markdown",
   "metadata": {},
   "source": [
    "Для ответы на вопросы заказчика необходимо категоризовать данные.\n",
    "\n",
    "1. Категоризация данных по целям выдачи кредита.\n",
    "\n",
    "Создадим функцию, с помощью которой распределим заёмщиков по целям, выделенным выше:\n"
   ]
  },
  {
   "cell_type": "code",
   "execution_count": 50,
   "metadata": {},
   "outputs": [
    {
     "data": {
      "text/html": [
       "<div>\n",
       "<style scoped>\n",
       "    .dataframe tbody tr th:only-of-type {\n",
       "        vertical-align: middle;\n",
       "    }\n",
       "\n",
       "    .dataframe tbody tr th {\n",
       "        vertical-align: top;\n",
       "    }\n",
       "\n",
       "    .dataframe thead th {\n",
       "        text-align: right;\n",
       "    }\n",
       "</style>\n",
       "<table border=\"1\" class=\"dataframe\">\n",
       "  <thead>\n",
       "    <tr style=\"text-align: right;\">\n",
       "      <th></th>\n",
       "      <th>children</th>\n",
       "      <th>days_employed</th>\n",
       "      <th>dob_years</th>\n",
       "      <th>education</th>\n",
       "      <th>education_id</th>\n",
       "      <th>family_status</th>\n",
       "      <th>family_status_id</th>\n",
       "      <th>gender</th>\n",
       "      <th>income_type</th>\n",
       "      <th>debt</th>\n",
       "      <th>total_income</th>\n",
       "      <th>purpose</th>\n",
       "      <th>age_group</th>\n",
       "      <th>purpose_group</th>\n",
       "    </tr>\n",
       "  </thead>\n",
       "  <tbody>\n",
       "    <tr>\n",
       "      <td>0</td>\n",
       "      <td>1</td>\n",
       "      <td>8437</td>\n",
       "      <td>42</td>\n",
       "      <td>высшее</td>\n",
       "      <td>0</td>\n",
       "      <td>женат / замужем</td>\n",
       "      <td>0</td>\n",
       "      <td>F</td>\n",
       "      <td>сотрудник</td>\n",
       "      <td>0</td>\n",
       "      <td>253875.639453</td>\n",
       "      <td>покупка жилья</td>\n",
       "      <td>35-59</td>\n",
       "      <td>жилищный кредит</td>\n",
       "    </tr>\n",
       "    <tr>\n",
       "      <td>1</td>\n",
       "      <td>1</td>\n",
       "      <td>4024</td>\n",
       "      <td>36</td>\n",
       "      <td>среднее</td>\n",
       "      <td>1</td>\n",
       "      <td>женат / замужем</td>\n",
       "      <td>0</td>\n",
       "      <td>F</td>\n",
       "      <td>сотрудник</td>\n",
       "      <td>0</td>\n",
       "      <td>112080.014102</td>\n",
       "      <td>приобретение автомобиля</td>\n",
       "      <td>35-59</td>\n",
       "      <td>автокредит</td>\n",
       "    </tr>\n",
       "    <tr>\n",
       "      <td>2</td>\n",
       "      <td>0</td>\n",
       "      <td>5623</td>\n",
       "      <td>33</td>\n",
       "      <td>среднее</td>\n",
       "      <td>1</td>\n",
       "      <td>женат / замужем</td>\n",
       "      <td>0</td>\n",
       "      <td>M</td>\n",
       "      <td>сотрудник</td>\n",
       "      <td>0</td>\n",
       "      <td>145885.952297</td>\n",
       "      <td>покупка жилья</td>\n",
       "      <td>25-34</td>\n",
       "      <td>жилищный кредит</td>\n",
       "    </tr>\n",
       "    <tr>\n",
       "      <td>3</td>\n",
       "      <td>3</td>\n",
       "      <td>4124</td>\n",
       "      <td>32</td>\n",
       "      <td>среднее</td>\n",
       "      <td>1</td>\n",
       "      <td>женат / замужем</td>\n",
       "      <td>0</td>\n",
       "      <td>M</td>\n",
       "      <td>сотрудник</td>\n",
       "      <td>0</td>\n",
       "      <td>267628.550329</td>\n",
       "      <td>дополнительное образование</td>\n",
       "      <td>25-34</td>\n",
       "      <td>обучение</td>\n",
       "    </tr>\n",
       "    <tr>\n",
       "      <td>4</td>\n",
       "      <td>0</td>\n",
       "      <td>14177</td>\n",
       "      <td>53</td>\n",
       "      <td>среднее</td>\n",
       "      <td>1</td>\n",
       "      <td>гражданский брак</td>\n",
       "      <td>1</td>\n",
       "      <td>F</td>\n",
       "      <td>пенсионер</td>\n",
       "      <td>0</td>\n",
       "      <td>158616.077870</td>\n",
       "      <td>сыграть свадьбу</td>\n",
       "      <td>35-59</td>\n",
       "      <td>свадьба</td>\n",
       "    </tr>\n",
       "    <tr>\n",
       "      <td>5</td>\n",
       "      <td>0</td>\n",
       "      <td>926</td>\n",
       "      <td>27</td>\n",
       "      <td>высшее</td>\n",
       "      <td>0</td>\n",
       "      <td>гражданский брак</td>\n",
       "      <td>1</td>\n",
       "      <td>M</td>\n",
       "      <td>компаньон</td>\n",
       "      <td>0</td>\n",
       "      <td>255763.565419</td>\n",
       "      <td>покупка жилья</td>\n",
       "      <td>25-34</td>\n",
       "      <td>жилищный кредит</td>\n",
       "    </tr>\n",
       "    <tr>\n",
       "      <td>6</td>\n",
       "      <td>0</td>\n",
       "      <td>2879</td>\n",
       "      <td>43</td>\n",
       "      <td>высшее</td>\n",
       "      <td>0</td>\n",
       "      <td>женат / замужем</td>\n",
       "      <td>0</td>\n",
       "      <td>F</td>\n",
       "      <td>компаньон</td>\n",
       "      <td>0</td>\n",
       "      <td>240525.971920</td>\n",
       "      <td>операции с жильем</td>\n",
       "      <td>35-59</td>\n",
       "      <td>жилищный кредит</td>\n",
       "    </tr>\n",
       "    <tr>\n",
       "      <td>7</td>\n",
       "      <td>0</td>\n",
       "      <td>152</td>\n",
       "      <td>50</td>\n",
       "      <td>среднее</td>\n",
       "      <td>1</td>\n",
       "      <td>женат / замужем</td>\n",
       "      <td>0</td>\n",
       "      <td>M</td>\n",
       "      <td>сотрудник</td>\n",
       "      <td>0</td>\n",
       "      <td>135823.934197</td>\n",
       "      <td>образование</td>\n",
       "      <td>35-59</td>\n",
       "      <td>обучение</td>\n",
       "    </tr>\n",
       "    <tr>\n",
       "      <td>8</td>\n",
       "      <td>2</td>\n",
       "      <td>6929</td>\n",
       "      <td>35</td>\n",
       "      <td>высшее</td>\n",
       "      <td>0</td>\n",
       "      <td>гражданский брак</td>\n",
       "      <td>1</td>\n",
       "      <td>F</td>\n",
       "      <td>сотрудник</td>\n",
       "      <td>0</td>\n",
       "      <td>95856.832424</td>\n",
       "      <td>на проведение свадьбы</td>\n",
       "      <td>35-59</td>\n",
       "      <td>свадьба</td>\n",
       "    </tr>\n",
       "    <tr>\n",
       "      <td>9</td>\n",
       "      <td>0</td>\n",
       "      <td>2188</td>\n",
       "      <td>41</td>\n",
       "      <td>среднее</td>\n",
       "      <td>1</td>\n",
       "      <td>женат / замужем</td>\n",
       "      <td>0</td>\n",
       "      <td>M</td>\n",
       "      <td>сотрудник</td>\n",
       "      <td>0</td>\n",
       "      <td>144425.938277</td>\n",
       "      <td>покупка жилья для семьи</td>\n",
       "      <td>35-59</td>\n",
       "      <td>жилищный кредит</td>\n",
       "    </tr>\n",
       "  </tbody>\n",
       "</table>\n",
       "</div>"
      ],
      "text/plain": [
       "   children  days_employed  dob_years education  education_id  \\\n",
       "0         1           8437         42    высшее             0   \n",
       "1         1           4024         36   среднее             1   \n",
       "2         0           5623         33   среднее             1   \n",
       "3         3           4124         32   среднее             1   \n",
       "4         0          14177         53   среднее             1   \n",
       "5         0            926         27    высшее             0   \n",
       "6         0           2879         43    высшее             0   \n",
       "7         0            152         50   среднее             1   \n",
       "8         2           6929         35    высшее             0   \n",
       "9         0           2188         41   среднее             1   \n",
       "\n",
       "      family_status  family_status_id gender income_type  debt   total_income  \\\n",
       "0   женат / замужем                 0      F   сотрудник     0  253875.639453   \n",
       "1   женат / замужем                 0      F   сотрудник     0  112080.014102   \n",
       "2   женат / замужем                 0      M   сотрудник     0  145885.952297   \n",
       "3   женат / замужем                 0      M   сотрудник     0  267628.550329   \n",
       "4  гражданский брак                 1      F   пенсионер     0  158616.077870   \n",
       "5  гражданский брак                 1      M   компаньон     0  255763.565419   \n",
       "6   женат / замужем                 0      F   компаньон     0  240525.971920   \n",
       "7   женат / замужем                 0      M   сотрудник     0  135823.934197   \n",
       "8  гражданский брак                 1      F   сотрудник     0   95856.832424   \n",
       "9   женат / замужем                 0      M   сотрудник     0  144425.938277   \n",
       "\n",
       "                      purpose age_group    purpose_group  \n",
       "0               покупка жилья     35-59  жилищный кредит  \n",
       "1     приобретение автомобиля     35-59       автокредит  \n",
       "2               покупка жилья     25-34  жилищный кредит  \n",
       "3  дополнительное образование     25-34         обучение  \n",
       "4             сыграть свадьбу     35-59          свадьба  \n",
       "5               покупка жилья     25-34  жилищный кредит  \n",
       "6           операции с жильем     35-59  жилищный кредит  \n",
       "7                 образование     35-59         обучение  \n",
       "8       на проведение свадьбы     35-59          свадьба  \n",
       "9     покупка жилья для семьи     35-59  жилищный кредит  "
      ]
     },
     "execution_count": 50,
     "metadata": {},
     "output_type": "execute_result"
    }
   ],
   "source": [
    "def purpose_group(purpose):\n",
    "    \n",
    "    lemma = m.lemmatize(purpose)\n",
    "\n",
    "    if 'коммерческий' in lemma:\n",
    "        return 'кредит на развитие'\n",
    "    \n",
    "    if 'недвижимость'in lemma or 'жилье' in lemma:\n",
    "        return 'жилищный кредит'\n",
    "\n",
    "    if 'автомобиль'in lemma:\n",
    "        return 'автокредит'\n",
    "\n",
    "    if 'образование'in lemma:\n",
    "        return 'обучение'\n",
    "\n",
    "    if 'свадьба'in lemma:\n",
    "        return 'свадьба'\n",
    "\n",
    "    \n",
    "df['purpose_group'] = df['purpose'].apply(purpose_group)\n",
    "\n",
    "df.head(10)"
   ]
  },
  {
   "cell_type": "code",
   "execution_count": 51,
   "metadata": {},
   "outputs": [
    {
     "data": {
      "text/plain": [
       "жилищный кредит       9500\n",
       "автокредит            4306\n",
       "обучение              4013\n",
       "свадьба               2324\n",
       "кредит на развитие    1311\n",
       "Name: purpose_group, dtype: int64"
      ]
     },
     "execution_count": 51,
     "metadata": {},
     "output_type": "execute_result"
    }
   ],
   "source": [
    "df['purpose_group'].value_counts()"
   ]
  },
  {
   "cell_type": "markdown",
   "metadata": {},
   "source": [
    "Итак, видно, что наиболее распространены жилищные кредиты, наименее - кредиты на развитие."
   ]
  },
  {
   "cell_type": "markdown",
   "metadata": {},
   "source": [
    "Проверим, что для всех заёмщиков ячейки с целями взятия кредита оказались заполены:"
   ]
  },
  {
   "cell_type": "code",
   "execution_count": 52,
   "metadata": {},
   "outputs": [
    {
     "data": {
      "text/plain": [
       "0"
      ]
     },
     "execution_count": 52,
     "metadata": {},
     "output_type": "execute_result"
    }
   ],
   "source": [
    "df['purpose_group'].isna().sum()"
   ]
  },
  {
   "cell_type": "markdown",
   "metadata": {},
   "source": [
    "2. Категоризация заёмщиков по количеству детей.\n",
    "\n",
    "Выделим три основные категории:\n",
    "\n",
    "1) нет детей;\n",
    "\n",
    "2) 1 - 2 ребенка;\n",
    "\n",
    "3) многодетный/ая.\n",
    "\n",
    "Создадим функцию, с помощью которой категоризуем данные:"
   ]
  },
  {
   "cell_type": "code",
   "execution_count": 53,
   "metadata": {},
   "outputs": [
    {
     "data": {
      "text/html": [
       "<div>\n",
       "<style scoped>\n",
       "    .dataframe tbody tr th:only-of-type {\n",
       "        vertical-align: middle;\n",
       "    }\n",
       "\n",
       "    .dataframe tbody tr th {\n",
       "        vertical-align: top;\n",
       "    }\n",
       "\n",
       "    .dataframe thead th {\n",
       "        text-align: right;\n",
       "    }\n",
       "</style>\n",
       "<table border=\"1\" class=\"dataframe\">\n",
       "  <thead>\n",
       "    <tr style=\"text-align: right;\">\n",
       "      <th></th>\n",
       "      <th>children</th>\n",
       "      <th>days_employed</th>\n",
       "      <th>dob_years</th>\n",
       "      <th>education</th>\n",
       "      <th>education_id</th>\n",
       "      <th>family_status</th>\n",
       "      <th>family_status_id</th>\n",
       "      <th>gender</th>\n",
       "      <th>income_type</th>\n",
       "      <th>debt</th>\n",
       "      <th>total_income</th>\n",
       "      <th>purpose</th>\n",
       "      <th>age_group</th>\n",
       "      <th>purpose_group</th>\n",
       "      <th>number_of_children</th>\n",
       "    </tr>\n",
       "  </thead>\n",
       "  <tbody>\n",
       "    <tr>\n",
       "      <td>0</td>\n",
       "      <td>1</td>\n",
       "      <td>8437</td>\n",
       "      <td>42</td>\n",
       "      <td>высшее</td>\n",
       "      <td>0</td>\n",
       "      <td>женат / замужем</td>\n",
       "      <td>0</td>\n",
       "      <td>F</td>\n",
       "      <td>сотрудник</td>\n",
       "      <td>0</td>\n",
       "      <td>253875.639453</td>\n",
       "      <td>покупка жилья</td>\n",
       "      <td>35-59</td>\n",
       "      <td>жилищный кредит</td>\n",
       "      <td>1-2</td>\n",
       "    </tr>\n",
       "    <tr>\n",
       "      <td>1</td>\n",
       "      <td>1</td>\n",
       "      <td>4024</td>\n",
       "      <td>36</td>\n",
       "      <td>среднее</td>\n",
       "      <td>1</td>\n",
       "      <td>женат / замужем</td>\n",
       "      <td>0</td>\n",
       "      <td>F</td>\n",
       "      <td>сотрудник</td>\n",
       "      <td>0</td>\n",
       "      <td>112080.014102</td>\n",
       "      <td>приобретение автомобиля</td>\n",
       "      <td>35-59</td>\n",
       "      <td>автокредит</td>\n",
       "      <td>1-2</td>\n",
       "    </tr>\n",
       "    <tr>\n",
       "      <td>2</td>\n",
       "      <td>0</td>\n",
       "      <td>5623</td>\n",
       "      <td>33</td>\n",
       "      <td>среднее</td>\n",
       "      <td>1</td>\n",
       "      <td>женат / замужем</td>\n",
       "      <td>0</td>\n",
       "      <td>M</td>\n",
       "      <td>сотрудник</td>\n",
       "      <td>0</td>\n",
       "      <td>145885.952297</td>\n",
       "      <td>покупка жилья</td>\n",
       "      <td>25-34</td>\n",
       "      <td>жилищный кредит</td>\n",
       "      <td>нет детей</td>\n",
       "    </tr>\n",
       "    <tr>\n",
       "      <td>3</td>\n",
       "      <td>3</td>\n",
       "      <td>4124</td>\n",
       "      <td>32</td>\n",
       "      <td>среднее</td>\n",
       "      <td>1</td>\n",
       "      <td>женат / замужем</td>\n",
       "      <td>0</td>\n",
       "      <td>M</td>\n",
       "      <td>сотрудник</td>\n",
       "      <td>0</td>\n",
       "      <td>267628.550329</td>\n",
       "      <td>дополнительное образование</td>\n",
       "      <td>25-34</td>\n",
       "      <td>обучение</td>\n",
       "      <td>многодетный/ая</td>\n",
       "    </tr>\n",
       "    <tr>\n",
       "      <td>4</td>\n",
       "      <td>0</td>\n",
       "      <td>14177</td>\n",
       "      <td>53</td>\n",
       "      <td>среднее</td>\n",
       "      <td>1</td>\n",
       "      <td>гражданский брак</td>\n",
       "      <td>1</td>\n",
       "      <td>F</td>\n",
       "      <td>пенсионер</td>\n",
       "      <td>0</td>\n",
       "      <td>158616.077870</td>\n",
       "      <td>сыграть свадьбу</td>\n",
       "      <td>35-59</td>\n",
       "      <td>свадьба</td>\n",
       "      <td>нет детей</td>\n",
       "    </tr>\n",
       "    <tr>\n",
       "      <td>5</td>\n",
       "      <td>0</td>\n",
       "      <td>926</td>\n",
       "      <td>27</td>\n",
       "      <td>высшее</td>\n",
       "      <td>0</td>\n",
       "      <td>гражданский брак</td>\n",
       "      <td>1</td>\n",
       "      <td>M</td>\n",
       "      <td>компаньон</td>\n",
       "      <td>0</td>\n",
       "      <td>255763.565419</td>\n",
       "      <td>покупка жилья</td>\n",
       "      <td>25-34</td>\n",
       "      <td>жилищный кредит</td>\n",
       "      <td>нет детей</td>\n",
       "    </tr>\n",
       "    <tr>\n",
       "      <td>6</td>\n",
       "      <td>0</td>\n",
       "      <td>2879</td>\n",
       "      <td>43</td>\n",
       "      <td>высшее</td>\n",
       "      <td>0</td>\n",
       "      <td>женат / замужем</td>\n",
       "      <td>0</td>\n",
       "      <td>F</td>\n",
       "      <td>компаньон</td>\n",
       "      <td>0</td>\n",
       "      <td>240525.971920</td>\n",
       "      <td>операции с жильем</td>\n",
       "      <td>35-59</td>\n",
       "      <td>жилищный кредит</td>\n",
       "      <td>нет детей</td>\n",
       "    </tr>\n",
       "    <tr>\n",
       "      <td>7</td>\n",
       "      <td>0</td>\n",
       "      <td>152</td>\n",
       "      <td>50</td>\n",
       "      <td>среднее</td>\n",
       "      <td>1</td>\n",
       "      <td>женат / замужем</td>\n",
       "      <td>0</td>\n",
       "      <td>M</td>\n",
       "      <td>сотрудник</td>\n",
       "      <td>0</td>\n",
       "      <td>135823.934197</td>\n",
       "      <td>образование</td>\n",
       "      <td>35-59</td>\n",
       "      <td>обучение</td>\n",
       "      <td>нет детей</td>\n",
       "    </tr>\n",
       "    <tr>\n",
       "      <td>8</td>\n",
       "      <td>2</td>\n",
       "      <td>6929</td>\n",
       "      <td>35</td>\n",
       "      <td>высшее</td>\n",
       "      <td>0</td>\n",
       "      <td>гражданский брак</td>\n",
       "      <td>1</td>\n",
       "      <td>F</td>\n",
       "      <td>сотрудник</td>\n",
       "      <td>0</td>\n",
       "      <td>95856.832424</td>\n",
       "      <td>на проведение свадьбы</td>\n",
       "      <td>35-59</td>\n",
       "      <td>свадьба</td>\n",
       "      <td>1-2</td>\n",
       "    </tr>\n",
       "    <tr>\n",
       "      <td>9</td>\n",
       "      <td>0</td>\n",
       "      <td>2188</td>\n",
       "      <td>41</td>\n",
       "      <td>среднее</td>\n",
       "      <td>1</td>\n",
       "      <td>женат / замужем</td>\n",
       "      <td>0</td>\n",
       "      <td>M</td>\n",
       "      <td>сотрудник</td>\n",
       "      <td>0</td>\n",
       "      <td>144425.938277</td>\n",
       "      <td>покупка жилья для семьи</td>\n",
       "      <td>35-59</td>\n",
       "      <td>жилищный кредит</td>\n",
       "      <td>нет детей</td>\n",
       "    </tr>\n",
       "  </tbody>\n",
       "</table>\n",
       "</div>"
      ],
      "text/plain": [
       "   children  days_employed  dob_years education  education_id  \\\n",
       "0         1           8437         42    высшее             0   \n",
       "1         1           4024         36   среднее             1   \n",
       "2         0           5623         33   среднее             1   \n",
       "3         3           4124         32   среднее             1   \n",
       "4         0          14177         53   среднее             1   \n",
       "5         0            926         27    высшее             0   \n",
       "6         0           2879         43    высшее             0   \n",
       "7         0            152         50   среднее             1   \n",
       "8         2           6929         35    высшее             0   \n",
       "9         0           2188         41   среднее             1   \n",
       "\n",
       "      family_status  family_status_id gender income_type  debt   total_income  \\\n",
       "0   женат / замужем                 0      F   сотрудник     0  253875.639453   \n",
       "1   женат / замужем                 0      F   сотрудник     0  112080.014102   \n",
       "2   женат / замужем                 0      M   сотрудник     0  145885.952297   \n",
       "3   женат / замужем                 0      M   сотрудник     0  267628.550329   \n",
       "4  гражданский брак                 1      F   пенсионер     0  158616.077870   \n",
       "5  гражданский брак                 1      M   компаньон     0  255763.565419   \n",
       "6   женат / замужем                 0      F   компаньон     0  240525.971920   \n",
       "7   женат / замужем                 0      M   сотрудник     0  135823.934197   \n",
       "8  гражданский брак                 1      F   сотрудник     0   95856.832424   \n",
       "9   женат / замужем                 0      M   сотрудник     0  144425.938277   \n",
       "\n",
       "                      purpose age_group    purpose_group number_of_children  \n",
       "0               покупка жилья     35-59  жилищный кредит                1-2  \n",
       "1     приобретение автомобиля     35-59       автокредит                1-2  \n",
       "2               покупка жилья     25-34  жилищный кредит          нет детей  \n",
       "3  дополнительное образование     25-34         обучение     многодетный/ая  \n",
       "4             сыграть свадьбу     35-59          свадьба          нет детей  \n",
       "5               покупка жилья     25-34  жилищный кредит          нет детей  \n",
       "6           операции с жильем     35-59  жилищный кредит          нет детей  \n",
       "7                 образование     35-59         обучение          нет детей  \n",
       "8       на проведение свадьбы     35-59          свадьба                1-2  \n",
       "9     покупка жилья для семьи     35-59  жилищный кредит          нет детей  "
      ]
     },
     "execution_count": 53,
     "metadata": {},
     "output_type": "execute_result"
    }
   ],
   "source": [
    "def number_of_children(children):\n",
    "    \n",
    "    if children == 0:\n",
    "        return 'нет детей'\n",
    "\n",
    "    if children == 1 or children == 2:\n",
    "        return '1-2'\n",
    "\n",
    "    if children >= 3:\n",
    "        return 'многодетный/ая'\n",
    "    \n",
    "\n",
    "df['number_of_children'] = df['children'].apply(number_of_children)\n",
    "\n",
    "df.head(10)"
   ]
  },
  {
   "cell_type": "code",
   "execution_count": 54,
   "metadata": {},
   "outputs": [
    {
     "data": {
      "text/plain": [
       "нет детей         14091\n",
       "1-2                6983\n",
       "многодетный/ая      380\n",
       "Name: number_of_children, dtype: int64"
      ]
     },
     "execution_count": 54,
     "metadata": {},
     "output_type": "execute_result"
    }
   ],
   "source": [
    "df['number_of_children'].value_counts()"
   ]
  },
  {
   "cell_type": "markdown",
   "metadata": {},
   "source": [
    "Видим, что наибольшее число кредитов берут люди, не имеющие детей."
   ]
  },
  {
   "cell_type": "markdown",
   "metadata": {},
   "source": [
    "3. Категоризуем заёмщиков по уровню доходов."
   ]
  },
  {
   "cell_type": "markdown",
   "metadata": {},
   "source": [
    "Воспользуемся методом describe() для получения сводной статистики столбца `total_income`, содержащем информацию о ежемесячном доходе заёмщика:"
   ]
  },
  {
   "cell_type": "code",
   "execution_count": 55,
   "metadata": {},
   "outputs": [
    {
     "data": {
      "text/plain": [
       "count    2.145400e+04\n",
       "mean     1.653201e+05\n",
       "std      9.818730e+04\n",
       "min      2.066726e+04\n",
       "25%      1.076239e+05\n",
       "50%      1.425944e+05\n",
       "75%      1.958209e+05\n",
       "max      2.265604e+06\n",
       "Name: total_income, dtype: float64"
      ]
     },
     "metadata": {},
     "output_type": "display_data"
    }
   ],
   "source": [
    "summary_statistics = df['total_income'].describe()\n",
    "display(summary_statistics)"
   ]
  },
  {
   "cell_type": "markdown",
   "metadata": {},
   "source": [
    "Посмотрим на гистограмму доходов:"
   ]
  },
  {
   "cell_type": "code",
   "execution_count": 56,
   "metadata": {},
   "outputs": [
    {
     "data": {
      "image/png": "[encoded data removed]",
      "text/plain": [
       "<Figure size 432x288 with 1 Axes>"
      ]
     },
     "metadata": {
      "needs_background": "light"
     },
     "output_type": "display_data"
    }
   ],
   "source": [
    "import seaborn \n",
    "\n",
    "income_plot = seaborn.distplot(df['total_income'])\n",
    "fig_income = income_plot.get_figure()"
   ]
  },
  {
   "cell_type": "markdown",
   "metadata": {},
   "source": [
    "Видим, что гистограмма смещена вправо, это значит, что существует ряд точек данных, превышающих моду."
   ]
  },
  {
   "cell_type": "markdown",
   "metadata": {},
   "source": [
    "Для выделения категорий по доходам воспользуемся квартилями - они делят данные на четыре равные части."
   ]
  },
  {
   "cell_type": "code",
   "execution_count": 57,
   "metadata": {},
   "outputs": [
    {
     "data": {
      "text/html": [
       "<div>\n",
       "<style scoped>\n",
       "    .dataframe tbody tr th:only-of-type {\n",
       "        vertical-align: middle;\n",
       "    }\n",
       "\n",
       "    .dataframe tbody tr th {\n",
       "        vertical-align: top;\n",
       "    }\n",
       "\n",
       "    .dataframe thead th {\n",
       "        text-align: right;\n",
       "    }\n",
       "</style>\n",
       "<table border=\"1\" class=\"dataframe\">\n",
       "  <thead>\n",
       "    <tr style=\"text-align: right;\">\n",
       "      <th></th>\n",
       "      <th>children</th>\n",
       "      <th>days_employed</th>\n",
       "      <th>dob_years</th>\n",
       "      <th>education</th>\n",
       "      <th>education_id</th>\n",
       "      <th>family_status</th>\n",
       "      <th>family_status_id</th>\n",
       "      <th>gender</th>\n",
       "      <th>income_type</th>\n",
       "      <th>debt</th>\n",
       "      <th>total_income</th>\n",
       "      <th>purpose</th>\n",
       "      <th>age_group</th>\n",
       "      <th>purpose_group</th>\n",
       "      <th>number_of_children</th>\n",
       "      <th>level_of_income</th>\n",
       "    </tr>\n",
       "  </thead>\n",
       "  <tbody>\n",
       "    <tr>\n",
       "      <td>0</td>\n",
       "      <td>1</td>\n",
       "      <td>8437</td>\n",
       "      <td>42</td>\n",
       "      <td>высшее</td>\n",
       "      <td>0</td>\n",
       "      <td>женат / замужем</td>\n",
       "      <td>0</td>\n",
       "      <td>F</td>\n",
       "      <td>сотрудник</td>\n",
       "      <td>0</td>\n",
       "      <td>253875.639453</td>\n",
       "      <td>покупка жилья</td>\n",
       "      <td>35-59</td>\n",
       "      <td>жилищный кредит</td>\n",
       "      <td>1-2</td>\n",
       "      <td>100%</td>\n",
       "    </tr>\n",
       "    <tr>\n",
       "      <td>1</td>\n",
       "      <td>1</td>\n",
       "      <td>4024</td>\n",
       "      <td>36</td>\n",
       "      <td>среднее</td>\n",
       "      <td>1</td>\n",
       "      <td>женат / замужем</td>\n",
       "      <td>0</td>\n",
       "      <td>F</td>\n",
       "      <td>сотрудник</td>\n",
       "      <td>0</td>\n",
       "      <td>112080.014102</td>\n",
       "      <td>приобретение автомобиля</td>\n",
       "      <td>35-59</td>\n",
       "      <td>автокредит</td>\n",
       "      <td>1-2</td>\n",
       "      <td>50%</td>\n",
       "    </tr>\n",
       "    <tr>\n",
       "      <td>2</td>\n",
       "      <td>0</td>\n",
       "      <td>5623</td>\n",
       "      <td>33</td>\n",
       "      <td>среднее</td>\n",
       "      <td>1</td>\n",
       "      <td>женат / замужем</td>\n",
       "      <td>0</td>\n",
       "      <td>M</td>\n",
       "      <td>сотрудник</td>\n",
       "      <td>0</td>\n",
       "      <td>145885.952297</td>\n",
       "      <td>покупка жилья</td>\n",
       "      <td>25-34</td>\n",
       "      <td>жилищный кредит</td>\n",
       "      <td>нет детей</td>\n",
       "      <td>75%</td>\n",
       "    </tr>\n",
       "    <tr>\n",
       "      <td>3</td>\n",
       "      <td>3</td>\n",
       "      <td>4124</td>\n",
       "      <td>32</td>\n",
       "      <td>среднее</td>\n",
       "      <td>1</td>\n",
       "      <td>женат / замужем</td>\n",
       "      <td>0</td>\n",
       "      <td>M</td>\n",
       "      <td>сотрудник</td>\n",
       "      <td>0</td>\n",
       "      <td>267628.550329</td>\n",
       "      <td>дополнительное образование</td>\n",
       "      <td>25-34</td>\n",
       "      <td>обучение</td>\n",
       "      <td>многодетный/ая</td>\n",
       "      <td>100%</td>\n",
       "    </tr>\n",
       "    <tr>\n",
       "      <td>4</td>\n",
       "      <td>0</td>\n",
       "      <td>14177</td>\n",
       "      <td>53</td>\n",
       "      <td>среднее</td>\n",
       "      <td>1</td>\n",
       "      <td>гражданский брак</td>\n",
       "      <td>1</td>\n",
       "      <td>F</td>\n",
       "      <td>пенсионер</td>\n",
       "      <td>0</td>\n",
       "      <td>158616.077870</td>\n",
       "      <td>сыграть свадьбу</td>\n",
       "      <td>35-59</td>\n",
       "      <td>свадьба</td>\n",
       "      <td>нет детей</td>\n",
       "      <td>75%</td>\n",
       "    </tr>\n",
       "    <tr>\n",
       "      <td>5</td>\n",
       "      <td>0</td>\n",
       "      <td>926</td>\n",
       "      <td>27</td>\n",
       "      <td>высшее</td>\n",
       "      <td>0</td>\n",
       "      <td>гражданский брак</td>\n",
       "      <td>1</td>\n",
       "      <td>M</td>\n",
       "      <td>компаньон</td>\n",
       "      <td>0</td>\n",
       "      <td>255763.565419</td>\n",
       "      <td>покупка жилья</td>\n",
       "      <td>25-34</td>\n",
       "      <td>жилищный кредит</td>\n",
       "      <td>нет детей</td>\n",
       "      <td>100%</td>\n",
       "    </tr>\n",
       "    <tr>\n",
       "      <td>6</td>\n",
       "      <td>0</td>\n",
       "      <td>2879</td>\n",
       "      <td>43</td>\n",
       "      <td>высшее</td>\n",
       "      <td>0</td>\n",
       "      <td>женат / замужем</td>\n",
       "      <td>0</td>\n",
       "      <td>F</td>\n",
       "      <td>компаньон</td>\n",
       "      <td>0</td>\n",
       "      <td>240525.971920</td>\n",
       "      <td>операции с жильем</td>\n",
       "      <td>35-59</td>\n",
       "      <td>жилищный кредит</td>\n",
       "      <td>нет детей</td>\n",
       "      <td>100%</td>\n",
       "    </tr>\n",
       "    <tr>\n",
       "      <td>7</td>\n",
       "      <td>0</td>\n",
       "      <td>152</td>\n",
       "      <td>50</td>\n",
       "      <td>среднее</td>\n",
       "      <td>1</td>\n",
       "      <td>женат / замужем</td>\n",
       "      <td>0</td>\n",
       "      <td>M</td>\n",
       "      <td>сотрудник</td>\n",
       "      <td>0</td>\n",
       "      <td>135823.934197</td>\n",
       "      <td>образование</td>\n",
       "      <td>35-59</td>\n",
       "      <td>обучение</td>\n",
       "      <td>нет детей</td>\n",
       "      <td>50%</td>\n",
       "    </tr>\n",
       "    <tr>\n",
       "      <td>8</td>\n",
       "      <td>2</td>\n",
       "      <td>6929</td>\n",
       "      <td>35</td>\n",
       "      <td>высшее</td>\n",
       "      <td>0</td>\n",
       "      <td>гражданский брак</td>\n",
       "      <td>1</td>\n",
       "      <td>F</td>\n",
       "      <td>сотрудник</td>\n",
       "      <td>0</td>\n",
       "      <td>95856.832424</td>\n",
       "      <td>на проведение свадьбы</td>\n",
       "      <td>35-59</td>\n",
       "      <td>свадьба</td>\n",
       "      <td>1-2</td>\n",
       "      <td>25%</td>\n",
       "    </tr>\n",
       "    <tr>\n",
       "      <td>9</td>\n",
       "      <td>0</td>\n",
       "      <td>2188</td>\n",
       "      <td>41</td>\n",
       "      <td>среднее</td>\n",
       "      <td>1</td>\n",
       "      <td>женат / замужем</td>\n",
       "      <td>0</td>\n",
       "      <td>M</td>\n",
       "      <td>сотрудник</td>\n",
       "      <td>0</td>\n",
       "      <td>144425.938277</td>\n",
       "      <td>покупка жилья для семьи</td>\n",
       "      <td>35-59</td>\n",
       "      <td>жилищный кредит</td>\n",
       "      <td>нет детей</td>\n",
       "      <td>75%</td>\n",
       "    </tr>\n",
       "  </tbody>\n",
       "</table>\n",
       "</div>"
      ],
      "text/plain": [
       "   children  days_employed  dob_years education  education_id  \\\n",
       "0         1           8437         42    высшее             0   \n",
       "1         1           4024         36   среднее             1   \n",
       "2         0           5623         33   среднее             1   \n",
       "3         3           4124         32   среднее             1   \n",
       "4         0          14177         53   среднее             1   \n",
       "5         0            926         27    высшее             0   \n",
       "6         0           2879         43    высшее             0   \n",
       "7         0            152         50   среднее             1   \n",
       "8         2           6929         35    высшее             0   \n",
       "9         0           2188         41   среднее             1   \n",
       "\n",
       "      family_status  family_status_id gender income_type  debt   total_income  \\\n",
       "0   женат / замужем                 0      F   сотрудник     0  253875.639453   \n",
       "1   женат / замужем                 0      F   сотрудник     0  112080.014102   \n",
       "2   женат / замужем                 0      M   сотрудник     0  145885.952297   \n",
       "3   женат / замужем                 0      M   сотрудник     0  267628.550329   \n",
       "4  гражданский брак                 1      F   пенсионер     0  158616.077870   \n",
       "5  гражданский брак                 1      M   компаньон     0  255763.565419   \n",
       "6   женат / замужем                 0      F   компаньон     0  240525.971920   \n",
       "7   женат / замужем                 0      M   сотрудник     0  135823.934197   \n",
       "8  гражданский брак                 1      F   сотрудник     0   95856.832424   \n",
       "9   женат / замужем                 0      M   сотрудник     0  144425.938277   \n",
       "\n",
       "                      purpose age_group    purpose_group number_of_children  \\\n",
       "0               покупка жилья     35-59  жилищный кредит                1-2   \n",
       "1     приобретение автомобиля     35-59       автокредит                1-2   \n",
       "2               покупка жилья     25-34  жилищный кредит          нет детей   \n",
       "3  дополнительное образование     25-34         обучение     многодетный/ая   \n",
       "4             сыграть свадьбу     35-59          свадьба          нет детей   \n",
       "5               покупка жилья     25-34  жилищный кредит          нет детей   \n",
       "6           операции с жильем     35-59  жилищный кредит          нет детей   \n",
       "7                 образование     35-59         обучение          нет детей   \n",
       "8       на проведение свадьбы     35-59          свадьба                1-2   \n",
       "9     покупка жилья для семьи     35-59  жилищный кредит          нет детей   \n",
       "\n",
       "  level_of_income  \n",
       "0            100%  \n",
       "1             50%  \n",
       "2             75%  \n",
       "3            100%  \n",
       "4             75%  \n",
       "5            100%  \n",
       "6            100%  \n",
       "7             50%  \n",
       "8             25%  \n",
       "9             75%  "
      ]
     },
     "execution_count": 57,
     "metadata": {},
     "output_type": "execute_result"
    }
   ],
   "source": [
    "def level_of_income(total_income):\n",
    "    \n",
    "    if total_income <= summary_statistics[4]:\n",
    "        return '25%'\n",
    "\n",
    "    if total_income > summary_statistics[4] and total_income <= summary_statistics[5]:\n",
    "        return '50%'\n",
    "\n",
    "    if total_income > summary_statistics[5] and total_income <= summary_statistics[6]:\n",
    "        return '75%'\n",
    "    \n",
    "    else:\n",
    "        return '100%'\n",
    "\n",
    "df['level_of_income'] = df['total_income'].apply(level_of_income)\n",
    "\n",
    "df.head(10)"
   ]
  },
  {
   "cell_type": "code",
   "execution_count": 58,
   "metadata": {},
   "outputs": [
    {
     "data": {
      "text/plain": [
       "50%     5479\n",
       "100%    5364\n",
       "25%     5364\n",
       "75%     5247\n",
       "Name: level_of_income, dtype: int64"
      ]
     },
     "execution_count": 58,
     "metadata": {},
     "output_type": "execute_result"
    }
   ],
   "source": [
    "df['level_of_income'].value_counts()"
   ]
  },
  {
   "cell_type": "markdown",
   "metadata": {},
   "source": [
    "Таким образом, заёмщики по уровню доходов распределяются следующим образом:\n",
    "\n",
    "- 5479 из них имеют доход от 107624 рублей до 142594 рублей;\n",
    "- 5364 из них имеют доход больше 195821 рублей;\n",
    "- 5364 из них имеют доход меньше 107624 рублей;\n",
    "- 5247 из них имеют доход от 142594 рублей до 195821 рублей."
   ]
  },
  {
   "cell_type": "markdown",
   "metadata": {},
   "source": [
    "4. Категоризация заёмщиков по семейному положению.\n",
    "\n",
    "В исходных данных заёмщики уже были распределены по следующим категориям в зависимости от их семейного положения:"
   ]
  },
  {
   "cell_type": "code",
   "execution_count": 59,
   "metadata": {},
   "outputs": [
    {
     "data": {
      "text/html": [
       "<div>\n",
       "<style scoped>\n",
       "    .dataframe tbody tr th:only-of-type {\n",
       "        vertical-align: middle;\n",
       "    }\n",
       "\n",
       "    .dataframe tbody tr th {\n",
       "        vertical-align: top;\n",
       "    }\n",
       "\n",
       "    .dataframe thead th {\n",
       "        text-align: right;\n",
       "    }\n",
       "</style>\n",
       "<table border=\"1\" class=\"dataframe\">\n",
       "  <thead>\n",
       "    <tr style=\"text-align: right;\">\n",
       "      <th></th>\n",
       "      <th>family_status_id</th>\n",
       "    </tr>\n",
       "    <tr>\n",
       "      <th>family_status</th>\n",
       "      <th></th>\n",
       "    </tr>\n",
       "  </thead>\n",
       "  <tbody>\n",
       "    <tr>\n",
       "      <td>в разводе</td>\n",
       "      <td>3</td>\n",
       "    </tr>\n",
       "    <tr>\n",
       "      <td>вдовец / вдова</td>\n",
       "      <td>2</td>\n",
       "    </tr>\n",
       "    <tr>\n",
       "      <td>гражданский брак</td>\n",
       "      <td>1</td>\n",
       "    </tr>\n",
       "    <tr>\n",
       "      <td>женат / замужем</td>\n",
       "      <td>0</td>\n",
       "    </tr>\n",
       "    <tr>\n",
       "      <td>не женат / не замужем</td>\n",
       "      <td>4</td>\n",
       "    </tr>\n",
       "  </tbody>\n",
       "</table>\n",
       "</div>"
      ],
      "text/plain": [
       "                       family_status_id\n",
       "family_status                          \n",
       "в разводе                             3\n",
       "вдовец / вдова                        2\n",
       "гражданский брак                      1\n",
       "женат / замужем                       0\n",
       "не женат / не замужем                 4"
      ]
     },
     "metadata": {},
     "output_type": "display_data"
    }
   ],
   "source": [
    "df_family_pivot = df.pivot_table(index = ['family_status'], values = 'family_status_id')\n",
    "display(df_family_pivot)"
   ]
  },
  {
   "cell_type": "markdown",
   "metadata": {},
   "source": [
    "## Ответы на вопросы "
   ]
  },
  {
   "cell_type": "markdown",
   "metadata": {},
   "source": [
    "Для ответы на поставленные вопросы построим сводные таблицы.\n",
    "\n",
    "- Есть ли зависимость между наличием детей и возвратом кредита в срок?"
   ]
  },
  {
   "cell_type": "code",
   "execution_count": 60,
   "metadata": {},
   "outputs": [
    {
     "data": {
      "text/html": [
       "<div>\n",
       "<style scoped>\n",
       "    .dataframe tbody tr th:only-of-type {\n",
       "        vertical-align: middle;\n",
       "    }\n",
       "\n",
       "    .dataframe tbody tr th {\n",
       "        vertical-align: top;\n",
       "    }\n",
       "\n",
       "    .dataframe thead th {\n",
       "        text-align: right;\n",
       "    }\n",
       "</style>\n",
       "<table border=\"1\" class=\"dataframe\">\n",
       "  <thead>\n",
       "    <tr style=\"text-align: right;\">\n",
       "      <th>debt</th>\n",
       "      <th>0</th>\n",
       "      <th>1</th>\n",
       "      <th>sum</th>\n",
       "      <th>coeff</th>\n",
       "    </tr>\n",
       "    <tr>\n",
       "      <th>number_of_children</th>\n",
       "      <th></th>\n",
       "      <th></th>\n",
       "      <th></th>\n",
       "      <th></th>\n",
       "    </tr>\n",
       "  </thead>\n",
       "  <tbody>\n",
       "    <tr>\n",
       "      <td>нет детей</td>\n",
       "      <td>13028</td>\n",
       "      <td>1063</td>\n",
       "      <td>14091</td>\n",
       "      <td>0.0754</td>\n",
       "    </tr>\n",
       "    <tr>\n",
       "      <td>многодетный/ая</td>\n",
       "      <td>349</td>\n",
       "      <td>31</td>\n",
       "      <td>380</td>\n",
       "      <td>0.0816</td>\n",
       "    </tr>\n",
       "    <tr>\n",
       "      <td>1-2</td>\n",
       "      <td>6336</td>\n",
       "      <td>647</td>\n",
       "      <td>6983</td>\n",
       "      <td>0.0927</td>\n",
       "    </tr>\n",
       "  </tbody>\n",
       "</table>\n",
       "</div>"
      ],
      "text/plain": [
       "debt                    0     1    sum   coeff\n",
       "number_of_children                            \n",
       "нет детей           13028  1063  14091  0.0754\n",
       "многодетный/ая        349    31    380  0.0816\n",
       "1-2                  6336   647   6983  0.0927"
      ]
     },
     "metadata": {},
     "output_type": "display_data"
    }
   ],
   "source": [
    "children_pivot = df.pivot_table(index = ['number_of_children'], columns = 'debt', values = 'children', aggfunc = 'count')\n",
    "children_pivot['sum'] = children_pivot[0]+children_pivot[1]\n",
    "children_pivot['coeff'] = (children_pivot[1]/children_pivot['sum']).round(4)\n",
    "display(children_pivot.sort_values(by = 'coeff'))"
   ]
  },
  {
   "cell_type": "markdown",
   "metadata": {},
   "source": [
    "**Вывод**\n",
    "\n",
    "Из сводной таблицы видно, что чаще всего берут кредиты люди, не имеющие детей, у них же вероятность задолженности ниже. Наличие детей увеличивает вероятность задолженности по кредитам. Это вполне предсказуемо: дети увеличивают расходы, траты становятся необходимыми, а порой и непредвиденными. Интересно, что многодетные люди реже остальных берут кредиты и реже вынуждены нарушать условия договора по сравнению с теми, кто имеет 1 - 2 детей. Возможно, это объясняется тем, что таким семьям оказывается поддержка со стороны государства, редко возникает необходимость в новых вещах: часто вещи передаются от старших детей младшим. "
   ]
  },
  {
   "cell_type": "markdown",
   "metadata": {},
   "source": [
    "- Есть ли зависимость между семейным положением и возвратом кредита в срок?"
   ]
  },
  {
   "cell_type": "code",
   "execution_count": 61,
   "metadata": {},
   "outputs": [
    {
     "data": {
      "text/html": [
       "<div>\n",
       "<style scoped>\n",
       "    .dataframe tbody tr th:only-of-type {\n",
       "        vertical-align: middle;\n",
       "    }\n",
       "\n",
       "    .dataframe tbody tr th {\n",
       "        vertical-align: top;\n",
       "    }\n",
       "\n",
       "    .dataframe thead th {\n",
       "        text-align: right;\n",
       "    }\n",
       "</style>\n",
       "<table border=\"1\" class=\"dataframe\">\n",
       "  <thead>\n",
       "    <tr style=\"text-align: right;\">\n",
       "      <th>debt</th>\n",
       "      <th>0</th>\n",
       "      <th>1</th>\n",
       "      <th>sum</th>\n",
       "      <th>coeff</th>\n",
       "    </tr>\n",
       "    <tr>\n",
       "      <th>family_status</th>\n",
       "      <th></th>\n",
       "      <th></th>\n",
       "      <th></th>\n",
       "      <th></th>\n",
       "    </tr>\n",
       "  </thead>\n",
       "  <tbody>\n",
       "    <tr>\n",
       "      <td>вдовец / вдова</td>\n",
       "      <td>896</td>\n",
       "      <td>63</td>\n",
       "      <td>959</td>\n",
       "      <td>0.0657</td>\n",
       "    </tr>\n",
       "    <tr>\n",
       "      <td>в разводе</td>\n",
       "      <td>1110</td>\n",
       "      <td>85</td>\n",
       "      <td>1195</td>\n",
       "      <td>0.0711</td>\n",
       "    </tr>\n",
       "    <tr>\n",
       "      <td>женат / замужем</td>\n",
       "      <td>11408</td>\n",
       "      <td>931</td>\n",
       "      <td>12339</td>\n",
       "      <td>0.0755</td>\n",
       "    </tr>\n",
       "    <tr>\n",
       "      <td>гражданский брак</td>\n",
       "      <td>3763</td>\n",
       "      <td>388</td>\n",
       "      <td>4151</td>\n",
       "      <td>0.0935</td>\n",
       "    </tr>\n",
       "    <tr>\n",
       "      <td>не женат / не замужем</td>\n",
       "      <td>2536</td>\n",
       "      <td>274</td>\n",
       "      <td>2810</td>\n",
       "      <td>0.0975</td>\n",
       "    </tr>\n",
       "  </tbody>\n",
       "</table>\n",
       "</div>"
      ],
      "text/plain": [
       "debt                       0    1    sum   coeff\n",
       "family_status                                   \n",
       "вдовец / вдова           896   63    959  0.0657\n",
       "в разводе               1110   85   1195  0.0711\n",
       "женат / замужем        11408  931  12339  0.0755\n",
       "гражданский брак        3763  388   4151  0.0935\n",
       "не женат / не замужем   2536  274   2810  0.0975"
      ]
     },
     "metadata": {},
     "output_type": "display_data"
    }
   ],
   "source": [
    "family_pivot = df.pivot_table(index = ['family_status'], columns = 'debt', values = 'dob_years', aggfunc = 'count')\n",
    "family_pivot['sum'] = family_pivot[0]+family_pivot[1]\n",
    "family_pivot['coeff'] = (family_pivot[1]/family_pivot['sum']).round(4)\n",
    "display(family_pivot.sort_values(by = 'coeff'))"
   ]
  },
  {
   "cell_type": "markdown",
   "metadata": {},
   "source": [
    "**Вывод**\n",
    "\n",
    "Из сводной таблицы видим, что заёмщиками становятся чаще люди, состоящие в официальном браке. Они и те, кто хоть однажды состоял в зарегестрированных отношениях, менее склонны иметь задолженность по кредитам. Вероятно, такие люди ответственнее подходят к выплатам, более умело распоряжаются собственным бюджетом. На втором месте по частоте взятия кредита находятся те, кто состоит в \"гражданском браке\". Но, несмотря на то, что в этом случае, как и в случае официальных отношений, пары ведут совместный быт и оба партнера, как правило, имеют независимый доход, партнеры не несут ответственности за действия друг друга, и в случае разрыва отношений, кредит не делится пополам."
   ]
  },
  {
   "cell_type": "markdown",
   "metadata": {},
   "source": [
    "- Есть ли зависимость между уровнем дохода и возвратом кредита в срок?"
   ]
  },
  {
   "cell_type": "code",
   "execution_count": 62,
   "metadata": {},
   "outputs": [
    {
     "data": {
      "text/html": [
       "<div>\n",
       "<style scoped>\n",
       "    .dataframe tbody tr th:only-of-type {\n",
       "        vertical-align: middle;\n",
       "    }\n",
       "\n",
       "    .dataframe tbody tr th {\n",
       "        vertical-align: top;\n",
       "    }\n",
       "\n",
       "    .dataframe thead th {\n",
       "        text-align: right;\n",
       "    }\n",
       "</style>\n",
       "<table border=\"1\" class=\"dataframe\">\n",
       "  <thead>\n",
       "    <tr style=\"text-align: right;\">\n",
       "      <th>debt</th>\n",
       "      <th>0</th>\n",
       "      <th>1</th>\n",
       "      <th>sum</th>\n",
       "      <th>coeff</th>\n",
       "    </tr>\n",
       "    <tr>\n",
       "      <th>level_of_income</th>\n",
       "      <th></th>\n",
       "      <th></th>\n",
       "      <th></th>\n",
       "      <th></th>\n",
       "    </tr>\n",
       "  </thead>\n",
       "  <tbody>\n",
       "    <tr>\n",
       "      <td>100%</td>\n",
       "      <td>4981</td>\n",
       "      <td>383</td>\n",
       "      <td>5364</td>\n",
       "      <td>0.0714</td>\n",
       "    </tr>\n",
       "    <tr>\n",
       "      <td>25%</td>\n",
       "      <td>4937</td>\n",
       "      <td>427</td>\n",
       "      <td>5364</td>\n",
       "      <td>0.0796</td>\n",
       "    </tr>\n",
       "    <tr>\n",
       "      <td>75%</td>\n",
       "      <td>4799</td>\n",
       "      <td>448</td>\n",
       "      <td>5247</td>\n",
       "      <td>0.0854</td>\n",
       "    </tr>\n",
       "    <tr>\n",
       "      <td>50%</td>\n",
       "      <td>4996</td>\n",
       "      <td>483</td>\n",
       "      <td>5479</td>\n",
       "      <td>0.0882</td>\n",
       "    </tr>\n",
       "  </tbody>\n",
       "</table>\n",
       "</div>"
      ],
      "text/plain": [
       "debt                0    1   sum   coeff\n",
       "level_of_income                         \n",
       "100%             4981  383  5364  0.0714\n",
       "25%              4937  427  5364  0.0796\n",
       "75%              4799  448  5247  0.0854\n",
       "50%              4996  483  5479  0.0882"
      ]
     },
     "metadata": {},
     "output_type": "display_data"
    }
   ],
   "source": [
    "income_pivot = df.pivot_table(index = ['level_of_income'], columns = 'debt', values = 'dob_years', aggfunc = 'count')\n",
    "income_pivot['sum'] = income_pivot[0]+income_pivot[1]\n",
    "income_pivot['coeff'] = (income_pivot[1]/income_pivot['sum']).round(4)\n",
    "display(income_pivot.sort_values(by = 'coeff'))"
   ]
  },
  {
   "cell_type": "markdown",
   "metadata": {},
   "source": [
    "**Вывод**\n",
    "\n",
    "Из полученных результатов можно сделать вывод о том, что люди с разными уровнями достатка одинаково часто берут кредиты. Вполне ожидаемо, что те, кто имеет доход больше, чем 75% остальных представителей выборки, менее подвержены риску задолженности. Но любопытно, что заёмщики с наименьший доход вероятнее соблюдут условия договора. А вот люди со средним достатком более склонны становиться должниками."
   ]
  },
  {
   "cell_type": "markdown",
   "metadata": {},
   "source": [
    "- Как разные цели кредита влияют на его возврат в срок?"
   ]
  },
  {
   "cell_type": "code",
   "execution_count": 63,
   "metadata": {},
   "outputs": [
    {
     "data": {
      "text/html": [
       "<div>\n",
       "<style scoped>\n",
       "    .dataframe tbody tr th:only-of-type {\n",
       "        vertical-align: middle;\n",
       "    }\n",
       "\n",
       "    .dataframe tbody tr th {\n",
       "        vertical-align: top;\n",
       "    }\n",
       "\n",
       "    .dataframe thead th {\n",
       "        text-align: right;\n",
       "    }\n",
       "</style>\n",
       "<table border=\"1\" class=\"dataframe\">\n",
       "  <thead>\n",
       "    <tr style=\"text-align: right;\">\n",
       "      <th>debt</th>\n",
       "      <th>0</th>\n",
       "      <th>1</th>\n",
       "      <th>sum</th>\n",
       "      <th>coeff</th>\n",
       "    </tr>\n",
       "    <tr>\n",
       "      <th>purpose_group</th>\n",
       "      <th></th>\n",
       "      <th></th>\n",
       "      <th></th>\n",
       "      <th></th>\n",
       "    </tr>\n",
       "  </thead>\n",
       "  <tbody>\n",
       "    <tr>\n",
       "      <td>жилищный кредит</td>\n",
       "      <td>8817</td>\n",
       "      <td>683</td>\n",
       "      <td>9500</td>\n",
       "      <td>0.0719</td>\n",
       "    </tr>\n",
       "    <tr>\n",
       "      <td>кредит на развитие</td>\n",
       "      <td>1212</td>\n",
       "      <td>99</td>\n",
       "      <td>1311</td>\n",
       "      <td>0.0755</td>\n",
       "    </tr>\n",
       "    <tr>\n",
       "      <td>свадьба</td>\n",
       "      <td>2138</td>\n",
       "      <td>186</td>\n",
       "      <td>2324</td>\n",
       "      <td>0.0800</td>\n",
       "    </tr>\n",
       "    <tr>\n",
       "      <td>обучение</td>\n",
       "      <td>3643</td>\n",
       "      <td>370</td>\n",
       "      <td>4013</td>\n",
       "      <td>0.0922</td>\n",
       "    </tr>\n",
       "    <tr>\n",
       "      <td>автокредит</td>\n",
       "      <td>3903</td>\n",
       "      <td>403</td>\n",
       "      <td>4306</td>\n",
       "      <td>0.0936</td>\n",
       "    </tr>\n",
       "  </tbody>\n",
       "</table>\n",
       "</div>"
      ],
      "text/plain": [
       "debt                   0    1   sum   coeff\n",
       "purpose_group                              \n",
       "жилищный кредит     8817  683  9500  0.0719\n",
       "кредит на развитие  1212   99  1311  0.0755\n",
       "свадьба             2138  186  2324  0.0800\n",
       "обучение            3643  370  4013  0.0922\n",
       "автокредит          3903  403  4306  0.0936"
      ]
     },
     "metadata": {},
     "output_type": "display_data"
    }
   ],
   "source": [
    "purpose_pivot = df.pivot_table(index = ['purpose_group'], columns = 'debt', values = 'dob_years', aggfunc = 'count')\n",
    "purpose_pivot['sum'] = purpose_pivot[0]+purpose_pivot[1]\n",
    "purpose_pivot['coeff'] = (purpose_pivot[1]/purpose_pivot['sum']).round(4)\n",
    "display(purpose_pivot.sort_values(by = 'coeff'))"
   ]
  },
  {
   "cell_type": "markdown",
   "metadata": {},
   "source": [
    "**Вывод**\n",
    "\n",
    "Итак, жилищный кредит наиболее популярен среди заёмщиков и они ответственне подходят к возврату задолженности. Хуже статистика по возврату кредита у тех, кто берет кредит на образование и на покупку автомобиля."
   ]
  },
  {
   "cell_type": "markdown",
   "metadata": {},
   "source": [
    "## Общий вывод"
   ]
  },
  {
   "cell_type": "markdown",
   "metadata": {},
   "source": [
    "Итак, в ходе исследования надежности заёмщиков кредитного отдела банка нужно было разобраться, как влияют некоторые параметры, как то: семейное положение, наличие детей, уровень дохода и цели кредита, - на его возврат в срок. Были сделаны следующие выводы:\n",
    "\n",
    "1) Наличие детей увеличивает вероятность задолженности по кредитам. Наиболее надежными заёмщиками по результатам анализа оказались те, кто не имеет детей.\n",
    "\n",
    "2) Люди, состоящие или состоявшие хотя бы однажды в браке, обычно более дисциплинированно платят по долгам.\n",
    "\n",
    "3) Заёмщики, имеющие доход больше, чем 75% остальных представителей выборки, меньше подвержены риску задолженности. А люди со средним достатком более склонны становиться должниками.\n",
    "\n",
    "4) Наиболее надежными заёмщиками оказались те, целью кредита которых были операции с недвижимостью."
   ]
  }
 ],
 "metadata": {
  "ExecuteTimeLog": [
   {
    "duration": 732,
    "start_time": "2021-06-27T17:24:57.637Z"
   },
   {
    "duration": 63,
    "start_time": "2021-06-27T17:25:26.079Z"
   },
   {
    "duration": 59,
    "start_time": "2021-06-27T17:25:55.546Z"
   },
   {
    "duration": 83,
    "start_time": "2021-06-27T17:27:23.771Z"
   },
   {
    "duration": 15,
    "start_time": "2021-06-27T17:27:57.024Z"
   },
   {
    "duration": 815,
    "start_time": "2021-06-28T15:13:32.915Z"
   },
   {
    "duration": 27,
    "start_time": "2021-06-28T15:13:33.733Z"
   },
   {
    "duration": 374,
    "start_time": "2021-06-28T15:13:50.722Z"
   },
   {
    "duration": 6,
    "start_time": "2021-06-28T15:13:59.405Z"
   },
   {
    "duration": 13,
    "start_time": "2021-06-28T15:15:24.427Z"
   },
   {
    "duration": 15,
    "start_time": "2021-06-28T15:17:02.972Z"
   },
   {
    "duration": 17,
    "start_time": "2021-06-28T15:17:51.347Z"
   },
   {
    "duration": 18,
    "start_time": "2021-06-28T15:17:53.765Z"
   },
   {
    "duration": 6,
    "start_time": "2021-06-28T16:18:52.688Z"
   },
   {
    "duration": 5,
    "start_time": "2021-06-28T16:32:21.799Z"
   },
   {
    "duration": 6,
    "start_time": "2021-06-28T16:32:28.116Z"
   },
   {
    "duration": 6,
    "start_time": "2021-06-28T16:40:26.443Z"
   },
   {
    "duration": 93,
    "start_time": "2021-06-28T16:43:10.029Z"
   },
   {
    "duration": 806,
    "start_time": "2021-06-28T16:43:15.289Z"
   },
   {
    "duration": 264,
    "start_time": "2021-06-28T16:43:20.717Z"
   },
   {
    "duration": 7,
    "start_time": "2021-06-28T16:43:41.706Z"
   },
   {
    "duration": 267,
    "start_time": "2021-06-28T16:43:42.644Z"
   },
   {
    "duration": 7,
    "start_time": "2021-06-28T16:44:06.897Z"
   },
   {
    "duration": 8,
    "start_time": "2021-06-28T16:44:09.774Z"
   },
   {
    "duration": 10,
    "start_time": "2021-06-28T16:44:20.456Z"
   },
   {
    "duration": 10,
    "start_time": "2021-06-28T16:46:00.989Z"
   },
   {
    "duration": 259,
    "start_time": "2021-06-28T16:47:22.724Z"
   },
   {
    "duration": 11,
    "start_time": "2021-06-28T16:47:31.460Z"
   },
   {
    "duration": 10,
    "start_time": "2021-06-28T16:54:45.168Z"
   },
   {
    "duration": 10,
    "start_time": "2021-06-28T16:55:22.861Z"
   },
   {
    "duration": 5,
    "start_time": "2021-06-28T17:04:10.005Z"
   },
   {
    "duration": 7,
    "start_time": "2021-06-28T17:05:37.934Z"
   },
   {
    "duration": 264,
    "start_time": "2021-06-28T17:29:01.154Z"
   },
   {
    "duration": 6,
    "start_time": "2021-06-28T17:29:07.503Z"
   },
   {
    "duration": 5,
    "start_time": "2021-06-28T17:29:08.038Z"
   },
   {
    "duration": 636,
    "start_time": "2021-06-28T17:36:52.884Z"
   },
   {
    "duration": 565,
    "start_time": "2021-06-28T17:38:01.417Z"
   },
   {
    "duration": 521,
    "start_time": "2021-06-28T17:38:36.089Z"
   },
   {
    "duration": 513,
    "start_time": "2021-06-28T18:14:09.400Z"
   },
   {
    "duration": 83,
    "start_time": "2021-06-28T18:14:28.426Z"
   },
   {
    "duration": 87,
    "start_time": "2021-06-28T18:23:00.033Z"
   },
   {
    "duration": 49,
    "start_time": "2021-06-28T18:23:19.154Z"
   },
   {
    "duration": 8,
    "start_time": "2021-06-28T18:52:02.195Z"
   },
   {
    "duration": 8,
    "start_time": "2021-06-28T18:52:21.856Z"
   },
   {
    "duration": 9,
    "start_time": "2021-06-28T18:52:55.461Z"
   },
   {
    "duration": 17,
    "start_time": "2021-06-28T18:53:59.974Z"
   },
   {
    "duration": 14,
    "start_time": "2021-06-28T18:54:06.779Z"
   },
   {
    "duration": 10,
    "start_time": "2021-06-28T18:54:33.673Z"
   },
   {
    "duration": 13,
    "start_time": "2021-06-28T18:54:57.170Z"
   },
   {
    "duration": 6,
    "start_time": "2021-06-28T19:13:28.475Z"
   },
   {
    "duration": 267,
    "start_time": "2021-06-28T19:16:44.186Z"
   },
   {
    "duration": 17,
    "start_time": "2021-06-28T19:16:51.840Z"
   },
   {
    "duration": 14,
    "start_time": "2021-06-28T19:16:54.803Z"
   },
   {
    "duration": 13,
    "start_time": "2021-06-28T19:16:57.088Z"
   },
   {
    "duration": 10,
    "start_time": "2021-06-28T19:18:59.108Z"
   },
   {
    "duration": 17,
    "start_time": "2021-06-28T19:19:59.290Z"
   },
   {
    "duration": 25,
    "start_time": "2021-06-28T19:20:10.043Z"
   },
   {
    "duration": 410,
    "start_time": "2021-06-28T19:20:42.061Z"
   },
   {
    "duration": 19,
    "start_time": "2021-06-28T19:20:47.316Z"
   },
   {
    "duration": 15,
    "start_time": "2021-06-28T19:21:51.728Z"
   },
   {
    "duration": 13,
    "start_time": "2021-06-28T19:24:31.869Z"
   },
   {
    "duration": 317,
    "start_time": "2021-06-28T19:26:39.575Z"
   },
   {
    "duration": 274,
    "start_time": "2021-06-28T19:27:33.714Z"
   },
   {
    "duration": 94,
    "start_time": "2021-06-28T19:28:33.452Z"
   },
   {
    "duration": 91,
    "start_time": "2021-06-28T19:28:42.161Z"
   },
   {
    "duration": 4,
    "start_time": "2021-06-28T19:28:48.275Z"
   },
   {
    "duration": 4,
    "start_time": "2021-06-28T19:29:58.999Z"
   },
   {
    "duration": 550,
    "start_time": "2021-06-28T19:29:59.526Z"
   },
   {
    "duration": 4,
    "start_time": "2021-06-28T19:31:42.993Z"
   },
   {
    "duration": 524,
    "start_time": "2021-06-28T19:31:43.564Z"
   },
   {
    "duration": 4,
    "start_time": "2021-06-28T19:32:49.021Z"
   },
   {
    "duration": 271,
    "start_time": "2021-06-28T19:32:59.642Z"
   },
   {
    "duration": 7,
    "start_time": "2021-06-28T19:33:04.032Z"
   },
   {
    "duration": 6,
    "start_time": "2021-06-28T19:34:23.934Z"
   },
   {
    "duration": 599,
    "start_time": "2021-06-28T19:34:24.421Z"
   },
   {
    "duration": 8,
    "start_time": "2021-06-28T19:35:11.077Z"
   },
   {
    "duration": 3,
    "start_time": "2021-06-28T19:35:13.771Z"
   },
   {
    "duration": 7,
    "start_time": "2021-06-28T19:35:14.211Z"
   },
   {
    "duration": 6,
    "start_time": "2021-06-28T19:37:35.979Z"
   },
   {
    "duration": 4,
    "start_time": "2021-06-28T19:37:36.898Z"
   },
   {
    "duration": 6,
    "start_time": "2021-06-28T19:37:38.456Z"
   },
   {
    "duration": 561,
    "start_time": "2021-06-28T19:37:53.502Z"
   },
   {
    "duration": 6,
    "start_time": "2021-06-28T19:39:23.363Z"
   },
   {
    "duration": 4,
    "start_time": "2021-06-28T19:39:23.875Z"
   },
   {
    "duration": 7,
    "start_time": "2021-06-28T19:39:24.289Z"
   },
   {
    "duration": 652,
    "start_time": "2021-06-28T19:39:25.472Z"
   },
   {
    "duration": 6,
    "start_time": "2021-06-28T19:41:29.577Z"
   },
   {
    "duration": 4,
    "start_time": "2021-06-28T19:41:30.368Z"
   },
   {
    "duration": 7,
    "start_time": "2021-06-28T19:41:31.056Z"
   },
   {
    "duration": 8,
    "start_time": "2021-06-28T19:41:41.638Z"
   },
   {
    "duration": 4,
    "start_time": "2021-06-28T19:41:43.756Z"
   },
   {
    "duration": 7,
    "start_time": "2021-06-28T19:41:44.434Z"
   },
   {
    "duration": 5,
    "start_time": "2021-06-28T19:41:45.779Z"
   },
   {
    "duration": 85,
    "start_time": "2021-06-28T19:42:06.013Z"
   },
   {
    "duration": 15,
    "start_time": "2021-06-28T19:42:06.101Z"
   },
   {
    "duration": 69,
    "start_time": "2021-06-28T19:42:06.119Z"
   },
   {
    "duration": 16,
    "start_time": "2021-06-28T19:42:07.241Z"
   },
   {
    "duration": 15,
    "start_time": "2021-06-28T19:42:08.974Z"
   },
   {
    "duration": 14,
    "start_time": "2021-06-28T19:42:09.830Z"
   },
   {
    "duration": 11,
    "start_time": "2021-06-28T19:42:11.217Z"
   },
   {
    "duration": 11,
    "start_time": "2021-06-28T19:42:12.189Z"
   },
   {
    "duration": 7,
    "start_time": "2021-06-28T19:42:14.707Z"
   },
   {
    "duration": 10,
    "start_time": "2021-06-28T19:42:14.717Z"
   },
   {
    "duration": 8,
    "start_time": "2021-06-28T19:42:14.936Z"
   },
   {
    "duration": 5,
    "start_time": "2021-06-28T19:42:41.035Z"
   },
   {
    "duration": 3,
    "start_time": "2021-06-28T19:42:41.581Z"
   },
   {
    "duration": 8,
    "start_time": "2021-06-28T19:42:42.326Z"
   },
   {
    "duration": 7,
    "start_time": "2021-06-28T19:42:43.306Z"
   },
   {
    "duration": 7,
    "start_time": "2021-06-28T19:43:56.021Z"
   },
   {
    "duration": 4,
    "start_time": "2021-06-28T19:43:56.956Z"
   },
   {
    "duration": 7,
    "start_time": "2021-06-28T19:43:57.462Z"
   },
   {
    "duration": 5,
    "start_time": "2021-06-28T19:43:58.666Z"
   },
   {
    "duration": 7,
    "start_time": "2021-06-28T19:44:25.092Z"
   },
   {
    "duration": 325,
    "start_time": "2021-06-28T19:44:25.593Z"
   },
   {
    "duration": 6,
    "start_time": "2021-06-28T19:44:26.108Z"
   },
   {
    "duration": 6,
    "start_time": "2021-06-28T19:44:27.106Z"
   },
   {
    "duration": 6,
    "start_time": "2021-06-28T19:45:25.884Z"
   },
   {
    "duration": 332,
    "start_time": "2021-06-28T19:45:26.611Z"
   },
   {
    "duration": 4,
    "start_time": "2021-06-28T19:45:32.945Z"
   },
   {
    "duration": 7,
    "start_time": "2021-06-28T19:45:34.498Z"
   },
   {
    "duration": 3,
    "start_time": "2021-06-28T19:45:35.584Z"
   },
   {
    "duration": 602,
    "start_time": "2021-06-28T19:46:08.822Z"
   },
   {
    "duration": 7,
    "start_time": "2021-06-28T19:46:26.273Z"
   },
   {
    "duration": 7,
    "start_time": "2021-06-28T19:46:31.429Z"
   },
   {
    "duration": 3435,
    "start_time": "2021-06-28T19:47:03.554Z"
   },
   {
    "duration": 181447,
    "start_time": "2021-06-28T19:44:05.545Z"
   },
   {
    "duration": 3403,
    "start_time": "2021-06-28T19:47:22.515Z"
   },
   {
    "duration": 181460,
    "start_time": "2021-06-28T19:44:24.460Z"
   },
   {
    "duration": 1005,
    "start_time": "2021-06-28T19:48:24.348Z"
   },
   {
    "duration": 181464,
    "start_time": "2021-06-28T19:45:23.892Z"
   },
   {
    "duration": 1206,
    "start_time": "2021-06-28T19:48:34.480Z"
   },
   {
    "duration": 181459,
    "start_time": "2021-06-28T19:45:34.230Z"
   },
   {
    "duration": 1011,
    "start_time": "2021-06-28T19:49:34.978Z"
   },
   {
    "duration": 181459,
    "start_time": "2021-06-28T19:46:34.533Z"
   },
   {
    "duration": 7,
    "start_time": "2021-06-28T19:50:05.518Z"
   },
   {
    "duration": 4,
    "start_time": "2021-06-28T19:50:06.005Z"
   },
   {
    "duration": 7,
    "start_time": "2021-06-28T19:50:06.609Z"
   },
   {
    "duration": 3,
    "start_time": "2021-06-28T19:50:07.146Z"
   },
   {
    "duration": 1027,
    "start_time": "2021-06-28T19:50:07.918Z"
   },
   {
    "duration": 8,
    "start_time": "2021-06-28T19:50:09.081Z"
   },
   {
    "duration": 6,
    "start_time": "2021-06-28T19:57:14.650Z"
   },
   {
    "duration": 3,
    "start_time": "2021-06-28T19:57:15.544Z"
   },
   {
    "duration": 6,
    "start_time": "2021-06-28T19:57:16.280Z"
   },
   {
    "duration": 6,
    "start_time": "2021-06-28T19:57:17.508Z"
   },
   {
    "duration": 1249,
    "start_time": "2021-06-28T19:57:19.148Z"
   },
   {
    "duration": 1075,
    "start_time": "2021-06-28T19:57:29.496Z"
   },
   {
    "duration": 8,
    "start_time": "2021-06-28T19:57:30.645Z"
   },
   {
    "duration": 276,
    "start_time": "2021-06-28T19:58:58.692Z"
   },
   {
    "duration": 1076,
    "start_time": "2021-06-28T20:00:23.040Z"
   },
   {
    "duration": 7,
    "start_time": "2021-06-28T20:00:24.250Z"
   },
   {
    "duration": 1058,
    "start_time": "2021-06-28T20:00:32.928Z"
   },
   {
    "duration": 181466,
    "start_time": "2021-06-28T19:57:32.523Z"
   },
   {
    "duration": 270,
    "start_time": "2021-06-28T20:00:42.869Z"
   },
   {
    "duration": 105,
    "start_time": "2021-06-28T20:00:55.675Z"
   },
   {
    "duration": 20,
    "start_time": "2021-06-28T20:00:56.360Z"
   },
   {
    "duration": 53,
    "start_time": "2021-06-28T20:00:57.661Z"
   },
   {
    "duration": 15,
    "start_time": "2021-06-28T20:00:59.697Z"
   },
   {
    "duration": 12,
    "start_time": "2021-06-28T20:01:02.476Z"
   },
   {
    "duration": 17,
    "start_time": "2021-06-28T20:01:03.873Z"
   },
   {
    "duration": 9,
    "start_time": "2021-06-28T20:01:06.100Z"
   },
   {
    "duration": 12,
    "start_time": "2021-06-28T20:01:07.641Z"
   },
   {
    "duration": 6,
    "start_time": "2021-06-28T20:01:11.719Z"
   },
   {
    "duration": 4,
    "start_time": "2021-06-28T20:01:13.197Z"
   },
   {
    "duration": 8,
    "start_time": "2021-06-28T20:01:14.080Z"
   },
   {
    "duration": 5,
    "start_time": "2021-06-28T20:01:14.788Z"
   },
   {
    "duration": 3645,
    "start_time": "2021-06-28T20:01:15.672Z"
   },
   {
    "duration": 181459,
    "start_time": "2021-06-28T19:58:17.862Z"
   },
   {
    "duration": 82,
    "start_time": "2021-06-28T20:01:37.405Z"
   },
   {
    "duration": 15,
    "start_time": "2021-06-28T20:01:37.833Z"
   },
   {
    "duration": 50,
    "start_time": "2021-06-28T20:01:38.982Z"
   },
   {
    "duration": 13,
    "start_time": "2021-06-28T20:01:40.589Z"
   },
   {
    "duration": 12,
    "start_time": "2021-06-28T20:01:42.516Z"
   },
   {
    "duration": 12,
    "start_time": "2021-06-28T20:01:43.515Z"
   },
   {
    "duration": 10,
    "start_time": "2021-06-28T20:01:44.929Z"
   },
   {
    "duration": 11,
    "start_time": "2021-06-28T20:01:46.129Z"
   },
   {
    "duration": 6,
    "start_time": "2021-06-28T20:01:47.788Z"
   },
   {
    "duration": 4,
    "start_time": "2021-06-28T20:01:48.434Z"
   },
   {
    "duration": 8,
    "start_time": "2021-06-28T20:01:49.204Z"
   },
   {
    "duration": 5,
    "start_time": "2021-06-28T20:01:49.989Z"
   },
   {
    "duration": 649,
    "start_time": "2021-06-28T20:01:50.835Z"
   },
   {
    "duration": 22,
    "start_time": "2021-06-28T20:01:52.606Z"
   },
   {
    "duration": 36,
    "start_time": "2021-06-28T20:02:10.108Z"
   },
   {
    "duration": 6742,
    "start_time": "2021-06-28T20:03:47.662Z"
   },
   {
    "duration": 181489,
    "start_time": "2021-06-28T20:01:09.588Z"
   },
   {
    "duration": 7,
    "start_time": "2021-06-28T20:04:13.682Z"
   },
   {
    "duration": 7,
    "start_time": "2021-06-28T20:04:23.867Z"
   },
   {
    "duration": 5,
    "start_time": "2021-06-28T20:06:11.031Z"
   },
   {
    "duration": 6,
    "start_time": "2021-06-28T20:06:24.428Z"
   },
   {
    "duration": 4,
    "start_time": "2021-06-28T20:06:25.179Z"
   },
   {
    "duration": 7,
    "start_time": "2021-06-28T20:06:25.779Z"
   },
   {
    "duration": 5,
    "start_time": "2021-06-28T20:06:26.401Z"
   },
   {
    "duration": 687,
    "start_time": "2021-06-28T20:06:27.371Z"
   },
   {
    "duration": 46,
    "start_time": "2021-06-28T20:06:28.331Z"
   },
   {
    "duration": 6,
    "start_time": "2021-06-28T20:07:41.374Z"
   },
   {
    "duration": 4,
    "start_time": "2021-06-28T20:07:42.019Z"
   },
   {
    "duration": 8,
    "start_time": "2021-06-28T20:07:42.722Z"
   },
   {
    "duration": 5,
    "start_time": "2021-06-28T20:07:43.395Z"
   },
   {
    "duration": 611,
    "start_time": "2021-06-28T20:07:44.080Z"
   },
   {
    "duration": 35,
    "start_time": "2021-06-28T20:07:44.884Z"
   },
   {
    "duration": 4,
    "start_time": "2021-06-28T20:08:19.165Z"
   },
   {
    "duration": 7,
    "start_time": "2021-06-28T20:08:19.618Z"
   },
   {
    "duration": 5,
    "start_time": "2021-06-28T20:08:23.081Z"
   },
   {
    "duration": 5,
    "start_time": "2021-06-28T20:09:00.093Z"
   },
   {
    "duration": 5,
    "start_time": "2021-06-28T20:09:01.533Z"
   },
   {
    "duration": 11,
    "start_time": "2021-06-28T20:09:02.255Z"
   },
   {
    "duration": 5,
    "start_time": "2021-06-28T20:09:03.606Z"
   },
   {
    "duration": 8,
    "start_time": "2021-06-28T20:09:11.180Z"
   },
   {
    "duration": 8,
    "start_time": "2021-06-28T20:09:11.869Z"
   },
   {
    "duration": 7,
    "start_time": "2021-06-28T20:09:12.506Z"
   },
   {
    "duration": 7,
    "start_time": "2021-06-28T20:09:13.159Z"
   },
   {
    "duration": 677,
    "start_time": "2021-06-28T20:09:16.071Z"
   },
   {
    "duration": 9,
    "start_time": "2021-06-28T20:11:56.581Z"
   },
   {
    "duration": 4,
    "start_time": "2021-06-28T20:11:57.149Z"
   },
   {
    "duration": 11,
    "start_time": "2021-06-28T20:11:57.655Z"
   },
   {
    "duration": 6,
    "start_time": "2021-06-28T20:11:58.858Z"
   },
   {
    "duration": 743,
    "start_time": "2021-06-28T20:11:59.489Z"
   },
   {
    "duration": 35,
    "start_time": "2021-06-28T20:12:09.384Z"
   },
   {
    "duration": 6,
    "start_time": "2021-06-28T20:12:10.863Z"
   },
   {
    "duration": 6,
    "start_time": "2021-06-28T20:12:56.588Z"
   },
   {
    "duration": 3,
    "start_time": "2021-06-28T20:12:57.103Z"
   },
   {
    "duration": 9,
    "start_time": "2021-06-28T20:12:57.573Z"
   },
   {
    "duration": 5,
    "start_time": "2021-06-28T20:12:58.072Z"
   },
   {
    "duration": 711,
    "start_time": "2021-06-28T20:12:58.706Z"
   },
   {
    "duration": 41,
    "start_time": "2021-06-28T20:12:59.573Z"
   },
   {
    "duration": 5,
    "start_time": "2021-06-28T20:13:01.248Z"
   },
   {
    "duration": 7,
    "start_time": "2021-06-28T20:14:09.530Z"
   },
   {
    "duration": 4,
    "start_time": "2021-06-28T20:14:10.078Z"
   },
   {
    "duration": 9,
    "start_time": "2021-06-28T20:14:10.580Z"
   },
   {
    "duration": 21,
    "start_time": "2021-06-28T20:14:11.072Z"
   },
   {
    "duration": 746,
    "start_time": "2021-06-28T20:14:11.711Z"
   },
   {
    "duration": 40,
    "start_time": "2021-06-28T20:14:12.469Z"
   },
   {
    "duration": 5,
    "start_time": "2021-06-28T20:18:12.001Z"
   },
   {
    "duration": 4,
    "start_time": "2021-06-28T20:18:12.633Z"
   },
   {
    "duration": 6,
    "start_time": "2021-06-28T20:18:13.280Z"
   },
   {
    "duration": 15,
    "start_time": "2021-06-28T20:18:13.862Z"
   },
   {
    "duration": 721,
    "start_time": "2021-06-28T20:18:14.561Z"
   },
   {
    "duration": 38,
    "start_time": "2021-06-28T20:18:15.520Z"
   },
   {
    "duration": 834,
    "start_time": "2021-06-28T20:21:11.147Z"
   },
   {
    "duration": 54,
    "start_time": "2021-06-28T20:21:12.058Z"
   },
   {
    "duration": 6,
    "start_time": "2021-06-28T20:21:13.129Z"
   },
   {
    "duration": 80,
    "start_time": "2021-06-28T20:48:11.993Z"
   },
   {
    "duration": 14,
    "start_time": "2021-06-28T20:48:12.522Z"
   },
   {
    "duration": 46,
    "start_time": "2021-06-28T20:48:13.775Z"
   },
   {
    "duration": 14,
    "start_time": "2021-06-28T20:48:15.688Z"
   },
   {
    "duration": 13,
    "start_time": "2021-06-28T20:48:18.496Z"
   },
   {
    "duration": 13,
    "start_time": "2021-06-28T20:48:19.526Z"
   },
   {
    "duration": 12,
    "start_time": "2021-06-28T20:48:21.062Z"
   },
   {
    "duration": 13,
    "start_time": "2021-06-28T20:48:24.161Z"
   },
   {
    "duration": 6,
    "start_time": "2021-06-28T20:48:27.297Z"
   },
   {
    "duration": 91,
    "start_time": "2021-06-28T20:51:53.050Z"
   },
   {
    "duration": 6,
    "start_time": "2021-06-28T20:52:04.307Z"
   },
   {
    "duration": 4,
    "start_time": "2021-06-28T20:52:05.161Z"
   },
   {
    "duration": 8,
    "start_time": "2021-06-28T20:52:05.857Z"
   },
   {
    "duration": 4,
    "start_time": "2021-06-28T20:52:06.987Z"
   },
   {
    "duration": 647,
    "start_time": "2021-06-28T20:52:07.858Z"
   },
   {
    "duration": 33,
    "start_time": "2021-06-28T20:52:08.687Z"
   },
   {
    "duration": 6,
    "start_time": "2021-06-28T20:52:31.690Z"
   },
   {
    "duration": 4,
    "start_time": "2021-06-28T20:52:32.233Z"
   },
   {
    "duration": 6,
    "start_time": "2021-06-28T20:52:32.738Z"
   },
   {
    "duration": 4,
    "start_time": "2021-06-28T20:52:33.307Z"
   },
   {
    "duration": 642,
    "start_time": "2021-06-28T20:52:33.882Z"
   },
   {
    "duration": 34,
    "start_time": "2021-06-28T20:52:34.563Z"
   },
   {
    "duration": 6,
    "start_time": "2021-06-28T20:52:35.482Z"
   },
   {
    "duration": 6,
    "start_time": "2021-06-28T20:53:22.743Z"
   },
   {
    "duration": 4,
    "start_time": "2021-06-28T20:53:23.253Z"
   },
   {
    "duration": 6,
    "start_time": "2021-06-28T20:53:23.673Z"
   },
   {
    "duration": 4,
    "start_time": "2021-06-28T20:53:24.191Z"
   },
   {
    "duration": 664,
    "start_time": "2021-06-28T20:53:24.733Z"
   },
   {
    "duration": 33,
    "start_time": "2021-06-28T20:53:25.404Z"
   },
   {
    "duration": 6,
    "start_time": "2021-06-28T20:53:26.295Z"
   },
   {
    "duration": 6,
    "start_time": "2021-06-28T20:54:09.823Z"
   },
   {
    "duration": 4,
    "start_time": "2021-06-28T20:54:10.351Z"
   },
   {
    "duration": 7,
    "start_time": "2021-06-28T20:54:10.772Z"
   },
   {
    "duration": 3,
    "start_time": "2021-06-28T20:54:11.390Z"
   },
   {
    "duration": 4443,
    "start_time": "2021-06-28T20:54:11.960Z"
   },
   {
    "duration": 181600,
    "start_time": "2021-06-28T20:51:14.807Z"
   },
   {
    "duration": 181582,
    "start_time": "2021-06-28T20:51:14.827Z"
   },
   {
    "duration": 6,
    "start_time": "2021-06-28T20:56:25.742Z"
   },
   {
    "duration": 4,
    "start_time": "2021-06-28T20:56:26.369Z"
   },
   {
    "duration": 7,
    "start_time": "2021-06-28T20:56:27.116Z"
   },
   {
    "duration": 4,
    "start_time": "2021-06-28T20:56:28.089Z"
   },
   {
    "duration": 687,
    "start_time": "2021-06-28T20:56:28.795Z"
   },
   {
    "duration": 35,
    "start_time": "2021-06-28T20:56:30.385Z"
   },
   {
    "duration": 6,
    "start_time": "2021-06-28T20:56:31.568Z"
   },
   {
    "duration": 7,
    "start_time": "2021-06-28T20:57:15.691Z"
   },
   {
    "duration": 4,
    "start_time": "2021-06-28T20:57:16.192Z"
   },
   {
    "duration": 7,
    "start_time": "2021-06-28T20:57:16.717Z"
   },
   {
    "duration": 6,
    "start_time": "2021-06-28T20:57:17.284Z"
   },
   {
    "duration": 689,
    "start_time": "2021-06-28T20:57:18.084Z"
   },
   {
    "duration": 31,
    "start_time": "2021-06-28T20:57:18.776Z"
   },
   {
    "duration": 641,
    "start_time": "2021-06-28T20:57:56.044Z"
   },
   {
    "duration": 6,
    "start_time": "2021-06-28T20:57:58.948Z"
   },
   {
    "duration": 4,
    "start_time": "2021-06-28T20:57:59.407Z"
   },
   {
    "duration": 8,
    "start_time": "2021-06-28T20:57:59.847Z"
   },
   {
    "duration": 6,
    "start_time": "2021-06-28T20:58:00.375Z"
   },
   {
    "duration": 641,
    "start_time": "2021-06-28T20:58:00.893Z"
   },
   {
    "duration": 38,
    "start_time": "2021-06-28T20:58:01.759Z"
   },
   {
    "duration": 6,
    "start_time": "2021-06-28T20:58:03.753Z"
   },
   {
    "duration": 87,
    "start_time": "2021-06-28T20:58:20.902Z"
   },
   {
    "duration": 17,
    "start_time": "2021-06-28T20:58:21.366Z"
   },
   {
    "duration": 44,
    "start_time": "2021-06-28T20:58:22.406Z"
   },
   {
    "duration": 14,
    "start_time": "2021-06-28T20:58:23.727Z"
   },
   {
    "duration": 20,
    "start_time": "2021-06-28T20:58:25.821Z"
   },
   {
    "duration": 13,
    "start_time": "2021-06-28T20:58:26.901Z"
   },
   {
    "duration": 10,
    "start_time": "2021-06-28T20:58:28.802Z"
   },
   {
    "duration": 11,
    "start_time": "2021-06-28T20:58:29.711Z"
   },
   {
    "duration": 13,
    "start_time": "2021-06-28T20:58:31.076Z"
   },
   {
    "duration": 4,
    "start_time": "2021-06-28T20:58:31.620Z"
   },
   {
    "duration": 8,
    "start_time": "2021-06-28T20:58:32.079Z"
   },
   {
    "duration": 6,
    "start_time": "2021-06-28T20:58:32.567Z"
   },
   {
    "duration": 700,
    "start_time": "2021-06-28T20:58:33.047Z"
   },
   {
    "duration": 46,
    "start_time": "2021-06-28T20:58:33.750Z"
   },
   {
    "duration": 6,
    "start_time": "2021-06-28T20:58:34.975Z"
   },
   {
    "duration": 87,
    "start_time": "2021-06-28T20:58:59.938Z"
   },
   {
    "duration": 15,
    "start_time": "2021-06-28T20:59:00.423Z"
   },
   {
    "duration": 46,
    "start_time": "2021-06-28T20:59:01.564Z"
   },
   {
    "duration": 13,
    "start_time": "2021-06-28T20:59:03.390Z"
   },
   {
    "duration": 13,
    "start_time": "2021-06-28T20:59:07.819Z"
   },
   {
    "duration": 13,
    "start_time": "2021-06-28T20:59:10.945Z"
   },
   {
    "duration": 9,
    "start_time": "2021-06-28T20:59:13.321Z"
   },
   {
    "duration": 12,
    "start_time": "2021-06-28T20:59:15.149Z"
   },
   {
    "duration": 7,
    "start_time": "2021-06-28T20:59:17.145Z"
   },
   {
    "duration": 3,
    "start_time": "2021-06-28T20:59:17.704Z"
   },
   {
    "duration": 7,
    "start_time": "2021-06-28T20:59:18.207Z"
   },
   {
    "duration": 6,
    "start_time": "2021-06-28T20:59:18.724Z"
   },
   {
    "duration": 663,
    "start_time": "2021-06-28T20:59:19.369Z"
   },
   {
    "duration": 33,
    "start_time": "2021-06-28T20:59:20.186Z"
   },
   {
    "duration": 7,
    "start_time": "2021-06-28T20:59:22.400Z"
   },
   {
    "duration": 7,
    "start_time": "2021-06-28T21:00:57.551Z"
   },
   {
    "duration": 318,
    "start_time": "2021-06-29T15:55:09.876Z"
   },
   {
    "duration": 788,
    "start_time": "2021-06-29T15:55:15.610Z"
   },
   {
    "duration": 15,
    "start_time": "2021-06-29T15:55:16.402Z"
   },
   {
    "duration": 48,
    "start_time": "2021-06-29T15:55:16.941Z"
   },
   {
    "duration": 15,
    "start_time": "2021-06-29T15:55:18.149Z"
   },
   {
    "duration": 13,
    "start_time": "2021-06-29T15:55:19.774Z"
   },
   {
    "duration": 14,
    "start_time": "2021-06-29T15:55:20.577Z"
   },
   {
    "duration": 10,
    "start_time": "2021-06-29T15:55:21.787Z"
   },
   {
    "duration": 12,
    "start_time": "2021-06-29T15:55:22.643Z"
   },
   {
    "duration": 6,
    "start_time": "2021-06-29T15:55:24.099Z"
   },
   {
    "duration": 613,
    "start_time": "2021-06-29T15:55:24.526Z"
   },
   {
    "duration": 181782,
    "start_time": "2021-06-29T15:52:23.360Z"
   },
   {
    "duration": 20,
    "start_time": "2021-06-29T15:55:26.371Z"
   },
   {
    "duration": 82,
    "start_time": "2021-06-29T15:56:18.787Z"
   },
   {
    "duration": 15,
    "start_time": "2021-06-29T15:56:19.504Z"
   },
   {
    "duration": 48,
    "start_time": "2021-06-29T15:56:20.717Z"
   },
   {
    "duration": 15,
    "start_time": "2021-06-29T15:56:22.392Z"
   },
   {
    "duration": 13,
    "start_time": "2021-06-29T15:56:24.829Z"
   },
   {
    "duration": 17,
    "start_time": "2021-06-29T15:56:26.176Z"
   },
   {
    "duration": 14,
    "start_time": "2021-06-29T15:56:27.894Z"
   },
   {
    "duration": 12,
    "start_time": "2021-06-29T15:56:28.937Z"
   },
   {
    "duration": 7,
    "start_time": "2021-06-29T15:56:31.221Z"
   },
   {
    "duration": 666,
    "start_time": "2021-06-29T15:56:31.922Z"
   },
   {
    "duration": 37,
    "start_time": "2021-06-29T15:56:33.428Z"
   },
   {
    "duration": 16,
    "start_time": "2021-06-29T15:56:35.952Z"
   },
   {
    "duration": 14,
    "start_time": "2021-06-29T15:58:18.688Z"
   },
   {
    "duration": 14,
    "start_time": "2021-06-29T15:58:48.740Z"
   },
   {
    "duration": 11,
    "start_time": "2021-06-29T15:58:49.857Z"
   },
   {
    "duration": 7,
    "start_time": "2021-06-29T16:13:05.857Z"
   },
   {
    "duration": 9,
    "start_time": "2021-06-29T16:13:32.390Z"
   },
   {
    "duration": 6,
    "start_time": "2021-06-29T16:14:01.407Z"
   },
   {
    "duration": 11,
    "start_time": "2021-06-29T16:24:42.111Z"
   },
   {
    "duration": 13,
    "start_time": "2021-06-29T16:25:27.726Z"
   },
   {
    "duration": 181826,
    "start_time": "2021-06-29T16:22:56.874Z"
   },
   {
    "duration": 9,
    "start_time": "2021-06-29T16:26:00.549Z"
   },
   {
    "duration": 4,
    "start_time": "2021-06-29T16:28:30.304Z"
   },
   {
    "duration": 10,
    "start_time": "2021-06-29T16:28:41.336Z"
   },
   {
    "duration": 6487,
    "start_time": "2021-06-29T16:32:10.780Z"
   },
   {
    "duration": 7196,
    "start_time": "2021-06-29T16:32:42.290Z"
   },
   {
    "duration": 181784,
    "start_time": "2021-06-29T16:29:47.705Z"
   },
   {
    "duration": 181834,
    "start_time": "2021-06-29T16:30:01.178Z"
   },
   {
    "duration": 89,
    "start_time": "2021-06-29T16:33:24.891Z"
   },
   {
    "duration": 12,
    "start_time": "2021-06-29T16:35:23.845Z"
   },
   {
    "duration": 11,
    "start_time": "2021-06-29T16:35:32.970Z"
   },
   {
    "duration": 11,
    "start_time": "2021-06-29T16:35:43.571Z"
   },
   {
    "duration": 13,
    "start_time": "2021-06-29T16:35:56.551Z"
   },
   {
    "duration": 92,
    "start_time": "2021-06-29T16:47:44.994Z"
   },
   {
    "duration": 284,
    "start_time": "2021-06-29T16:47:50.778Z"
   },
   {
    "duration": 13,
    "start_time": "2021-06-29T16:47:56.269Z"
   },
   {
    "duration": 19,
    "start_time": "2021-06-29T16:51:07.865Z"
   },
   {
    "duration": 274,
    "start_time": "2021-06-29T16:51:29.242Z"
   },
   {
    "duration": 265,
    "start_time": "2021-06-29T16:51:41.087Z"
   },
   {
    "duration": 16,
    "start_time": "2021-06-29T16:51:49.586Z"
   },
   {
    "duration": 15,
    "start_time": "2021-06-29T16:51:54.379Z"
   },
   {
    "duration": 17,
    "start_time": "2021-06-29T16:52:54.663Z"
   },
   {
    "duration": 258,
    "start_time": "2021-06-29T16:53:08.684Z"
   },
   {
    "duration": 15,
    "start_time": "2021-06-29T16:53:16.457Z"
   },
   {
    "duration": 11,
    "start_time": "2021-06-29T17:03:14.575Z"
   },
   {
    "duration": 6,
    "start_time": "2021-06-29T17:06:21.972Z"
   },
   {
    "duration": 5,
    "start_time": "2021-06-29T17:06:30.627Z"
   },
   {
    "duration": 12,
    "start_time": "2021-06-29T17:07:40.588Z"
   },
   {
    "duration": 7,
    "start_time": "2021-06-29T17:07:42.258Z"
   },
   {
    "duration": 572,
    "start_time": "2021-06-29T17:08:13.785Z"
   },
   {
    "duration": 35,
    "start_time": "2021-06-29T17:08:24.616Z"
   },
   {
    "duration": 20,
    "start_time": "2021-06-29T17:08:35.396Z"
   },
   {
    "duration": 8,
    "start_time": "2021-06-29T17:09:22.935Z"
   },
   {
    "duration": 9,
    "start_time": "2021-06-29T17:09:37.603Z"
   },
   {
    "duration": 548,
    "start_time": "2021-06-29T17:11:11.755Z"
   },
   {
    "duration": 15,
    "start_time": "2021-06-29T17:11:17.120Z"
   },
   {
    "duration": 7,
    "start_time": "2021-06-29T17:13:39.932Z"
   },
   {
    "duration": 12,
    "start_time": "2021-06-29T17:13:49.508Z"
   },
   {
    "duration": 13,
    "start_time": "2021-06-29T17:13:55.748Z"
   },
   {
    "duration": 79,
    "start_time": "2021-06-29T17:14:03.309Z"
   },
   {
    "duration": 15,
    "start_time": "2021-06-29T17:14:03.764Z"
   },
   {
    "duration": 46,
    "start_time": "2021-06-29T17:14:05.007Z"
   },
   {
    "duration": 14,
    "start_time": "2021-06-29T17:14:06.675Z"
   },
   {
    "duration": 14,
    "start_time": "2021-06-29T17:14:09.100Z"
   },
   {
    "duration": 13,
    "start_time": "2021-06-29T17:14:10.087Z"
   },
   {
    "duration": 10,
    "start_time": "2021-06-29T17:14:12.275Z"
   },
   {
    "duration": 11,
    "start_time": "2021-06-29T17:14:13.436Z"
   },
   {
    "duration": 6,
    "start_time": "2021-06-29T17:14:15.300Z"
   },
   {
    "duration": 622,
    "start_time": "2021-06-29T17:14:16.447Z"
   },
   {
    "duration": 33,
    "start_time": "2021-06-29T17:14:17.428Z"
   },
   {
    "duration": 6,
    "start_time": "2021-06-29T17:14:19.968Z"
   },
   {
    "duration": 16,
    "start_time": "2021-06-29T17:14:22.544Z"
   },
   {
    "duration": 11,
    "start_time": "2021-06-29T17:17:37.950Z"
   },
   {
    "duration": 6,
    "start_time": "2021-06-29T17:17:40.683Z"
   },
   {
    "duration": 740,
    "start_time": "2021-06-29T17:17:41.977Z"
   },
   {
    "duration": 13,
    "start_time": "2021-06-29T17:17:45.068Z"
   },
   {
    "duration": 246,
    "start_time": "2021-06-29T17:33:33.627Z"
   },
   {
    "duration": 4,
    "start_time": "2021-06-29T17:33:38.086Z"
   },
   {
    "duration": 5,
    "start_time": "2021-06-29T17:33:38.551Z"
   },
   {
    "duration": 25,
    "start_time": "2021-06-29T17:34:18.368Z"
   },
   {
    "duration": 37,
    "start_time": "2021-06-29T17:34:31.168Z"
   },
   {
    "duration": 16,
    "start_time": "2021-06-29T17:36:45.844Z"
   },
   {
    "duration": 11,
    "start_time": "2021-06-29T17:40:30.826Z"
   },
   {
    "duration": 11,
    "start_time": "2021-06-29T17:41:02.140Z"
   },
   {
    "duration": 5,
    "start_time": "2021-06-29T18:07:34.796Z"
   },
   {
    "duration": 10,
    "start_time": "2021-06-29T18:07:39.735Z"
   },
   {
    "duration": 11,
    "start_time": "2021-06-29T18:10:14.654Z"
   },
   {
    "duration": 7,
    "start_time": "2021-06-29T18:12:56.240Z"
   },
   {
    "duration": 6,
    "start_time": "2021-06-29T18:16:26.294Z"
   },
   {
    "duration": 6,
    "start_time": "2021-06-29T18:16:57.694Z"
   },
   {
    "duration": 541,
    "start_time": "2021-06-29T18:16:58.155Z"
   },
   {
    "duration": 33,
    "start_time": "2021-06-29T18:17:09.952Z"
   },
   {
    "duration": 6,
    "start_time": "2021-06-29T18:17:43.417Z"
   },
   {
    "duration": 610,
    "start_time": "2021-06-29T18:17:44.124Z"
   },
   {
    "duration": 35,
    "start_time": "2021-06-29T18:17:45.295Z"
   },
   {
    "duration": 82,
    "start_time": "2021-06-29T18:18:27.414Z"
   },
   {
    "duration": 17,
    "start_time": "2021-06-29T18:18:27.861Z"
   },
   {
    "duration": 48,
    "start_time": "2021-06-29T18:18:29.043Z"
   },
   {
    "duration": 15,
    "start_time": "2021-06-29T18:18:30.652Z"
   },
   {
    "duration": 15,
    "start_time": "2021-06-29T18:18:32.854Z"
   },
   {
    "duration": 15,
    "start_time": "2021-06-29T18:18:33.929Z"
   },
   {
    "duration": 10,
    "start_time": "2021-06-29T18:18:35.727Z"
   },
   {
    "duration": 11,
    "start_time": "2021-06-29T18:18:36.900Z"
   },
   {
    "duration": 6,
    "start_time": "2021-06-29T18:18:38.544Z"
   },
   {
    "duration": 643,
    "start_time": "2021-06-29T18:18:39.131Z"
   },
   {
    "duration": 36,
    "start_time": "2021-06-29T18:18:39.868Z"
   },
   {
    "duration": 6,
    "start_time": "2021-06-29T18:18:41.121Z"
   },
   {
    "duration": 16,
    "start_time": "2021-06-29T18:18:42.557Z"
   },
   {
    "duration": 12,
    "start_time": "2021-06-29T18:18:44.958Z"
   },
   {
    "duration": 6,
    "start_time": "2021-06-29T18:18:45.348Z"
   },
   {
    "duration": 561,
    "start_time": "2021-06-29T18:18:46.094Z"
   },
   {
    "duration": 15,
    "start_time": "2021-06-29T18:18:47.441Z"
   },
   {
    "duration": 36,
    "start_time": "2021-06-29T18:18:54.528Z"
   },
   {
    "duration": 13,
    "start_time": "2021-06-29T18:18:56.241Z"
   },
   {
    "duration": 5,
    "start_time": "2021-06-29T18:18:59.127Z"
   },
   {
    "duration": 12,
    "start_time": "2021-06-29T18:19:00.336Z"
   },
   {
    "duration": 5,
    "start_time": "2021-06-29T18:19:03.273Z"
   },
   {
    "duration": 1165,
    "start_time": "2021-06-29T18:19:04.081Z"
   },
   {
    "duration": 54,
    "start_time": "2021-06-29T18:19:05.249Z"
   },
   {
    "duration": 6,
    "start_time": "2021-06-29T18:20:29.636Z"
   },
   {
    "duration": 682,
    "start_time": "2021-06-29T18:20:31.301Z"
   },
   {
    "duration": 41,
    "start_time": "2021-06-29T18:20:32.286Z"
   },
   {
    "duration": 7,
    "start_time": "2021-06-29T18:22:15.187Z"
   },
   {
    "duration": 1005,
    "start_time": "2021-06-29T18:22:16.186Z"
   },
   {
    "duration": 47,
    "start_time": "2021-06-29T18:22:17.228Z"
   },
   {
    "duration": 6,
    "start_time": "2021-06-29T18:22:52.999Z"
   },
   {
    "duration": 249,
    "start_time": "2021-06-29T18:23:04.104Z"
   },
   {
    "duration": 274,
    "start_time": "2021-06-29T18:23:30.833Z"
   },
   {
    "duration": 9,
    "start_time": "2021-06-29T18:24:21.988Z"
   },
   {
    "duration": 100,
    "start_time": "2021-06-29T18:25:58.221Z"
   },
   {
    "duration": 9,
    "start_time": "2021-06-29T18:26:03.282Z"
   },
   {
    "duration": 586,
    "start_time": "2021-06-29T18:26:05.998Z"
   },
   {
    "duration": 34,
    "start_time": "2021-06-29T18:26:07.026Z"
   },
   {
    "duration": 5,
    "start_time": "2021-06-29T18:29:39.151Z"
   },
   {
    "duration": 5,
    "start_time": "2021-06-29T18:29:43.084Z"
   },
   {
    "duration": 6,
    "start_time": "2021-06-29T18:29:44.270Z"
   },
   {
    "duration": 576,
    "start_time": "2021-06-29T18:29:45.061Z"
   },
   {
    "duration": 37,
    "start_time": "2021-06-29T18:29:45.758Z"
   },
   {
    "duration": 6,
    "start_time": "2021-06-29T18:29:59.633Z"
   },
   {
    "duration": 606,
    "start_time": "2021-06-29T18:30:00.396Z"
   },
   {
    "duration": 40,
    "start_time": "2021-06-29T18:30:01.184Z"
   },
   {
    "duration": 6,
    "start_time": "2021-06-29T18:30:33.543Z"
   },
   {
    "duration": 726,
    "start_time": "2021-06-29T18:30:34.184Z"
   },
   {
    "duration": 44,
    "start_time": "2021-06-29T18:30:34.913Z"
   },
   {
    "duration": 6,
    "start_time": "2021-06-29T18:31:33.117Z"
   },
   {
    "duration": 684,
    "start_time": "2021-06-29T18:31:33.760Z"
   },
   {
    "duration": 34,
    "start_time": "2021-06-29T18:31:34.447Z"
   },
   {
    "duration": 5,
    "start_time": "2021-06-29T18:31:47.768Z"
   },
   {
    "duration": 685,
    "start_time": "2021-06-29T18:31:48.425Z"
   },
   {
    "duration": 38,
    "start_time": "2021-06-29T18:31:49.113Z"
   },
   {
    "duration": 293,
    "start_time": "2021-06-29T18:31:54.819Z"
   },
   {
    "duration": 257,
    "start_time": "2021-06-29T18:31:56.553Z"
   },
   {
    "duration": 266,
    "start_time": "2021-06-29T18:31:58.080Z"
   },
   {
    "duration": 84,
    "start_time": "2021-06-29T18:32:05.277Z"
   },
   {
    "duration": 15,
    "start_time": "2021-06-29T18:32:06.135Z"
   },
   {
    "duration": 44,
    "start_time": "2021-06-29T18:32:07.414Z"
   },
   {
    "duration": 13,
    "start_time": "2021-06-29T18:32:09.330Z"
   },
   {
    "duration": 23,
    "start_time": "2021-06-29T18:32:11.872Z"
   },
   {
    "duration": 13,
    "start_time": "2021-06-29T18:32:12.897Z"
   },
   {
    "duration": 10,
    "start_time": "2021-06-29T18:32:14.554Z"
   },
   {
    "duration": 11,
    "start_time": "2021-06-29T18:32:15.708Z"
   },
   {
    "duration": 8,
    "start_time": "2021-06-29T18:32:17.592Z"
   },
   {
    "duration": 749,
    "start_time": "2021-06-29T18:32:18.230Z"
   },
   {
    "duration": 40,
    "start_time": "2021-06-29T18:32:18.984Z"
   },
   {
    "duration": 7,
    "start_time": "2021-06-29T18:32:20.523Z"
   },
   {
    "duration": 21,
    "start_time": "2021-06-29T18:32:21.682Z"
   },
   {
    "duration": 12,
    "start_time": "2021-06-29T18:32:22.896Z"
   },
   {
    "duration": 6,
    "start_time": "2021-06-29T18:32:24.230Z"
   },
   {
    "duration": 582,
    "start_time": "2021-06-29T18:32:25.323Z"
   },
   {
    "duration": 15,
    "start_time": "2021-06-29T18:32:26.721Z"
   },
   {
    "duration": 37,
    "start_time": "2021-06-29T18:32:30.129Z"
   },
   {
    "duration": 15,
    "start_time": "2021-06-29T18:32:30.826Z"
   },
   {
    "duration": 4,
    "start_time": "2021-06-29T18:32:32.930Z"
   },
   {
    "duration": 16,
    "start_time": "2021-06-29T18:32:35.487Z"
   },
   {
    "duration": 4,
    "start_time": "2021-06-29T18:32:37.845Z"
   },
   {
    "duration": 5,
    "start_time": "2021-06-29T18:32:39.740Z"
   },
   {
    "duration": 597,
    "start_time": "2021-06-29T18:32:40.594Z"
   },
   {
    "duration": 51,
    "start_time": "2021-06-29T18:32:41.413Z"
   },
   {
    "duration": 6,
    "start_time": "2021-06-29T18:33:59.446Z"
   },
   {
    "duration": 628,
    "start_time": "2021-06-29T18:34:00.080Z"
   },
   {
    "duration": 35,
    "start_time": "2021-06-29T18:34:00.782Z"
   },
   {
    "duration": 5,
    "start_time": "2021-06-29T18:35:19.235Z"
   },
   {
    "duration": 77,
    "start_time": "2021-06-29T18:35:37.489Z"
   },
   {
    "duration": 15,
    "start_time": "2021-06-29T18:35:39.273Z"
   },
   {
    "duration": 49,
    "start_time": "2021-06-29T18:35:41.448Z"
   },
   {
    "duration": 14,
    "start_time": "2021-06-29T18:35:44.181Z"
   },
   {
    "duration": 13,
    "start_time": "2021-06-29T18:35:47.275Z"
   },
   {
    "duration": 14,
    "start_time": "2021-06-29T18:35:48.955Z"
   },
   {
    "duration": 10,
    "start_time": "2021-06-29T18:35:51.351Z"
   },
   {
    "duration": 11,
    "start_time": "2021-06-29T18:35:52.921Z"
   },
   {
    "duration": 7,
    "start_time": "2021-06-29T18:35:55.402Z"
   },
   {
    "duration": 625,
    "start_time": "2021-06-29T18:35:56.446Z"
   },
   {
    "duration": 32,
    "start_time": "2021-06-29T18:35:57.684Z"
   },
   {
    "duration": 8,
    "start_time": "2021-06-29T18:36:00.990Z"
   },
   {
    "duration": 16,
    "start_time": "2021-06-29T18:36:02.966Z"
   },
   {
    "duration": 12,
    "start_time": "2021-06-29T18:36:05.043Z"
   },
   {
    "duration": 7,
    "start_time": "2021-06-29T18:36:06.864Z"
   },
   {
    "duration": 540,
    "start_time": "2021-06-29T18:36:08.903Z"
   },
   {
    "duration": 16,
    "start_time": "2021-06-29T18:36:11.415Z"
   },
   {
    "duration": 38,
    "start_time": "2021-06-29T18:36:15.262Z"
   },
   {
    "duration": 14,
    "start_time": "2021-06-29T18:36:16.305Z"
   },
   {
    "duration": 5,
    "start_time": "2021-06-29T18:36:20.986Z"
   },
   {
    "duration": 13,
    "start_time": "2021-06-29T18:36:26.256Z"
   },
   {
    "duration": 6,
    "start_time": "2021-06-29T18:36:28.695Z"
   },
   {
    "duration": 616,
    "start_time": "2021-06-29T18:36:29.633Z"
   },
   {
    "duration": 5,
    "start_time": "2021-06-29T18:36:47.303Z"
   },
   {
    "duration": 648,
    "start_time": "2021-06-29T18:36:48.047Z"
   },
   {
    "duration": 35,
    "start_time": "2021-06-29T18:36:48.720Z"
   },
   {
    "duration": 5,
    "start_time": "2021-06-29T18:37:55.145Z"
   },
   {
    "duration": 657,
    "start_time": "2021-06-29T18:37:56.075Z"
   },
   {
    "duration": 35,
    "start_time": "2021-06-29T18:37:56.845Z"
   },
   {
    "duration": 32,
    "start_time": "2021-06-29T18:39:06.801Z"
   },
   {
    "duration": 10,
    "start_time": "2021-06-29T18:39:08.143Z"
   },
   {
    "duration": 32,
    "start_time": "2021-06-29T18:39:19.095Z"
   },
   {
    "duration": 10,
    "start_time": "2021-06-29T18:39:20.921Z"
   },
   {
    "duration": 78,
    "start_time": "2021-06-29T18:40:16.832Z"
   },
   {
    "duration": 15,
    "start_time": "2021-06-29T18:40:17.341Z"
   },
   {
    "duration": 45,
    "start_time": "2021-06-29T18:40:18.412Z"
   },
   {
    "duration": 14,
    "start_time": "2021-06-29T18:40:20.038Z"
   },
   {
    "duration": 14,
    "start_time": "2021-06-29T18:40:22.358Z"
   },
   {
    "duration": 15,
    "start_time": "2021-06-29T18:40:23.507Z"
   },
   {
    "duration": 11,
    "start_time": "2021-06-29T18:40:25.326Z"
   },
   {
    "duration": 12,
    "start_time": "2021-06-29T18:40:26.482Z"
   },
   {
    "duration": 6,
    "start_time": "2021-06-29T18:40:28.086Z"
   },
   {
    "duration": 634,
    "start_time": "2021-06-29T18:40:28.642Z"
   },
   {
    "duration": 34,
    "start_time": "2021-06-29T18:40:29.278Z"
   },
   {
    "duration": 7,
    "start_time": "2021-06-29T18:40:30.490Z"
   },
   {
    "duration": 15,
    "start_time": "2021-06-29T18:40:31.765Z"
   },
   {
    "duration": 11,
    "start_time": "2021-06-29T18:40:32.949Z"
   },
   {
    "duration": 6,
    "start_time": "2021-06-29T18:40:34.233Z"
   },
   {
    "duration": 527,
    "start_time": "2021-06-29T18:40:34.848Z"
   },
   {
    "duration": 14,
    "start_time": "2021-06-29T18:40:36.093Z"
   },
   {
    "duration": 34,
    "start_time": "2021-06-29T18:40:40.096Z"
   },
   {
    "duration": 13,
    "start_time": "2021-06-29T18:40:40.977Z"
   },
   {
    "duration": 5,
    "start_time": "2021-06-29T18:40:43.148Z"
   },
   {
    "duration": 12,
    "start_time": "2021-06-29T18:40:44.837Z"
   },
   {
    "duration": 6,
    "start_time": "2021-06-29T18:40:46.316Z"
   },
   {
    "duration": 725,
    "start_time": "2021-06-29T18:40:47.095Z"
   },
   {
    "duration": 33,
    "start_time": "2021-06-29T18:40:47.823Z"
   },
   {
    "duration": 87,
    "start_time": "2021-06-29T18:41:17.320Z"
   },
   {
    "duration": 6,
    "start_time": "2021-06-29T18:41:34.254Z"
   },
   {
    "duration": 617,
    "start_time": "2021-06-29T18:41:35.062Z"
   },
   {
    "duration": 35,
    "start_time": "2021-06-29T18:41:35.748Z"
   },
   {
    "duration": 6,
    "start_time": "2021-06-29T18:49:16.413Z"
   },
   {
    "duration": 644,
    "start_time": "2021-06-29T18:49:16.914Z"
   },
   {
    "duration": 34,
    "start_time": "2021-06-29T18:49:17.602Z"
   },
   {
    "duration": 80,
    "start_time": "2021-06-29T18:52:11.400Z"
   },
   {
    "duration": 15,
    "start_time": "2021-06-29T18:52:12.041Z"
   },
   {
    "duration": 46,
    "start_time": "2021-06-29T18:52:13.369Z"
   },
   {
    "duration": 14,
    "start_time": "2021-06-29T18:52:15.183Z"
   },
   {
    "duration": 13,
    "start_time": "2021-06-29T18:52:17.568Z"
   },
   {
    "duration": 13,
    "start_time": "2021-06-29T18:52:18.680Z"
   },
   {
    "duration": 11,
    "start_time": "2021-06-29T18:52:20.569Z"
   },
   {
    "duration": 12,
    "start_time": "2021-06-29T18:52:21.957Z"
   },
   {
    "duration": 6,
    "start_time": "2021-06-29T18:52:23.994Z"
   },
   {
    "duration": 712,
    "start_time": "2021-06-29T18:52:24.645Z"
   },
   {
    "duration": 39,
    "start_time": "2021-06-29T18:52:25.360Z"
   },
   {
    "duration": 6,
    "start_time": "2021-06-29T18:52:26.802Z"
   },
   {
    "duration": 15,
    "start_time": "2021-06-29T18:52:28.215Z"
   },
   {
    "duration": 13,
    "start_time": "2021-06-29T18:52:29.645Z"
   },
   {
    "duration": 6,
    "start_time": "2021-06-29T18:52:31.124Z"
   },
   {
    "duration": 542,
    "start_time": "2021-06-29T18:52:31.892Z"
   },
   {
    "duration": 17,
    "start_time": "2021-06-29T18:52:33.526Z"
   },
   {
    "duration": 35,
    "start_time": "2021-06-29T18:52:37.073Z"
   },
   {
    "duration": 15,
    "start_time": "2021-06-29T18:52:37.784Z"
   },
   {
    "duration": 5,
    "start_time": "2021-06-29T18:52:40.008Z"
   },
   {
    "duration": 13,
    "start_time": "2021-06-29T18:52:41.327Z"
   },
   {
    "duration": 6,
    "start_time": "2021-06-29T18:52:42.895Z"
   },
   {
    "duration": 626,
    "start_time": "2021-06-29T18:52:45.394Z"
   },
   {
    "duration": 31,
    "start_time": "2021-06-29T18:52:46.023Z"
   },
   {
    "duration": 77,
    "start_time": "2021-06-29T18:54:35.750Z"
   },
   {
    "duration": 16,
    "start_time": "2021-06-29T18:54:36.426Z"
   },
   {
    "duration": 48,
    "start_time": "2021-06-29T18:54:37.703Z"
   },
   {
    "duration": 14,
    "start_time": "2021-06-29T18:54:39.783Z"
   },
   {
    "duration": 14,
    "start_time": "2021-06-29T18:54:42.138Z"
   },
   {
    "duration": 15,
    "start_time": "2021-06-29T18:54:43.352Z"
   },
   {
    "duration": 11,
    "start_time": "2021-06-29T18:54:45.445Z"
   },
   {
    "duration": 13,
    "start_time": "2021-06-29T18:54:46.511Z"
   },
   {
    "duration": 6,
    "start_time": "2021-06-29T18:54:48.614Z"
   },
   {
    "duration": 627,
    "start_time": "2021-06-29T18:54:49.443Z"
   },
   {
    "duration": 33,
    "start_time": "2021-06-29T18:54:50.361Z"
   },
   {
    "duration": 7,
    "start_time": "2021-06-29T18:54:52.129Z"
   },
   {
    "duration": 15,
    "start_time": "2021-06-29T18:54:53.985Z"
   },
   {
    "duration": 11,
    "start_time": "2021-06-29T18:54:55.544Z"
   },
   {
    "duration": 7,
    "start_time": "2021-06-29T18:54:57.115Z"
   },
   {
    "duration": 534,
    "start_time": "2021-06-29T18:54:57.925Z"
   },
   {
    "duration": 14,
    "start_time": "2021-06-29T18:54:59.895Z"
   },
   {
    "duration": 36,
    "start_time": "2021-06-29T18:55:04.061Z"
   },
   {
    "duration": 14,
    "start_time": "2021-06-29T18:55:04.902Z"
   },
   {
    "duration": 5,
    "start_time": "2021-06-29T18:55:07.391Z"
   },
   {
    "duration": 13,
    "start_time": "2021-06-29T18:55:08.956Z"
   },
   {
    "duration": 6,
    "start_time": "2021-06-29T18:55:10.573Z"
   },
   {
    "duration": 640,
    "start_time": "2021-06-29T18:55:11.484Z"
   },
   {
    "duration": 33,
    "start_time": "2021-06-29T18:55:12.348Z"
   },
   {
    "duration": 16,
    "start_time": "2021-06-29T18:57:38.756Z"
   },
   {
    "duration": 14,
    "start_time": "2021-06-29T18:58:48.684Z"
   },
   {
    "duration": 6,
    "start_time": "2021-06-29T19:14:26.556Z"
   },
   {
    "duration": 6,
    "start_time": "2021-06-29T19:14:29.697Z"
   },
   {
    "duration": 17,
    "start_time": "2021-06-29T19:14:38.229Z"
   },
   {
    "duration": 20,
    "start_time": "2021-06-29T19:15:56.706Z"
   },
   {
    "duration": 7,
    "start_time": "2021-06-29T19:30:54.662Z"
   },
   {
    "duration": 20,
    "start_time": "2021-06-29T19:35:03.338Z"
   },
   {
    "duration": 23,
    "start_time": "2021-06-29T19:35:23.258Z"
   },
   {
    "duration": 9,
    "start_time": "2021-06-29T19:35:56.396Z"
   },
   {
    "duration": 7,
    "start_time": "2021-06-29T19:36:04.114Z"
   },
   {
    "duration": 181915,
    "start_time": "2021-06-29T19:33:27.913Z"
   },
   {
    "duration": 8,
    "start_time": "2021-06-29T19:36:36.491Z"
   },
   {
    "duration": 22,
    "start_time": "2021-06-29T19:37:17.836Z"
   },
   {
    "duration": 25,
    "start_time": "2021-06-29T19:37:39.715Z"
   },
   {
    "duration": 24,
    "start_time": "2021-06-29T19:39:31.046Z"
   },
   {
    "duration": 271,
    "start_time": "2021-06-29T19:40:05.397Z"
   },
   {
    "duration": 457,
    "start_time": "2021-06-29T19:40:05.932Z"
   },
   {
    "duration": 272,
    "start_time": "2021-06-29T19:40:06.586Z"
   },
   {
    "duration": 78,
    "start_time": "2021-06-29T19:40:13.221Z"
   },
   {
    "duration": 16,
    "start_time": "2021-06-29T19:40:13.672Z"
   },
   {
    "duration": 46,
    "start_time": "2021-06-29T19:40:14.615Z"
   },
   {
    "duration": 15,
    "start_time": "2021-06-29T19:40:16.079Z"
   },
   {
    "duration": 13,
    "start_time": "2021-06-29T19:40:18.058Z"
   },
   {
    "duration": 13,
    "start_time": "2021-06-29T19:40:19.124Z"
   },
   {
    "duration": 10,
    "start_time": "2021-06-29T19:40:20.684Z"
   },
   {
    "duration": 11,
    "start_time": "2021-06-29T19:40:21.762Z"
   },
   {
    "duration": 6,
    "start_time": "2021-06-29T19:40:23.829Z"
   },
   {
    "duration": 617,
    "start_time": "2021-06-29T19:40:24.403Z"
   },
   {
    "duration": 33,
    "start_time": "2021-06-29T19:40:25.023Z"
   },
   {
    "duration": 6,
    "start_time": "2021-06-29T19:40:26.346Z"
   },
   {
    "duration": 18,
    "start_time": "2021-06-29T19:40:27.430Z"
   },
   {
    "duration": 13,
    "start_time": "2021-06-29T19:40:28.696Z"
   },
   {
    "duration": 6,
    "start_time": "2021-06-29T19:40:29.895Z"
   },
   {
    "duration": 545,
    "start_time": "2021-06-29T19:40:30.553Z"
   },
   {
    "duration": 16,
    "start_time": "2021-06-29T19:40:31.756Z"
   },
   {
    "duration": 34,
    "start_time": "2021-06-29T19:40:35.023Z"
   },
   {
    "duration": 14,
    "start_time": "2021-06-29T19:40:35.602Z"
   },
   {
    "duration": 5,
    "start_time": "2021-06-29T19:40:37.269Z"
   },
   {
    "duration": 12,
    "start_time": "2021-06-29T19:40:38.349Z"
   },
   {
    "duration": 6,
    "start_time": "2021-06-29T19:40:39.433Z"
   },
   {
    "duration": 694,
    "start_time": "2021-06-29T19:40:39.967Z"
   },
   {
    "duration": 37,
    "start_time": "2021-06-29T19:40:40.664Z"
   },
   {
    "duration": 17,
    "start_time": "2021-06-29T19:40:41.791Z"
   },
   {
    "duration": 6,
    "start_time": "2021-06-29T19:40:44.002Z"
   },
   {
    "duration": 24,
    "start_time": "2021-06-29T19:40:45.390Z"
   },
   {
    "duration": 19,
    "start_time": "2021-06-29T19:40:45.417Z"
   },
   {
    "duration": 289,
    "start_time": "2021-06-29T19:40:47.796Z"
   },
   {
    "duration": 380,
    "start_time": "2021-06-29T19:40:48.384Z"
   },
   {
    "duration": 288,
    "start_time": "2021-06-29T19:40:49.864Z"
   },
   {
    "duration": 276,
    "start_time": "2021-06-29T19:40:51.066Z"
   },
   {
    "duration": 23,
    "start_time": "2021-06-29T19:40:54.087Z"
   },
   {
    "duration": 16,
    "start_time": "2021-06-29T19:41:14.904Z"
   },
   {
    "duration": 21,
    "start_time": "2021-06-29T19:41:18.187Z"
   },
   {
    "duration": 265,
    "start_time": "2021-06-29T19:41:19.427Z"
   },
   {
    "duration": 31,
    "start_time": "2021-06-29T19:41:22.263Z"
   },
   {
    "duration": 23,
    "start_time": "2021-06-29T19:41:25.696Z"
   },
   {
    "duration": 265,
    "start_time": "2021-06-29T19:42:04.211Z"
   },
   {
    "duration": 22,
    "start_time": "2021-06-29T19:42:07.306Z"
   },
   {
    "duration": 19,
    "start_time": "2021-06-29T19:43:58.658Z"
   },
   {
    "duration": 23,
    "start_time": "2021-06-29T19:43:59.869Z"
   },
   {
    "duration": 23,
    "start_time": "2021-06-29T19:44:01.624Z"
   },
   {
    "duration": 19,
    "start_time": "2021-06-29T19:44:02.427Z"
   },
   {
    "duration": 31,
    "start_time": "2021-06-29T19:44:13.032Z"
   },
   {
    "duration": 16,
    "start_time": "2021-06-29T19:45:49.114Z"
   },
   {
    "duration": 16,
    "start_time": "2021-06-29T19:45:51.959Z"
   },
   {
    "duration": 18,
    "start_time": "2021-06-29T19:45:52.493Z"
   },
   {
    "duration": 17,
    "start_time": "2021-06-29T19:45:53.093Z"
   },
   {
    "duration": 20,
    "start_time": "2021-06-29T19:45:53.642Z"
   },
   {
    "duration": 62,
    "start_time": "2021-06-29T19:46:17.846Z"
   },
   {
    "duration": 43,
    "start_time": "2021-06-29T19:46:26.273Z"
   },
   {
    "duration": 62,
    "start_time": "2021-06-29T19:55:20.937Z"
   },
   {
    "duration": 56,
    "start_time": "2021-06-29T19:58:39.745Z"
   },
   {
    "duration": 32,
    "start_time": "2021-06-29T20:01:17.320Z"
   },
   {
    "duration": 27,
    "start_time": "2021-06-29T20:02:21.510Z"
   },
   {
    "duration": 401,
    "start_time": "2021-06-30T15:26:20.497Z"
   },
   {
    "duration": 326,
    "start_time": "2021-06-30T15:26:47.980Z"
   },
   {
    "duration": 878,
    "start_time": "2021-06-30T15:27:15.633Z"
   },
   {
    "duration": 17,
    "start_time": "2021-06-30T15:27:16.514Z"
   },
   {
    "duration": 48,
    "start_time": "2021-06-30T15:27:16.898Z"
   },
   {
    "duration": 15,
    "start_time": "2021-06-30T15:27:18.282Z"
   },
   {
    "duration": 14,
    "start_time": "2021-06-30T15:27:20.140Z"
   },
   {
    "duration": 13,
    "start_time": "2021-06-30T15:27:21.145Z"
   },
   {
    "duration": 10,
    "start_time": "2021-06-30T15:27:22.589Z"
   },
   {
    "duration": 11,
    "start_time": "2021-06-30T15:27:23.620Z"
   },
   {
    "duration": 7,
    "start_time": "2021-06-30T15:27:25.082Z"
   },
   {
    "duration": 683,
    "start_time": "2021-06-30T15:27:25.605Z"
   },
   {
    "duration": 44,
    "start_time": "2021-06-30T15:27:26.291Z"
   },
   {
    "duration": 7,
    "start_time": "2021-06-30T15:27:27.318Z"
   },
   {
    "duration": 15,
    "start_time": "2021-06-30T15:27:28.541Z"
   },
   {
    "duration": 12,
    "start_time": "2021-06-30T15:27:29.542Z"
   },
   {
    "duration": 6,
    "start_time": "2021-06-30T15:27:30.615Z"
   },
   {
    "duration": 694,
    "start_time": "2021-06-30T15:27:31.225Z"
   },
   {
    "duration": 20,
    "start_time": "2021-06-30T15:27:32.390Z"
   },
   {
    "duration": 38,
    "start_time": "2021-06-30T15:27:35.041Z"
   },
   {
    "duration": 17,
    "start_time": "2021-06-30T15:27:35.579Z"
   },
   {
    "duration": 1561,
    "start_time": "2021-06-30T15:27:36.673Z"
   },
   {
    "duration": 182359,
    "start_time": "2021-06-30T15:24:35.878Z"
   },
   {
    "duration": 14,
    "start_time": "2021-06-30T15:27:39.313Z"
   },
   {
    "duration": 7,
    "start_time": "2021-06-30T15:27:50.332Z"
   },
   {
    "duration": 7,
    "start_time": "2021-06-30T15:27:55.160Z"
   },
   {
    "duration": 6,
    "start_time": "2021-06-30T15:28:11.624Z"
   },
   {
    "duration": 147,
    "start_time": "2021-06-30T15:29:13.111Z"
   },
   {
    "duration": 7,
    "start_time": "2021-06-30T15:29:19.361Z"
   },
   {
    "duration": 355,
    "start_time": "2021-06-30T15:30:08.882Z"
   },
   {
    "duration": 6,
    "start_time": "2021-06-30T15:30:20.515Z"
   },
   {
    "duration": 8,
    "start_time": "2021-06-30T15:30:35.375Z"
   },
   {
    "duration": 8,
    "start_time": "2021-06-30T15:30:42.231Z"
   },
   {
    "duration": 8,
    "start_time": "2021-06-30T15:30:45.843Z"
   },
   {
    "duration": 11,
    "start_time": "2021-06-30T15:40:01.392Z"
   },
   {
    "duration": 8,
    "start_time": "2021-06-30T15:41:56.737Z"
   },
   {
    "duration": 341,
    "start_time": "2021-06-30T15:42:09.871Z"
   },
   {
    "duration": 326,
    "start_time": "2021-06-30T15:42:12.205Z"
   },
   {
    "duration": 375,
    "start_time": "2021-06-30T15:42:17.722Z"
   },
   {
    "duration": 6,
    "start_time": "2021-06-30T15:42:24.284Z"
   },
   {
    "duration": 6,
    "start_time": "2021-06-30T15:42:36.863Z"
   },
   {
    "duration": 8,
    "start_time": "2021-06-30T15:43:41.217Z"
   },
   {
    "duration": 14,
    "start_time": "2021-06-30T15:44:03.357Z"
   },
   {
    "duration": 182400,
    "start_time": "2021-06-30T15:42:58.172Z"
   },
   {
    "duration": 182402,
    "start_time": "2021-06-30T15:43:15.820Z"
   },
   {
    "duration": 182402,
    "start_time": "2021-06-30T15:44:25.562Z"
   },
   {
    "duration": 7,
    "start_time": "2021-06-30T15:47:38.568Z"
   },
   {
    "duration": 9729,
    "start_time": "2021-06-30T15:48:11.640Z"
   },
   {
    "duration": 7,
    "start_time": "2021-06-30T15:52:38.052Z"
   },
   {
    "duration": 7,
    "start_time": "2021-06-30T15:52:53.703Z"
   },
   {
    "duration": 8,
    "start_time": "2021-06-30T15:54:28.022Z"
   },
   {
    "duration": 121,
    "start_time": "2021-06-30T16:00:46.551Z"
   },
   {
    "duration": 6,
    "start_time": "2021-06-30T16:00:57.222Z"
   },
   {
    "duration": 11,
    "start_time": "2021-06-30T16:00:58.754Z"
   },
   {
    "duration": 5,
    "start_time": "2021-06-30T16:00:59.964Z"
   },
   {
    "duration": 661,
    "start_time": "2021-06-30T16:01:00.625Z"
   },
   {
    "duration": 43,
    "start_time": "2021-06-30T16:01:01.289Z"
   },
   {
    "duration": 18,
    "start_time": "2021-06-30T16:01:03.119Z"
   },
   {
    "duration": 6,
    "start_time": "2021-06-30T16:09:50.579Z"
   },
   {
    "duration": 148,
    "start_time": "2021-06-30T16:16:37.179Z"
   },
   {
    "duration": 607,
    "start_time": "2021-06-30T16:16:41.385Z"
   },
   {
    "duration": 72,
    "start_time": "2021-06-30T16:16:57.020Z"
   },
   {
    "duration": 7,
    "start_time": "2021-06-30T16:19:55.110Z"
   },
   {
    "duration": 7,
    "start_time": "2021-06-30T16:20:12.412Z"
   },
   {
    "duration": 5,
    "start_time": "2021-06-30T16:20:38.502Z"
   },
   {
    "duration": 8,
    "start_time": "2021-06-30T16:21:17.469Z"
   },
   {
    "duration": 109,
    "start_time": "2021-06-30T16:22:28.074Z"
   },
   {
    "duration": 2472,
    "start_time": "2021-06-30T16:22:44.141Z"
   },
   {
    "duration": 2498,
    "start_time": "2021-06-30T16:22:50.781Z"
   },
   {
    "duration": 8,
    "start_time": "2021-06-30T16:23:02.015Z"
   },
   {
    "duration": 149,
    "start_time": "2021-06-30T16:24:15.173Z"
   },
   {
    "duration": 63,
    "start_time": "2021-06-30T16:24:20.610Z"
   },
   {
    "duration": 72,
    "start_time": "2021-06-30T16:24:47.235Z"
   },
   {
    "duration": 64,
    "start_time": "2021-06-30T16:29:39.641Z"
   },
   {
    "duration": 65,
    "start_time": "2021-06-30T16:29:44.758Z"
   },
   {
    "duration": 63,
    "start_time": "2021-06-30T16:30:34.206Z"
   },
   {
    "duration": 344,
    "start_time": "2021-06-30T16:38:03.106Z"
   },
   {
    "duration": 115,
    "start_time": "2021-06-30T16:38:21.570Z"
   },
   {
    "duration": 36,
    "start_time": "2021-06-30T16:38:30.426Z"
   },
   {
    "duration": 13,
    "start_time": "2021-06-30T16:41:26.831Z"
   },
   {
    "duration": 371,
    "start_time": "2021-06-30T16:42:44.174Z"
   },
   {
    "duration": 834,
    "start_time": "2021-06-30T17:01:48.473Z"
   },
   {
    "duration": 81,
    "start_time": "2021-06-30T17:01:51.504Z"
   },
   {
    "duration": 17,
    "start_time": "2021-06-30T17:01:51.982Z"
   },
   {
    "duration": 49,
    "start_time": "2021-06-30T17:01:52.837Z"
   },
   {
    "duration": 13,
    "start_time": "2021-06-30T17:01:54.131Z"
   },
   {
    "duration": 13,
    "start_time": "2021-06-30T17:01:55.947Z"
   },
   {
    "duration": 13,
    "start_time": "2021-06-30T17:01:56.841Z"
   },
   {
    "duration": 10,
    "start_time": "2021-06-30T17:01:58.656Z"
   },
   {
    "duration": 11,
    "start_time": "2021-06-30T17:01:59.569Z"
   },
   {
    "duration": 7,
    "start_time": "2021-06-30T17:02:00.907Z"
   },
   {
    "duration": 764,
    "start_time": "2021-06-30T17:02:01.352Z"
   },
   {
    "duration": 31,
    "start_time": "2021-06-30T17:02:02.119Z"
   },
   {
    "duration": 6,
    "start_time": "2021-06-30T17:02:02.800Z"
   },
   {
    "duration": 14,
    "start_time": "2021-06-30T17:02:05.130Z"
   },
   {
    "duration": 12,
    "start_time": "2021-06-30T17:02:05.147Z"
   },
   {
    "duration": 6,
    "start_time": "2021-06-30T17:02:05.829Z"
   },
   {
    "duration": 582,
    "start_time": "2021-06-30T17:02:06.425Z"
   },
   {
    "duration": 15,
    "start_time": "2021-06-30T17:02:07.360Z"
   },
   {
    "duration": 39,
    "start_time": "2021-06-30T17:02:10.022Z"
   },
   {
    "duration": 13,
    "start_time": "2021-06-30T17:02:10.566Z"
   },
   {
    "duration": 8,
    "start_time": "2021-06-30T17:02:11.700Z"
   },
   {
    "duration": 7,
    "start_time": "2021-06-30T17:02:12.279Z"
   },
   {
    "duration": 5,
    "start_time": "2021-06-30T17:02:14.259Z"
   },
   {
    "duration": 70,
    "start_time": "2021-06-30T17:02:16.616Z"
   },
   {
    "duration": 126,
    "start_time": "2021-06-30T17:03:16.145Z"
   },
   {
    "duration": 39,
    "start_time": "2021-06-30T17:03:18.961Z"
   },
   {
    "duration": 36,
    "start_time": "2021-06-30T17:03:29.756Z"
   },
   {
    "duration": 437,
    "start_time": "2021-06-30T17:04:59.787Z"
   },
   {
    "duration": 389,
    "start_time": "2021-06-30T17:05:05.535Z"
   },
   {
    "duration": 451,
    "start_time": "2021-06-30T17:05:51.102Z"
   },
   {
    "duration": 530,
    "start_time": "2021-06-30T17:16:27.461Z"
   },
   {
    "duration": 262,
    "start_time": "2021-06-30T17:16:47.727Z"
   },
   {
    "duration": 457,
    "start_time": "2021-06-30T17:16:54.824Z"
   },
   {
    "duration": 577,
    "start_time": "2021-06-30T17:17:12.273Z"
   },
   {
    "duration": 71,
    "start_time": "2021-06-30T17:26:36.952Z"
   },
   {
    "duration": 553,
    "start_time": "2021-06-30T17:31:25.027Z"
   },
   {
    "duration": 8,
    "start_time": "2021-06-30T17:31:59.893Z"
   },
   {
    "duration": 132,
    "start_time": "2021-06-30T17:32:58.487Z"
   },
   {
    "duration": 128,
    "start_time": "2021-06-30T17:33:04.154Z"
   },
   {
    "duration": 116,
    "start_time": "2021-06-30T17:33:15.444Z"
   },
   {
    "duration": 107,
    "start_time": "2021-06-30T17:33:20.653Z"
   },
   {
    "duration": 4,
    "start_time": "2021-06-30T17:33:43.439Z"
   },
   {
    "duration": 5,
    "start_time": "2021-06-30T17:34:10.447Z"
   },
   {
    "duration": 4,
    "start_time": "2021-06-30T17:34:22.999Z"
   },
   {
    "duration": 7,
    "start_time": "2021-06-30T17:34:24.234Z"
   },
   {
    "duration": 107,
    "start_time": "2021-06-30T17:34:38.264Z"
   },
   {
    "duration": 4,
    "start_time": "2021-06-30T17:34:56.367Z"
   },
   {
    "duration": 7,
    "start_time": "2021-06-30T17:34:56.837Z"
   },
   {
    "duration": 39,
    "start_time": "2021-06-30T17:34:57.471Z"
   },
   {
    "duration": 44,
    "start_time": "2021-06-30T17:37:58.097Z"
   },
   {
    "duration": 366,
    "start_time": "2021-06-30T17:38:28.265Z"
   },
   {
    "duration": 35,
    "start_time": "2021-06-30T17:38:33.636Z"
   },
   {
    "duration": 79,
    "start_time": "2021-06-30T17:38:39.731Z"
   },
   {
    "duration": 15,
    "start_time": "2021-06-30T17:38:40.187Z"
   },
   {
    "duration": 48,
    "start_time": "2021-06-30T17:38:41.525Z"
   },
   {
    "duration": 14,
    "start_time": "2021-06-30T17:38:43.127Z"
   },
   {
    "duration": 14,
    "start_time": "2021-06-30T17:38:45.126Z"
   },
   {
    "duration": 13,
    "start_time": "2021-06-30T17:38:46.227Z"
   },
   {
    "duration": 9,
    "start_time": "2021-06-30T17:38:47.836Z"
   },
   {
    "duration": 11,
    "start_time": "2021-06-30T17:38:48.933Z"
   },
   {
    "duration": 6,
    "start_time": "2021-06-30T17:38:50.553Z"
   },
   {
    "duration": 658,
    "start_time": "2021-06-30T17:38:51.151Z"
   },
   {
    "duration": 32,
    "start_time": "2021-06-30T17:38:51.812Z"
   },
   {
    "duration": 7,
    "start_time": "2021-06-30T17:38:53.174Z"
   },
   {
    "duration": 15,
    "start_time": "2021-06-30T17:38:54.260Z"
   },
   {
    "duration": 12,
    "start_time": "2021-06-30T17:38:55.342Z"
   },
   {
    "duration": 6,
    "start_time": "2021-06-30T17:38:56.449Z"
   },
   {
    "duration": 586,
    "start_time": "2021-06-30T17:38:56.990Z"
   },
   {
    "duration": 15,
    "start_time": "2021-06-30T17:38:58.087Z"
   },
   {
    "duration": 35,
    "start_time": "2021-06-30T17:39:02.357Z"
   },
   {
    "duration": 13,
    "start_time": "2021-06-30T17:39:03.030Z"
   },
   {
    "duration": 6,
    "start_time": "2021-06-30T17:39:04.311Z"
   },
   {
    "duration": 8,
    "start_time": "2021-06-30T17:39:04.954Z"
   },
   {
    "duration": 4,
    "start_time": "2021-06-30T17:39:06.648Z"
   },
   {
    "duration": 70,
    "start_time": "2021-06-30T17:39:07.792Z"
   },
   {
    "duration": 454,
    "start_time": "2021-06-30T17:39:08.972Z"
   },
   {
    "duration": 447,
    "start_time": "2021-06-30T17:39:09.920Z"
   },
   {
    "duration": 550,
    "start_time": "2021-06-30T17:39:10.902Z"
   },
   {
    "duration": 436,
    "start_time": "2021-06-30T17:39:12.125Z"
   },
   {
    "duration": 33,
    "start_time": "2021-06-30T17:39:14.393Z"
   },
   {
    "duration": 45,
    "start_time": "2021-06-30T17:39:20.425Z"
   },
   {
    "duration": 4,
    "start_time": "2021-06-30T17:40:20.970Z"
   },
   {
    "duration": 131,
    "start_time": "2021-06-30T17:41:58.299Z"
   },
   {
    "duration": 399,
    "start_time": "2021-06-30T17:42:10.736Z"
   },
   {
    "duration": 371,
    "start_time": "2021-06-30T17:42:36.691Z"
   },
   {
    "duration": 384,
    "start_time": "2021-06-30T17:42:40.691Z"
   },
   {
    "duration": 18,
    "start_time": "2021-06-30T17:46:50.664Z"
   },
   {
    "duration": 44,
    "start_time": "2021-06-30T17:47:02.593Z"
   },
   {
    "duration": 41,
    "start_time": "2021-06-30T17:47:12.772Z"
   },
   {
    "duration": 394,
    "start_time": "2021-06-30T17:47:28.174Z"
   },
   {
    "duration": 122,
    "start_time": "2021-06-30T17:47:37.098Z"
   },
   {
    "duration": 41,
    "start_time": "2021-06-30T17:48:04.056Z"
   },
   {
    "duration": 392,
    "start_time": "2021-06-30T17:53:51.163Z"
   },
   {
    "duration": 1892,
    "start_time": "2021-06-30T17:55:17.568Z"
   },
   {
    "duration": 1720,
    "start_time": "2021-06-30T17:56:01.872Z"
   },
   {
    "duration": 166,
    "start_time": "2021-06-30T17:57:55.897Z"
   },
   {
    "duration": 130,
    "start_time": "2021-06-30T17:58:47.176Z"
   },
   {
    "duration": 138,
    "start_time": "2021-06-30T17:59:25.438Z"
   },
   {
    "duration": 113,
    "start_time": "2021-06-30T18:00:12.361Z"
   },
   {
    "duration": 1869,
    "start_time": "2021-06-30T18:00:29.863Z"
   },
   {
    "duration": 113,
    "start_time": "2021-06-30T18:02:03.000Z"
   },
   {
    "duration": 1815,
    "start_time": "2021-06-30T18:03:57.834Z"
   },
   {
    "duration": 1653,
    "start_time": "2021-06-30T18:04:25.252Z"
   },
   {
    "duration": 43,
    "start_time": "2021-06-30T18:10:55.152Z"
   },
   {
    "duration": 44,
    "start_time": "2021-06-30T18:20:10.262Z"
   },
   {
    "duration": 415,
    "start_time": "2021-06-30T18:21:58.671Z"
   },
   {
    "duration": 346,
    "start_time": "2021-06-30T18:22:05.364Z"
   },
   {
    "duration": 1707,
    "start_time": "2021-06-30T18:24:29.096Z"
   },
   {
    "duration": 1735,
    "start_time": "2021-06-30T18:24:38.803Z"
   },
   {
    "duration": 1683,
    "start_time": "2021-06-30T18:24:59.439Z"
   },
   {
    "duration": 1818,
    "start_time": "2021-06-30T18:25:09.294Z"
   },
   {
    "duration": 347,
    "start_time": "2021-06-30T18:27:50.737Z"
   },
   {
    "duration": 116,
    "start_time": "2021-06-30T18:31:13.844Z"
   },
   {
    "duration": 610,
    "start_time": "2021-06-30T18:31:31.496Z"
   },
   {
    "duration": 81,
    "start_time": "2021-06-30T18:36:28.434Z"
   },
   {
    "duration": 17,
    "start_time": "2021-06-30T18:36:29.044Z"
   },
   {
    "duration": 46,
    "start_time": "2021-06-30T18:36:30.459Z"
   },
   {
    "duration": 12,
    "start_time": "2021-06-30T18:36:32.634Z"
   },
   {
    "duration": 13,
    "start_time": "2021-06-30T18:36:35.325Z"
   },
   {
    "duration": 13,
    "start_time": "2021-06-30T18:36:36.551Z"
   },
   {
    "duration": 11,
    "start_time": "2021-06-30T18:36:38.230Z"
   },
   {
    "duration": 13,
    "start_time": "2021-06-30T18:36:39.333Z"
   },
   {
    "duration": 7,
    "start_time": "2021-06-30T18:36:44.664Z"
   },
   {
    "duration": 1324,
    "start_time": "2021-06-30T18:36:45.401Z"
   },
   {
    "duration": 93,
    "start_time": "2021-06-30T18:36:46.741Z"
   },
   {
    "duration": 7,
    "start_time": "2021-06-30T18:36:49.401Z"
   },
   {
    "duration": 16,
    "start_time": "2021-06-30T18:36:51.022Z"
   },
   {
    "duration": 11,
    "start_time": "2021-06-30T18:36:52.528Z"
   },
   {
    "duration": 6,
    "start_time": "2021-06-30T18:36:54.023Z"
   },
   {
    "duration": 598,
    "start_time": "2021-06-30T18:36:54.769Z"
   },
   {
    "duration": 20,
    "start_time": "2021-06-30T18:36:56.332Z"
   },
   {
    "duration": 58,
    "start_time": "2021-06-30T18:37:00.181Z"
   },
   {
    "duration": 17,
    "start_time": "2021-06-30T18:37:00.907Z"
   },
   {
    "duration": 7,
    "start_time": "2021-06-30T18:37:02.405Z"
   },
   {
    "duration": 8,
    "start_time": "2021-06-30T18:37:03.102Z"
   },
   {
    "duration": 5,
    "start_time": "2021-06-30T18:37:05.894Z"
   },
   {
    "duration": 66,
    "start_time": "2021-06-30T18:37:08.426Z"
   },
   {
    "duration": 435,
    "start_time": "2021-06-30T18:37:10.396Z"
   },
   {
    "duration": 492,
    "start_time": "2021-06-30T18:37:11.758Z"
   },
   {
    "duration": 566,
    "start_time": "2021-06-30T18:37:13.395Z"
   },
   {
    "duration": 467,
    "start_time": "2021-06-30T18:37:14.894Z"
   },
   {
    "duration": 126,
    "start_time": "2021-06-30T18:37:20.927Z"
   },
   {
    "duration": 185,
    "start_time": "2021-06-30T18:37:42.894Z"
   },
   {
    "duration": 1638,
    "start_time": "2021-06-30T18:37:46.348Z"
   },
   {
    "duration": 1647,
    "start_time": "2021-06-30T18:38:13.605Z"
   },
   {
    "duration": 1810,
    "start_time": "2021-06-30T18:38:40.799Z"
   },
   {
    "duration": 2930,
    "start_time": "2021-06-30T18:39:14.961Z"
   },
   {
    "duration": 1581,
    "start_time": "2021-06-30T18:41:58.118Z"
   },
   {
    "duration": 82,
    "start_time": "2021-06-30T18:49:13.428Z"
   },
   {
    "duration": 15,
    "start_time": "2021-06-30T18:49:14.054Z"
   },
   {
    "duration": 51,
    "start_time": "2021-06-30T18:49:15.350Z"
   },
   {
    "duration": 15,
    "start_time": "2021-06-30T18:49:17.250Z"
   },
   {
    "duration": 14,
    "start_time": "2021-06-30T18:49:19.698Z"
   },
   {
    "duration": 15,
    "start_time": "2021-06-30T18:49:20.998Z"
   },
   {
    "duration": 15,
    "start_time": "2021-06-30T18:49:23.041Z"
   },
   {
    "duration": 13,
    "start_time": "2021-06-30T18:49:24.448Z"
   },
   {
    "duration": 7,
    "start_time": "2021-06-30T18:49:26.457Z"
   },
   {
    "duration": 775,
    "start_time": "2021-06-30T18:49:27.124Z"
   },
   {
    "duration": 36,
    "start_time": "2021-06-30T18:49:27.968Z"
   },
   {
    "duration": 6,
    "start_time": "2021-06-30T18:49:29.125Z"
   },
   {
    "duration": 17,
    "start_time": "2021-06-30T18:49:30.293Z"
   },
   {
    "duration": 17,
    "start_time": "2021-06-30T18:49:31.534Z"
   },
   {
    "duration": 10,
    "start_time": "2021-06-30T18:49:32.725Z"
   },
   {
    "duration": 1095,
    "start_time": "2021-06-30T18:49:33.326Z"
   },
   {
    "duration": 15,
    "start_time": "2021-06-30T18:49:34.644Z"
   },
   {
    "duration": 37,
    "start_time": "2021-06-30T18:49:38.606Z"
   },
   {
    "duration": 13,
    "start_time": "2021-06-30T18:49:39.321Z"
   },
   {
    "duration": 7,
    "start_time": "2021-06-30T18:49:41.174Z"
   },
   {
    "duration": 7,
    "start_time": "2021-06-30T18:49:41.768Z"
   },
   {
    "duration": 5,
    "start_time": "2021-06-30T18:49:43.951Z"
   },
   {
    "duration": 67,
    "start_time": "2021-06-30T18:49:46.312Z"
   },
   {
    "duration": 410,
    "start_time": "2021-06-30T18:49:48.543Z"
   },
   {
    "duration": 522,
    "start_time": "2021-06-30T18:49:49.663Z"
   },
   {
    "duration": 784,
    "start_time": "2021-06-30T18:49:51.073Z"
   },
   {
    "duration": 594,
    "start_time": "2021-06-30T18:49:52.501Z"
   },
   {
    "duration": 15,
    "start_time": "2021-06-30T18:49:57.863Z"
   },
   {
    "duration": 37,
    "start_time": "2021-06-30T18:50:04.422Z"
   },
   {
    "duration": 11,
    "start_time": "2021-06-30T18:50:41.892Z"
   },
   {
    "duration": 37,
    "start_time": "2021-06-30T18:50:42.894Z"
   },
   {
    "duration": 1091,
    "start_time": "2021-06-30T18:53:40.454Z"
   },
   {
    "duration": 637,
    "start_time": "2021-06-30T18:54:22.925Z"
   },
   {
    "duration": 6565,
    "start_time": "2021-06-30T19:00:11.287Z"
   },
   {
    "duration": 182472,
    "start_time": "2021-06-30T18:57:15.383Z"
   },
   {
    "duration": 299,
    "start_time": "2021-06-30T19:01:28.110Z"
   },
   {
    "duration": 39,
    "start_time": "2021-06-30T19:01:31.804Z"
   },
   {
    "duration": 679,
    "start_time": "2021-06-30T19:04:03.057Z"
   },
   {
    "duration": 603,
    "start_time": "2021-06-30T19:06:01.287Z"
   },
   {
    "duration": 635,
    "start_time": "2021-06-30T19:09:10.553Z"
   },
   {
    "duration": 79,
    "start_time": "2021-06-30T19:09:27.569Z"
   },
   {
    "duration": 17,
    "start_time": "2021-06-30T19:09:28.479Z"
   },
   {
    "duration": 48,
    "start_time": "2021-06-30T19:09:30.013Z"
   },
   {
    "duration": 14,
    "start_time": "2021-06-30T19:09:32.548Z"
   },
   {
    "duration": 14,
    "start_time": "2021-06-30T19:09:35.145Z"
   },
   {
    "duration": 13,
    "start_time": "2021-06-30T19:09:36.387Z"
   },
   {
    "duration": 10,
    "start_time": "2021-06-30T19:09:38.310Z"
   },
   {
    "duration": 16,
    "start_time": "2021-06-30T19:09:39.764Z"
   },
   {
    "duration": 7,
    "start_time": "2021-06-30T19:09:42.253Z"
   },
   {
    "duration": 702,
    "start_time": "2021-06-30T19:09:42.894Z"
   },
   {
    "duration": 33,
    "start_time": "2021-06-30T19:09:43.728Z"
   },
   {
    "duration": 6,
    "start_time": "2021-06-30T19:09:45.121Z"
   },
   {
    "duration": 15,
    "start_time": "2021-06-30T19:09:46.457Z"
   },
   {
    "duration": 12,
    "start_time": "2021-06-30T19:09:47.799Z"
   },
   {
    "duration": 6,
    "start_time": "2021-06-30T19:09:49.282Z"
   },
   {
    "duration": 1154,
    "start_time": "2021-06-30T19:09:49.950Z"
   },
   {
    "duration": 13,
    "start_time": "2021-06-30T19:09:51.359Z"
   },
   {
    "duration": 33,
    "start_time": "2021-06-30T19:09:54.403Z"
   },
   {
    "duration": 13,
    "start_time": "2021-06-30T19:09:55.488Z"
   },
   {
    "duration": 7,
    "start_time": "2021-06-30T19:09:56.868Z"
   },
   {
    "duration": 11,
    "start_time": "2021-06-30T19:09:57.514Z"
   },
   {
    "duration": 4,
    "start_time": "2021-06-30T19:09:59.549Z"
   },
   {
    "duration": 69,
    "start_time": "2021-06-30T19:10:01.105Z"
   },
   {
    "duration": 415,
    "start_time": "2021-06-30T19:10:02.562Z"
   },
   {
    "duration": 740,
    "start_time": "2021-06-30T19:10:03.155Z"
   },
   {
    "duration": 603,
    "start_time": "2021-06-30T19:10:03.972Z"
   },
   {
    "duration": 467,
    "start_time": "2021-06-30T19:10:04.739Z"
   },
   {
    "duration": 515,
    "start_time": "2021-06-30T19:10:06.380Z"
   },
   {
    "duration": 293,
    "start_time": "2021-06-30T19:10:08.674Z"
   },
   {
    "duration": 694,
    "start_time": "2021-06-30T19:12:24.242Z"
   },
   {
    "duration": 682,
    "start_time": "2021-06-30T19:13:52.308Z"
   },
   {
    "duration": 38,
    "start_time": "2021-06-30T19:16:41.754Z"
   },
   {
    "duration": 78,
    "start_time": "2021-06-30T19:16:59.184Z"
   },
   {
    "duration": 15,
    "start_time": "2021-06-30T19:16:59.745Z"
   },
   {
    "duration": 47,
    "start_time": "2021-06-30T19:17:00.959Z"
   },
   {
    "duration": 13,
    "start_time": "2021-06-30T19:17:02.650Z"
   },
   {
    "duration": 13,
    "start_time": "2021-06-30T19:17:04.951Z"
   },
   {
    "duration": 14,
    "start_time": "2021-06-30T19:17:06.180Z"
   },
   {
    "duration": 10,
    "start_time": "2021-06-30T19:17:08.108Z"
   },
   {
    "duration": 12,
    "start_time": "2021-06-30T19:17:09.453Z"
   },
   {
    "duration": 7,
    "start_time": "2021-06-30T19:17:11.839Z"
   },
   {
    "duration": 656,
    "start_time": "2021-06-30T19:17:12.480Z"
   },
   {
    "duration": 34,
    "start_time": "2021-06-30T19:17:13.151Z"
   },
   {
    "duration": 6,
    "start_time": "2021-06-30T19:17:14.532Z"
   },
   {
    "duration": 15,
    "start_time": "2021-06-30T19:17:15.604Z"
   },
   {
    "duration": 13,
    "start_time": "2021-06-30T19:17:16.654Z"
   },
   {
    "duration": 7,
    "start_time": "2021-06-30T19:17:17.848Z"
   },
   {
    "duration": 582,
    "start_time": "2021-06-30T19:17:18.531Z"
   },
   {
    "duration": 28,
    "start_time": "2021-06-30T19:17:20.125Z"
   },
   {
    "duration": 38,
    "start_time": "2021-06-30T19:17:23.623Z"
   },
   {
    "duration": 16,
    "start_time": "2021-06-30T19:17:25.196Z"
   },
   {
    "duration": 8,
    "start_time": "2021-06-30T19:17:26.633Z"
   },
   {
    "duration": 9,
    "start_time": "2021-06-30T19:17:27.250Z"
   },
   {
    "duration": 5,
    "start_time": "2021-06-30T19:17:29.252Z"
   },
   {
    "duration": 82,
    "start_time": "2021-06-30T19:17:31.018Z"
   },
   {
    "duration": 420,
    "start_time": "2021-06-30T19:17:33.910Z"
   },
   {
    "duration": 479,
    "start_time": "2021-06-30T19:17:34.985Z"
   },
   {
    "duration": 589,
    "start_time": "2021-06-30T19:17:36.073Z"
   },
   {
    "duration": 485,
    "start_time": "2021-06-30T19:17:37.277Z"
   },
   {
    "duration": 337,
    "start_time": "2021-06-30T19:23:25.781Z"
   },
   {
    "duration": 34,
    "start_time": "2021-06-30T19:25:10.548Z"
   },
   {
    "duration": 4,
    "start_time": "2021-06-30T19:26:58.176Z"
   },
   {
    "duration": 471,
    "start_time": "2021-06-30T19:27:09.626Z"
   },
   {
    "duration": 6,
    "start_time": "2021-06-30T19:28:01.230Z"
   },
   {
    "duration": 6,
    "start_time": "2021-06-30T19:28:21.495Z"
   },
   {
    "duration": 11,
    "start_time": "2021-06-30T19:28:54.875Z"
   },
   {
    "duration": 6,
    "start_time": "2021-06-30T19:28:59.296Z"
   },
   {
    "duration": 358,
    "start_time": "2021-06-30T19:29:07.456Z"
   },
   {
    "duration": 5,
    "start_time": "2021-06-30T19:30:10.297Z"
   },
   {
    "duration": 5,
    "start_time": "2021-06-30T19:30:20.558Z"
   },
   {
    "duration": 5,
    "start_time": "2021-06-30T19:30:23.896Z"
   },
   {
    "duration": 20,
    "start_time": "2021-06-30T19:31:07.874Z"
   },
   {
    "duration": 22,
    "start_time": "2021-06-30T19:31:47.450Z"
   },
   {
    "duration": 30,
    "start_time": "2021-06-30T19:32:15.098Z"
   },
   {
    "duration": 136,
    "start_time": "2021-06-30T19:33:54.646Z"
   },
   {
    "duration": 371,
    "start_time": "2021-06-30T19:34:48.767Z"
   },
   {
    "duration": 14480,
    "start_time": "2021-06-30T19:35:56.463Z"
   },
   {
    "duration": 11372,
    "start_time": "2021-06-30T19:37:25.764Z"
   },
   {
    "duration": 82,
    "start_time": "2021-06-30T19:38:03.652Z"
   },
   {
    "duration": 15,
    "start_time": "2021-06-30T19:38:04.901Z"
   },
   {
    "duration": 51,
    "start_time": "2021-06-30T19:38:07.232Z"
   },
   {
    "duration": 14,
    "start_time": "2021-06-30T19:38:08.345Z"
   },
   {
    "duration": 13,
    "start_time": "2021-06-30T19:38:10.804Z"
   },
   {
    "duration": 14,
    "start_time": "2021-06-30T19:38:12.151Z"
   },
   {
    "duration": 10,
    "start_time": "2021-06-30T19:38:13.851Z"
   },
   {
    "duration": 11,
    "start_time": "2021-06-30T19:38:14.906Z"
   },
   {
    "duration": 6,
    "start_time": "2021-06-30T19:38:16.882Z"
   },
   {
    "duration": 656,
    "start_time": "2021-06-30T19:38:17.608Z"
   },
   {
    "duration": 44,
    "start_time": "2021-06-30T19:38:18.267Z"
   },
   {
    "duration": 7,
    "start_time": "2021-06-30T19:38:20.573Z"
   },
   {
    "duration": 14,
    "start_time": "2021-06-30T19:38:20.779Z"
   },
   {
    "duration": 14,
    "start_time": "2021-06-30T19:38:21.847Z"
   },
   {
    "duration": 6,
    "start_time": "2021-06-30T19:38:24.819Z"
   },
   {
    "duration": 597,
    "start_time": "2021-06-30T19:38:24.828Z"
   },
   {
    "duration": 14,
    "start_time": "2021-06-30T19:38:25.428Z"
   },
   {
    "duration": 36,
    "start_time": "2021-06-30T19:38:28.017Z"
   },
   {
    "duration": 13,
    "start_time": "2021-06-30T19:38:29.155Z"
   },
   {
    "duration": 6,
    "start_time": "2021-06-30T19:38:30.838Z"
   },
   {
    "duration": 8,
    "start_time": "2021-06-30T19:38:31.406Z"
   },
   {
    "duration": 5,
    "start_time": "2021-06-30T19:38:33.457Z"
   },
   {
    "duration": 67,
    "start_time": "2021-06-30T19:38:35.046Z"
   },
   {
    "duration": 421,
    "start_time": "2021-06-30T19:38:36.944Z"
   },
   {
    "duration": 468,
    "start_time": "2021-06-30T19:38:37.914Z"
   },
   {
    "duration": 558,
    "start_time": "2021-06-30T19:38:38.503Z"
   },
   {
    "duration": 445,
    "start_time": "2021-06-30T19:38:39.118Z"
   },
   {
    "duration": 38,
    "start_time": "2021-06-30T19:38:39.697Z"
   },
   {
    "duration": 11696,
    "start_time": "2021-06-30T19:38:44.047Z"
   },
   {
    "duration": 39,
    "start_time": "2021-06-30T19:43:08.944Z"
   },
   {
    "duration": 78,
    "start_time": "2021-06-30T19:50:18.472Z"
   },
   {
    "duration": 15,
    "start_time": "2021-06-30T19:50:20.544Z"
   },
   {
    "duration": 48,
    "start_time": "2021-06-30T19:50:20.562Z"
   },
   {
    "duration": 14,
    "start_time": "2021-06-30T19:50:21.669Z"
   },
   {
    "duration": 14,
    "start_time": "2021-06-30T19:50:23.660Z"
   },
   {
    "duration": 13,
    "start_time": "2021-06-30T19:50:24.599Z"
   },
   {
    "duration": 10,
    "start_time": "2021-06-30T19:50:26.043Z"
   },
   {
    "duration": 11,
    "start_time": "2021-06-30T19:50:27.028Z"
   },
   {
    "duration": 6,
    "start_time": "2021-06-30T19:50:28.447Z"
   },
   {
    "duration": 680,
    "start_time": "2021-06-30T19:50:28.990Z"
   },
   {
    "duration": 40,
    "start_time": "2021-06-30T19:50:29.673Z"
   },
   {
    "duration": 7,
    "start_time": "2021-06-30T19:50:30.620Z"
   },
   {
    "duration": 16,
    "start_time": "2021-06-30T19:50:31.604Z"
   },
   {
    "duration": 12,
    "start_time": "2021-06-30T19:50:32.647Z"
   },
   {
    "duration": 7,
    "start_time": "2021-06-30T19:50:33.657Z"
   },
   {
    "duration": 610,
    "start_time": "2021-06-30T19:50:34.186Z"
   },
   {
    "duration": 18,
    "start_time": "2021-06-30T19:50:35.266Z"
   },
   {
    "duration": 36,
    "start_time": "2021-06-30T19:50:37.910Z"
   },
   {
    "duration": 13,
    "start_time": "2021-06-30T19:50:38.630Z"
   },
   {
    "duration": 7,
    "start_time": "2021-06-30T19:50:39.824Z"
   },
   {
    "duration": 7,
    "start_time": "2021-06-30T19:50:40.331Z"
   },
   {
    "duration": 6,
    "start_time": "2021-06-30T19:50:41.991Z"
   },
   {
    "duration": 71,
    "start_time": "2021-06-30T19:50:43.025Z"
   },
   {
    "duration": 404,
    "start_time": "2021-06-30T19:50:44.216Z"
   },
   {
    "duration": 470,
    "start_time": "2021-06-30T19:50:44.815Z"
   },
   {
    "duration": 581,
    "start_time": "2021-06-30T19:50:45.466Z"
   },
   {
    "duration": 497,
    "start_time": "2021-06-30T19:50:46.050Z"
   },
   {
    "duration": 57,
    "start_time": "2021-06-30T19:50:46.551Z"
   },
   {
    "duration": 130,
    "start_time": "2021-06-30T19:50:47.010Z"
   },
   {
    "duration": 350,
    "start_time": "2021-06-30T19:51:48.431Z"
   },
   {
    "duration": 319,
    "start_time": "2021-06-30T19:52:56.255Z"
   },
   {
    "duration": 3161,
    "start_time": "2021-06-30T19:55:33.298Z"
   },
   {
    "duration": 153,
    "start_time": "2021-06-30T19:55:53.549Z"
   },
   {
    "duration": 38,
    "start_time": "2021-06-30T19:56:24.170Z"
   },
   {
    "duration": 367,
    "start_time": "2021-06-30T19:56:52.573Z"
   },
   {
    "duration": 42,
    "start_time": "2021-06-30T19:58:02.233Z"
   },
   {
    "duration": 1530,
    "start_time": "2021-06-30T20:23:51.847Z"
   },
   {
    "duration": 15,
    "start_time": "2021-06-30T20:23:53.379Z"
   },
   {
    "duration": 47,
    "start_time": "2021-06-30T20:23:53.408Z"
   },
   {
    "duration": 14,
    "start_time": "2021-06-30T20:23:53.458Z"
   },
   {
    "duration": 38,
    "start_time": "2021-06-30T20:23:53.475Z"
   },
   {
    "duration": 12,
    "start_time": "2021-06-30T20:23:53.516Z"
   },
   {
    "duration": 10,
    "start_time": "2021-06-30T20:23:53.531Z"
   },
   {
    "duration": 10,
    "start_time": "2021-06-30T20:23:53.545Z"
   },
   {
    "duration": 7,
    "start_time": "2021-06-30T20:23:53.558Z"
   },
   {
    "duration": 714,
    "start_time": "2021-06-30T20:23:53.567Z"
   },
   {
    "duration": 42,
    "start_time": "2021-06-30T20:23:54.283Z"
   },
   {
    "duration": 8,
    "start_time": "2021-06-30T20:23:54.327Z"
   },
   {
    "duration": 18,
    "start_time": "2021-06-30T20:23:54.337Z"
   },
   {
    "duration": 11,
    "start_time": "2021-06-30T20:23:54.357Z"
   },
   {
    "duration": 44,
    "start_time": "2021-06-30T20:23:54.371Z"
   },
   {
    "duration": 613,
    "start_time": "2021-06-30T20:23:54.417Z"
   },
   {
    "duration": 13,
    "start_time": "2021-06-30T20:23:55.033Z"
   },
   {
    "duration": 42,
    "start_time": "2021-06-30T20:23:55.048Z"
   },
   {
    "duration": 29,
    "start_time": "2021-06-30T20:23:55.092Z"
   },
   {
    "duration": 7,
    "start_time": "2021-06-30T20:23:55.124Z"
   },
   {
    "duration": 10,
    "start_time": "2021-06-30T20:23:55.133Z"
   },
   {
    "duration": 4,
    "start_time": "2021-06-30T20:23:55.146Z"
   },
   {
    "duration": 113,
    "start_time": "2021-06-30T20:23:55.156Z"
   },
   {
    "duration": 438,
    "start_time": "2021-06-30T20:23:55.272Z"
   },
   {
    "duration": 453,
    "start_time": "2021-06-30T20:23:55.713Z"
   },
   {
    "duration": 577,
    "start_time": "2021-06-30T20:23:56.168Z"
   },
   {
    "duration": 446,
    "start_time": "2021-06-30T20:23:56.748Z"
   },
   {
    "duration": 40,
    "start_time": "2021-06-30T20:23:57.196Z"
   },
   {
    "duration": 45,
    "start_time": "2021-06-30T20:23:57.238Z"
   },
   {
    "duration": 11749,
    "start_time": "2021-06-30T20:23:57.286Z"
   },
   {
    "duration": 40,
    "start_time": "2021-06-30T20:24:09.038Z"
   },
   {
    "duration": 285,
    "start_time": "2021-06-30T20:24:09.081Z"
   },
   {
    "duration": 763,
    "start_time": "2021-06-30T20:24:09.369Z"
   },
   {
    "duration": 182518,
    "start_time": "2021-06-30T20:21:07.617Z"
   },
   {
    "duration": 182512,
    "start_time": "2021-06-30T20:21:07.625Z"
   },
   {
    "duration": 182508,
    "start_time": "2021-06-30T20:21:07.631Z"
   },
   {
    "duration": 182503,
    "start_time": "2021-06-30T20:21:07.639Z"
   },
   {
    "duration": 182499,
    "start_time": "2021-06-30T20:21:07.645Z"
   },
   {
    "duration": 182496,
    "start_time": "2021-06-30T20:21:07.650Z"
   },
   {
    "duration": 182493,
    "start_time": "2021-06-30T20:21:07.655Z"
   },
   {
    "duration": 182490,
    "start_time": "2021-06-30T20:21:07.659Z"
   },
   {
    "duration": 182487,
    "start_time": "2021-06-30T20:21:07.664Z"
   },
   {
    "duration": 182484,
    "start_time": "2021-06-30T20:21:07.668Z"
   },
   {
    "duration": 182479,
    "start_time": "2021-06-30T20:21:07.674Z"
   },
   {
    "duration": 182476,
    "start_time": "2021-06-30T20:21:07.678Z"
   },
   {
    "duration": 182472,
    "start_time": "2021-06-30T20:21:07.684Z"
   },
   {
    "duration": 182469,
    "start_time": "2021-06-30T20:21:07.688Z"
   },
   {
    "duration": 182465,
    "start_time": "2021-06-30T20:21:07.693Z"
   },
   {
    "duration": 182461,
    "start_time": "2021-06-30T20:21:07.698Z"
   },
   {
    "duration": 182452,
    "start_time": "2021-06-30T20:21:07.709Z"
   },
   {
    "duration": 48,
    "start_time": "2021-06-30T20:25:04.760Z"
   },
   {
    "duration": 388,
    "start_time": "2021-06-30T20:29:11.838Z"
   },
   {
    "duration": 1596,
    "start_time": "2021-07-01T15:52:57.534Z"
   },
   {
    "duration": 22,
    "start_time": "2021-07-01T15:52:59.133Z"
   },
   {
    "duration": 48,
    "start_time": "2021-07-01T15:52:59.160Z"
   },
   {
    "duration": 13,
    "start_time": "2021-07-01T15:52:59.210Z"
   },
   {
    "duration": 43,
    "start_time": "2021-07-01T15:52:59.225Z"
   },
   {
    "duration": 12,
    "start_time": "2021-07-01T15:52:59.274Z"
   },
   {
    "duration": 18,
    "start_time": "2021-07-01T15:52:59.289Z"
   },
   {
    "duration": 25,
    "start_time": "2021-07-01T15:52:59.309Z"
   },
   {
    "duration": 25,
    "start_time": "2021-07-01T15:52:59.336Z"
   },
   {
    "duration": 753,
    "start_time": "2021-07-01T15:52:59.369Z"
   },
   {
    "duration": 51,
    "start_time": "2021-07-01T15:53:00.125Z"
   },
   {
    "duration": 19,
    "start_time": "2021-07-01T15:53:00.179Z"
   },
   {
    "duration": 45,
    "start_time": "2021-07-01T15:53:00.201Z"
   },
   {
    "duration": 46,
    "start_time": "2021-07-01T15:53:00.248Z"
   },
   {
    "duration": 32,
    "start_time": "2021-07-01T15:53:00.297Z"
   },
   {
    "duration": 682,
    "start_time": "2021-07-01T15:53:00.332Z"
   },
   {
    "duration": 13,
    "start_time": "2021-07-01T15:53:01.016Z"
   },
   {
    "duration": 58,
    "start_time": "2021-07-01T15:53:01.034Z"
   },
   {
    "duration": 15,
    "start_time": "2021-07-01T15:53:01.095Z"
   },
   {
    "duration": 14,
    "start_time": "2021-07-01T15:53:01.112Z"
   },
   {
    "duration": 32,
    "start_time": "2021-07-01T15:53:01.128Z"
   },
   {
    "duration": 31,
    "start_time": "2021-07-01T15:53:01.163Z"
   },
   {
    "duration": 114,
    "start_time": "2021-07-01T15:53:01.196Z"
   },
   {
    "duration": 467,
    "start_time": "2021-07-01T15:53:01.312Z"
   },
   {
    "duration": 470,
    "start_time": "2021-07-01T15:53:01.782Z"
   },
   {
    "duration": 605,
    "start_time": "2021-07-01T15:53:02.256Z"
   },
   {
    "duration": 476,
    "start_time": "2021-07-01T15:53:02.865Z"
   },
   {
    "duration": 44,
    "start_time": "2021-07-01T15:53:03.343Z"
   },
   {
    "duration": 44,
    "start_time": "2021-07-01T15:53:03.389Z"
   },
   {
    "duration": 416,
    "start_time": "2021-07-01T15:53:03.456Z"
   },
   {
    "duration": 172015,
    "start_time": "2021-07-01T15:50:11.860Z"
   },
   {
    "duration": 171939,
    "start_time": "2021-07-01T15:50:11.937Z"
   },
   {
    "duration": 171924,
    "start_time": "2021-07-01T15:50:11.954Z"
   },
   {
    "duration": 171920,
    "start_time": "2021-07-01T15:50:11.961Z"
   },
   {
    "duration": 171910,
    "start_time": "2021-07-01T15:50:11.973Z"
   },
   {
    "duration": 171905,
    "start_time": "2021-07-01T15:50:11.980Z"
   },
   {
    "duration": 171898,
    "start_time": "2021-07-01T15:50:11.990Z"
   },
   {
    "duration": 171645,
    "start_time": "2021-07-01T15:50:12.245Z"
   },
   {
    "duration": 171620,
    "start_time": "2021-07-01T15:50:12.272Z"
   },
   {
    "duration": 171616,
    "start_time": "2021-07-01T15:50:12.278Z"
   },
   {
    "duration": 171609,
    "start_time": "2021-07-01T15:50:12.288Z"
   },
   {
    "duration": 171603,
    "start_time": "2021-07-01T15:50:12.296Z"
   },
   {
    "duration": 171578,
    "start_time": "2021-07-01T15:50:12.323Z"
   },
   {
    "duration": 171566,
    "start_time": "2021-07-01T15:50:12.337Z"
   },
   {
    "duration": 171562,
    "start_time": "2021-07-01T15:50:12.344Z"
   },
   {
    "duration": 171548,
    "start_time": "2021-07-01T15:50:12.360Z"
   },
   {
    "duration": 171524,
    "start_time": "2021-07-01T15:50:12.386Z"
   },
   {
    "duration": 171517,
    "start_time": "2021-07-01T15:50:12.395Z"
   },
   {
    "duration": 171507,
    "start_time": "2021-07-01T15:50:12.406Z"
   },
   {
    "duration": 171497,
    "start_time": "2021-07-01T15:50:12.417Z"
   },
   {
    "duration": 274,
    "start_time": "2021-07-01T15:54:25.505Z"
   },
   {
    "duration": 289,
    "start_time": "2021-07-01T16:00:25.345Z"
   },
   {
    "duration": 37,
    "start_time": "2021-07-01T16:02:50.838Z"
   },
   {
    "duration": 1490,
    "start_time": "2021-07-01T16:03:13.111Z"
   },
   {
    "duration": 15,
    "start_time": "2021-07-01T16:03:14.604Z"
   },
   {
    "duration": 65,
    "start_time": "2021-07-01T16:03:14.623Z"
   },
   {
    "duration": 14,
    "start_time": "2021-07-01T16:03:14.690Z"
   },
   {
    "duration": 11,
    "start_time": "2021-07-01T16:03:14.706Z"
   },
   {
    "duration": 37,
    "start_time": "2021-07-01T16:03:14.720Z"
   },
   {
    "duration": 11,
    "start_time": "2021-07-01T16:03:14.759Z"
   },
   {
    "duration": 11,
    "start_time": "2021-07-01T16:03:14.774Z"
   },
   {
    "duration": 6,
    "start_time": "2021-07-01T16:03:14.788Z"
   },
   {
    "duration": 669,
    "start_time": "2021-07-01T16:03:14.796Z"
   },
   {
    "duration": 32,
    "start_time": "2021-07-01T16:03:15.468Z"
   },
   {
    "duration": 7,
    "start_time": "2021-07-01T16:03:15.503Z"
   },
   {
    "duration": 47,
    "start_time": "2021-07-01T16:03:15.512Z"
   },
   {
    "duration": 11,
    "start_time": "2021-07-01T16:03:15.561Z"
   },
   {
    "duration": 6,
    "start_time": "2021-07-01T16:03:15.575Z"
   },
   {
    "duration": 599,
    "start_time": "2021-07-01T16:03:15.583Z"
   },
   {
    "duration": 13,
    "start_time": "2021-07-01T16:03:16.185Z"
   },
   {
    "duration": 56,
    "start_time": "2021-07-01T16:03:16.200Z"
   },
   {
    "duration": 59,
    "start_time": "2021-07-01T16:03:16.258Z"
   },
   {
    "duration": 9,
    "start_time": "2021-07-01T16:03:16.319Z"
   },
   {
    "duration": 9,
    "start_time": "2021-07-01T16:03:16.330Z"
   },
   {
    "duration": 6,
    "start_time": "2021-07-01T16:03:16.342Z"
   },
   {
    "duration": 108,
    "start_time": "2021-07-01T16:03:16.356Z"
   },
   {
    "duration": 402,
    "start_time": "2021-07-01T16:03:16.467Z"
   },
   {
    "duration": 543,
    "start_time": "2021-07-01T16:03:16.872Z"
   },
   {
    "duration": 560,
    "start_time": "2021-07-01T16:03:17.418Z"
   },
   {
    "duration": 424,
    "start_time": "2021-07-01T16:03:17.980Z"
   },
   {
    "duration": 51,
    "start_time": "2021-07-01T16:03:18.407Z"
   },
   {
    "duration": 36,
    "start_time": "2021-07-01T16:03:18.461Z"
   },
   {
    "duration": 402,
    "start_time": "2021-07-01T16:03:18.500Z"
   },
   {
    "duration": 182294,
    "start_time": "2021-07-01T16:00:16.611Z"
   },
   {
    "duration": 182290,
    "start_time": "2021-07-01T16:00:16.617Z"
   },
   {
    "duration": 182286,
    "start_time": "2021-07-01T16:00:16.623Z"
   },
   {
    "duration": 182265,
    "start_time": "2021-07-01T16:00:16.646Z"
   },
   {
    "duration": 182254,
    "start_time": "2021-07-01T16:00:16.659Z"
   },
   {
    "duration": 182251,
    "start_time": "2021-07-01T16:00:16.665Z"
   },
   {
    "duration": 182246,
    "start_time": "2021-07-01T16:00:16.671Z"
   },
   {
    "duration": 182244,
    "start_time": "2021-07-01T16:00:16.676Z"
   },
   {
    "duration": 182231,
    "start_time": "2021-07-01T16:00:16.691Z"
   },
   {
    "duration": 182222,
    "start_time": "2021-07-01T16:00:16.702Z"
   },
   {
    "duration": 182219,
    "start_time": "2021-07-01T16:00:16.707Z"
   },
   {
    "duration": 182216,
    "start_time": "2021-07-01T16:00:16.712Z"
   },
   {
    "duration": 182214,
    "start_time": "2021-07-01T16:00:16.716Z"
   },
   {
    "duration": 182210,
    "start_time": "2021-07-01T16:00:16.722Z"
   },
   {
    "duration": 182207,
    "start_time": "2021-07-01T16:00:16.727Z"
   },
   {
    "duration": 182204,
    "start_time": "2021-07-01T16:00:16.732Z"
   },
   {
    "duration": 182201,
    "start_time": "2021-07-01T16:00:16.737Z"
   },
   {
    "duration": 182199,
    "start_time": "2021-07-01T16:00:16.741Z"
   },
   {
    "duration": 182210,
    "start_time": "2021-07-01T16:00:16.746Z"
   },
   {
    "duration": 182207,
    "start_time": "2021-07-01T16:00:16.751Z"
   },
   {
    "duration": 78,
    "start_time": "2021-07-01T16:03:37.657Z"
   },
   {
    "duration": 14,
    "start_time": "2021-07-01T16:03:38.145Z"
   },
   {
    "duration": 47,
    "start_time": "2021-07-01T16:03:39.111Z"
   },
   {
    "duration": 14,
    "start_time": "2021-07-01T16:03:40.512Z"
   },
   {
    "duration": 14,
    "start_time": "2021-07-01T16:03:42.348Z"
   },
   {
    "duration": 13,
    "start_time": "2021-07-01T16:03:43.261Z"
   },
   {
    "duration": 9,
    "start_time": "2021-07-01T16:03:44.640Z"
   },
   {
    "duration": 11,
    "start_time": "2021-07-01T16:03:45.522Z"
   },
   {
    "duration": 6,
    "start_time": "2021-07-01T16:03:46.910Z"
   },
   {
    "duration": 646,
    "start_time": "2021-07-01T16:03:47.383Z"
   },
   {
    "duration": 42,
    "start_time": "2021-07-01T16:03:48.032Z"
   },
   {
    "duration": 6,
    "start_time": "2021-07-01T16:03:49.187Z"
   },
   {
    "duration": 14,
    "start_time": "2021-07-01T16:03:50.149Z"
   },
   {
    "duration": 13,
    "start_time": "2021-07-01T16:03:51.098Z"
   },
   {
    "duration": 6,
    "start_time": "2021-07-01T16:03:52.160Z"
   },
   {
    "duration": 576,
    "start_time": "2021-07-01T16:03:52.714Z"
   },
   {
    "duration": 14,
    "start_time": "2021-07-01T16:03:53.715Z"
   },
   {
    "duration": 33,
    "start_time": "2021-07-01T16:03:56.830Z"
   },
   {
    "duration": 16,
    "start_time": "2021-07-01T16:03:58.229Z"
   },
   {
    "duration": 8,
    "start_time": "2021-07-01T16:04:01.574Z"
   },
   {
    "duration": 7,
    "start_time": "2021-07-01T16:04:02.318Z"
   },
   {
    "duration": 5,
    "start_time": "2021-07-01T16:04:20.452Z"
   },
   {
    "duration": 62,
    "start_time": "2021-07-01T16:04:22.827Z"
   },
   {
    "duration": 445,
    "start_time": "2021-07-01T16:04:26.013Z"
   },
   {
    "duration": 490,
    "start_time": "2021-07-01T16:04:27.068Z"
   },
   {
    "duration": 605,
    "start_time": "2021-07-01T16:04:27.657Z"
   },
   {
    "duration": 406,
    "start_time": "2021-07-01T16:04:28.482Z"
   },
   {
    "duration": 38,
    "start_time": "2021-07-01T16:04:30.266Z"
   },
   {
    "duration": 43,
    "start_time": "2021-07-01T16:05:54.441Z"
   },
   {
    "duration": 81,
    "start_time": "2021-07-01T16:06:28.630Z"
   },
   {
    "duration": 16,
    "start_time": "2021-07-01T16:06:29.027Z"
   },
   {
    "duration": 46,
    "start_time": "2021-07-01T16:06:29.915Z"
   },
   {
    "duration": 15,
    "start_time": "2021-07-01T16:06:31.177Z"
   },
   {
    "duration": 16,
    "start_time": "2021-07-01T16:06:33.191Z"
   },
   {
    "duration": 13,
    "start_time": "2021-07-01T16:06:34.008Z"
   },
   {
    "duration": 10,
    "start_time": "2021-07-01T16:06:35.490Z"
   },
   {
    "duration": 12,
    "start_time": "2021-07-01T16:06:36.436Z"
   },
   {
    "duration": 7,
    "start_time": "2021-07-01T16:06:37.884Z"
   },
   {
    "duration": 630,
    "start_time": "2021-07-01T16:06:38.463Z"
   },
   {
    "duration": 34,
    "start_time": "2021-07-01T16:06:40.161Z"
   },
   {
    "duration": 7,
    "start_time": "2021-07-01T16:06:41.162Z"
   },
   {
    "duration": 15,
    "start_time": "2021-07-01T16:06:42.250Z"
   },
   {
    "duration": 12,
    "start_time": "2021-07-01T16:06:43.314Z"
   },
   {
    "duration": 7,
    "start_time": "2021-07-01T16:06:44.433Z"
   },
   {
    "duration": 618,
    "start_time": "2021-07-01T16:06:44.967Z"
   },
   {
    "duration": 14,
    "start_time": "2021-07-01T16:06:46.291Z"
   },
   {
    "duration": 40,
    "start_time": "2021-07-01T16:06:50.487Z"
   },
   {
    "duration": 13,
    "start_time": "2021-07-01T16:06:51.659Z"
   },
   {
    "duration": 7,
    "start_time": "2021-07-01T16:06:53.823Z"
   },
   {
    "duration": 7,
    "start_time": "2021-07-01T16:06:54.562Z"
   },
   {
    "duration": 5,
    "start_time": "2021-07-01T16:06:55.889Z"
   },
   {
    "duration": 65,
    "start_time": "2021-07-01T16:06:57.029Z"
   },
   {
    "duration": 372,
    "start_time": "2021-07-01T16:06:58.875Z"
   },
   {
    "duration": 467,
    "start_time": "2021-07-01T16:06:59.745Z"
   },
   {
    "duration": 557,
    "start_time": "2021-07-01T16:07:00.882Z"
   },
   {
    "duration": 430,
    "start_time": "2021-07-01T16:07:02.392Z"
   },
   {
    "duration": 34,
    "start_time": "2021-07-01T16:07:14.478Z"
   },
   {
    "duration": 42,
    "start_time": "2021-07-01T16:07:22.083Z"
   },
   {
    "duration": 39,
    "start_time": "2021-07-01T16:07:29.879Z"
   },
   {
    "duration": 1494,
    "start_time": "2021-07-01T16:07:57.405Z"
   },
   {
    "duration": 19,
    "start_time": "2021-07-01T16:07:58.902Z"
   },
   {
    "duration": 70,
    "start_time": "2021-07-01T16:07:58.925Z"
   },
   {
    "duration": 14,
    "start_time": "2021-07-01T16:07:58.998Z"
   },
   {
    "duration": 43,
    "start_time": "2021-07-01T16:07:59.014Z"
   },
   {
    "duration": 13,
    "start_time": "2021-07-01T16:07:59.059Z"
   },
   {
    "duration": 9,
    "start_time": "2021-07-01T16:07:59.074Z"
   },
   {
    "duration": 11,
    "start_time": "2021-07-01T16:07:59.087Z"
   },
   {
    "duration": 7,
    "start_time": "2021-07-01T16:07:59.100Z"
   },
   {
    "duration": 673,
    "start_time": "2021-07-01T16:07:59.109Z"
   },
   {
    "duration": 32,
    "start_time": "2021-07-01T16:07:59.785Z"
   },
   {
    "duration": 7,
    "start_time": "2021-07-01T16:07:59.819Z"
   },
   {
    "duration": 35,
    "start_time": "2021-07-01T16:07:59.829Z"
   },
   {
    "duration": 10,
    "start_time": "2021-07-01T16:07:59.867Z"
   },
   {
    "duration": 5,
    "start_time": "2021-07-01T16:07:59.880Z"
   },
   {
    "duration": 616,
    "start_time": "2021-07-01T16:07:59.887Z"
   },
   {
    "duration": 13,
    "start_time": "2021-07-01T16:08:00.505Z"
   },
   {
    "duration": 55,
    "start_time": "2021-07-01T16:08:00.520Z"
   },
   {
    "duration": 54,
    "start_time": "2021-07-01T16:08:00.578Z"
   },
   {
    "duration": 19,
    "start_time": "2021-07-01T16:08:00.634Z"
   },
   {
    "duration": 54,
    "start_time": "2021-07-01T16:08:00.655Z"
   },
   {
    "duration": 33,
    "start_time": "2021-07-01T16:08:00.711Z"
   },
   {
    "duration": 87,
    "start_time": "2021-07-01T16:08:00.750Z"
   },
   {
    "duration": 432,
    "start_time": "2021-07-01T16:08:00.840Z"
   },
   {
    "duration": 484,
    "start_time": "2021-07-01T16:08:01.274Z"
   },
   {
    "duration": 638,
    "start_time": "2021-07-01T16:08:01.760Z"
   },
   {
    "duration": 474,
    "start_time": "2021-07-01T16:08:02.400Z"
   },
   {
    "duration": 43,
    "start_time": "2021-07-01T16:08:02.876Z"
   },
   {
    "duration": 63,
    "start_time": "2021-07-01T16:08:02.922Z"
   },
   {
    "duration": 504,
    "start_time": "2021-07-01T16:08:02.987Z"
   },
   {
    "duration": 182234,
    "start_time": "2021-07-01T16:05:01.260Z"
   },
   {
    "duration": 182225,
    "start_time": "2021-07-01T16:05:01.270Z"
   },
   {
    "duration": 182218,
    "start_time": "2021-07-01T16:05:01.279Z"
   },
   {
    "duration": 182213,
    "start_time": "2021-07-01T16:05:01.285Z"
   },
   {
    "duration": 182210,
    "start_time": "2021-07-01T16:05:01.290Z"
   },
   {
    "duration": 182207,
    "start_time": "2021-07-01T16:05:01.294Z"
   },
   {
    "duration": 182204,
    "start_time": "2021-07-01T16:05:01.299Z"
   },
   {
    "duration": 182199,
    "start_time": "2021-07-01T16:05:01.305Z"
   },
   {
    "duration": 182196,
    "start_time": "2021-07-01T16:05:01.310Z"
   },
   {
    "duration": 182193,
    "start_time": "2021-07-01T16:05:01.314Z"
   },
   {
    "duration": 182181,
    "start_time": "2021-07-01T16:05:01.328Z"
   },
   {
    "duration": 182178,
    "start_time": "2021-07-01T16:05:01.332Z"
   },
   {
    "duration": 182174,
    "start_time": "2021-07-01T16:05:01.338Z"
   },
   {
    "duration": 182163,
    "start_time": "2021-07-01T16:05:01.350Z"
   },
   {
    "duration": 182142,
    "start_time": "2021-07-01T16:05:01.373Z"
   },
   {
    "duration": 182107,
    "start_time": "2021-07-01T16:05:01.409Z"
   },
   {
    "duration": 182075,
    "start_time": "2021-07-01T16:05:01.443Z"
   },
   {
    "duration": 182036,
    "start_time": "2021-07-01T16:05:01.483Z"
   },
   {
    "duration": 181997,
    "start_time": "2021-07-01T16:05:01.524Z"
   },
   {
    "duration": 181987,
    "start_time": "2021-07-01T16:05:01.535Z"
   },
   {
    "duration": 5,
    "start_time": "2021-07-01T16:19:33.136Z"
   },
   {
    "duration": 69,
    "start_time": "2021-07-01T16:19:47.212Z"
   },
   {
    "duration": 391,
    "start_time": "2021-07-01T16:19:53.359Z"
   },
   {
    "duration": 407,
    "start_time": "2021-07-01T16:19:54.579Z"
   },
   {
    "duration": 765,
    "start_time": "2021-07-01T16:19:56.205Z"
   },
   {
    "duration": 430,
    "start_time": "2021-07-01T16:19:57.408Z"
   },
   {
    "duration": 82,
    "start_time": "2021-07-01T16:20:16.440Z"
   },
   {
    "duration": 16,
    "start_time": "2021-07-01T16:20:16.854Z"
   },
   {
    "duration": 46,
    "start_time": "2021-07-01T16:20:17.736Z"
   },
   {
    "duration": 13,
    "start_time": "2021-07-01T16:20:19.036Z"
   },
   {
    "duration": 13,
    "start_time": "2021-07-01T16:20:20.925Z"
   },
   {
    "duration": 13,
    "start_time": "2021-07-01T16:20:21.959Z"
   },
   {
    "duration": 10,
    "start_time": "2021-07-01T16:20:23.393Z"
   },
   {
    "duration": 10,
    "start_time": "2021-07-01T16:20:24.523Z"
   },
   {
    "duration": 7,
    "start_time": "2021-07-01T16:20:26.003Z"
   },
   {
    "duration": 672,
    "start_time": "2021-07-01T16:20:26.493Z"
   },
   {
    "duration": 35,
    "start_time": "2021-07-01T16:20:27.811Z"
   },
   {
    "duration": 6,
    "start_time": "2021-07-01T16:20:29.140Z"
   },
   {
    "duration": 17,
    "start_time": "2021-07-01T16:20:30.353Z"
   },
   {
    "duration": 12,
    "start_time": "2021-07-01T16:20:31.717Z"
   },
   {
    "duration": 6,
    "start_time": "2021-07-01T16:20:33.129Z"
   },
   {
    "duration": 607,
    "start_time": "2021-07-01T16:20:33.751Z"
   },
   {
    "duration": 14,
    "start_time": "2021-07-01T16:20:35.019Z"
   },
   {
    "duration": 34,
    "start_time": "2021-07-01T16:20:38.218Z"
   },
   {
    "duration": 15,
    "start_time": "2021-07-01T16:20:38.831Z"
   },
   {
    "duration": 7,
    "start_time": "2021-07-01T16:20:40.008Z"
   },
   {
    "duration": 8,
    "start_time": "2021-07-01T16:20:40.575Z"
   },
   {
    "duration": 5,
    "start_time": "2021-07-01T16:20:42.594Z"
   },
   {
    "duration": 67,
    "start_time": "2021-07-01T16:20:44.042Z"
   },
   {
    "duration": 395,
    "start_time": "2021-07-01T16:20:47.068Z"
   },
   {
    "duration": 456,
    "start_time": "2021-07-01T16:20:48.622Z"
   },
   {
    "duration": 571,
    "start_time": "2021-07-01T16:20:49.797Z"
   },
   {
    "duration": 437,
    "start_time": "2021-07-01T16:20:51.055Z"
   },
   {
    "duration": 40,
    "start_time": "2021-07-01T16:20:58.851Z"
   },
   {
    "duration": 13,
    "start_time": "2021-07-01T16:21:23.444Z"
   },
   {
    "duration": 6,
    "start_time": "2021-07-01T16:21:55.017Z"
   },
   {
    "duration": 644,
    "start_time": "2021-07-01T16:21:56.106Z"
   },
   {
    "duration": 35,
    "start_time": "2021-07-01T16:21:58.132Z"
   },
   {
    "duration": 18,
    "start_time": "2021-07-01T16:22:08.592Z"
   },
   {
    "duration": 6,
    "start_time": "2021-07-01T16:49:17.509Z"
   },
   {
    "duration": 6,
    "start_time": "2021-07-01T16:51:02.950Z"
   },
   {
    "duration": 11,
    "start_time": "2021-07-01T16:52:55.640Z"
   },
   {
    "duration": 9,
    "start_time": "2021-07-01T16:53:47.016Z"
   },
   {
    "duration": 9,
    "start_time": "2021-07-01T16:55:25.975Z"
   },
   {
    "duration": 8,
    "start_time": "2021-07-01T16:55:30.335Z"
   },
   {
    "duration": 8,
    "start_time": "2021-07-01T16:55:51.918Z"
   },
   {
    "duration": 271,
    "start_time": "2021-07-01T16:58:41.786Z"
   },
   {
    "duration": 10,
    "start_time": "2021-07-01T16:59:51.641Z"
   },
   {
    "duration": 9,
    "start_time": "2021-07-01T17:00:13.349Z"
   },
   {
    "duration": 6,
    "start_time": "2021-07-01T17:03:15.694Z"
   },
   {
    "duration": 9,
    "start_time": "2021-07-01T17:05:10.297Z"
   },
   {
    "duration": 12,
    "start_time": "2021-07-01T17:05:24.439Z"
   },
   {
    "duration": 12,
    "start_time": "2021-07-01T17:05:30.314Z"
   },
   {
    "duration": 11,
    "start_time": "2021-07-01T17:05:36.615Z"
   },
   {
    "duration": 9,
    "start_time": "2021-07-01T17:09:05.346Z"
   },
   {
    "duration": 11,
    "start_time": "2021-07-01T17:09:20.548Z"
   },
   {
    "duration": 8,
    "start_time": "2021-07-01T17:13:14.741Z"
   },
   {
    "duration": 12,
    "start_time": "2021-07-01T17:13:32.169Z"
   },
   {
    "duration": 9,
    "start_time": "2021-07-01T17:13:40.971Z"
   },
   {
    "duration": 6,
    "start_time": "2021-07-01T17:16:07.024Z"
   },
   {
    "duration": 12,
    "start_time": "2021-07-01T17:16:33.724Z"
   },
   {
    "duration": 6,
    "start_time": "2021-07-01T17:16:53.094Z"
   },
   {
    "duration": 18,
    "start_time": "2021-07-01T17:16:53.547Z"
   },
   {
    "duration": 22,
    "start_time": "2021-07-01T17:16:55.034Z"
   },
   {
    "duration": 58,
    "start_time": "2021-07-01T17:17:09.957Z"
   },
   {
    "duration": 37,
    "start_time": "2021-07-01T17:17:16.573Z"
   },
   {
    "duration": 33,
    "start_time": "2021-07-01T17:17:17.759Z"
   },
   {
    "duration": 56,
    "start_time": "2021-07-01T17:17:28.801Z"
   },
   {
    "duration": 28,
    "start_time": "2021-07-01T17:17:42.702Z"
   },
   {
    "duration": 28,
    "start_time": "2021-07-01T17:17:43.891Z"
   },
   {
    "duration": 9,
    "start_time": "2021-07-01T19:26:55.530Z"
   },
   {
    "duration": 199,
    "start_time": "2021-07-01T19:28:13.475Z"
   },
   {
    "duration": 4,
    "start_time": "2021-07-01T19:28:22.645Z"
   },
   {
    "duration": 1502,
    "start_time": "2021-07-02T04:23:46.037Z"
   },
   {
    "duration": 15,
    "start_time": "2021-07-02T04:23:47.542Z"
   },
   {
    "duration": 69,
    "start_time": "2021-07-02T04:23:47.561Z"
   },
   {
    "duration": 14,
    "start_time": "2021-07-02T04:23:47.632Z"
   },
   {
    "duration": 11,
    "start_time": "2021-07-02T04:23:47.648Z"
   },
   {
    "duration": 40,
    "start_time": "2021-07-02T04:23:47.662Z"
   },
   {
    "duration": 9,
    "start_time": "2021-07-02T04:23:47.705Z"
   },
   {
    "duration": 17,
    "start_time": "2021-07-02T04:23:47.717Z"
   },
   {
    "duration": 8,
    "start_time": "2021-07-02T04:23:47.740Z"
   },
   {
    "duration": 661,
    "start_time": "2021-07-02T04:23:47.752Z"
   },
   {
    "duration": 33,
    "start_time": "2021-07-02T04:23:48.415Z"
   },
   {
    "duration": 7,
    "start_time": "2021-07-02T04:23:48.451Z"
   },
   {
    "duration": 43,
    "start_time": "2021-07-02T04:23:48.460Z"
   },
   {
    "duration": 11,
    "start_time": "2021-07-02T04:23:48.505Z"
   },
   {
    "duration": 6,
    "start_time": "2021-07-02T04:23:48.518Z"
   },
   {
    "duration": 596,
    "start_time": "2021-07-02T04:23:48.526Z"
   },
   {
    "duration": 13,
    "start_time": "2021-07-02T04:23:49.125Z"
   },
   {
    "duration": 32,
    "start_time": "2021-07-02T04:23:49.140Z"
   },
   {
    "duration": 14,
    "start_time": "2021-07-02T04:23:49.200Z"
   },
   {
    "duration": 6,
    "start_time": "2021-07-02T04:23:49.217Z"
   },
   {
    "duration": 9,
    "start_time": "2021-07-02T04:23:49.225Z"
   },
   {
    "duration": 9,
    "start_time": "2021-07-02T04:23:49.236Z"
   },
   {
    "duration": 94,
    "start_time": "2021-07-02T04:23:49.247Z"
   },
   {
    "duration": 434,
    "start_time": "2021-07-02T04:23:49.343Z"
   },
   {
    "duration": 445,
    "start_time": "2021-07-02T04:23:49.780Z"
   },
   {
    "duration": 572,
    "start_time": "2021-07-02T04:23:50.228Z"
   },
   {
    "duration": 433,
    "start_time": "2021-07-02T04:23:50.805Z"
   },
   {
    "duration": 45,
    "start_time": "2021-07-02T04:23:51.242Z"
   },
   {
    "duration": 15,
    "start_time": "2021-07-02T04:23:51.302Z"
   },
   {
    "duration": 8,
    "start_time": "2021-07-02T04:23:51.320Z"
   },
   {
    "duration": 672,
    "start_time": "2021-07-02T04:23:51.330Z"
   },
   {
    "duration": 34,
    "start_time": "2021-07-02T04:23:52.004Z"
   },
   {
    "duration": 26,
    "start_time": "2021-07-02T04:23:52.040Z"
   },
   {
    "duration": 12,
    "start_time": "2021-07-02T04:23:52.069Z"
   },
   {
    "duration": 9,
    "start_time": "2021-07-02T04:23:52.100Z"
   },
   {
    "duration": 23,
    "start_time": "2021-07-02T04:23:52.112Z"
   },
   {
    "duration": 26,
    "start_time": "2021-07-02T04:23:52.137Z"
   },
   {
    "duration": 7,
    "start_time": "2021-07-02T04:23:52.165Z"
   },
   {
    "duration": 33,
    "start_time": "2021-07-02T04:23:52.174Z"
   },
   {
    "duration": 18,
    "start_time": "2021-07-02T04:23:52.210Z"
   },
   {
    "duration": 74,
    "start_time": "2021-07-02T04:23:52.231Z"
   },
   {
    "duration": 36,
    "start_time": "2021-07-02T04:23:52.307Z"
   },
   {
    "duration": 78,
    "start_time": "2021-07-02T04:23:52.345Z"
   },
   {
    "duration": 28,
    "start_time": "2021-07-02T04:23:52.426Z"
   },
   {
    "duration": 46,
    "start_time": "2021-07-02T04:23:52.457Z"
   },
   {
    "duration": 9,
    "start_time": "2021-07-02T04:23:52.506Z"
   },
   {
    "duration": 10,
    "start_time": "2021-07-02T04:26:38.777Z"
   },
   {
    "duration": 13,
    "start_time": "2021-07-02T04:26:56.154Z"
   },
   {
    "duration": 11,
    "start_time": "2021-07-02T04:31:12.519Z"
   },
   {
    "duration": 407,
    "start_time": "2021-07-02T04:34:42.324Z"
   },
   {
    "duration": 4558,
    "start_time": "2021-07-02T04:36:59.553Z"
   },
   {
    "duration": 4652,
    "start_time": "2021-07-02T04:38:46.207Z"
   },
   {
    "duration": 4850,
    "start_time": "2021-07-02T04:52:05.148Z"
   },
   {
    "duration": 4641,
    "start_time": "2021-07-02T04:53:13.674Z"
   },
   {
    "duration": 4598,
    "start_time": "2021-07-02T04:58:21.667Z"
   },
   {
    "duration": 4645,
    "start_time": "2021-07-02T05:03:51.837Z"
   },
   {
    "duration": 4351,
    "start_time": "2021-07-02T05:04:31.037Z"
   },
   {
    "duration": 4652,
    "start_time": "2021-07-02T05:05:05.197Z"
   },
   {
    "duration": 4721,
    "start_time": "2021-07-02T05:05:17.728Z"
   },
   {
    "duration": 4393,
    "start_time": "2021-07-02T05:05:43.107Z"
   },
   {
    "duration": 4404,
    "start_time": "2021-07-02T05:07:22.466Z"
   },
   {
    "duration": 4382,
    "start_time": "2021-07-02T05:07:47.707Z"
   },
   {
    "duration": 1604,
    "start_time": "2021-07-03T18:46:43.811Z"
   },
   {
    "duration": 14,
    "start_time": "2021-07-03T18:46:45.418Z"
   },
   {
    "duration": 59,
    "start_time": "2021-07-03T18:46:45.435Z"
   },
   {
    "duration": 13,
    "start_time": "2021-07-03T18:46:45.497Z"
   },
   {
    "duration": 13,
    "start_time": "2021-07-03T18:46:45.512Z"
   },
   {
    "duration": 16,
    "start_time": "2021-07-03T18:46:45.527Z"
   },
   {
    "duration": 44,
    "start_time": "2021-07-03T18:46:45.545Z"
   },
   {
    "duration": 18,
    "start_time": "2021-07-03T18:46:45.593Z"
   },
   {
    "duration": 6,
    "start_time": "2021-07-03T18:46:45.614Z"
   },
   {
    "duration": 709,
    "start_time": "2021-07-03T18:46:45.623Z"
   },
   {
    "duration": 32,
    "start_time": "2021-07-03T18:46:46.335Z"
   },
   {
    "duration": 7,
    "start_time": "2021-07-03T18:46:46.385Z"
   },
   {
    "duration": 21,
    "start_time": "2021-07-03T18:46:46.394Z"
   },
   {
    "duration": 11,
    "start_time": "2021-07-03T18:46:46.418Z"
   },
   {
    "duration": 7,
    "start_time": "2021-07-03T18:46:46.431Z"
   },
   {
    "duration": 645,
    "start_time": "2021-07-03T18:46:46.440Z"
   },
   {
    "duration": 14,
    "start_time": "2021-07-03T18:46:47.087Z"
   },
   {
    "duration": 37,
    "start_time": "2021-07-03T18:46:47.104Z"
   },
   {
    "duration": 48,
    "start_time": "2021-07-03T18:46:47.143Z"
   },
   {
    "duration": 5,
    "start_time": "2021-07-03T18:46:47.194Z"
   },
   {
    "duration": 21,
    "start_time": "2021-07-03T18:46:47.201Z"
   },
   {
    "duration": 5,
    "start_time": "2021-07-03T18:46:47.226Z"
   },
   {
    "duration": 95,
    "start_time": "2021-07-03T18:46:47.236Z"
   },
   {
    "duration": 447,
    "start_time": "2021-07-03T18:46:47.334Z"
   },
   {
    "duration": 470,
    "start_time": "2021-07-03T18:46:47.786Z"
   },
   {
    "duration": 583,
    "start_time": "2021-07-03T18:46:48.259Z"
   },
   {
    "duration": 489,
    "start_time": "2021-07-03T18:46:48.844Z"
   },
   {
    "duration": 55,
    "start_time": "2021-07-03T18:46:49.335Z"
   },
   {
    "duration": 12,
    "start_time": "2021-07-03T18:46:49.393Z"
   },
   {
    "duration": 6,
    "start_time": "2021-07-03T18:46:49.407Z"
   },
   {
    "duration": 685,
    "start_time": "2021-07-03T18:46:49.416Z"
   },
   {
    "duration": 34,
    "start_time": "2021-07-03T18:46:50.103Z"
   },
   {
    "duration": 19,
    "start_time": "2021-07-03T18:46:50.139Z"
   },
   {
    "duration": 7,
    "start_time": "2021-07-03T18:46:50.185Z"
   },
   {
    "duration": 14,
    "start_time": "2021-07-03T18:46:50.194Z"
   },
   {
    "duration": 15,
    "start_time": "2021-07-03T18:46:50.211Z"
   },
   {
    "duration": 14,
    "start_time": "2021-07-03T18:46:50.229Z"
   },
   {
    "duration": 6,
    "start_time": "2021-07-03T18:46:50.246Z"
   },
   {
    "duration": 22,
    "start_time": "2021-07-03T18:46:50.286Z"
   },
   {
    "duration": 20,
    "start_time": "2021-07-03T18:46:50.311Z"
   },
   {
    "duration": 94,
    "start_time": "2021-07-03T18:46:50.334Z"
   },
   {
    "duration": 36,
    "start_time": "2021-07-03T18:46:50.430Z"
   },
   {
    "duration": 58,
    "start_time": "2021-07-03T18:46:50.485Z"
   },
   {
    "duration": 52,
    "start_time": "2021-07-03T18:46:50.546Z"
   },
   {
    "duration": 28,
    "start_time": "2021-07-03T18:46:50.600Z"
   },
   {
    "duration": 14,
    "start_time": "2021-07-03T18:46:50.631Z"
   },
   {
    "duration": 5120,
    "start_time": "2021-07-03T18:46:50.648Z"
   },
   {
    "duration": 1558,
    "start_time": "2021-07-03T19:01:12.315Z"
   },
   {
    "duration": 15,
    "start_time": "2021-07-03T19:01:13.876Z"
   },
   {
    "duration": 48,
    "start_time": "2021-07-03T19:01:13.895Z"
   },
   {
    "duration": 40,
    "start_time": "2021-07-03T19:01:13.946Z"
   },
   {
    "duration": 13,
    "start_time": "2021-07-03T19:01:13.989Z"
   },
   {
    "duration": 16,
    "start_time": "2021-07-03T19:01:14.004Z"
   },
   {
    "duration": 10,
    "start_time": "2021-07-03T19:01:14.023Z"
   },
   {
    "duration": 50,
    "start_time": "2021-07-03T19:01:14.037Z"
   },
   {
    "duration": 6,
    "start_time": "2021-07-03T19:01:14.091Z"
   },
   {
    "duration": 703,
    "start_time": "2021-07-03T19:01:14.099Z"
   },
   {
    "duration": 31,
    "start_time": "2021-07-03T19:01:14.805Z"
   },
   {
    "duration": 8,
    "start_time": "2021-07-03T19:01:14.839Z"
   },
   {
    "duration": 44,
    "start_time": "2021-07-03T19:01:14.850Z"
   },
   {
    "duration": 14,
    "start_time": "2021-07-03T19:01:14.896Z"
   },
   {
    "duration": 7,
    "start_time": "2021-07-03T19:01:14.912Z"
   },
   {
    "duration": 610,
    "start_time": "2021-07-03T19:01:14.921Z"
   },
   {
    "duration": 14,
    "start_time": "2021-07-03T19:01:15.533Z"
   },
   {
    "duration": 57,
    "start_time": "2021-07-03T19:01:15.550Z"
   },
   {
    "duration": 16,
    "start_time": "2021-07-03T19:01:15.610Z"
   },
   {
    "duration": 6,
    "start_time": "2021-07-03T19:01:15.628Z"
   },
   {
    "duration": 7,
    "start_time": "2021-07-03T19:01:15.636Z"
   },
   {
    "duration": 41,
    "start_time": "2021-07-03T19:01:15.646Z"
   },
   {
    "duration": 96,
    "start_time": "2021-07-03T19:01:15.692Z"
   },
   {
    "duration": 435,
    "start_time": "2021-07-03T19:01:15.791Z"
   },
   {
    "duration": 523,
    "start_time": "2021-07-03T19:01:16.229Z"
   },
   {
    "duration": 586,
    "start_time": "2021-07-03T19:01:16.754Z"
   },
   {
    "duration": 499,
    "start_time": "2021-07-03T19:01:17.342Z"
   },
   {
    "duration": 55,
    "start_time": "2021-07-03T19:01:17.844Z"
   },
   {
    "duration": 11,
    "start_time": "2021-07-03T19:01:17.902Z"
   },
   {
    "duration": 5,
    "start_time": "2021-07-03T19:01:17.915Z"
   },
   {
    "duration": 688,
    "start_time": "2021-07-03T19:01:17.923Z"
   },
   {
    "duration": 35,
    "start_time": "2021-07-03T19:01:18.614Z"
   },
   {
    "duration": 41,
    "start_time": "2021-07-03T19:01:18.651Z"
   },
   {
    "duration": 6,
    "start_time": "2021-07-03T19:01:18.695Z"
   },
   {
    "duration": 14,
    "start_time": "2021-07-03T19:01:18.704Z"
   },
   {
    "duration": 14,
    "start_time": "2021-07-03T19:01:18.721Z"
   },
   {
    "duration": 23,
    "start_time": "2021-07-03T19:01:18.738Z"
   },
   {
    "duration": 23,
    "start_time": "2021-07-03T19:01:18.764Z"
   },
   {
    "duration": 16,
    "start_time": "2021-07-03T19:01:18.790Z"
   },
   {
    "duration": 24,
    "start_time": "2021-07-03T19:01:18.809Z"
   },
   {
    "duration": 84,
    "start_time": "2021-07-03T19:01:18.836Z"
   },
   {
    "duration": 37,
    "start_time": "2021-07-03T19:01:18.922Z"
   },
   {
    "duration": 77,
    "start_time": "2021-07-03T19:01:18.961Z"
   },
   {
    "duration": 45,
    "start_time": "2021-07-03T19:01:19.041Z"
   },
   {
    "duration": 25,
    "start_time": "2021-07-03T19:01:19.089Z"
   },
   {
    "duration": 12,
    "start_time": "2021-07-03T19:01:19.116Z"
   },
   {
    "duration": 4923,
    "start_time": "2021-07-03T19:01:19.131Z"
   },
   {
    "duration": 321,
    "start_time": "2021-07-03T19:05:23.088Z"
   },
   {
    "duration": 87,
    "start_time": "2021-07-03T19:05:36.788Z"
   },
   {
    "duration": 16,
    "start_time": "2021-07-03T19:05:37.142Z"
   },
   {
    "duration": 50,
    "start_time": "2021-07-03T19:05:38.012Z"
   },
   {
    "duration": 15,
    "start_time": "2021-07-03T19:05:39.380Z"
   },
   {
    "duration": 14,
    "start_time": "2021-07-03T19:05:41.110Z"
   },
   {
    "duration": 13,
    "start_time": "2021-07-03T19:05:42.036Z"
   },
   {
    "duration": 10,
    "start_time": "2021-07-03T19:05:43.688Z"
   },
   {
    "duration": 12,
    "start_time": "2021-07-03T19:05:44.660Z"
   },
   {
    "duration": 8,
    "start_time": "2021-07-03T19:05:46.100Z"
   },
   {
    "duration": 678,
    "start_time": "2021-07-03T19:05:46.556Z"
   },
   {
    "duration": 50,
    "start_time": "2021-07-03T19:05:47.237Z"
   },
   {
    "duration": 6,
    "start_time": "2021-07-03T19:05:48.160Z"
   },
   {
    "duration": 17,
    "start_time": "2021-07-03T19:05:49.180Z"
   },
   {
    "duration": 13,
    "start_time": "2021-07-03T19:05:50.268Z"
   },
   {
    "duration": 6,
    "start_time": "2021-07-03T19:05:51.344Z"
   },
   {
    "duration": 577,
    "start_time": "2021-07-03T19:05:51.826Z"
   },
   {
    "duration": 17,
    "start_time": "2021-07-03T19:05:52.822Z"
   },
   {
    "duration": 36,
    "start_time": "2021-07-03T19:05:55.328Z"
   },
   {
    "duration": 13,
    "start_time": "2021-07-03T19:05:55.873Z"
   },
   {
    "duration": 6,
    "start_time": "2021-07-03T19:05:56.968Z"
   },
   {
    "duration": 7,
    "start_time": "2021-07-03T19:05:57.452Z"
   },
   {
    "duration": 5,
    "start_time": "2021-07-03T19:05:59.172Z"
   },
   {
    "duration": 66,
    "start_time": "2021-07-03T19:06:00.168Z"
   },
   {
    "duration": 462,
    "start_time": "2021-07-03T19:06:01.276Z"
   },
   {
    "duration": 311,
    "start_time": "2021-07-03T19:06:02.472Z"
   },
   {
    "duration": 307,
    "start_time": "2021-07-03T19:06:15.452Z"
   },
   {
    "duration": 415,
    "start_time": "2021-07-03T19:06:29.232Z"
   },
   {
    "duration": 314,
    "start_time": "2021-07-03T19:06:43.820Z"
   },
   {
    "duration": 41,
    "start_time": "2021-07-03T19:24:39.760Z"
   },
   {
    "duration": 96,
    "start_time": "2021-07-03T19:28:14.169Z"
   },
   {
    "duration": 4852,
    "start_time": "2021-07-03T20:04:27.857Z"
   },
   {
    "duration": 4861,
    "start_time": "2021-07-03T20:05:37.437Z"
   },
   {
    "duration": 5217,
    "start_time": "2021-07-03T20:06:38.286Z"
   },
   {
    "duration": 4782,
    "start_time": "2021-07-03T20:07:56.157Z"
   },
   {
    "duration": 4893,
    "start_time": "2021-07-03T20:09:05.453Z"
   },
   {
    "duration": 4839,
    "start_time": "2021-07-03T20:10:59.157Z"
   },
   {
    "duration": 5574,
    "start_time": "2021-07-03T20:11:56.497Z"
   },
   {
    "duration": 4714,
    "start_time": "2021-07-03T20:12:10.062Z"
   },
   {
    "duration": 1271,
    "start_time": "2021-07-03T20:15:00.069Z"
   },
   {
    "duration": 1271,
    "start_time": "2021-07-03T20:15:06.554Z"
   },
   {
    "duration": 1304,
    "start_time": "2021-07-03T20:20:14.734Z"
   },
   {
    "duration": 4814,
    "start_time": "2021-07-03T20:20:26.642Z"
   },
   {
    "duration": 4828,
    "start_time": "2021-07-03T20:24:41.158Z"
   },
   {
    "duration": 4839,
    "start_time": "2021-07-03T20:28:21.990Z"
   },
   {
    "duration": 5209,
    "start_time": "2021-07-03T20:32:36.751Z"
   },
   {
    "duration": 4716,
    "start_time": "2021-07-03T20:33:01.854Z"
   },
   {
    "duration": 5030,
    "start_time": "2021-07-03T20:33:33.010Z"
   },
   {
    "duration": 4809,
    "start_time": "2021-07-03T20:33:51.991Z"
   },
   {
    "duration": 1201,
    "start_time": "2021-07-04T06:11:35.655Z"
   },
   {
    "duration": 11,
    "start_time": "2021-07-04T06:11:36.858Z"
   },
   {
    "duration": 35,
    "start_time": "2021-07-04T06:11:36.871Z"
   },
   {
    "duration": 9,
    "start_time": "2021-07-04T06:11:36.908Z"
   },
   {
    "duration": 9,
    "start_time": "2021-07-04T06:11:36.919Z"
   },
   {
    "duration": 9,
    "start_time": "2021-07-04T06:11:36.930Z"
   },
   {
    "duration": 7,
    "start_time": "2021-07-04T06:11:36.940Z"
   },
   {
    "duration": 41,
    "start_time": "2021-07-04T06:11:36.949Z"
   },
   {
    "duration": 5,
    "start_time": "2021-07-04T06:11:36.992Z"
   },
   {
    "duration": 375,
    "start_time": "2021-07-04T06:11:36.999Z"
   },
   {
    "duration": 24,
    "start_time": "2021-07-04T06:11:37.375Z"
   },
   {
    "duration": 5,
    "start_time": "2021-07-04T06:11:37.401Z"
   },
   {
    "duration": 12,
    "start_time": "2021-07-04T06:11:37.407Z"
   },
   {
    "duration": 8,
    "start_time": "2021-07-04T06:11:37.420Z"
   },
   {
    "duration": 5,
    "start_time": "2021-07-04T06:11:37.429Z"
   },
   {
    "duration": 358,
    "start_time": "2021-07-04T06:11:37.435Z"
   },
   {
    "duration": 10,
    "start_time": "2021-07-04T06:11:37.795Z"
   },
   {
    "duration": 21,
    "start_time": "2021-07-04T06:11:37.807Z"
   },
   {
    "duration": 9,
    "start_time": "2021-07-04T06:11:37.830Z"
   },
   {
    "duration": 3,
    "start_time": "2021-07-04T06:11:37.841Z"
   },
   {
    "duration": 5,
    "start_time": "2021-07-04T06:11:37.846Z"
   },
   {
    "duration": 3,
    "start_time": "2021-07-04T06:11:37.885Z"
   },
   {
    "duration": 43,
    "start_time": "2021-07-04T06:11:37.891Z"
   },
   {
    "duration": 283,
    "start_time": "2021-07-04T06:11:37.936Z"
   },
   {
    "duration": 329,
    "start_time": "2021-07-04T06:11:38.221Z"
   },
   {
    "duration": 412,
    "start_time": "2021-07-04T06:11:38.552Z"
   },
   {
    "duration": 340,
    "start_time": "2021-07-04T06:11:38.966Z"
   },
   {
    "duration": 26,
    "start_time": "2021-07-04T06:11:39.308Z"
   },
   {
    "duration": 9,
    "start_time": "2021-07-04T06:11:39.336Z"
   },
   {
    "duration": 4,
    "start_time": "2021-07-04T06:11:39.347Z"
   },
   {
    "duration": 392,
    "start_time": "2021-07-04T06:11:39.353Z"
   },
   {
    "duration": 24,
    "start_time": "2021-07-04T06:11:39.747Z"
   },
   {
    "duration": 23,
    "start_time": "2021-07-04T06:11:39.773Z"
   },
   {
    "duration": 5,
    "start_time": "2021-07-04T06:11:39.798Z"
   },
   {
    "duration": 7,
    "start_time": "2021-07-04T06:11:39.805Z"
   },
   {
    "duration": 7,
    "start_time": "2021-07-04T06:11:39.814Z"
   },
   {
    "duration": 12,
    "start_time": "2021-07-04T06:11:39.822Z"
   },
   {
    "duration": 5,
    "start_time": "2021-07-04T06:11:39.835Z"
   },
   {
    "duration": 50,
    "start_time": "2021-07-04T06:11:39.841Z"
   },
   {
    "duration": 12,
    "start_time": "2021-07-04T06:11:39.892Z"
   },
   {
    "duration": 45,
    "start_time": "2021-07-04T06:11:39.906Z"
   },
   {
    "duration": 46,
    "start_time": "2021-07-04T06:11:39.953Z"
   },
   {
    "duration": 39,
    "start_time": "2021-07-04T06:11:40.001Z"
   },
   {
    "duration": 21,
    "start_time": "2021-07-04T06:11:40.042Z"
   },
   {
    "duration": 36,
    "start_time": "2021-07-04T06:11:40.064Z"
   },
   {
    "duration": 8,
    "start_time": "2021-07-04T06:11:40.102Z"
   },
   {
    "duration": 56,
    "start_time": "2021-07-04T06:11:40.112Z"
   },
   {
    "duration": 57,
    "start_time": "2021-07-04T06:14:47.957Z"
   },
   {
    "duration": 3452,
    "start_time": "2021-07-04T06:15:20.718Z"
   },
   {
    "duration": 3291,
    "start_time": "2021-07-04T06:15:39.630Z"
   },
   {
    "duration": 3,
    "start_time": "2021-07-04T06:46:18.825Z"
   },
   {
    "duration": 2,
    "start_time": "2021-07-04T07:00:24.255Z"
   },
   {
    "duration": 3569,
    "start_time": "2021-07-04T07:02:06.663Z"
   },
   {
    "duration": 1135,
    "start_time": "2021-07-04T08:30:56.341Z"
   },
   {
    "duration": 11,
    "start_time": "2021-07-04T08:30:57.477Z"
   },
   {
    "duration": 31,
    "start_time": "2021-07-04T08:30:57.490Z"
   },
   {
    "duration": 9,
    "start_time": "2021-07-04T08:30:57.522Z"
   },
   {
    "duration": 9,
    "start_time": "2021-07-04T08:30:57.532Z"
   },
   {
    "duration": 9,
    "start_time": "2021-07-04T08:30:57.542Z"
   },
   {
    "duration": 7,
    "start_time": "2021-07-04T08:30:57.552Z"
   },
   {
    "duration": 9,
    "start_time": "2021-07-04T08:30:57.560Z"
   },
   {
    "duration": 14,
    "start_time": "2021-07-04T08:30:57.572Z"
   },
   {
    "duration": 502,
    "start_time": "2021-07-04T08:30:57.588Z"
   },
   {
    "duration": 20,
    "start_time": "2021-07-04T08:30:58.092Z"
   },
   {
    "duration": 5,
    "start_time": "2021-07-04T08:30:58.113Z"
   },
   {
    "duration": 10,
    "start_time": "2021-07-04T08:30:58.119Z"
   },
   {
    "duration": 7,
    "start_time": "2021-07-04T08:30:58.130Z"
   },
   {
    "duration": 4,
    "start_time": "2021-07-04T08:30:58.138Z"
   },
   {
    "duration": 326,
    "start_time": "2021-07-04T08:30:58.143Z"
   },
   {
    "duration": 13,
    "start_time": "2021-07-04T08:30:58.471Z"
   },
   {
    "duration": 21,
    "start_time": "2021-07-04T08:30:58.486Z"
   },
   {
    "duration": 8,
    "start_time": "2021-07-04T08:30:58.508Z"
   },
   {
    "duration": 4,
    "start_time": "2021-07-04T08:30:58.517Z"
   },
   {
    "duration": 11,
    "start_time": "2021-07-04T08:30:58.522Z"
   },
   {
    "duration": 8,
    "start_time": "2021-07-04T08:30:58.534Z"
   },
   {
    "duration": 46,
    "start_time": "2021-07-04T08:30:58.544Z"
   },
   {
    "duration": 343,
    "start_time": "2021-07-04T08:30:58.592Z"
   },
   {
    "duration": 322,
    "start_time": "2021-07-04T08:30:58.936Z"
   },
   {
    "duration": 427,
    "start_time": "2021-07-04T08:30:59.260Z"
   },
   {
    "duration": 330,
    "start_time": "2021-07-04T08:30:59.690Z"
   },
   {
    "duration": 25,
    "start_time": "2021-07-04T08:31:00.022Z"
   },
   {
    "duration": 7,
    "start_time": "2021-07-04T08:31:00.049Z"
   },
   {
    "duration": 16,
    "start_time": "2021-07-04T08:31:00.058Z"
   },
   {
    "duration": 449,
    "start_time": "2021-07-04T08:31:00.075Z"
   },
   {
    "duration": 65,
    "start_time": "2021-07-04T08:31:00.526Z"
   },
   {
    "duration": 16,
    "start_time": "2021-07-04T08:31:00.593Z"
   },
   {
    "duration": 4,
    "start_time": "2021-07-04T08:31:00.611Z"
   },
   {
    "duration": 10,
    "start_time": "2021-07-04T08:31:00.617Z"
   },
   {
    "duration": 14,
    "start_time": "2021-07-04T08:31:00.628Z"
   },
   {
    "duration": 8,
    "start_time": "2021-07-04T08:31:00.643Z"
   },
   {
    "duration": 33,
    "start_time": "2021-07-04T08:31:00.653Z"
   },
   {
    "duration": 46,
    "start_time": "2021-07-04T08:31:00.688Z"
   },
   {
    "duration": 24,
    "start_time": "2021-07-04T08:31:00.735Z"
   },
   {
    "duration": 113,
    "start_time": "2021-07-04T08:31:00.761Z"
   },
   {
    "duration": 27,
    "start_time": "2021-07-04T08:31:00.876Z"
   },
   {
    "duration": 38,
    "start_time": "2021-07-04T08:31:00.905Z"
   },
   {
    "duration": 20,
    "start_time": "2021-07-04T08:31:00.945Z"
   },
   {
    "duration": 31,
    "start_time": "2021-07-04T08:31:00.967Z"
   },
   {
    "duration": 10,
    "start_time": "2021-07-04T08:31:00.999Z"
   },
   {
    "duration": 3404,
    "start_time": "2021-07-04T08:31:01.011Z"
   },
   {
    "duration": 2,
    "start_time": "2021-07-04T08:31:04.417Z"
   },
   {
    "duration": 7,
    "start_time": "2021-07-04T08:31:04.421Z"
   },
   {
    "duration": 2863,
    "start_time": "2021-07-04T08:31:07.027Z"
   },
   {
    "duration": 2743,
    "start_time": "2021-07-04T08:32:13.609Z"
   },
   {
    "duration": 17,
    "start_time": "2021-07-04T08:35:03.173Z"
   },
   {
    "duration": 9,
    "start_time": "2021-07-04T08:35:16.184Z"
   },
   {
    "duration": 6,
    "start_time": "2021-07-04T08:35:27.564Z"
   },
   {
    "duration": 59,
    "start_time": "2021-07-04T08:36:03.723Z"
   },
   {
    "duration": 7,
    "start_time": "2021-07-04T08:36:08.544Z"
   },
   {
    "duration": 7,
    "start_time": "2021-07-04T08:38:58.188Z"
   },
   {
    "duration": 7,
    "start_time": "2021-07-04T08:41:27.435Z"
   },
   {
    "duration": 6,
    "start_time": "2021-07-04T08:41:52.528Z"
   },
   {
    "duration": 4,
    "start_time": "2021-07-04T08:42:50.159Z"
   },
   {
    "duration": 5,
    "start_time": "2021-07-04T08:43:04.868Z"
   },
   {
    "duration": 5,
    "start_time": "2021-07-04T08:43:14.888Z"
   },
   {
    "duration": 5,
    "start_time": "2021-07-04T15:16:35.887Z"
   },
   {
    "duration": 4,
    "start_time": "2021-07-04T15:17:29.723Z"
   },
   {
    "duration": 4,
    "start_time": "2021-07-04T15:18:22.023Z"
   },
   {
    "duration": 1203,
    "start_time": "2021-07-04T15:23:05.644Z"
   },
   {
    "duration": 1636,
    "start_time": "2021-07-04T15:23:17.195Z"
   },
   {
    "duration": 15,
    "start_time": "2021-07-04T15:23:18.833Z"
   },
   {
    "duration": 50,
    "start_time": "2021-07-04T15:23:18.863Z"
   },
   {
    "duration": 14,
    "start_time": "2021-07-04T15:23:18.916Z"
   },
   {
    "duration": 37,
    "start_time": "2021-07-04T15:23:18.932Z"
   },
   {
    "duration": 13,
    "start_time": "2021-07-04T15:23:18.972Z"
   },
   {
    "duration": 12,
    "start_time": "2021-07-04T15:23:18.987Z"
   },
   {
    "duration": 17,
    "start_time": "2021-07-04T15:23:19.002Z"
   },
   {
    "duration": 6,
    "start_time": "2021-07-04T15:23:19.062Z"
   },
   {
    "duration": 705,
    "start_time": "2021-07-04T15:23:19.072Z"
   },
   {
    "duration": 34,
    "start_time": "2021-07-04T15:23:19.779Z"
   },
   {
    "duration": 15,
    "start_time": "2021-07-04T15:23:19.815Z"
   },
   {
    "duration": 38,
    "start_time": "2021-07-04T15:23:19.833Z"
   },
   {
    "duration": 13,
    "start_time": "2021-07-04T15:23:19.873Z"
   },
   {
    "duration": 6,
    "start_time": "2021-07-04T15:23:19.888Z"
   },
   {
    "duration": 643,
    "start_time": "2021-07-04T15:23:19.896Z"
   },
   {
    "duration": 21,
    "start_time": "2021-07-04T15:23:20.542Z"
   },
   {
    "duration": 37,
    "start_time": "2021-07-04T15:23:20.566Z"
   },
   {
    "duration": 21,
    "start_time": "2021-07-04T15:23:20.605Z"
   },
   {
    "duration": 35,
    "start_time": "2021-07-04T15:23:20.629Z"
   },
   {
    "duration": 22,
    "start_time": "2021-07-04T15:23:20.667Z"
   },
   {
    "duration": 4,
    "start_time": "2021-07-04T15:23:20.692Z"
   },
   {
    "duration": 83,
    "start_time": "2021-07-04T15:23:20.698Z"
   },
   {
    "duration": 425,
    "start_time": "2021-07-04T15:23:20.784Z"
   },
   {
    "duration": 497,
    "start_time": "2021-07-04T15:23:21.212Z"
   },
   {
    "duration": 625,
    "start_time": "2021-07-04T15:23:21.713Z"
   },
   {
    "duration": 473,
    "start_time": "2021-07-04T15:23:22.343Z"
   },
   {
    "duration": 57,
    "start_time": "2021-07-04T15:23:22.820Z"
   },
   {
    "duration": 10,
    "start_time": "2021-07-04T15:23:22.880Z"
   },
   {
    "duration": 6,
    "start_time": "2021-07-04T15:23:22.893Z"
   },
   {
    "duration": 778,
    "start_time": "2021-07-04T15:23:22.901Z"
   },
   {
    "duration": 35,
    "start_time": "2021-07-04T15:23:23.681Z"
   },
   {
    "duration": 41,
    "start_time": "2021-07-04T15:23:23.726Z"
   },
   {
    "duration": 6,
    "start_time": "2021-07-04T15:23:23.769Z"
   },
   {
    "duration": 12,
    "start_time": "2021-07-04T15:23:23.777Z"
   },
   {
    "duration": 10,
    "start_time": "2021-07-04T15:23:23.792Z"
   },
   {
    "duration": 12,
    "start_time": "2021-07-04T15:23:23.805Z"
   },
   {
    "duration": 44,
    "start_time": "2021-07-04T15:23:23.820Z"
   },
   {
    "duration": 26,
    "start_time": "2021-07-04T15:23:23.867Z"
   },
   {
    "duration": 20,
    "start_time": "2021-07-04T15:23:23.895Z"
   },
   {
    "duration": 83,
    "start_time": "2021-07-04T15:23:23.918Z"
   },
   {
    "duration": 37,
    "start_time": "2021-07-04T15:23:24.004Z"
   },
   {
    "duration": 71,
    "start_time": "2021-07-04T15:23:24.043Z"
   },
   {
    "duration": 45,
    "start_time": "2021-07-04T15:23:24.117Z"
   },
   {
    "duration": 26,
    "start_time": "2021-07-04T15:23:24.164Z"
   },
   {
    "duration": 12,
    "start_time": "2021-07-04T15:23:24.193Z"
   },
   {
    "duration": 3,
    "start_time": "2021-07-04T15:23:29.078Z"
   },
   {
    "duration": 11,
    "start_time": "2021-07-04T15:23:29.083Z"
   },
   {
    "duration": 3833,
    "start_time": "2021-07-04T15:23:29.096Z"
   },
   {
    "duration": 11,
    "start_time": "2021-07-04T15:23:32.931Z"
   },
   {
    "duration": 6,
    "start_time": "2021-07-04T15:23:32.963Z"
   },
   {
    "duration": 4801,
    "start_time": "2021-07-04T15:23:32.971Z"
   },
   {
    "duration": 25,
    "start_time": "2021-07-04T15:54:22.201Z"
   },
   {
    "duration": 12,
    "start_time": "2021-07-04T15:55:57.604Z"
   },
   {
    "duration": 164,
    "start_time": "2021-07-04T15:59:06.144Z"
   },
   {
    "duration": 4753,
    "start_time": "2021-07-04T15:59:10.316Z"
   },
   {
    "duration": 10,
    "start_time": "2021-07-04T15:59:15.072Z"
   },
   {
    "duration": 8,
    "start_time": "2021-07-04T15:59:20.442Z"
   },
   {
    "duration": 12,
    "start_time": "2021-07-04T16:03:52.661Z"
   },
   {
    "duration": 8,
    "start_time": "2021-07-04T16:03:57.084Z"
   },
   {
    "duration": 11,
    "start_time": "2021-07-04T16:04:32.877Z"
   },
   {
    "duration": 11,
    "start_time": "2021-07-04T16:04:37.221Z"
   },
   {
    "duration": 7,
    "start_time": "2021-07-04T16:04:41.876Z"
   },
   {
    "duration": 8,
    "start_time": "2021-07-04T16:11:56.101Z"
   },
   {
    "duration": 14931,
    "start_time": "2021-07-04T16:22:43.057Z"
   },
   {
    "duration": 48,
    "start_time": "2021-07-04T16:23:11.770Z"
   },
   {
    "duration": 14,
    "start_time": "2021-07-04T16:26:33.941Z"
   },
   {
    "duration": 361,
    "start_time": "2021-07-04T16:36:34.067Z"
   },
   {
    "duration": 745,
    "start_time": "2021-07-04T16:37:00.691Z"
   },
   {
    "duration": 720,
    "start_time": "2021-07-04T16:38:01.979Z"
   },
   {
    "duration": 9,
    "start_time": "2021-07-04T16:41:14.014Z"
   },
   {
    "duration": 8,
    "start_time": "2021-07-04T16:47:15.358Z"
   },
   {
    "duration": 8,
    "start_time": "2021-07-04T16:55:43.170Z"
   },
   {
    "duration": 9,
    "start_time": "2021-07-04T16:55:51.918Z"
   },
   {
    "duration": 7,
    "start_time": "2021-07-04T16:56:46.682Z"
   },
   {
    "duration": 5,
    "start_time": "2021-07-04T16:56:51.806Z"
   },
   {
    "duration": 622,
    "start_time": "2021-07-04T17:01:34.522Z"
   },
   {
    "duration": 1091,
    "start_time": "2021-07-04T17:03:05.674Z"
   },
   {
    "duration": 585,
    "start_time": "2021-07-04T17:16:56.855Z"
   },
   {
    "duration": 763,
    "start_time": "2021-07-04T17:17:23.603Z"
   },
   {
    "duration": 524,
    "start_time": "2021-07-04T17:17:34.787Z"
   },
   {
    "duration": 6,
    "start_time": "2021-07-04T17:19:10.467Z"
   },
   {
    "duration": 696,
    "start_time": "2021-07-04T17:19:25.339Z"
   },
   {
    "duration": 12,
    "start_time": "2021-07-04T17:19:29.831Z"
   },
   {
    "duration": 417,
    "start_time": "2021-07-04T18:08:47.117Z"
   },
   {
    "duration": 15,
    "start_time": "2021-07-04T18:14:36.877Z"
   },
   {
    "duration": 1495,
    "start_time": "2021-07-04T18:49:00.186Z"
   },
   {
    "duration": 1843,
    "start_time": "2021-07-04T18:49:13.134Z"
   },
   {
    "duration": 17,
    "start_time": "2021-07-04T18:49:14.981Z"
   },
   {
    "duration": 92,
    "start_time": "2021-07-04T18:49:15.004Z"
   },
   {
    "duration": 21,
    "start_time": "2021-07-04T18:49:15.100Z"
   },
   {
    "duration": 41,
    "start_time": "2021-07-04T18:49:15.124Z"
   },
   {
    "duration": 19,
    "start_time": "2021-07-04T18:49:15.170Z"
   },
   {
    "duration": 10,
    "start_time": "2021-07-04T18:49:15.192Z"
   },
   {
    "duration": 14,
    "start_time": "2021-07-04T18:49:15.206Z"
   },
   {
    "duration": 46,
    "start_time": "2021-07-04T18:49:15.223Z"
   },
   {
    "duration": 655,
    "start_time": "2021-07-04T18:49:15.272Z"
   },
   {
    "duration": 46,
    "start_time": "2021-07-04T18:49:15.930Z"
   },
   {
    "duration": 17,
    "start_time": "2021-07-04T18:49:15.979Z"
   },
   {
    "duration": 16,
    "start_time": "2021-07-04T18:49:15.998Z"
   },
   {
    "duration": 11,
    "start_time": "2021-07-04T18:49:16.016Z"
   },
   {
    "duration": 38,
    "start_time": "2021-07-04T18:49:16.031Z"
   },
   {
    "duration": 643,
    "start_time": "2021-07-04T18:49:16.072Z"
   },
   {
    "duration": 18,
    "start_time": "2021-07-04T18:49:16.718Z"
   },
   {
    "duration": 41,
    "start_time": "2021-07-04T18:49:16.765Z"
   },
   {
    "duration": 17,
    "start_time": "2021-07-04T18:49:16.809Z"
   },
   {
    "duration": 6,
    "start_time": "2021-07-04T18:49:16.828Z"
   },
   {
    "duration": 15,
    "start_time": "2021-07-04T18:49:16.863Z"
   },
   {
    "duration": 6,
    "start_time": "2021-07-04T18:49:16.882Z"
   },
   {
    "duration": 104,
    "start_time": "2021-07-04T18:49:16.894Z"
   },
   {
    "duration": 481,
    "start_time": "2021-07-04T18:49:17.002Z"
   },
   {
    "duration": 463,
    "start_time": "2021-07-04T18:49:17.486Z"
   },
   {
    "duration": 809,
    "start_time": "2021-07-04T18:49:17.952Z"
   },
   {
    "duration": 598,
    "start_time": "2021-07-04T18:49:18.765Z"
   },
   {
    "duration": 41,
    "start_time": "2021-07-04T18:49:19.366Z"
   },
   {
    "duration": 13,
    "start_time": "2021-07-04T18:49:19.410Z"
   },
   {
    "duration": 6,
    "start_time": "2021-07-04T18:49:19.426Z"
   },
   {
    "duration": 900,
    "start_time": "2021-07-04T18:49:19.463Z"
   },
   {
    "duration": 54,
    "start_time": "2021-07-04T18:49:20.366Z"
   },
   {
    "duration": 47,
    "start_time": "2021-07-04T18:49:20.423Z"
   },
   {
    "duration": 6,
    "start_time": "2021-07-04T18:49:20.472Z"
   },
   {
    "duration": 10,
    "start_time": "2021-07-04T18:49:20.480Z"
   },
   {
    "duration": 14,
    "start_time": "2021-07-04T18:49:20.494Z"
   },
   {
    "duration": 61,
    "start_time": "2021-07-04T18:49:20.511Z"
   },
   {
    "duration": 6,
    "start_time": "2021-07-04T18:49:20.574Z"
   },
   {
    "duration": 22,
    "start_time": "2021-07-04T18:49:20.584Z"
   },
   {
    "duration": 21,
    "start_time": "2021-07-04T18:49:20.609Z"
   },
   {
    "duration": 132,
    "start_time": "2021-07-04T18:49:20.633Z"
   },
   {
    "duration": 58,
    "start_time": "2021-07-04T18:49:20.770Z"
   },
   {
    "duration": 83,
    "start_time": "2021-07-04T18:49:20.831Z"
   },
   {
    "duration": 57,
    "start_time": "2021-07-04T18:49:20.916Z"
   },
   {
    "duration": 27,
    "start_time": "2021-07-04T18:49:20.975Z"
   },
   {
    "duration": 21,
    "start_time": "2021-07-04T18:49:21.005Z"
   },
   {
    "duration": 5787,
    "start_time": "2021-07-04T18:49:21.028Z"
   },
   {
    "duration": 4,
    "start_time": "2021-07-04T18:49:26.817Z"
   },
   {
    "duration": 9,
    "start_time": "2021-07-04T18:49:26.823Z"
   },
   {
    "duration": 4723,
    "start_time": "2021-07-04T18:49:26.834Z"
   },
   {
    "duration": 19,
    "start_time": "2021-07-04T18:49:31.560Z"
   },
   {
    "duration": 9,
    "start_time": "2021-07-04T18:49:31.582Z"
   },
   {
    "duration": 75,
    "start_time": "2021-07-04T18:49:31.597Z"
   },
   {
    "duration": 20,
    "start_time": "2021-07-04T18:49:31.675Z"
   },
   {
    "duration": 13,
    "start_time": "2021-07-04T18:49:31.698Z"
   },
   {
    "duration": 468,
    "start_time": "2021-07-04T18:49:31.714Z"
   },
   {
    "duration": 1017,
    "start_time": "2021-07-04T18:49:35.101Z"
   },
   {
    "duration": 183519,
    "start_time": "2021-07-04T18:50:43.641Z"
   },
   {
    "duration": 10,
    "start_time": "2021-07-04T18:53:54.626Z"
   },
   {
    "duration": 1090,
    "start_time": "2021-07-04T19:01:51.063Z"
   },
   {
    "duration": 9,
    "start_time": "2021-07-04T19:06:28.630Z"
   },
   {
    "duration": 9,
    "start_time": "2021-07-04T19:06:31.946Z"
   },
   {
    "duration": 1671,
    "start_time": "2021-07-04T19:06:39.540Z"
   },
   {
    "duration": 16,
    "start_time": "2021-07-04T19:06:41.215Z"
   },
   {
    "duration": 72,
    "start_time": "2021-07-04T19:06:41.235Z"
   },
   {
    "duration": 13,
    "start_time": "2021-07-04T19:06:41.310Z"
   },
   {
    "duration": 49,
    "start_time": "2021-07-04T19:06:41.326Z"
   },
   {
    "duration": 14,
    "start_time": "2021-07-04T19:06:41.381Z"
   },
   {
    "duration": 10,
    "start_time": "2021-07-04T19:06:41.398Z"
   },
   {
    "duration": 55,
    "start_time": "2021-07-04T19:06:41.413Z"
   },
   {
    "duration": 10,
    "start_time": "2021-07-04T19:06:41.472Z"
   },
   {
    "duration": 745,
    "start_time": "2021-07-04T19:06:41.484Z"
   },
   {
    "duration": 47,
    "start_time": "2021-07-04T19:06:42.232Z"
   },
   {
    "duration": 6,
    "start_time": "2021-07-04T19:06:42.281Z"
   },
   {
    "duration": 28,
    "start_time": "2021-07-04T19:06:42.289Z"
   },
   {
    "duration": 51,
    "start_time": "2021-07-04T19:06:42.320Z"
   },
   {
    "duration": 7,
    "start_time": "2021-07-04T19:06:42.379Z"
   },
   {
    "duration": 611,
    "start_time": "2021-07-04T19:06:42.389Z"
   },
   {
    "duration": 14,
    "start_time": "2021-07-04T19:06:43.003Z"
   },
   {
    "duration": 59,
    "start_time": "2021-07-04T19:06:43.019Z"
   },
   {
    "duration": 17,
    "start_time": "2021-07-04T19:06:43.080Z"
   },
   {
    "duration": 6,
    "start_time": "2021-07-04T19:06:43.099Z"
   },
   {
    "duration": 11,
    "start_time": "2021-07-04T19:06:43.108Z"
   },
   {
    "duration": 41,
    "start_time": "2021-07-04T19:06:43.122Z"
   },
   {
    "duration": 108,
    "start_time": "2021-07-04T19:06:43.173Z"
   },
   {
    "duration": 428,
    "start_time": "2021-07-04T19:06:43.285Z"
   },
   {
    "duration": 756,
    "start_time": "2021-07-04T19:06:43.716Z"
   },
   {
    "duration": 812,
    "start_time": "2021-07-04T19:06:44.477Z"
   },
   {
    "duration": 463,
    "start_time": "2021-07-04T19:06:45.293Z"
   },
   {
    "duration": 42,
    "start_time": "2021-07-04T19:06:45.761Z"
   },
   {
    "duration": 10,
    "start_time": "2021-07-04T19:06:45.806Z"
   },
   {
    "duration": 5,
    "start_time": "2021-07-04T19:06:45.819Z"
   },
   {
    "duration": 847,
    "start_time": "2021-07-04T19:06:45.862Z"
   },
   {
    "duration": 53,
    "start_time": "2021-07-04T19:06:46.712Z"
   },
   {
    "duration": 15,
    "start_time": "2021-07-04T19:06:46.768Z"
   },
   {
    "duration": 10,
    "start_time": "2021-07-04T19:06:46.787Z"
   },
   {
    "duration": 17,
    "start_time": "2021-07-04T19:06:46.800Z"
   },
   {
    "duration": 56,
    "start_time": "2021-07-04T19:06:46.820Z"
   },
   {
    "duration": 16,
    "start_time": "2021-07-04T19:06:46.878Z"
   },
   {
    "duration": 10,
    "start_time": "2021-07-04T19:06:46.896Z"
   },
   {
    "duration": 29,
    "start_time": "2021-07-04T19:06:46.908Z"
   },
   {
    "duration": 26,
    "start_time": "2021-07-04T19:06:46.968Z"
   },
   {
    "duration": 80,
    "start_time": "2021-07-04T19:06:46.997Z"
   },
   {
    "duration": 59,
    "start_time": "2021-07-04T19:06:47.080Z"
   },
   {
    "duration": 111,
    "start_time": "2021-07-04T19:06:47.142Z"
   },
   {
    "duration": 50,
    "start_time": "2021-07-04T19:06:47.256Z"
   },
   {
    "duration": 60,
    "start_time": "2021-07-04T19:06:47.309Z"
   },
   {
    "duration": 19,
    "start_time": "2021-07-04T19:06:47.372Z"
   },
   {
    "duration": 5591,
    "start_time": "2021-07-04T19:06:47.394Z"
   },
   {
    "duration": 6,
    "start_time": "2021-07-04T19:06:52.988Z"
   },
   {
    "duration": 9,
    "start_time": "2021-07-04T19:06:52.997Z"
   },
   {
    "duration": 5066,
    "start_time": "2021-07-04T19:06:53.009Z"
   },
   {
    "duration": 15,
    "start_time": "2021-07-04T19:06:58.078Z"
   },
   {
    "duration": 11,
    "start_time": "2021-07-04T19:06:58.096Z"
   },
   {
    "duration": 69,
    "start_time": "2021-07-04T19:06:58.110Z"
   },
   {
    "duration": 16,
    "start_time": "2021-07-04T19:06:58.183Z"
   },
   {
    "duration": 793,
    "start_time": "2021-07-04T19:06:58.218Z"
   },
   {
    "duration": 2025,
    "start_time": "2021-07-04T19:06:59.014Z"
   },
   {
    "duration": 28,
    "start_time": "2021-07-04T19:07:01.042Z"
   },
   {
    "duration": 10,
    "start_time": "2021-07-04T19:07:01.275Z"
   },
   {
    "duration": 89,
    "start_time": "2021-07-04T19:07:10.082Z"
   },
   {
    "duration": 15,
    "start_time": "2021-07-04T19:07:10.631Z"
   },
   {
    "duration": 54,
    "start_time": "2021-07-04T19:07:11.787Z"
   },
   {
    "duration": 16,
    "start_time": "2021-07-04T19:07:14.095Z"
   },
   {
    "duration": 16,
    "start_time": "2021-07-04T19:07:16.951Z"
   },
   {
    "duration": 14,
    "start_time": "2021-07-04T19:07:18.231Z"
   },
   {
    "duration": 9,
    "start_time": "2021-07-04T19:07:20.039Z"
   },
   {
    "duration": 13,
    "start_time": "2021-07-04T19:07:21.247Z"
   },
   {
    "duration": 7,
    "start_time": "2021-07-04T19:07:22.935Z"
   },
   {
    "duration": 741,
    "start_time": "2021-07-04T19:07:23.435Z"
   },
   {
    "duration": 52,
    "start_time": "2021-07-04T19:07:24.179Z"
   },
   {
    "duration": 6,
    "start_time": "2021-07-04T19:07:25.455Z"
   },
   {
    "duration": 15,
    "start_time": "2021-07-04T19:07:26.718Z"
   },
   {
    "duration": 12,
    "start_time": "2021-07-04T19:07:28.018Z"
   },
   {
    "duration": 7,
    "start_time": "2021-07-04T19:07:29.226Z"
   },
   {
    "duration": 604,
    "start_time": "2021-07-04T19:07:29.934Z"
   },
   {
    "duration": 16,
    "start_time": "2021-07-04T19:07:31.151Z"
   },
   {
    "duration": 45,
    "start_time": "2021-07-04T19:07:34.535Z"
   },
   {
    "duration": 14,
    "start_time": "2021-07-04T19:07:35.130Z"
   },
   {
    "duration": 7,
    "start_time": "2021-07-04T19:07:36.542Z"
   },
   {
    "duration": 8,
    "start_time": "2021-07-04T19:07:37.223Z"
   },
   {
    "duration": 4,
    "start_time": "2021-07-04T19:07:38.835Z"
   },
   {
    "duration": 69,
    "start_time": "2021-07-04T19:07:39.979Z"
   },
   {
    "duration": 734,
    "start_time": "2021-07-04T19:07:41.170Z"
   },
   {
    "duration": 524,
    "start_time": "2021-07-04T19:07:41.907Z"
   },
   {
    "duration": 609,
    "start_time": "2021-07-04T19:07:42.918Z"
   },
   {
    "duration": 497,
    "start_time": "2021-07-04T19:07:44.158Z"
   },
   {
    "duration": 43,
    "start_time": "2021-07-04T19:07:53.174Z"
   },
   {
    "duration": 13,
    "start_time": "2021-07-04T19:07:56.211Z"
   },
   {
    "duration": 7,
    "start_time": "2021-07-04T19:07:58.822Z"
   },
   {
    "duration": 745,
    "start_time": "2021-07-04T19:08:07.613Z"
   },
   {
    "duration": 40,
    "start_time": "2021-07-04T19:08:11.659Z"
   },
   {
    "duration": 16,
    "start_time": "2021-07-04T19:08:13.731Z"
   },
   {
    "duration": 6,
    "start_time": "2021-07-04T19:08:18.691Z"
   },
   {
    "duration": 9,
    "start_time": "2021-07-04T19:08:20.726Z"
   },
   {
    "duration": 11,
    "start_time": "2021-07-04T19:08:21.575Z"
   },
   {
    "duration": 13,
    "start_time": "2021-07-04T19:08:23.307Z"
   },
   {
    "duration": 8,
    "start_time": "2021-07-04T19:08:26.322Z"
   },
   {
    "duration": 20,
    "start_time": "2021-07-04T19:08:26.875Z"
   },
   {
    "duration": 21,
    "start_time": "2021-07-04T19:08:27.502Z"
   },
   {
    "duration": 98,
    "start_time": "2021-07-04T19:08:29.791Z"
   },
   {
    "duration": 49,
    "start_time": "2021-07-04T19:08:30.936Z"
   },
   {
    "duration": 67,
    "start_time": "2021-07-04T19:08:32.256Z"
   },
   {
    "duration": 30,
    "start_time": "2021-07-04T19:08:33.411Z"
   },
   {
    "duration": 26,
    "start_time": "2021-07-04T19:08:34.811Z"
   },
   {
    "duration": 13,
    "start_time": "2021-07-04T19:08:38.347Z"
   },
   {
    "duration": 5432,
    "start_time": "2021-07-04T19:08:40.087Z"
   },
   {
    "duration": 4,
    "start_time": "2021-07-04T19:08:48.247Z"
   },
   {
    "duration": 4,
    "start_time": "2021-07-04T19:08:50.286Z"
   },
   {
    "duration": 4148,
    "start_time": "2021-07-04T19:08:53.579Z"
   },
   {
    "duration": 11,
    "start_time": "2021-07-04T19:08:57.730Z"
   },
   {
    "duration": 8,
    "start_time": "2021-07-04T19:09:03.678Z"
   },
   {
    "duration": 40,
    "start_time": "2021-07-04T19:09:06.342Z"
   },
   {
    "duration": 10,
    "start_time": "2021-07-04T19:09:07.595Z"
   },
   {
    "duration": 10,
    "start_time": "2021-07-04T19:09:12.103Z"
   },
   {
    "duration": 456,
    "start_time": "2021-07-04T19:09:15.315Z"
   },
   {
    "duration": 1374,
    "start_time": "2021-07-04T19:09:17.927Z"
   },
   {
    "duration": 11,
    "start_time": "2021-07-04T19:09:27.755Z"
   },
   {
    "duration": 9,
    "start_time": "2021-07-04T19:09:35.439Z"
   },
   {
    "duration": 13,
    "start_time": "2021-07-04T19:09:57.083Z"
   },
   {
    "duration": 10,
    "start_time": "2021-07-04T19:26:15.331Z"
   },
   {
    "duration": 556,
    "start_time": "2021-07-04T19:27:05.447Z"
   },
   {
    "duration": 554,
    "start_time": "2021-07-04T19:27:58.071Z"
   },
   {
    "duration": 9,
    "start_time": "2021-07-04T19:28:02.735Z"
   },
   {
    "duration": 25,
    "start_time": "2021-07-04T19:28:19.079Z"
   },
   {
    "duration": 353,
    "start_time": "2021-07-04T19:31:39.336Z"
   },
   {
    "duration": 353,
    "start_time": "2021-07-04T19:31:52.139Z"
   },
   {
    "duration": 4,
    "start_time": "2021-07-04T19:31:59.369Z"
   },
   {
    "duration": 5,
    "start_time": "2021-07-04T19:32:05.079Z"
   },
   {
    "duration": 319,
    "start_time": "2021-07-04T19:33:45.230Z"
   },
   {
    "duration": 353,
    "start_time": "2021-07-04T19:37:31.648Z"
   },
   {
    "duration": 14,
    "start_time": "2021-07-04T19:37:37.472Z"
   },
   {
    "duration": 12,
    "start_time": "2021-07-04T19:37:44.729Z"
   },
   {
    "duration": 21,
    "start_time": "2021-07-04T19:37:48.023Z"
   },
   {
    "duration": 13,
    "start_time": "2021-07-04T19:37:49.276Z"
   },
   {
    "duration": 33,
    "start_time": "2021-07-04T19:37:56.297Z"
   },
   {
    "duration": 18,
    "start_time": "2021-07-04T19:38:58.332Z"
   },
   {
    "duration": 8,
    "start_time": "2021-07-04T19:40:33.325Z"
   },
   {
    "duration": 17,
    "start_time": "2021-07-04T19:40:39.720Z"
   },
   {
    "duration": 7,
    "start_time": "2021-07-04T19:42:15.609Z"
   },
   {
    "duration": 8,
    "start_time": "2021-07-04T19:42:24.996Z"
   },
   {
    "duration": 23,
    "start_time": "2021-07-04T19:44:17.508Z"
   },
   {
    "duration": 25,
    "start_time": "2021-07-04T19:45:42.172Z"
   },
   {
    "duration": 29,
    "start_time": "2021-07-04T19:54:43.393Z"
   },
   {
    "duration": 22,
    "start_time": "2021-07-04T20:03:17.580Z"
   },
   {
    "duration": 22,
    "start_time": "2021-07-04T20:03:23.180Z"
   },
   {
    "duration": 328,
    "start_time": "2021-07-04T20:06:09.517Z"
   },
   {
    "duration": 23,
    "start_time": "2021-07-04T20:06:16.348Z"
   },
   {
    "duration": 24,
    "start_time": "2021-07-04T20:06:48.936Z"
   },
   {
    "duration": 33,
    "start_time": "2021-07-04T20:18:28.046Z"
   },
   {
    "duration": 1162,
    "start_time": "2021-07-04T20:20:00.478Z"
   },
   {
    "duration": 24,
    "start_time": "2021-07-04T20:43:21.812Z"
   },
   {
    "duration": 23,
    "start_time": "2021-07-04T20:52:05.320Z"
   },
   {
    "duration": 1156,
    "start_time": "2021-07-05T09:18:13.081Z"
   },
   {
    "duration": 9,
    "start_time": "2021-07-05T09:18:14.239Z"
   },
   {
    "duration": 28,
    "start_time": "2021-07-05T09:18:14.250Z"
   },
   {
    "duration": 18,
    "start_time": "2021-07-05T09:18:14.279Z"
   },
   {
    "duration": 9,
    "start_time": "2021-07-05T09:18:14.298Z"
   },
   {
    "duration": 10,
    "start_time": "2021-07-05T09:18:14.308Z"
   },
   {
    "duration": 12,
    "start_time": "2021-07-05T09:18:14.319Z"
   },
   {
    "duration": 8,
    "start_time": "2021-07-05T09:18:14.333Z"
   },
   {
    "duration": 4,
    "start_time": "2021-07-05T09:18:14.344Z"
   },
   {
    "duration": 364,
    "start_time": "2021-07-05T09:18:14.349Z"
   },
   {
    "duration": 19,
    "start_time": "2021-07-05T09:18:14.715Z"
   },
   {
    "duration": 4,
    "start_time": "2021-07-05T09:18:14.736Z"
   },
   {
    "duration": 11,
    "start_time": "2021-07-05T09:18:14.742Z"
   },
   {
    "duration": 7,
    "start_time": "2021-07-05T09:18:14.755Z"
   },
   {
    "duration": 4,
    "start_time": "2021-07-05T09:18:14.792Z"
   },
   {
    "duration": 318,
    "start_time": "2021-07-05T09:18:14.798Z"
   },
   {
    "duration": 9,
    "start_time": "2021-07-05T09:18:15.118Z"
   },
   {
    "duration": 19,
    "start_time": "2021-07-05T09:18:15.129Z"
   },
   {
    "duration": 9,
    "start_time": "2021-07-05T09:18:15.150Z"
   },
   {
    "duration": 31,
    "start_time": "2021-07-05T09:18:15.160Z"
   },
   {
    "duration": 5,
    "start_time": "2021-07-05T09:18:15.192Z"
   },
   {
    "duration": 11,
    "start_time": "2021-07-05T09:18:15.198Z"
   },
   {
    "duration": 50,
    "start_time": "2021-07-05T09:18:15.213Z"
   },
   {
    "duration": 301,
    "start_time": "2021-07-05T09:18:15.265Z"
   },
   {
    "duration": 336,
    "start_time": "2021-07-05T09:18:15.568Z"
   },
   {
    "duration": 350,
    "start_time": "2021-07-05T09:18:15.906Z"
   },
   {
    "duration": 310,
    "start_time": "2021-07-05T09:18:16.258Z"
   },
   {
    "duration": 30,
    "start_time": "2021-07-05T09:18:16.570Z"
   },
   {
    "duration": 6,
    "start_time": "2021-07-05T09:18:16.602Z"
   },
   {
    "duration": 8,
    "start_time": "2021-07-05T09:18:16.609Z"
   },
   {
    "duration": 345,
    "start_time": "2021-07-05T09:18:16.618Z"
   },
   {
    "duration": 27,
    "start_time": "2021-07-05T09:18:16.965Z"
   },
   {
    "duration": 12,
    "start_time": "2021-07-05T09:18:16.994Z"
   },
   {
    "duration": 4,
    "start_time": "2021-07-05T09:18:17.007Z"
   },
   {
    "duration": 9,
    "start_time": "2021-07-05T09:18:17.013Z"
   },
   {
    "duration": 7,
    "start_time": "2021-07-05T09:18:17.024Z"
   },
   {
    "duration": 8,
    "start_time": "2021-07-05T09:18:17.032Z"
   },
   {
    "duration": 4,
    "start_time": "2021-07-05T09:18:17.041Z"
   },
   {
    "duration": 17,
    "start_time": "2021-07-05T09:18:17.046Z"
   },
   {
    "duration": 32,
    "start_time": "2021-07-05T09:18:17.064Z"
   },
   {
    "duration": 39,
    "start_time": "2021-07-05T09:18:17.098Z"
   },
   {
    "duration": 24,
    "start_time": "2021-07-05T09:18:17.138Z"
   },
   {
    "duration": 54,
    "start_time": "2021-07-05T09:18:17.164Z"
   },
   {
    "duration": 19,
    "start_time": "2021-07-05T09:18:17.219Z"
   },
   {
    "duration": 16,
    "start_time": "2021-07-05T09:18:17.239Z"
   },
   {
    "duration": 8,
    "start_time": "2021-07-05T09:18:17.256Z"
   },
   {
    "duration": 3159,
    "start_time": "2021-07-05T09:18:17.265Z"
   },
   {
    "duration": 2,
    "start_time": "2021-07-05T09:18:20.426Z"
   },
   {
    "duration": 16,
    "start_time": "2021-07-05T09:18:20.430Z"
   },
   {
    "duration": 2687,
    "start_time": "2021-07-05T09:18:20.448Z"
   },
   {
    "duration": 7,
    "start_time": "2021-07-05T09:18:23.136Z"
   },
   {
    "duration": 11,
    "start_time": "2021-07-05T09:18:23.144Z"
   },
   {
    "duration": 23,
    "start_time": "2021-07-05T09:18:23.156Z"
   },
   {
    "duration": 13,
    "start_time": "2021-07-05T09:18:23.180Z"
   },
   {
    "duration": 8,
    "start_time": "2021-07-05T09:18:23.194Z"
   },
   {
    "duration": 231,
    "start_time": "2021-07-05T09:18:23.203Z"
   },
   {
    "duration": 533,
    "start_time": "2021-07-05T09:18:23.436Z"
   },
   {
    "duration": 6,
    "start_time": "2021-07-05T09:18:23.970Z"
   },
   {
    "duration": 32,
    "start_time": "2021-07-05T09:18:23.978Z"
   },
   {
    "duration": 11,
    "start_time": "2021-07-05T09:18:24.012Z"
   },
   {
    "duration": 12,
    "start_time": "2021-07-05T09:18:24.025Z"
   },
   {
    "duration": 11,
    "start_time": "2021-07-05T09:18:24.038Z"
   },
   {
    "duration": 12,
    "start_time": "2021-07-05T09:18:24.050Z"
   },
   {
    "duration": 3365,
    "start_time": "2021-07-05T09:43:48.630Z"
   },
   {
    "duration": 20,
    "start_time": "2021-07-05T09:59:43.326Z"
   },
   {
    "duration": 17,
    "start_time": "2021-07-05T10:01:02.491Z"
   },
   {
    "duration": 18,
    "start_time": "2021-07-05T10:04:05.470Z"
   },
   {
    "duration": 25,
    "start_time": "2021-07-05T10:04:28.794Z"
   },
   {
    "duration": 25,
    "start_time": "2021-07-05T10:04:45.230Z"
   },
   {
    "duration": 25,
    "start_time": "2021-07-05T10:04:48.962Z"
   },
   {
    "duration": 18,
    "start_time": "2021-07-05T10:05:27.862Z"
   },
   {
    "duration": 338,
    "start_time": "2021-07-05T10:08:16.875Z"
   },
   {
    "duration": 230,
    "start_time": "2021-07-05T10:08:28.315Z"
   },
   {
    "duration": 21,
    "start_time": "2021-07-05T10:09:25.395Z"
   },
   {
    "duration": 22,
    "start_time": "2021-07-05T10:09:55.263Z"
   },
   {
    "duration": 22,
    "start_time": "2021-07-05T10:11:37.195Z"
   },
   {
    "duration": 20,
    "start_time": "2021-07-05T10:12:28.243Z"
   },
   {
    "duration": 255,
    "start_time": "2021-07-05T11:22:50.109Z"
   },
   {
    "duration": 236,
    "start_time": "2021-07-05T11:22:56.718Z"
   },
   {
    "duration": 19,
    "start_time": "2021-07-05T11:23:25.277Z"
   },
   {
    "duration": 1165,
    "start_time": "2021-07-05T12:54:10.670Z"
   },
   {
    "duration": 9,
    "start_time": "2021-07-05T12:54:11.837Z"
   },
   {
    "duration": 29,
    "start_time": "2021-07-05T12:54:11.848Z"
   },
   {
    "duration": 19,
    "start_time": "2021-07-05T12:54:11.878Z"
   },
   {
    "duration": 9,
    "start_time": "2021-07-05T12:54:11.899Z"
   },
   {
    "duration": 14,
    "start_time": "2021-07-05T12:54:11.910Z"
   },
   {
    "duration": 11,
    "start_time": "2021-07-05T12:54:11.925Z"
   },
   {
    "duration": 10,
    "start_time": "2021-07-05T12:54:11.938Z"
   },
   {
    "duration": 4,
    "start_time": "2021-07-05T12:54:11.950Z"
   },
   {
    "duration": 371,
    "start_time": "2021-07-05T12:54:11.955Z"
   },
   {
    "duration": 18,
    "start_time": "2021-07-05T12:54:12.328Z"
   },
   {
    "duration": 4,
    "start_time": "2021-07-05T12:54:12.347Z"
   },
   {
    "duration": 13,
    "start_time": "2021-07-05T12:54:12.353Z"
   },
   {
    "duration": 24,
    "start_time": "2021-07-05T12:54:12.368Z"
   },
   {
    "duration": 4,
    "start_time": "2021-07-05T12:54:12.393Z"
   },
   {
    "duration": 316,
    "start_time": "2021-07-05T12:54:12.398Z"
   },
   {
    "duration": 9,
    "start_time": "2021-07-05T12:54:12.715Z"
   },
   {
    "duration": 21,
    "start_time": "2021-07-05T12:54:12.726Z"
   },
   {
    "duration": 8,
    "start_time": "2021-07-05T12:54:12.749Z"
   },
   {
    "duration": 3,
    "start_time": "2021-07-05T12:54:12.759Z"
   },
   {
    "duration": 9,
    "start_time": "2021-07-05T12:54:12.764Z"
   },
   {
    "duration": 3,
    "start_time": "2021-07-05T12:54:12.791Z"
   },
   {
    "duration": 45,
    "start_time": "2021-07-05T12:54:12.797Z"
   },
   {
    "duration": 271,
    "start_time": "2021-07-05T12:54:12.844Z"
   },
   {
    "duration": 290,
    "start_time": "2021-07-05T12:54:13.117Z"
   },
   {
    "duration": 349,
    "start_time": "2021-07-05T12:54:13.408Z"
   },
   {
    "duration": 325,
    "start_time": "2021-07-05T12:54:13.758Z"
   },
   {
    "duration": 27,
    "start_time": "2021-07-05T12:54:14.085Z"
   },
   {
    "duration": 6,
    "start_time": "2021-07-05T12:54:14.114Z"
   },
   {
    "duration": 6,
    "start_time": "2021-07-05T12:54:14.121Z"
   },
   {
    "duration": 363,
    "start_time": "2021-07-05T12:54:14.128Z"
   },
   {
    "duration": 19,
    "start_time": "2021-07-05T12:54:14.493Z"
   },
   {
    "duration": 10,
    "start_time": "2021-07-05T12:54:14.513Z"
   },
   {
    "duration": 4,
    "start_time": "2021-07-05T12:54:14.525Z"
   },
   {
    "duration": 13,
    "start_time": "2021-07-05T12:54:14.530Z"
   },
   {
    "duration": 19,
    "start_time": "2021-07-05T12:54:14.544Z"
   },
   {
    "duration": 16,
    "start_time": "2021-07-05T12:54:14.564Z"
   },
   {
    "duration": 12,
    "start_time": "2021-07-05T12:54:14.581Z"
   },
   {
    "duration": 19,
    "start_time": "2021-07-05T12:54:14.595Z"
   },
   {
    "duration": 20,
    "start_time": "2021-07-05T12:54:14.616Z"
   },
   {
    "duration": 44,
    "start_time": "2021-07-05T12:54:14.637Z"
   },
   {
    "duration": 23,
    "start_time": "2021-07-05T12:54:14.683Z"
   },
   {
    "duration": 33,
    "start_time": "2021-07-05T12:54:14.707Z"
   },
   {
    "duration": 19,
    "start_time": "2021-07-05T12:54:14.741Z"
   },
   {
    "duration": 34,
    "start_time": "2021-07-05T12:54:14.761Z"
   },
   {
    "duration": 8,
    "start_time": "2021-07-05T12:54:14.797Z"
   },
   {
    "duration": 3399,
    "start_time": "2021-07-05T12:54:14.806Z"
   },
   {
    "duration": 3,
    "start_time": "2021-07-05T12:54:18.207Z"
   },
   {
    "duration": 11,
    "start_time": "2021-07-05T12:54:18.211Z"
   },
   {
    "duration": 2603,
    "start_time": "2021-07-05T12:54:18.223Z"
   },
   {
    "duration": 6,
    "start_time": "2021-07-05T12:54:20.828Z"
   },
   {
    "duration": 17,
    "start_time": "2021-07-05T12:54:20.835Z"
   },
   {
    "duration": 27,
    "start_time": "2021-07-05T12:54:20.853Z"
   },
   {
    "duration": 15,
    "start_time": "2021-07-05T12:54:20.882Z"
   },
   {
    "duration": 18,
    "start_time": "2021-07-05T12:54:20.899Z"
   },
   {
    "duration": 222,
    "start_time": "2021-07-05T12:54:20.918Z"
   },
   {
    "duration": 534,
    "start_time": "2021-07-05T12:54:21.141Z"
   },
   {
    "duration": 6,
    "start_time": "2021-07-05T12:54:21.677Z"
   },
   {
    "duration": 19,
    "start_time": "2021-07-05T12:54:21.691Z"
   },
   {
    "duration": 17,
    "start_time": "2021-07-05T12:54:21.712Z"
   },
   {
    "duration": 18,
    "start_time": "2021-07-05T12:54:21.731Z"
   },
   {
    "duration": 11,
    "start_time": "2021-07-05T12:54:21.793Z"
   },
   {
    "duration": 21,
    "start_time": "2021-07-05T12:54:21.807Z"
   },
   {
    "duration": 31,
    "start_time": "2021-07-05T13:17:31.789Z"
   },
   {
    "duration": 18,
    "start_time": "2021-07-05T13:17:38.749Z"
   },
   {
    "duration": 1131,
    "start_time": "2021-07-05T14:50:22.665Z"
   },
   {
    "duration": 11,
    "start_time": "2021-07-05T14:50:23.797Z"
   },
   {
    "duration": 48,
    "start_time": "2021-07-05T14:50:23.809Z"
   },
   {
    "duration": 9,
    "start_time": "2021-07-05T14:50:23.859Z"
   },
   {
    "duration": 27,
    "start_time": "2021-07-05T14:50:23.870Z"
   },
   {
    "duration": 26,
    "start_time": "2021-07-05T14:50:23.898Z"
   },
   {
    "duration": 13,
    "start_time": "2021-07-05T14:50:23.925Z"
   },
   {
    "duration": 10,
    "start_time": "2021-07-05T14:50:23.940Z"
   },
   {
    "duration": 4,
    "start_time": "2021-07-05T14:50:23.952Z"
   },
   {
    "duration": 358,
    "start_time": "2021-07-05T14:50:23.958Z"
   },
   {
    "duration": 27,
    "start_time": "2021-07-05T14:50:24.318Z"
   },
   {
    "duration": 14,
    "start_time": "2021-07-05T14:50:24.347Z"
   },
   {
    "duration": 12,
    "start_time": "2021-07-05T14:50:24.362Z"
   },
   {
    "duration": 12,
    "start_time": "2021-07-05T14:50:24.375Z"
   },
   {
    "duration": 9,
    "start_time": "2021-07-05T14:50:24.388Z"
   },
   {
    "duration": 318,
    "start_time": "2021-07-05T14:50:24.398Z"
   },
   {
    "duration": 8,
    "start_time": "2021-07-05T14:50:24.718Z"
   },
   {
    "duration": 30,
    "start_time": "2021-07-05T14:50:24.728Z"
   },
   {
    "duration": 9,
    "start_time": "2021-07-05T14:50:24.759Z"
   },
   {
    "duration": 8,
    "start_time": "2021-07-05T14:50:24.769Z"
   },
   {
    "duration": 8,
    "start_time": "2021-07-05T14:50:24.778Z"
   },
   {
    "duration": 6,
    "start_time": "2021-07-05T14:50:24.788Z"
   },
   {
    "duration": 62,
    "start_time": "2021-07-05T14:50:24.797Z"
   },
   {
    "duration": 289,
    "start_time": "2021-07-05T14:50:24.861Z"
   },
   {
    "duration": 317,
    "start_time": "2021-07-05T14:50:25.152Z"
   },
   {
    "duration": 374,
    "start_time": "2021-07-05T14:50:25.471Z"
   },
   {
    "duration": 330,
    "start_time": "2021-07-05T14:50:25.847Z"
   },
   {
    "duration": 25,
    "start_time": "2021-07-05T14:50:26.178Z"
   },
   {
    "duration": 6,
    "start_time": "2021-07-05T14:50:26.204Z"
   },
   {
    "duration": 13,
    "start_time": "2021-07-05T14:50:26.212Z"
   },
   {
    "duration": 364,
    "start_time": "2021-07-05T14:50:26.227Z"
   },
   {
    "duration": 20,
    "start_time": "2021-07-05T14:50:26.592Z"
   },
   {
    "duration": 14,
    "start_time": "2021-07-05T14:50:26.613Z"
   },
   {
    "duration": 4,
    "start_time": "2021-07-05T14:50:26.641Z"
   },
   {
    "duration": 22,
    "start_time": "2021-07-05T14:50:26.646Z"
   },
   {
    "duration": 12,
    "start_time": "2021-07-05T14:50:26.670Z"
   },
   {
    "duration": 8,
    "start_time": "2021-07-05T14:50:26.684Z"
   },
   {
    "duration": 5,
    "start_time": "2021-07-05T14:50:26.694Z"
   },
   {
    "duration": 17,
    "start_time": "2021-07-05T14:50:26.701Z"
   },
   {
    "duration": 13,
    "start_time": "2021-07-05T14:50:26.719Z"
   },
   {
    "duration": 38,
    "start_time": "2021-07-05T14:50:26.733Z"
   },
   {
    "duration": 23,
    "start_time": "2021-07-05T14:50:26.773Z"
   },
   {
    "duration": 49,
    "start_time": "2021-07-05T14:50:26.798Z"
   },
   {
    "duration": 18,
    "start_time": "2021-07-05T14:50:26.849Z"
   },
   {
    "duration": 16,
    "start_time": "2021-07-05T14:50:26.868Z"
   },
   {
    "duration": 8,
    "start_time": "2021-07-05T14:50:26.885Z"
   },
   {
    "duration": 3227,
    "start_time": "2021-07-05T14:50:26.894Z"
   },
   {
    "duration": 3,
    "start_time": "2021-07-05T14:50:30.123Z"
   },
   {
    "duration": 17,
    "start_time": "2021-07-05T14:50:30.127Z"
   },
   {
    "duration": 2695,
    "start_time": "2021-07-05T14:50:30.146Z"
   },
   {
    "duration": 6,
    "start_time": "2021-07-05T14:50:32.843Z"
   },
   {
    "duration": 14,
    "start_time": "2021-07-05T14:50:32.851Z"
   },
   {
    "duration": 34,
    "start_time": "2021-07-05T14:50:32.866Z"
   },
   {
    "duration": 8,
    "start_time": "2021-07-05T14:50:32.901Z"
   },
   {
    "duration": 11,
    "start_time": "2021-07-05T14:50:32.910Z"
   },
   {
    "duration": 237,
    "start_time": "2021-07-05T14:50:32.922Z"
   },
   {
    "duration": 544,
    "start_time": "2021-07-05T14:50:33.161Z"
   },
   {
    "duration": 7,
    "start_time": "2021-07-05T14:50:33.707Z"
   },
   {
    "duration": 38,
    "start_time": "2021-07-05T14:50:33.716Z"
   },
   {
    "duration": 20,
    "start_time": "2021-07-05T14:50:33.756Z"
   },
   {
    "duration": 20,
    "start_time": "2021-07-05T14:50:33.777Z"
   },
   {
    "duration": 42,
    "start_time": "2021-07-05T14:50:33.799Z"
   },
   {
    "duration": 20,
    "start_time": "2021-07-05T14:50:33.842Z"
   }
  ],
  "kernelspec": {
   "display_name": "Python 3 (ipykernel)",
   "language": "python",
   "name": "python3"
  },
  "language_info": {
   "codemirror_mode": {
    "name": "ipython",
    "version": 3
   },
   "file_extension": ".py",
   "mimetype": "text/x-python",
   "name": "python",
   "nbconvert_exporter": "python",
   "pygments_lexer": "ipython3",
   "version": "3.9.7"
  },
  "toc": {
   "base_numbering": 1,
   "nav_menu": {},
   "number_sections": true,
   "sideBar": true,
   "skip_h1_title": true,
   "title_cell": "Table of Contents",
   "title_sidebar": "Contents",
   "toc_cell": false,
   "toc_position": {},
   "toc_section_display": true,
   "toc_window_display": true
  }
 },
 "nbformat": 4,
 "nbformat_minor": 2
}
