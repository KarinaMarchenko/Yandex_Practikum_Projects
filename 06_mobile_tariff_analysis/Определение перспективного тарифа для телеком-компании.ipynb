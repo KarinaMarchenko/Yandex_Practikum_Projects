{
 "cells": [
  {
   "cell_type": "markdown",
   "metadata": {},
   "source": [
    "# Определение перспективного тарифа для телеком-компании\n",
    "\n",
    "\n",
    "**«Мегалайн»** — федеральный оператор сотовой связи, предлагающий клиентам два тарифных плана: **«Смарт»** и **«Ультра»**. Необходимо проанализировать поведение пользователей на небольшой выборке в 500 клиентов и сделать вывод — какой тариф лучше.\n",
    "\n",
    "**Описание тарифов**\n",
    "\n",
    "Тариф **«Смарт»**:\n",
    "\n",
    "1. Ежемесячная плата: 550 рублей\n",
    "2. Включено 500 минут разговора, 50 сообщений и 15 Гб интернет-трафика\n",
    "3. Стоимость услуг сверх тарифного пакета:\n",
    "    - минута разговора: 3 рубля;\n",
    "    - сообщение: 3 рубля;\n",
    "    - 1 Гб интернет-трафика: 200 рублей.\n",
    "    \n",
    "Тариф **«Ультра»**:\n",
    "\n",
    "1. Ежемесячная плата: 1950 рублей\n",
    "2. Включено 3000 минут разговора, 1000 сообщений и 30 Гб интернет-трафика\n",
    "3. Стоимость услуг сверх тарифного пакета:\n",
    "    - минута разговора: 1 рубль;\n",
    "    - сообщение: 1 рубль;\n",
    "    - 1 Гб интернет-трафика: 150 рублей.\n",
    "\n",
    "**Описание данных**\n",
    "\n",
    "1. Таблица ***users*** (информация о пользователях):\n",
    "\n",
    "    - user_id — уникальный идентификатор пользователя;\n",
    "    - first_name — имя пользователя;\n",
    "    - last_name — фамилия пользователя;\n",
    "    - age — возраст пользователя (годы);\n",
    "    - reg_date — дата подключения тарифа (день, месяц, год);\n",
    "    - churn_date — дата прекращения пользования тарифом (если значение пропущено, то тариф ещё действовал на момент выгрузки данных);\n",
    "    - city — город проживания пользователя;\n",
    "    - tarif — название тарифного плана.\n",
    "    \n",
    "    \n",
    "2. Таблица ***calls*** (информация о звонках):\n",
    "\n",
    "    - id — уникальный номер звонка;\n",
    "    - call_date — дата звонка;\n",
    "    - duration — длительность звонка в минутах;\n",
    "    - user_id — идентификатор пользователя, сделавшего звонок.\n",
    "    \n",
    "    \n",
    "3. Таблица ***messages*** (информация о сообщениях):\n",
    "\n",
    "    - id — уникальный номер сообщения;\n",
    "    - message_date — дата сообщения;\n",
    "    - user_id — идентификатор пользователя, отправившего сообщение.\n",
    "    \n",
    "    \n",
    "4. Таблица **internet** (информация об интернет-сессиях):\n",
    "\n",
    "    - id — уникальный номер сессии;\n",
    "    - mb_used — объём потраченного за сессию интернет-трафика (в мегабайтах);\n",
    "    - session_date — дата интернет-сессии;\n",
    "    - user_id — идентификатор пользователя.\n",
    "    \n",
    "    \n",
    "5. Таблица **tariffs** (информация о тарифах):\n",
    "\n",
    "    - tariff_name — название тарифа;\n",
    "    - rub_monthly_fee — ежемесячная абонентская плата в рублях;\n",
    "    - minutes_included — количество минут разговора в месяц, включённых в абонентскую плату;\n",
    "    - messages_included — количество сообщений в месяц, включённых в абонентскую плату;\n",
    "    - mb_per_month_included — объём интернет-трафика, включённого в абонентскую плату (в мегабайтах);\n",
    "    - rub_per_minute — стоимость минуты разговора сверх тарифного пакета (например, если в тарифе 100 минут разговора в месяц, то со 101 минуты будет взиматься плата);\n",
    "    - rub_per_message — стоимость отправки сообщения сверх тарифного пакета;\n",
    "    - rub_per_gb — стоимость дополнительного гигабайта интернет-трафика сверх тарифного пакета (1 гигабайт = 1024 мегабайта).\n",
    "\n",
    "\n",
    "\n",
    "## Общая информация\n",
    "\n",
    "Импортируем библиотеки."
   ]
  },
  {
   "cell_type": "code",
   "execution_count": 30,
   "metadata": {},
   "outputs": [
    {
     "name": "stdout",
     "output_type": "stream",
     "text": [
      "Requirement already satisfied: seaborn in c:\\anaconda3\\lib\\site-packages (0.11.2)\n",
      "Requirement already satisfied: matplotlib>=2.2 in c:\\anaconda3\\lib\\site-packages (from seaborn) (3.4.3)\n",
      "Requirement already satisfied: scipy>=1.0 in c:\\anaconda3\\lib\\site-packages (from seaborn) (1.8.0)\n",
      "Requirement already satisfied: pandas>=0.23 in c:\\anaconda3\\lib\\site-packages (from seaborn) (1.3.4)\n",
      "Requirement already satisfied: numpy>=1.15 in c:\\anaconda3\\lib\\site-packages (from seaborn) (1.20.3)\n",
      "Requirement already satisfied: kiwisolver>=1.0.1 in c:\\anaconda3\\lib\\site-packages (from matplotlib>=2.2->seaborn) (1.3.1)\n",
      "Requirement already satisfied: pyparsing>=2.2.1 in c:\\anaconda3\\lib\\site-packages (from matplotlib>=2.2->seaborn) (3.0.4)\n",
      "Requirement already satisfied: python-dateutil>=2.7 in c:\\anaconda3\\lib\\site-packages (from matplotlib>=2.2->seaborn) (2.8.2)\n",
      "Requirement already satisfied: pillow>=6.2.0 in c:\\anaconda3\\lib\\site-packages (from matplotlib>=2.2->seaborn) (8.4.0)\n",
      "Requirement already satisfied: cycler>=0.10 in c:\\anaconda3\\lib\\site-packages (from matplotlib>=2.2->seaborn) (0.10.0)\n",
      "Requirement already satisfied: six in c:\\anaconda3\\lib\\site-packages (from cycler>=0.10->matplotlib>=2.2->seaborn) (1.16.0)\n",
      "Requirement already satisfied: pytz>=2017.3 in c:\\anaconda3\\lib\\site-packages (from pandas>=0.23->seaborn) (2021.3)\n",
      "Requirement already satisfied: termcolor in c:\\anaconda3\\lib\\site-packages (1.1.0)\n"
     ]
    }
   ],
   "source": [
    "!pip install -U seaborn\n",
    "import pandas as pd\n",
    "import numpy as np\n",
    "import matplotlib.pyplot as plt\n",
    "import seaborn as sns\n",
    "from datetime import datetime, timedelta\n",
    "import warnings\n",
    "warnings.filterwarnings('ignore')\n",
    "!pip install termcolor\n",
    "from termcolor import colored\n",
    "from scipy import stats as st"
   ]
  },
  {
   "cell_type": "markdown",
   "metadata": {},
   "source": [
    "Загрузим данные о пользователях, звонках, сообщениях, интернет-сессиях и тарифах в переменные."
   ]
  },
  {
   "cell_type": "code",
   "execution_count": 31,
   "metadata": {},
   "outputs": [],
   "source": [
    "calls, internet, messages, tariffs, users = (\n",
    "    pd.read_csv('https://code.s3.yandex.net/datasets/calls.csv'),  \n",
    "    pd.read_csv('https://code.s3.yandex.net/datasets/internet.csv'), \n",
    "    pd.read_csv('https://code.s3.yandex.net/datasets/messages.csv'),\n",
    "    pd.read_csv('https://code.s3.yandex.net/datasets/tariffs.csv'),\n",
    "    pd.read_csv('https://code.s3.yandex.net/datasets/users.csv') \n",
    ")"
   ]
  },
  {
   "cell_type": "markdown",
   "metadata": {},
   "source": [
    "Для получения общей информации о датафреймах напишем следующую функцию:"
   ]
  },
  {
   "cell_type": "code",
   "execution_count": 32,
   "metadata": {},
   "outputs": [],
   "source": [
    "def get_general_info(df):\n",
    "    \n",
    "    print(colored('Выведем первые 5 строк датафрейма:', attrs=['bold']))\n",
    "    display(df.head())\n",
    "    print('\\n')\n",
    "    print(colored('Общая информация по датафрейму:\\n', attrs=['bold']))\n",
    "    df.info()\n",
    "    print('\\n')\n",
    "    print(colored('Основные статистические характеристики данных по числовым признакам:', attrs=['bold']))\n",
    "    display(df.describe())\n",
    "    print('\\n')\n",
    "    print(colored('Основные статистические характеристики данных по нечисловым признакам:', attrs=['bold']))\n",
    "    display(df.describe(include=['object']))\n",
    "    print('\\n')\n",
    "    print(colored('Количество пропущенных значений в датафрейме:', attrs=['bold']))\n",
    "    display(df.isna().mean())\n",
    "    print('\\n')\n",
    "    print(colored('Количество дубликатов в датафрейме: {}'.format(df.duplicated().sum()), attrs=['bold']))"
   ]
  },
  {
   "cell_type": "markdown",
   "metadata": {},
   "source": [
    "1. Посмотрим общую информацию о **пользователях**  оператора сотовой связи:"
   ]
  },
  {
   "cell_type": "code",
   "execution_count": 33,
   "metadata": {},
   "outputs": [
    {
     "name": "stdout",
     "output_type": "stream",
     "text": [
      "\u001b[1mВыведем первые 5 строк датафрейма:\u001b[0m\n"
     ]
    },
    {
     "data": {
      "text/html": [
       "<div>\n",
       "<style scoped>\n",
       "    .dataframe tbody tr th:only-of-type {\n",
       "        vertical-align: middle;\n",
       "    }\n",
       "\n",
       "    .dataframe tbody tr th {\n",
       "        vertical-align: top;\n",
       "    }\n",
       "\n",
       "    .dataframe thead th {\n",
       "        text-align: right;\n",
       "    }\n",
       "</style>\n",
       "<table border=\"1\" class=\"dataframe\">\n",
       "  <thead>\n",
       "    <tr style=\"text-align: right;\">\n",
       "      <th></th>\n",
       "      <th>user_id</th>\n",
       "      <th>age</th>\n",
       "      <th>churn_date</th>\n",
       "      <th>city</th>\n",
       "      <th>first_name</th>\n",
       "      <th>last_name</th>\n",
       "      <th>reg_date</th>\n",
       "      <th>tariff</th>\n",
       "    </tr>\n",
       "  </thead>\n",
       "  <tbody>\n",
       "    <tr>\n",
       "      <th>0</th>\n",
       "      <td>1000</td>\n",
       "      <td>52</td>\n",
       "      <td>NaN</td>\n",
       "      <td>Краснодар</td>\n",
       "      <td>Рафаил</td>\n",
       "      <td>Верещагин</td>\n",
       "      <td>2018-05-25</td>\n",
       "      <td>ultra</td>\n",
       "    </tr>\n",
       "    <tr>\n",
       "      <th>1</th>\n",
       "      <td>1001</td>\n",
       "      <td>41</td>\n",
       "      <td>NaN</td>\n",
       "      <td>Москва</td>\n",
       "      <td>Иван</td>\n",
       "      <td>Ежов</td>\n",
       "      <td>2018-11-01</td>\n",
       "      <td>smart</td>\n",
       "    </tr>\n",
       "    <tr>\n",
       "      <th>2</th>\n",
       "      <td>1002</td>\n",
       "      <td>59</td>\n",
       "      <td>NaN</td>\n",
       "      <td>Стерлитамак</td>\n",
       "      <td>Евгений</td>\n",
       "      <td>Абрамович</td>\n",
       "      <td>2018-06-17</td>\n",
       "      <td>smart</td>\n",
       "    </tr>\n",
       "    <tr>\n",
       "      <th>3</th>\n",
       "      <td>1003</td>\n",
       "      <td>23</td>\n",
       "      <td>NaN</td>\n",
       "      <td>Москва</td>\n",
       "      <td>Белла</td>\n",
       "      <td>Белякова</td>\n",
       "      <td>2018-08-17</td>\n",
       "      <td>ultra</td>\n",
       "    </tr>\n",
       "    <tr>\n",
       "      <th>4</th>\n",
       "      <td>1004</td>\n",
       "      <td>68</td>\n",
       "      <td>NaN</td>\n",
       "      <td>Новокузнецк</td>\n",
       "      <td>Татьяна</td>\n",
       "      <td>Авдеенко</td>\n",
       "      <td>2018-05-14</td>\n",
       "      <td>ultra</td>\n",
       "    </tr>\n",
       "  </tbody>\n",
       "</table>\n",
       "</div>"
      ],
      "text/plain": [
       "   user_id  age churn_date         city first_name  last_name    reg_date  \\\n",
       "0     1000   52        NaN    Краснодар     Рафаил  Верещагин  2018-05-25   \n",
       "1     1001   41        NaN       Москва       Иван       Ежов  2018-11-01   \n",
       "2     1002   59        NaN  Стерлитамак    Евгений  Абрамович  2018-06-17   \n",
       "3     1003   23        NaN       Москва      Белла   Белякова  2018-08-17   \n",
       "4     1004   68        NaN  Новокузнецк    Татьяна   Авдеенко  2018-05-14   \n",
       "\n",
       "  tariff  \n",
       "0  ultra  \n",
       "1  smart  \n",
       "2  smart  \n",
       "3  ultra  \n",
       "4  ultra  "
      ]
     },
     "metadata": {},
     "output_type": "display_data"
    },
    {
     "name": "stdout",
     "output_type": "stream",
     "text": [
      "\n",
      "\n",
      "\u001b[1mОбщая информация по датафрейму:\n",
      "\u001b[0m\n",
      "<class 'pandas.core.frame.DataFrame'>\n",
      "RangeIndex: 500 entries, 0 to 499\n",
      "Data columns (total 8 columns):\n",
      " #   Column      Non-Null Count  Dtype \n",
      "---  ------      --------------  ----- \n",
      " 0   user_id     500 non-null    int64 \n",
      " 1   age         500 non-null    int64 \n",
      " 2   churn_date  38 non-null     object\n",
      " 3   city        500 non-null    object\n",
      " 4   first_name  500 non-null    object\n",
      " 5   last_name   500 non-null    object\n",
      " 6   reg_date    500 non-null    object\n",
      " 7   tariff      500 non-null    object\n",
      "dtypes: int64(2), object(6)\n",
      "memory usage: 31.4+ KB\n",
      "\n",
      "\n",
      "\u001b[1mОсновные статистические характеристики данных по числовым признакам:\u001b[0m\n"
     ]
    },
    {
     "data": {
      "text/html": [
       "<div>\n",
       "<style scoped>\n",
       "    .dataframe tbody tr th:only-of-type {\n",
       "        vertical-align: middle;\n",
       "    }\n",
       "\n",
       "    .dataframe tbody tr th {\n",
       "        vertical-align: top;\n",
       "    }\n",
       "\n",
       "    .dataframe thead th {\n",
       "        text-align: right;\n",
       "    }\n",
       "</style>\n",
       "<table border=\"1\" class=\"dataframe\">\n",
       "  <thead>\n",
       "    <tr style=\"text-align: right;\">\n",
       "      <th></th>\n",
       "      <th>user_id</th>\n",
       "      <th>age</th>\n",
       "    </tr>\n",
       "  </thead>\n",
       "  <tbody>\n",
       "    <tr>\n",
       "      <th>count</th>\n",
       "      <td>500.000000</td>\n",
       "      <td>500.00000</td>\n",
       "    </tr>\n",
       "    <tr>\n",
       "      <th>mean</th>\n",
       "      <td>1249.500000</td>\n",
       "      <td>46.58800</td>\n",
       "    </tr>\n",
       "    <tr>\n",
       "      <th>std</th>\n",
       "      <td>144.481833</td>\n",
       "      <td>16.66763</td>\n",
       "    </tr>\n",
       "    <tr>\n",
       "      <th>min</th>\n",
       "      <td>1000.000000</td>\n",
       "      <td>18.00000</td>\n",
       "    </tr>\n",
       "    <tr>\n",
       "      <th>25%</th>\n",
       "      <td>1124.750000</td>\n",
       "      <td>32.00000</td>\n",
       "    </tr>\n",
       "    <tr>\n",
       "      <th>50%</th>\n",
       "      <td>1249.500000</td>\n",
       "      <td>46.00000</td>\n",
       "    </tr>\n",
       "    <tr>\n",
       "      <th>75%</th>\n",
       "      <td>1374.250000</td>\n",
       "      <td>62.00000</td>\n",
       "    </tr>\n",
       "    <tr>\n",
       "      <th>max</th>\n",
       "      <td>1499.000000</td>\n",
       "      <td>75.00000</td>\n",
       "    </tr>\n",
       "  </tbody>\n",
       "</table>\n",
       "</div>"
      ],
      "text/plain": [
       "           user_id        age\n",
       "count   500.000000  500.00000\n",
       "mean   1249.500000   46.58800\n",
       "std     144.481833   16.66763\n",
       "min    1000.000000   18.00000\n",
       "25%    1124.750000   32.00000\n",
       "50%    1249.500000   46.00000\n",
       "75%    1374.250000   62.00000\n",
       "max    1499.000000   75.00000"
      ]
     },
     "metadata": {},
     "output_type": "display_data"
    },
    {
     "name": "stdout",
     "output_type": "stream",
     "text": [
      "\n",
      "\n",
      "\u001b[1mОсновные статистические характеристики данных по нечисловым признакам:\u001b[0m\n"
     ]
    },
    {
     "data": {
      "text/html": [
       "<div>\n",
       "<style scoped>\n",
       "    .dataframe tbody tr th:only-of-type {\n",
       "        vertical-align: middle;\n",
       "    }\n",
       "\n",
       "    .dataframe tbody tr th {\n",
       "        vertical-align: top;\n",
       "    }\n",
       "\n",
       "    .dataframe thead th {\n",
       "        text-align: right;\n",
       "    }\n",
       "</style>\n",
       "<table border=\"1\" class=\"dataframe\">\n",
       "  <thead>\n",
       "    <tr style=\"text-align: right;\">\n",
       "      <th></th>\n",
       "      <th>churn_date</th>\n",
       "      <th>city</th>\n",
       "      <th>first_name</th>\n",
       "      <th>last_name</th>\n",
       "      <th>reg_date</th>\n",
       "      <th>tariff</th>\n",
       "    </tr>\n",
       "  </thead>\n",
       "  <tbody>\n",
       "    <tr>\n",
       "      <th>count</th>\n",
       "      <td>38</td>\n",
       "      <td>500</td>\n",
       "      <td>500</td>\n",
       "      <td>500</td>\n",
       "      <td>500</td>\n",
       "      <td>500</td>\n",
       "    </tr>\n",
       "    <tr>\n",
       "      <th>unique</th>\n",
       "      <td>33</td>\n",
       "      <td>76</td>\n",
       "      <td>246</td>\n",
       "      <td>419</td>\n",
       "      <td>270</td>\n",
       "      <td>2</td>\n",
       "    </tr>\n",
       "    <tr>\n",
       "      <th>top</th>\n",
       "      <td>2018-12-03</td>\n",
       "      <td>Москва</td>\n",
       "      <td>Радим</td>\n",
       "      <td>Андреенко</td>\n",
       "      <td>2018-05-28</td>\n",
       "      <td>smart</td>\n",
       "    </tr>\n",
       "    <tr>\n",
       "      <th>freq</th>\n",
       "      <td>2</td>\n",
       "      <td>99</td>\n",
       "      <td>6</td>\n",
       "      <td>5</td>\n",
       "      <td>8</td>\n",
       "      <td>351</td>\n",
       "    </tr>\n",
       "  </tbody>\n",
       "</table>\n",
       "</div>"
      ],
      "text/plain": [
       "        churn_date    city first_name  last_name    reg_date tariff\n",
       "count           38     500        500        500         500    500\n",
       "unique          33      76        246        419         270      2\n",
       "top     2018-12-03  Москва      Радим  Андреенко  2018-05-28  smart\n",
       "freq             2      99          6          5           8    351"
      ]
     },
     "metadata": {},
     "output_type": "display_data"
    },
    {
     "name": "stdout",
     "output_type": "stream",
     "text": [
      "\n",
      "\n",
      "\u001b[1mКоличество пропущенных значений в датафрейме:\u001b[0m\n"
     ]
    },
    {
     "data": {
      "text/plain": [
       "user_id       0.000\n",
       "age           0.000\n",
       "churn_date    0.924\n",
       "city          0.000\n",
       "first_name    0.000\n",
       "last_name     0.000\n",
       "reg_date      0.000\n",
       "tariff        0.000\n",
       "dtype: float64"
      ]
     },
     "metadata": {},
     "output_type": "display_data"
    },
    {
     "name": "stdout",
     "output_type": "stream",
     "text": [
      "\n",
      "\n",
      "\u001b[1mКоличество дубликатов в датафрейме: 0\u001b[0m\n"
     ]
    }
   ],
   "source": [
    "get_general_info(users)"
   ]
  },
  {
   "cell_type": "markdown",
   "metadata": {},
   "source": [
    "Датасет **users** содержит информацию о выборке клиентов оператора сотовой связи. Общая длина датафрейма равна 500 строкам, количество столбцов - 8. Есть пропуски в столбце `churn_date` с датой прекращения пользования тарифом, связанные с тем, что тариф ещё действовал на момент выгрузки данных\n",
    "\n",
    "Столбцы содержат данные разных типов: 6 признаков имеют тип object и 2 признака — числовые.\n",
    "\n",
    "В столбцe `reg_date`, содержащем информацию о дате подключения тарифа (день, месяц, год), данные переведем в формат datetime.\n",
    "\n",
    "2. Посмотрим информацию о звонках, совершенных клиентами оператора."
   ]
  },
  {
   "cell_type": "code",
   "execution_count": 34,
   "metadata": {},
   "outputs": [
    {
     "name": "stdout",
     "output_type": "stream",
     "text": [
      "\u001b[1mВыведем первые 5 строк датафрейма:\u001b[0m\n"
     ]
    },
    {
     "data": {
      "text/html": [
       "<div>\n",
       "<style scoped>\n",
       "    .dataframe tbody tr th:only-of-type {\n",
       "        vertical-align: middle;\n",
       "    }\n",
       "\n",
       "    .dataframe tbody tr th {\n",
       "        vertical-align: top;\n",
       "    }\n",
       "\n",
       "    .dataframe thead th {\n",
       "        text-align: right;\n",
       "    }\n",
       "</style>\n",
       "<table border=\"1\" class=\"dataframe\">\n",
       "  <thead>\n",
       "    <tr style=\"text-align: right;\">\n",
       "      <th></th>\n",
       "      <th>id</th>\n",
       "      <th>call_date</th>\n",
       "      <th>duration</th>\n",
       "      <th>user_id</th>\n",
       "    </tr>\n",
       "  </thead>\n",
       "  <tbody>\n",
       "    <tr>\n",
       "      <th>0</th>\n",
       "      <td>1000_0</td>\n",
       "      <td>2018-07-25</td>\n",
       "      <td>0.00</td>\n",
       "      <td>1000</td>\n",
       "    </tr>\n",
       "    <tr>\n",
       "      <th>1</th>\n",
       "      <td>1000_1</td>\n",
       "      <td>2018-08-17</td>\n",
       "      <td>0.00</td>\n",
       "      <td>1000</td>\n",
       "    </tr>\n",
       "    <tr>\n",
       "      <th>2</th>\n",
       "      <td>1000_2</td>\n",
       "      <td>2018-06-11</td>\n",
       "      <td>2.85</td>\n",
       "      <td>1000</td>\n",
       "    </tr>\n",
       "    <tr>\n",
       "      <th>3</th>\n",
       "      <td>1000_3</td>\n",
       "      <td>2018-09-21</td>\n",
       "      <td>13.80</td>\n",
       "      <td>1000</td>\n",
       "    </tr>\n",
       "    <tr>\n",
       "      <th>4</th>\n",
       "      <td>1000_4</td>\n",
       "      <td>2018-12-15</td>\n",
       "      <td>5.18</td>\n",
       "      <td>1000</td>\n",
       "    </tr>\n",
       "  </tbody>\n",
       "</table>\n",
       "</div>"
      ],
      "text/plain": [
       "       id   call_date  duration  user_id\n",
       "0  1000_0  2018-07-25      0.00     1000\n",
       "1  1000_1  2018-08-17      0.00     1000\n",
       "2  1000_2  2018-06-11      2.85     1000\n",
       "3  1000_3  2018-09-21     13.80     1000\n",
       "4  1000_4  2018-12-15      5.18     1000"
      ]
     },
     "metadata": {},
     "output_type": "display_data"
    },
    {
     "name": "stdout",
     "output_type": "stream",
     "text": [
      "\n",
      "\n",
      "\u001b[1mОбщая информация по датафрейму:\n",
      "\u001b[0m\n",
      "<class 'pandas.core.frame.DataFrame'>\n",
      "RangeIndex: 202607 entries, 0 to 202606\n",
      "Data columns (total 4 columns):\n",
      " #   Column     Non-Null Count   Dtype  \n",
      "---  ------     --------------   -----  \n",
      " 0   id         202607 non-null  object \n",
      " 1   call_date  202607 non-null  object \n",
      " 2   duration   202607 non-null  float64\n",
      " 3   user_id    202607 non-null  int64  \n",
      "dtypes: float64(1), int64(1), object(2)\n",
      "memory usage: 6.2+ MB\n",
      "\n",
      "\n",
      "\u001b[1mОсновные статистические характеристики данных по числовым признакам:\u001b[0m\n"
     ]
    },
    {
     "data": {
      "text/html": [
       "<div>\n",
       "<style scoped>\n",
       "    .dataframe tbody tr th:only-of-type {\n",
       "        vertical-align: middle;\n",
       "    }\n",
       "\n",
       "    .dataframe tbody tr th {\n",
       "        vertical-align: top;\n",
       "    }\n",
       "\n",
       "    .dataframe thead th {\n",
       "        text-align: right;\n",
       "    }\n",
       "</style>\n",
       "<table border=\"1\" class=\"dataframe\">\n",
       "  <thead>\n",
       "    <tr style=\"text-align: right;\">\n",
       "      <th></th>\n",
       "      <th>duration</th>\n",
       "      <th>user_id</th>\n",
       "    </tr>\n",
       "  </thead>\n",
       "  <tbody>\n",
       "    <tr>\n",
       "      <th>count</th>\n",
       "      <td>202607.000000</td>\n",
       "      <td>202607.000000</td>\n",
       "    </tr>\n",
       "    <tr>\n",
       "      <th>mean</th>\n",
       "      <td>6.755887</td>\n",
       "      <td>1253.940619</td>\n",
       "    </tr>\n",
       "    <tr>\n",
       "      <th>std</th>\n",
       "      <td>5.843365</td>\n",
       "      <td>144.722751</td>\n",
       "    </tr>\n",
       "    <tr>\n",
       "      <th>min</th>\n",
       "      <td>0.000000</td>\n",
       "      <td>1000.000000</td>\n",
       "    </tr>\n",
       "    <tr>\n",
       "      <th>25%</th>\n",
       "      <td>1.300000</td>\n",
       "      <td>1126.000000</td>\n",
       "    </tr>\n",
       "    <tr>\n",
       "      <th>50%</th>\n",
       "      <td>6.000000</td>\n",
       "      <td>1260.000000</td>\n",
       "    </tr>\n",
       "    <tr>\n",
       "      <th>75%</th>\n",
       "      <td>10.700000</td>\n",
       "      <td>1379.000000</td>\n",
       "    </tr>\n",
       "    <tr>\n",
       "      <th>max</th>\n",
       "      <td>38.000000</td>\n",
       "      <td>1499.000000</td>\n",
       "    </tr>\n",
       "  </tbody>\n",
       "</table>\n",
       "</div>"
      ],
      "text/plain": [
       "            duration        user_id\n",
       "count  202607.000000  202607.000000\n",
       "mean        6.755887    1253.940619\n",
       "std         5.843365     144.722751\n",
       "min         0.000000    1000.000000\n",
       "25%         1.300000    1126.000000\n",
       "50%         6.000000    1260.000000\n",
       "75%        10.700000    1379.000000\n",
       "max        38.000000    1499.000000"
      ]
     },
     "metadata": {},
     "output_type": "display_data"
    },
    {
     "name": "stdout",
     "output_type": "stream",
     "text": [
      "\n",
      "\n",
      "\u001b[1mОсновные статистические характеристики данных по нечисловым признакам:\u001b[0m\n"
     ]
    },
    {
     "data": {
      "text/html": [
       "<div>\n",
       "<style scoped>\n",
       "    .dataframe tbody tr th:only-of-type {\n",
       "        vertical-align: middle;\n",
       "    }\n",
       "\n",
       "    .dataframe tbody tr th {\n",
       "        vertical-align: top;\n",
       "    }\n",
       "\n",
       "    .dataframe thead th {\n",
       "        text-align: right;\n",
       "    }\n",
       "</style>\n",
       "<table border=\"1\" class=\"dataframe\">\n",
       "  <thead>\n",
       "    <tr style=\"text-align: right;\">\n",
       "      <th></th>\n",
       "      <th>id</th>\n",
       "      <th>call_date</th>\n",
       "    </tr>\n",
       "  </thead>\n",
       "  <tbody>\n",
       "    <tr>\n",
       "      <th>count</th>\n",
       "      <td>202607</td>\n",
       "      <td>202607</td>\n",
       "    </tr>\n",
       "    <tr>\n",
       "      <th>unique</th>\n",
       "      <td>202607</td>\n",
       "      <td>365</td>\n",
       "    </tr>\n",
       "    <tr>\n",
       "      <th>top</th>\n",
       "      <td>1000_0</td>\n",
       "      <td>2018-12-31</td>\n",
       "    </tr>\n",
       "    <tr>\n",
       "      <th>freq</th>\n",
       "      <td>1</td>\n",
       "      <td>1435</td>\n",
       "    </tr>\n",
       "  </tbody>\n",
       "</table>\n",
       "</div>"
      ],
      "text/plain": [
       "            id   call_date\n",
       "count   202607      202607\n",
       "unique  202607         365\n",
       "top     1000_0  2018-12-31\n",
       "freq         1        1435"
      ]
     },
     "metadata": {},
     "output_type": "display_data"
    },
    {
     "name": "stdout",
     "output_type": "stream",
     "text": [
      "\n",
      "\n",
      "\u001b[1mКоличество пропущенных значений в датафрейме:\u001b[0m\n"
     ]
    },
    {
     "data": {
      "text/plain": [
       "id           0.0\n",
       "call_date    0.0\n",
       "duration     0.0\n",
       "user_id      0.0\n",
       "dtype: float64"
      ]
     },
     "metadata": {},
     "output_type": "display_data"
    },
    {
     "name": "stdout",
     "output_type": "stream",
     "text": [
      "\n",
      "\n",
      "\u001b[1mКоличество дубликатов в датафрейме: 0\u001b[0m\n"
     ]
    }
   ],
   "source": [
    "get_general_info(calls)"
   ]
  },
  {
   "cell_type": "markdown",
   "metadata": {},
   "source": [
    "Датасет **calls** содержит информацию о звонка, совершенных клиентами оператора сотовой связи. Общая длина датафрейма равна 202607 строкам, количество столбцов - 4. Пропусков в данных не обнаружено.\n",
    "\n",
    "Столбцы содержат данные разных типов: 2 признака имеют тип object и 2 признака — числовые.\n",
    "\n",
    "В столбцe `call_date` с датой звонка данные переведем в формат datetime.\n",
    "\n",
    "В таблице с описательной статистикой по числовым данным обнаружены звонки с нулевой продолжительностью. Это не ошибка: нулями обозначены пропущенные звонки, поэтому удалять их не будем. \n",
    "\n",
    "3. Посмотрим информацию о сообщениях пользователей оператора."
   ]
  },
  {
   "cell_type": "code",
   "execution_count": 35,
   "metadata": {},
   "outputs": [
    {
     "name": "stdout",
     "output_type": "stream",
     "text": [
      "\u001b[1mВыведем первые 5 строк датафрейма:\u001b[0m\n"
     ]
    },
    {
     "data": {
      "text/html": [
       "<div>\n",
       "<style scoped>\n",
       "    .dataframe tbody tr th:only-of-type {\n",
       "        vertical-align: middle;\n",
       "    }\n",
       "\n",
       "    .dataframe tbody tr th {\n",
       "        vertical-align: top;\n",
       "    }\n",
       "\n",
       "    .dataframe thead th {\n",
       "        text-align: right;\n",
       "    }\n",
       "</style>\n",
       "<table border=\"1\" class=\"dataframe\">\n",
       "  <thead>\n",
       "    <tr style=\"text-align: right;\">\n",
       "      <th></th>\n",
       "      <th>id</th>\n",
       "      <th>message_date</th>\n",
       "      <th>user_id</th>\n",
       "    </tr>\n",
       "  </thead>\n",
       "  <tbody>\n",
       "    <tr>\n",
       "      <th>0</th>\n",
       "      <td>1000_0</td>\n",
       "      <td>2018-06-27</td>\n",
       "      <td>1000</td>\n",
       "    </tr>\n",
       "    <tr>\n",
       "      <th>1</th>\n",
       "      <td>1000_1</td>\n",
       "      <td>2018-10-08</td>\n",
       "      <td>1000</td>\n",
       "    </tr>\n",
       "    <tr>\n",
       "      <th>2</th>\n",
       "      <td>1000_2</td>\n",
       "      <td>2018-08-04</td>\n",
       "      <td>1000</td>\n",
       "    </tr>\n",
       "    <tr>\n",
       "      <th>3</th>\n",
       "      <td>1000_3</td>\n",
       "      <td>2018-06-16</td>\n",
       "      <td>1000</td>\n",
       "    </tr>\n",
       "    <tr>\n",
       "      <th>4</th>\n",
       "      <td>1000_4</td>\n",
       "      <td>2018-12-05</td>\n",
       "      <td>1000</td>\n",
       "    </tr>\n",
       "  </tbody>\n",
       "</table>\n",
       "</div>"
      ],
      "text/plain": [
       "       id message_date  user_id\n",
       "0  1000_0   2018-06-27     1000\n",
       "1  1000_1   2018-10-08     1000\n",
       "2  1000_2   2018-08-04     1000\n",
       "3  1000_3   2018-06-16     1000\n",
       "4  1000_4   2018-12-05     1000"
      ]
     },
     "metadata": {},
     "output_type": "display_data"
    },
    {
     "name": "stdout",
     "output_type": "stream",
     "text": [
      "\n",
      "\n",
      "\u001b[1mОбщая информация по датафрейму:\n",
      "\u001b[0m\n",
      "<class 'pandas.core.frame.DataFrame'>\n",
      "RangeIndex: 123036 entries, 0 to 123035\n",
      "Data columns (total 3 columns):\n",
      " #   Column        Non-Null Count   Dtype \n",
      "---  ------        --------------   ----- \n",
      " 0   id            123036 non-null  object\n",
      " 1   message_date  123036 non-null  object\n",
      " 2   user_id       123036 non-null  int64 \n",
      "dtypes: int64(1), object(2)\n",
      "memory usage: 2.8+ MB\n",
      "\n",
      "\n",
      "\u001b[1mОсновные статистические характеристики данных по числовым признакам:\u001b[0m\n"
     ]
    },
    {
     "data": {
      "text/html": [
       "<div>\n",
       "<style scoped>\n",
       "    .dataframe tbody tr th:only-of-type {\n",
       "        vertical-align: middle;\n",
       "    }\n",
       "\n",
       "    .dataframe tbody tr th {\n",
       "        vertical-align: top;\n",
       "    }\n",
       "\n",
       "    .dataframe thead th {\n",
       "        text-align: right;\n",
       "    }\n",
       "</style>\n",
       "<table border=\"1\" class=\"dataframe\">\n",
       "  <thead>\n",
       "    <tr style=\"text-align: right;\">\n",
       "      <th></th>\n",
       "      <th>user_id</th>\n",
       "    </tr>\n",
       "  </thead>\n",
       "  <tbody>\n",
       "    <tr>\n",
       "      <th>count</th>\n",
       "      <td>123036.000000</td>\n",
       "    </tr>\n",
       "    <tr>\n",
       "      <th>mean</th>\n",
       "      <td>1256.989410</td>\n",
       "    </tr>\n",
       "    <tr>\n",
       "      <th>std</th>\n",
       "      <td>143.523967</td>\n",
       "    </tr>\n",
       "    <tr>\n",
       "      <th>min</th>\n",
       "      <td>1000.000000</td>\n",
       "    </tr>\n",
       "    <tr>\n",
       "      <th>25%</th>\n",
       "      <td>1134.000000</td>\n",
       "    </tr>\n",
       "    <tr>\n",
       "      <th>50%</th>\n",
       "      <td>1271.000000</td>\n",
       "    </tr>\n",
       "    <tr>\n",
       "      <th>75%</th>\n",
       "      <td>1381.000000</td>\n",
       "    </tr>\n",
       "    <tr>\n",
       "      <th>max</th>\n",
       "      <td>1499.000000</td>\n",
       "    </tr>\n",
       "  </tbody>\n",
       "</table>\n",
       "</div>"
      ],
      "text/plain": [
       "             user_id\n",
       "count  123036.000000\n",
       "mean     1256.989410\n",
       "std       143.523967\n",
       "min      1000.000000\n",
       "25%      1134.000000\n",
       "50%      1271.000000\n",
       "75%      1381.000000\n",
       "max      1499.000000"
      ]
     },
     "metadata": {},
     "output_type": "display_data"
    },
    {
     "name": "stdout",
     "output_type": "stream",
     "text": [
      "\n",
      "\n",
      "\u001b[1mОсновные статистические характеристики данных по нечисловым признакам:\u001b[0m\n"
     ]
    },
    {
     "data": {
      "text/html": [
       "<div>\n",
       "<style scoped>\n",
       "    .dataframe tbody tr th:only-of-type {\n",
       "        vertical-align: middle;\n",
       "    }\n",
       "\n",
       "    .dataframe tbody tr th {\n",
       "        vertical-align: top;\n",
       "    }\n",
       "\n",
       "    .dataframe thead th {\n",
       "        text-align: right;\n",
       "    }\n",
       "</style>\n",
       "<table border=\"1\" class=\"dataframe\">\n",
       "  <thead>\n",
       "    <tr style=\"text-align: right;\">\n",
       "      <th></th>\n",
       "      <th>id</th>\n",
       "      <th>message_date</th>\n",
       "    </tr>\n",
       "  </thead>\n",
       "  <tbody>\n",
       "    <tr>\n",
       "      <th>count</th>\n",
       "      <td>123036</td>\n",
       "      <td>123036</td>\n",
       "    </tr>\n",
       "    <tr>\n",
       "      <th>unique</th>\n",
       "      <td>123036</td>\n",
       "      <td>364</td>\n",
       "    </tr>\n",
       "    <tr>\n",
       "      <th>top</th>\n",
       "      <td>1000_0</td>\n",
       "      <td>2018-12-31</td>\n",
       "    </tr>\n",
       "    <tr>\n",
       "      <th>freq</th>\n",
       "      <td>1</td>\n",
       "      <td>859</td>\n",
       "    </tr>\n",
       "  </tbody>\n",
       "</table>\n",
       "</div>"
      ],
      "text/plain": [
       "            id message_date\n",
       "count   123036       123036\n",
       "unique  123036          364\n",
       "top     1000_0   2018-12-31\n",
       "freq         1          859"
      ]
     },
     "metadata": {},
     "output_type": "display_data"
    },
    {
     "name": "stdout",
     "output_type": "stream",
     "text": [
      "\n",
      "\n",
      "\u001b[1mКоличество пропущенных значений в датафрейме:\u001b[0m\n"
     ]
    },
    {
     "data": {
      "text/plain": [
       "id              0.0\n",
       "message_date    0.0\n",
       "user_id         0.0\n",
       "dtype: float64"
      ]
     },
     "metadata": {},
     "output_type": "display_data"
    },
    {
     "name": "stdout",
     "output_type": "stream",
     "text": [
      "\n",
      "\n",
      "\u001b[1mКоличество дубликатов в датафрейме: 0\u001b[0m\n"
     ]
    }
   ],
   "source": [
    "get_general_info(messages)"
   ]
  },
  {
   "cell_type": "markdown",
   "metadata": {},
   "source": [
    "Датасет **messages** содержит информацию о сообщениях пользователей оператора сотовой связи. Общая длина датафрейма равна 123036 строкам, количество столбцов - 3. Пропусков в данных не обнаружено.\n",
    "\n",
    "Столбцы содержат данные разных типов: 2 признака имеют тип object и 1 признак — числовой.\n",
    "\n",
    "В столбцe `message_date` с датой сообщения данные переведем в формат datetime.\n",
    "\n",
    "4. Посмотрим информацию об интернет-сессиях пользователей оператора."
   ]
  },
  {
   "cell_type": "code",
   "execution_count": 36,
   "metadata": {},
   "outputs": [
    {
     "name": "stdout",
     "output_type": "stream",
     "text": [
      "\u001b[1mВыведем первые 5 строк датафрейма:\u001b[0m\n"
     ]
    },
    {
     "data": {
      "text/html": [
       "<div>\n",
       "<style scoped>\n",
       "    .dataframe tbody tr th:only-of-type {\n",
       "        vertical-align: middle;\n",
       "    }\n",
       "\n",
       "    .dataframe tbody tr th {\n",
       "        vertical-align: top;\n",
       "    }\n",
       "\n",
       "    .dataframe thead th {\n",
       "        text-align: right;\n",
       "    }\n",
       "</style>\n",
       "<table border=\"1\" class=\"dataframe\">\n",
       "  <thead>\n",
       "    <tr style=\"text-align: right;\">\n",
       "      <th></th>\n",
       "      <th>Unnamed: 0</th>\n",
       "      <th>id</th>\n",
       "      <th>mb_used</th>\n",
       "      <th>session_date</th>\n",
       "      <th>user_id</th>\n",
       "    </tr>\n",
       "  </thead>\n",
       "  <tbody>\n",
       "    <tr>\n",
       "      <th>0</th>\n",
       "      <td>0</td>\n",
       "      <td>1000_0</td>\n",
       "      <td>112.95</td>\n",
       "      <td>2018-11-25</td>\n",
       "      <td>1000</td>\n",
       "    </tr>\n",
       "    <tr>\n",
       "      <th>1</th>\n",
       "      <td>1</td>\n",
       "      <td>1000_1</td>\n",
       "      <td>1052.81</td>\n",
       "      <td>2018-09-07</td>\n",
       "      <td>1000</td>\n",
       "    </tr>\n",
       "    <tr>\n",
       "      <th>2</th>\n",
       "      <td>2</td>\n",
       "      <td>1000_2</td>\n",
       "      <td>1197.26</td>\n",
       "      <td>2018-06-25</td>\n",
       "      <td>1000</td>\n",
       "    </tr>\n",
       "    <tr>\n",
       "      <th>3</th>\n",
       "      <td>3</td>\n",
       "      <td>1000_3</td>\n",
       "      <td>550.27</td>\n",
       "      <td>2018-08-22</td>\n",
       "      <td>1000</td>\n",
       "    </tr>\n",
       "    <tr>\n",
       "      <th>4</th>\n",
       "      <td>4</td>\n",
       "      <td>1000_4</td>\n",
       "      <td>302.56</td>\n",
       "      <td>2018-09-24</td>\n",
       "      <td>1000</td>\n",
       "    </tr>\n",
       "  </tbody>\n",
       "</table>\n",
       "</div>"
      ],
      "text/plain": [
       "   Unnamed: 0      id  mb_used session_date  user_id\n",
       "0           0  1000_0   112.95   2018-11-25     1000\n",
       "1           1  1000_1  1052.81   2018-09-07     1000\n",
       "2           2  1000_2  1197.26   2018-06-25     1000\n",
       "3           3  1000_3   550.27   2018-08-22     1000\n",
       "4           4  1000_4   302.56   2018-09-24     1000"
      ]
     },
     "metadata": {},
     "output_type": "display_data"
    },
    {
     "name": "stdout",
     "output_type": "stream",
     "text": [
      "\n",
      "\n",
      "\u001b[1mОбщая информация по датафрейму:\n",
      "\u001b[0m\n",
      "<class 'pandas.core.frame.DataFrame'>\n",
      "RangeIndex: 149396 entries, 0 to 149395\n",
      "Data columns (total 5 columns):\n",
      " #   Column        Non-Null Count   Dtype  \n",
      "---  ------        --------------   -----  \n",
      " 0   Unnamed: 0    149396 non-null  int64  \n",
      " 1   id            149396 non-null  object \n",
      " 2   mb_used       149396 non-null  float64\n",
      " 3   session_date  149396 non-null  object \n",
      " 4   user_id       149396 non-null  int64  \n",
      "dtypes: float64(1), int64(2), object(2)\n",
      "memory usage: 5.7+ MB\n",
      "\n",
      "\n",
      "\u001b[1mОсновные статистические характеристики данных по числовым признакам:\u001b[0m\n"
     ]
    },
    {
     "data": {
      "text/html": [
       "<div>\n",
       "<style scoped>\n",
       "    .dataframe tbody tr th:only-of-type {\n",
       "        vertical-align: middle;\n",
       "    }\n",
       "\n",
       "    .dataframe tbody tr th {\n",
       "        vertical-align: top;\n",
       "    }\n",
       "\n",
       "    .dataframe thead th {\n",
       "        text-align: right;\n",
       "    }\n",
       "</style>\n",
       "<table border=\"1\" class=\"dataframe\">\n",
       "  <thead>\n",
       "    <tr style=\"text-align: right;\">\n",
       "      <th></th>\n",
       "      <th>Unnamed: 0</th>\n",
       "      <th>mb_used</th>\n",
       "      <th>user_id</th>\n",
       "    </tr>\n",
       "  </thead>\n",
       "  <tbody>\n",
       "    <tr>\n",
       "      <th>count</th>\n",
       "      <td>149396.000000</td>\n",
       "      <td>149396.000000</td>\n",
       "      <td>149396.000000</td>\n",
       "    </tr>\n",
       "    <tr>\n",
       "      <th>mean</th>\n",
       "      <td>74697.500000</td>\n",
       "      <td>370.192426</td>\n",
       "      <td>1252.099842</td>\n",
       "    </tr>\n",
       "    <tr>\n",
       "      <th>std</th>\n",
       "      <td>43127.054745</td>\n",
       "      <td>278.300951</td>\n",
       "      <td>144.050823</td>\n",
       "    </tr>\n",
       "    <tr>\n",
       "      <th>min</th>\n",
       "      <td>0.000000</td>\n",
       "      <td>0.000000</td>\n",
       "      <td>1000.000000</td>\n",
       "    </tr>\n",
       "    <tr>\n",
       "      <th>25%</th>\n",
       "      <td>37348.750000</td>\n",
       "      <td>138.187500</td>\n",
       "      <td>1130.000000</td>\n",
       "    </tr>\n",
       "    <tr>\n",
       "      <th>50%</th>\n",
       "      <td>74697.500000</td>\n",
       "      <td>348.015000</td>\n",
       "      <td>1251.000000</td>\n",
       "    </tr>\n",
       "    <tr>\n",
       "      <th>75%</th>\n",
       "      <td>112046.250000</td>\n",
       "      <td>559.552500</td>\n",
       "      <td>1380.000000</td>\n",
       "    </tr>\n",
       "    <tr>\n",
       "      <th>max</th>\n",
       "      <td>149395.000000</td>\n",
       "      <td>1724.830000</td>\n",
       "      <td>1499.000000</td>\n",
       "    </tr>\n",
       "  </tbody>\n",
       "</table>\n",
       "</div>"
      ],
      "text/plain": [
       "          Unnamed: 0        mb_used        user_id\n",
       "count  149396.000000  149396.000000  149396.000000\n",
       "mean    74697.500000     370.192426    1252.099842\n",
       "std     43127.054745     278.300951     144.050823\n",
       "min         0.000000       0.000000    1000.000000\n",
       "25%     37348.750000     138.187500    1130.000000\n",
       "50%     74697.500000     348.015000    1251.000000\n",
       "75%    112046.250000     559.552500    1380.000000\n",
       "max    149395.000000    1724.830000    1499.000000"
      ]
     },
     "metadata": {},
     "output_type": "display_data"
    },
    {
     "name": "stdout",
     "output_type": "stream",
     "text": [
      "\n",
      "\n",
      "\u001b[1mОсновные статистические характеристики данных по нечисловым признакам:\u001b[0m\n"
     ]
    },
    {
     "data": {
      "text/html": [
       "<div>\n",
       "<style scoped>\n",
       "    .dataframe tbody tr th:only-of-type {\n",
       "        vertical-align: middle;\n",
       "    }\n",
       "\n",
       "    .dataframe tbody tr th {\n",
       "        vertical-align: top;\n",
       "    }\n",
       "\n",
       "    .dataframe thead th {\n",
       "        text-align: right;\n",
       "    }\n",
       "</style>\n",
       "<table border=\"1\" class=\"dataframe\">\n",
       "  <thead>\n",
       "    <tr style=\"text-align: right;\">\n",
       "      <th></th>\n",
       "      <th>id</th>\n",
       "      <th>session_date</th>\n",
       "    </tr>\n",
       "  </thead>\n",
       "  <tbody>\n",
       "    <tr>\n",
       "      <th>count</th>\n",
       "      <td>149396</td>\n",
       "      <td>149396</td>\n",
       "    </tr>\n",
       "    <tr>\n",
       "      <th>unique</th>\n",
       "      <td>149396</td>\n",
       "      <td>365</td>\n",
       "    </tr>\n",
       "    <tr>\n",
       "      <th>top</th>\n",
       "      <td>1000_0</td>\n",
       "      <td>2018-12-31</td>\n",
       "    </tr>\n",
       "    <tr>\n",
       "      <th>freq</th>\n",
       "      <td>1</td>\n",
       "      <td>1057</td>\n",
       "    </tr>\n",
       "  </tbody>\n",
       "</table>\n",
       "</div>"
      ],
      "text/plain": [
       "            id session_date\n",
       "count   149396       149396\n",
       "unique  149396          365\n",
       "top     1000_0   2018-12-31\n",
       "freq         1         1057"
      ]
     },
     "metadata": {},
     "output_type": "display_data"
    },
    {
     "name": "stdout",
     "output_type": "stream",
     "text": [
      "\n",
      "\n",
      "\u001b[1mКоличество пропущенных значений в датафрейме:\u001b[0m\n"
     ]
    },
    {
     "data": {
      "text/plain": [
       "Unnamed: 0      0.0\n",
       "id              0.0\n",
       "mb_used         0.0\n",
       "session_date    0.0\n",
       "user_id         0.0\n",
       "dtype: float64"
      ]
     },
     "metadata": {},
     "output_type": "display_data"
    },
    {
     "name": "stdout",
     "output_type": "stream",
     "text": [
      "\n",
      "\n",
      "\u001b[1mКоличество дубликатов в датафрейме: 0\u001b[0m\n"
     ]
    }
   ],
   "source": [
    "get_general_info(internet)"
   ]
  },
  {
   "cell_type": "markdown",
   "metadata": {},
   "source": [
    "Датасет **internet** содержит информацию об интернет-сессиях пользователей оператора сотовой связи. Общая длина датафрейма равна 149396 строкам, количество столбцов - 4. Пропусков в данных не обнаружено.\n",
    "\n",
    "Столбцы содержат данные разных типов: 2 признака имеют тип object и 2 признака — числовые.\n",
    "\n",
    "В столбцe `session_date` с датой интернет-сессии данные переведем в формат datetime.\n",
    "\n",
    "В таблице обнаружен лишний столбец `Unnamed: 0`, дублирующий столбец и индексами. В разделе с предобработкой данных удалим его.\n",
    "\n",
    "В таблице с описательной статистикой по числовым данным обнаружены сессии с нулевой продолжительностью. Изучим эти данные в разделе с предобработкой.\n",
    "\n",
    "4. Посмотрим информацию о тарифах пользователей оператора."
   ]
  },
  {
   "cell_type": "code",
   "execution_count": 37,
   "metadata": {},
   "outputs": [
    {
     "name": "stdout",
     "output_type": "stream",
     "text": [
      "\u001b[1mВыведем первые 5 строк датафрейма:\u001b[0m\n"
     ]
    },
    {
     "data": {
      "text/html": [
       "<div>\n",
       "<style scoped>\n",
       "    .dataframe tbody tr th:only-of-type {\n",
       "        vertical-align: middle;\n",
       "    }\n",
       "\n",
       "    .dataframe tbody tr th {\n",
       "        vertical-align: top;\n",
       "    }\n",
       "\n",
       "    .dataframe thead th {\n",
       "        text-align: right;\n",
       "    }\n",
       "</style>\n",
       "<table border=\"1\" class=\"dataframe\">\n",
       "  <thead>\n",
       "    <tr style=\"text-align: right;\">\n",
       "      <th></th>\n",
       "      <th>messages_included</th>\n",
       "      <th>mb_per_month_included</th>\n",
       "      <th>minutes_included</th>\n",
       "      <th>rub_monthly_fee</th>\n",
       "      <th>rub_per_gb</th>\n",
       "      <th>rub_per_message</th>\n",
       "      <th>rub_per_minute</th>\n",
       "      <th>tariff_name</th>\n",
       "    </tr>\n",
       "  </thead>\n",
       "  <tbody>\n",
       "    <tr>\n",
       "      <th>0</th>\n",
       "      <td>50</td>\n",
       "      <td>15360</td>\n",
       "      <td>500</td>\n",
       "      <td>550</td>\n",
       "      <td>200</td>\n",
       "      <td>3</td>\n",
       "      <td>3</td>\n",
       "      <td>smart</td>\n",
       "    </tr>\n",
       "    <tr>\n",
       "      <th>1</th>\n",
       "      <td>1000</td>\n",
       "      <td>30720</td>\n",
       "      <td>3000</td>\n",
       "      <td>1950</td>\n",
       "      <td>150</td>\n",
       "      <td>1</td>\n",
       "      <td>1</td>\n",
       "      <td>ultra</td>\n",
       "    </tr>\n",
       "  </tbody>\n",
       "</table>\n",
       "</div>"
      ],
      "text/plain": [
       "   messages_included  mb_per_month_included  minutes_included  \\\n",
       "0                 50                  15360               500   \n",
       "1               1000                  30720              3000   \n",
       "\n",
       "   rub_monthly_fee  rub_per_gb  rub_per_message  rub_per_minute tariff_name  \n",
       "0              550         200                3               3       smart  \n",
       "1             1950         150                1               1       ultra  "
      ]
     },
     "metadata": {},
     "output_type": "display_data"
    },
    {
     "name": "stdout",
     "output_type": "stream",
     "text": [
      "\n",
      "\n",
      "\u001b[1mОбщая информация по датафрейму:\n",
      "\u001b[0m\n",
      "<class 'pandas.core.frame.DataFrame'>\n",
      "RangeIndex: 2 entries, 0 to 1\n",
      "Data columns (total 8 columns):\n",
      " #   Column                 Non-Null Count  Dtype \n",
      "---  ------                 --------------  ----- \n",
      " 0   messages_included      2 non-null      int64 \n",
      " 1   mb_per_month_included  2 non-null      int64 \n",
      " 2   minutes_included       2 non-null      int64 \n",
      " 3   rub_monthly_fee        2 non-null      int64 \n",
      " 4   rub_per_gb             2 non-null      int64 \n",
      " 5   rub_per_message        2 non-null      int64 \n",
      " 6   rub_per_minute         2 non-null      int64 \n",
      " 7   tariff_name            2 non-null      object\n",
      "dtypes: int64(7), object(1)\n",
      "memory usage: 256.0+ bytes\n",
      "\n",
      "\n",
      "\u001b[1mОсновные статистические характеристики данных по числовым признакам:\u001b[0m\n"
     ]
    },
    {
     "data": {
      "text/html": [
       "<div>\n",
       "<style scoped>\n",
       "    .dataframe tbody tr th:only-of-type {\n",
       "        vertical-align: middle;\n",
       "    }\n",
       "\n",
       "    .dataframe tbody tr th {\n",
       "        vertical-align: top;\n",
       "    }\n",
       "\n",
       "    .dataframe thead th {\n",
       "        text-align: right;\n",
       "    }\n",
       "</style>\n",
       "<table border=\"1\" class=\"dataframe\">\n",
       "  <thead>\n",
       "    <tr style=\"text-align: right;\">\n",
       "      <th></th>\n",
       "      <th>messages_included</th>\n",
       "      <th>mb_per_month_included</th>\n",
       "      <th>minutes_included</th>\n",
       "      <th>rub_monthly_fee</th>\n",
       "      <th>rub_per_gb</th>\n",
       "      <th>rub_per_message</th>\n",
       "      <th>rub_per_minute</th>\n",
       "    </tr>\n",
       "  </thead>\n",
       "  <tbody>\n",
       "    <tr>\n",
       "      <th>count</th>\n",
       "      <td>2.000000</td>\n",
       "      <td>2.000000</td>\n",
       "      <td>2.000000</td>\n",
       "      <td>2.000000</td>\n",
       "      <td>2.000000</td>\n",
       "      <td>2.000000</td>\n",
       "      <td>2.000000</td>\n",
       "    </tr>\n",
       "    <tr>\n",
       "      <th>mean</th>\n",
       "      <td>525.000000</td>\n",
       "      <td>23040.000000</td>\n",
       "      <td>1750.000000</td>\n",
       "      <td>1250.000000</td>\n",
       "      <td>175.000000</td>\n",
       "      <td>2.000000</td>\n",
       "      <td>2.000000</td>\n",
       "    </tr>\n",
       "    <tr>\n",
       "      <th>std</th>\n",
       "      <td>671.751442</td>\n",
       "      <td>10861.160159</td>\n",
       "      <td>1767.766953</td>\n",
       "      <td>989.949494</td>\n",
       "      <td>35.355339</td>\n",
       "      <td>1.414214</td>\n",
       "      <td>1.414214</td>\n",
       "    </tr>\n",
       "    <tr>\n",
       "      <th>min</th>\n",
       "      <td>50.000000</td>\n",
       "      <td>15360.000000</td>\n",
       "      <td>500.000000</td>\n",
       "      <td>550.000000</td>\n",
       "      <td>150.000000</td>\n",
       "      <td>1.000000</td>\n",
       "      <td>1.000000</td>\n",
       "    </tr>\n",
       "    <tr>\n",
       "      <th>25%</th>\n",
       "      <td>287.500000</td>\n",
       "      <td>19200.000000</td>\n",
       "      <td>1125.000000</td>\n",
       "      <td>900.000000</td>\n",
       "      <td>162.500000</td>\n",
       "      <td>1.500000</td>\n",
       "      <td>1.500000</td>\n",
       "    </tr>\n",
       "    <tr>\n",
       "      <th>50%</th>\n",
       "      <td>525.000000</td>\n",
       "      <td>23040.000000</td>\n",
       "      <td>1750.000000</td>\n",
       "      <td>1250.000000</td>\n",
       "      <td>175.000000</td>\n",
       "      <td>2.000000</td>\n",
       "      <td>2.000000</td>\n",
       "    </tr>\n",
       "    <tr>\n",
       "      <th>75%</th>\n",
       "      <td>762.500000</td>\n",
       "      <td>26880.000000</td>\n",
       "      <td>2375.000000</td>\n",
       "      <td>1600.000000</td>\n",
       "      <td>187.500000</td>\n",
       "      <td>2.500000</td>\n",
       "      <td>2.500000</td>\n",
       "    </tr>\n",
       "    <tr>\n",
       "      <th>max</th>\n",
       "      <td>1000.000000</td>\n",
       "      <td>30720.000000</td>\n",
       "      <td>3000.000000</td>\n",
       "      <td>1950.000000</td>\n",
       "      <td>200.000000</td>\n",
       "      <td>3.000000</td>\n",
       "      <td>3.000000</td>\n",
       "    </tr>\n",
       "  </tbody>\n",
       "</table>\n",
       "</div>"
      ],
      "text/plain": [
       "       messages_included  mb_per_month_included  minutes_included  \\\n",
       "count           2.000000               2.000000          2.000000   \n",
       "mean          525.000000           23040.000000       1750.000000   \n",
       "std           671.751442           10861.160159       1767.766953   \n",
       "min            50.000000           15360.000000        500.000000   \n",
       "25%           287.500000           19200.000000       1125.000000   \n",
       "50%           525.000000           23040.000000       1750.000000   \n",
       "75%           762.500000           26880.000000       2375.000000   \n",
       "max          1000.000000           30720.000000       3000.000000   \n",
       "\n",
       "       rub_monthly_fee  rub_per_gb  rub_per_message  rub_per_minute  \n",
       "count         2.000000    2.000000         2.000000        2.000000  \n",
       "mean       1250.000000  175.000000         2.000000        2.000000  \n",
       "std         989.949494   35.355339         1.414214        1.414214  \n",
       "min         550.000000  150.000000         1.000000        1.000000  \n",
       "25%         900.000000  162.500000         1.500000        1.500000  \n",
       "50%        1250.000000  175.000000         2.000000        2.000000  \n",
       "75%        1600.000000  187.500000         2.500000        2.500000  \n",
       "max        1950.000000  200.000000         3.000000        3.000000  "
      ]
     },
     "metadata": {},
     "output_type": "display_data"
    },
    {
     "name": "stdout",
     "output_type": "stream",
     "text": [
      "\n",
      "\n",
      "\u001b[1mОсновные статистические характеристики данных по нечисловым признакам:\u001b[0m\n"
     ]
    },
    {
     "data": {
      "text/html": [
       "<div>\n",
       "<style scoped>\n",
       "    .dataframe tbody tr th:only-of-type {\n",
       "        vertical-align: middle;\n",
       "    }\n",
       "\n",
       "    .dataframe tbody tr th {\n",
       "        vertical-align: top;\n",
       "    }\n",
       "\n",
       "    .dataframe thead th {\n",
       "        text-align: right;\n",
       "    }\n",
       "</style>\n",
       "<table border=\"1\" class=\"dataframe\">\n",
       "  <thead>\n",
       "    <tr style=\"text-align: right;\">\n",
       "      <th></th>\n",
       "      <th>tariff_name</th>\n",
       "    </tr>\n",
       "  </thead>\n",
       "  <tbody>\n",
       "    <tr>\n",
       "      <th>count</th>\n",
       "      <td>2</td>\n",
       "    </tr>\n",
       "    <tr>\n",
       "      <th>unique</th>\n",
       "      <td>2</td>\n",
       "    </tr>\n",
       "    <tr>\n",
       "      <th>top</th>\n",
       "      <td>smart</td>\n",
       "    </tr>\n",
       "    <tr>\n",
       "      <th>freq</th>\n",
       "      <td>1</td>\n",
       "    </tr>\n",
       "  </tbody>\n",
       "</table>\n",
       "</div>"
      ],
      "text/plain": [
       "       tariff_name\n",
       "count            2\n",
       "unique           2\n",
       "top          smart\n",
       "freq             1"
      ]
     },
     "metadata": {},
     "output_type": "display_data"
    },
    {
     "name": "stdout",
     "output_type": "stream",
     "text": [
      "\n",
      "\n",
      "\u001b[1mКоличество пропущенных значений в датафрейме:\u001b[0m\n"
     ]
    },
    {
     "data": {
      "text/plain": [
       "messages_included        0.0\n",
       "mb_per_month_included    0.0\n",
       "minutes_included         0.0\n",
       "rub_monthly_fee          0.0\n",
       "rub_per_gb               0.0\n",
       "rub_per_message          0.0\n",
       "rub_per_minute           0.0\n",
       "tariff_name              0.0\n",
       "dtype: float64"
      ]
     },
     "metadata": {},
     "output_type": "display_data"
    },
    {
     "name": "stdout",
     "output_type": "stream",
     "text": [
      "\n",
      "\n",
      "\u001b[1mКоличество дубликатов в датафрейме: 0\u001b[0m\n"
     ]
    }
   ],
   "source": [
    "get_general_info(tariffs)"
   ]
  },
  {
   "cell_type": "markdown",
   "metadata": {},
   "source": [
    "Датасет **tariffs** содержит информацию об тарифах оператора сотовой связи. Общая длина датафрейма равна 2 строкам, количество столбцов - 8. Пропусков в данных не обнаружено.\n",
    "\n",
    "Столбцы содержат данные разных типов: 1 признак имеет тип object и 7 признаков — числовые.\n",
    "\n",
    "## Предобработка данных\n",
    "\n",
    "### Приведение данных к нижнему регистру\n",
    "\n",
    "Приведем все символы в столбцах, содержащих данные строкового типа, к нижнему регистру:"
   ]
  },
  {
   "cell_type": "code",
   "execution_count": 38,
   "metadata": {},
   "outputs": [],
   "source": [
    "def lower_case(dataframes = []):\n",
    "    \n",
    "    for df in dataframes:\n",
    "        \n",
    "        for column in df.columns:\n",
    "\n",
    "            if df[column].dtypes == 'object':\n",
    "\n",
    "                df[column] = df[column].str.lower()\n",
    "\n",
    "lower_case(dataframes = [users, calls, messages, internet, tariffs])"
   ]
  },
  {
   "cell_type": "markdown",
   "metadata": {},
   "source": [
    "### Изменение типов данных"
   ]
  },
  {
   "cell_type": "code",
   "execution_count": 39,
   "metadata": {},
   "outputs": [],
   "source": [
    "users['reg_date'] = pd.to_datetime(users['reg_date'], format=\"%Y-%m-%d\")\n",
    "\n",
    "calls['id'] = calls['id'].astype('int')\n",
    "calls['call_date'] = pd.to_datetime(calls['call_date'], format=\"%Y-%m-%d\")\n",
    "\n",
    "messages['id'] = messages['id'].astype('int')\n",
    "messages['message_date'] = pd.to_datetime(messages['message_date'], format=\"%Y-%m-%d\")\n",
    "\n",
    "internet['id'] = internet['id'].astype('int')\n",
    "internet['session_date'] = pd.to_datetime(internet['session_date'], format=\"%Y-%m-%d\")"
   ]
  },
  {
   "cell_type": "markdown",
   "metadata": {},
   "source": [
    "### Ошибки в данных\n",
    "\n",
    "Ранее было обнаружено, что в таблицах `internet` и `calls` содержатся интернет-сессии и звонки с нулевой продолжительностью. Оценим процент таких сессий от общего числа."
   ]
  },
  {
   "cell_type": "code",
   "execution_count": 40,
   "metadata": {},
   "outputs": [
    {
     "data": {
      "text/plain": [
       "'Количество звонков с нулевой продолжительностью: 19.55%'"
      ]
     },
     "execution_count": 40,
     "metadata": {},
     "output_type": "execute_result"
    }
   ],
   "source": [
    "'Количество звонков с нулевой продолжительностью: {:.2%}'.format(len(calls[calls['duration']==0])/len(calls))"
   ]
  },
  {
   "cell_type": "code",
   "execution_count": 41,
   "metadata": {},
   "outputs": [
    {
     "data": {
      "text/plain": [
       "'Количество интернет-сессий с нулевой продолжительностью: 13.12%'"
      ]
     },
     "execution_count": 41,
     "metadata": {},
     "output_type": "execute_result"
    }
   ],
   "source": [
    "'Количество интернет-сессий с нулевой продолжительностью: {:.2%}'.format(len(internet[internet['mb_used']==0])/len(internet))"
   ]
  },
  {
   "cell_type": "markdown",
   "metadata": {},
   "source": [
    "Итак, в таблице ***calls*** 19,6% данных - звонки с нулевой продолжительностью. Поскольку из описания проекта известно, что такие данные не ошибочны (нулями обозначены пропущенные звонки), удалять их не будем. \n",
    "\n",
    "Природа происхождения интернет-сессий с нулевой продолжительностью в таблице ***internet*** нам не известна. А поскольку, удалив такие данные, мы можем лишиться полезной для исследования информации, так же оставим их без изменений."
   ]
  },
  {
   "cell_type": "markdown",
   "metadata": {},
   "source": [
    "### Добавление новых столбцов и удаление ошибочных\n",
    "\n",
    "Удалим ошибочный столбец `'Unnamed: 0` таблицы ***internet***:"
   ]
  },
  {
   "cell_type": "code",
   "execution_count": 42,
   "metadata": {},
   "outputs": [],
   "source": [
    "internet.drop(['Unnamed: 0'], axis='columns', inplace=True)"
   ]
  },
  {
   "cell_type": "markdown",
   "metadata": {},
   "source": [
    "Посчитаем для каждого пользователя:\n",
    "\n",
    "1. Количество сделанных звонков и израсходованных минут разговора по месяцам"
   ]
  },
  {
   "cell_type": "code",
   "execution_count": 43,
   "metadata": {},
   "outputs": [
    {
     "data": {
      "text/html": [
       "<div>\n",
       "<style scoped>\n",
       "    .dataframe tbody tr th:only-of-type {\n",
       "        vertical-align: middle;\n",
       "    }\n",
       "\n",
       "    .dataframe tbody tr th {\n",
       "        vertical-align: top;\n",
       "    }\n",
       "\n",
       "    .dataframe thead th {\n",
       "        text-align: right;\n",
       "    }\n",
       "</style>\n",
       "<table border=\"1\" class=\"dataframe\">\n",
       "  <thead>\n",
       "    <tr style=\"text-align: right;\">\n",
       "      <th></th>\n",
       "      <th>user_id</th>\n",
       "      <th>month</th>\n",
       "      <th>number_of_calls</th>\n",
       "      <th>total_duration</th>\n",
       "    </tr>\n",
       "  </thead>\n",
       "  <tbody>\n",
       "    <tr>\n",
       "      <th>627</th>\n",
       "      <td>1100</td>\n",
       "      <td>8</td>\n",
       "      <td>88</td>\n",
       "      <td>599.69</td>\n",
       "    </tr>\n",
       "    <tr>\n",
       "      <th>185</th>\n",
       "      <td>1028</td>\n",
       "      <td>12</td>\n",
       "      <td>143</td>\n",
       "      <td>1130.95</td>\n",
       "    </tr>\n",
       "    <tr>\n",
       "      <th>1676</th>\n",
       "      <td>1269</td>\n",
       "      <td>8</td>\n",
       "      <td>47</td>\n",
       "      <td>342.90</td>\n",
       "    </tr>\n",
       "  </tbody>\n",
       "</table>\n",
       "</div>"
      ],
      "text/plain": [
       "      user_id  month  number_of_calls  total_duration\n",
       "627      1100      8               88          599.69\n",
       "185      1028     12              143         1130.95\n",
       "1676     1269      8               47          342.90"
      ]
     },
     "execution_count": 43,
     "metadata": {},
     "output_type": "execute_result"
    }
   ],
   "source": [
    "# добавим столбец с месяцем звонка\n",
    "calls['month'] = calls['call_date'].dt.month\n",
    "\n",
    "calls_pivot = (calls.groupby(['user_id', 'month'])\n",
    "               .agg({'id': 'count', 'duration': 'sum'})\n",
    "               .rename(columns={'id': 'number_of_calls',\n",
    "                               'duration': 'total_duration'})\n",
    "               .reset_index())\n",
    "calls_pivot.sample(3)"
   ]
  },
  {
   "cell_type": "markdown",
   "metadata": {},
   "source": [
    "2. Количество отправленных сообщений по месяцам"
   ]
  },
  {
   "cell_type": "code",
   "execution_count": 44,
   "metadata": {},
   "outputs": [
    {
     "data": {
      "text/html": [
       "<div>\n",
       "<style scoped>\n",
       "    .dataframe tbody tr th:only-of-type {\n",
       "        vertical-align: middle;\n",
       "    }\n",
       "\n",
       "    .dataframe tbody tr th {\n",
       "        vertical-align: top;\n",
       "    }\n",
       "\n",
       "    .dataframe thead th {\n",
       "        text-align: right;\n",
       "    }\n",
       "</style>\n",
       "<table border=\"1\" class=\"dataframe\">\n",
       "  <thead>\n",
       "    <tr style=\"text-align: right;\">\n",
       "      <th></th>\n",
       "      <th>user_id</th>\n",
       "      <th>month</th>\n",
       "      <th>number_of_messages</th>\n",
       "    </tr>\n",
       "  </thead>\n",
       "  <tbody>\n",
       "    <tr>\n",
       "      <th>95</th>\n",
       "      <td>1015</td>\n",
       "      <td>9</td>\n",
       "      <td>68</td>\n",
       "    </tr>\n",
       "    <tr>\n",
       "      <th>2450</th>\n",
       "      <td>1454</td>\n",
       "      <td>7</td>\n",
       "      <td>28</td>\n",
       "    </tr>\n",
       "    <tr>\n",
       "      <th>1179</th>\n",
       "      <td>1227</td>\n",
       "      <td>4</td>\n",
       "      <td>28</td>\n",
       "    </tr>\n",
       "  </tbody>\n",
       "</table>\n",
       "</div>"
      ],
      "text/plain": [
       "      user_id  month  number_of_messages\n",
       "95       1015      9                  68\n",
       "2450     1454      7                  28\n",
       "1179     1227      4                  28"
      ]
     },
     "execution_count": 44,
     "metadata": {},
     "output_type": "execute_result"
    }
   ],
   "source": [
    "# добавим столбец с месяцем сообщения\n",
    "messages['month'] = messages['message_date'].dt.month\n",
    "\n",
    "messages_pivot = (messages.groupby(['user_id', 'month'])\n",
    "               .agg({'id': 'count'})\n",
    "               .rename(columns={'id': 'number_of_messages'})\n",
    "               .reset_index())\n",
    "messages_pivot.sample(3)"
   ]
  },
  {
   "cell_type": "markdown",
   "metadata": {},
   "source": [
    "3. Объем израсходованного интернет-трафика по месяцам"
   ]
  },
  {
   "cell_type": "code",
   "execution_count": 45,
   "metadata": {},
   "outputs": [
    {
     "data": {
      "text/html": [
       "<div>\n",
       "<style scoped>\n",
       "    .dataframe tbody tr th:only-of-type {\n",
       "        vertical-align: middle;\n",
       "    }\n",
       "\n",
       "    .dataframe tbody tr th {\n",
       "        vertical-align: top;\n",
       "    }\n",
       "\n",
       "    .dataframe thead th {\n",
       "        text-align: right;\n",
       "    }\n",
       "</style>\n",
       "<table border=\"1\" class=\"dataframe\">\n",
       "  <thead>\n",
       "    <tr style=\"text-align: right;\">\n",
       "      <th></th>\n",
       "      <th>user_id</th>\n",
       "      <th>month</th>\n",
       "      <th>total_mb_used</th>\n",
       "    </tr>\n",
       "  </thead>\n",
       "  <tbody>\n",
       "    <tr>\n",
       "      <th>756</th>\n",
       "      <td>1118</td>\n",
       "      <td>12</td>\n",
       "      <td>13616.51</td>\n",
       "    </tr>\n",
       "    <tr>\n",
       "      <th>2348</th>\n",
       "      <td>1373</td>\n",
       "      <td>11</td>\n",
       "      <td>16736.23</td>\n",
       "    </tr>\n",
       "    <tr>\n",
       "      <th>1541</th>\n",
       "      <td>1243</td>\n",
       "      <td>8</td>\n",
       "      <td>23806.65</td>\n",
       "    </tr>\n",
       "  </tbody>\n",
       "</table>\n",
       "</div>"
      ],
      "text/plain": [
       "      user_id  month  total_mb_used\n",
       "756      1118     12       13616.51\n",
       "2348     1373     11       16736.23\n",
       "1541     1243      8       23806.65"
      ]
     },
     "execution_count": 45,
     "metadata": {},
     "output_type": "execute_result"
    }
   ],
   "source": [
    "# добавим столбец с месяцем интернет-сессии\n",
    "internet['month'] = internet['session_date'].dt.month\n",
    "\n",
    "internet_pivot = (internet.groupby(['user_id', 'month'])\n",
    "               .agg({'mb_used': 'sum'})\n",
    "               .rename(columns={'mb_used': 'total_mb_used'})\n",
    "               .reset_index())\n",
    "internet_pivot.sample(3)"
   ]
  },
  {
   "cell_type": "markdown",
   "metadata": {},
   "source": [
    "4. Помесячную выручку с каждого пользователя\n",
    "\n",
    "   Для этого вычтем бесплатный лимит из суммарного количества звонков, сообщений и интернет-трафика, а остаток умножим на значение из тарифного плана и прибавим абонентскую плату, соответствующую тарифному плану."
   ]
  },
  {
   "cell_type": "code",
   "execution_count": 46,
   "metadata": {},
   "outputs": [],
   "source": [
    "# объединим три ранее созданные сводные таблицы\n",
    "all_pivot = calls_pivot.merge(messages_pivot, how='outer', on=['user_id', 'month'])\n",
    "all_pivot = all_pivot.merge(internet_pivot, how='outer', on=['user_id', 'month'])\n",
    "\n",
    "# добавим столбец с названием тарифа и его бесплатных лимитов\n",
    "all_pivot = all_pivot.merge(users[['user_id', 'tariff']], on='user_id', how='left')\n",
    "all_pivot = all_pivot.merge(tariffs, left_on='tariff', right_on='tariff_name', how='left')\n",
    "\n",
    "# заменим пропущенные значения нулями\n",
    "all_pivot.loc[all_pivot['total_duration'].isna(), 'total_duration'] = 0\n",
    "all_pivot.loc[all_pivot['number_of_messages'].isna(), 'number_of_messages'] = 0\n",
    "all_pivot.loc[all_pivot['total_mb_used'].isna(), 'total_mb_used'] = 0"
   ]
  },
  {
   "cell_type": "code",
   "execution_count": 47,
   "metadata": {},
   "outputs": [],
   "source": [
    "def revenue(row):\n",
    "    \n",
    "    calls = np.ceil(row['total_duration']) # округлим секунды до минут\n",
    "    messages = row['number_of_messages']\n",
    "    mb_used = np.ceil(row['total_mb_used']/1024) # округлим мегабайты до гигабайт\n",
    "    consumption_list = [calls, messages, mb_used]\n",
    "    \n",
    "    tariff_minutes = row['minutes_included']\n",
    "    tariff_messages = row['messages_included']\n",
    "    tariff_mb = row['mb_per_month_included']/1024\n",
    "    tariff_list = [tariff_minutes, tariff_messages, tariff_mb]\n",
    "    \n",
    "    tariff_payment = row['rub_monthly_fee']\n",
    "    \n",
    "    tariff_overpayment_minute = row['rub_per_minute']\n",
    "    tariff_overpayment_gb = row['rub_per_gb']\n",
    "    tariff_overpayment_message = row['rub_per_message']\n",
    "    tariff_overpayment_list = [tariff_overpayment_minute, tariff_overpayment_message, tariff_overpayment_gb]\n",
    "    \n",
    "        \n",
    "    for i in range(len(consumption_list)):\n",
    "        \n",
    "        if (consumption_list[i] - tariff_list[i]) <= 0:\n",
    "            revenue = tariff_payment\n",
    "        else:\n",
    "            revenue = (consumption_list[i] - tariff_list[i])*tariff_overpayment_list[i] + tariff_payment\n",
    "    return revenue\n",
    "\n",
    "all_pivot['revenue'] = all_pivot.apply(revenue, axis=1)"
   ]
  },
  {
   "cell_type": "code",
   "execution_count": 48,
   "metadata": {},
   "outputs": [
    {
     "data": {
      "text/html": [
       "<div>\n",
       "<style scoped>\n",
       "    .dataframe tbody tr th:only-of-type {\n",
       "        vertical-align: middle;\n",
       "    }\n",
       "\n",
       "    .dataframe tbody tr th {\n",
       "        vertical-align: top;\n",
       "    }\n",
       "\n",
       "    .dataframe thead th {\n",
       "        text-align: right;\n",
       "    }\n",
       "</style>\n",
       "<table border=\"1\" class=\"dataframe\">\n",
       "  <thead>\n",
       "    <tr style=\"text-align: right;\">\n",
       "      <th></th>\n",
       "      <th>user_id</th>\n",
       "      <th>tariff</th>\n",
       "      <th>month</th>\n",
       "      <th>number_of_calls</th>\n",
       "      <th>total_duration</th>\n",
       "      <th>number_of_messages</th>\n",
       "      <th>total_mb_used</th>\n",
       "      <th>rub_monthly_fee</th>\n",
       "      <th>revenue</th>\n",
       "    </tr>\n",
       "  </thead>\n",
       "  <tbody>\n",
       "    <tr>\n",
       "      <th>931</th>\n",
       "      <td>1149</td>\n",
       "      <td>smart</td>\n",
       "      <td>11</td>\n",
       "      <td>37.0</td>\n",
       "      <td>265.38</td>\n",
       "      <td>74.0</td>\n",
       "      <td>25087.48</td>\n",
       "      <td>550</td>\n",
       "      <td>2550.0</td>\n",
       "    </tr>\n",
       "    <tr>\n",
       "      <th>1833</th>\n",
       "      <td>1292</td>\n",
       "      <td>ultra</td>\n",
       "      <td>10</td>\n",
       "      <td>35.0</td>\n",
       "      <td>311.38</td>\n",
       "      <td>0.0</td>\n",
       "      <td>33272.81</td>\n",
       "      <td>1950</td>\n",
       "      <td>2400.0</td>\n",
       "    </tr>\n",
       "    <tr>\n",
       "      <th>2488</th>\n",
       "      <td>1393</td>\n",
       "      <td>smart</td>\n",
       "      <td>11</td>\n",
       "      <td>91.0</td>\n",
       "      <td>571.90</td>\n",
       "      <td>47.0</td>\n",
       "      <td>16154.13</td>\n",
       "      <td>550</td>\n",
       "      <td>750.0</td>\n",
       "    </tr>\n",
       "    <tr>\n",
       "      <th>1711</th>\n",
       "      <td>1274</td>\n",
       "      <td>smart</td>\n",
       "      <td>11</td>\n",
       "      <td>69.0</td>\n",
       "      <td>451.14</td>\n",
       "      <td>78.0</td>\n",
       "      <td>18234.22</td>\n",
       "      <td>550</td>\n",
       "      <td>1150.0</td>\n",
       "    </tr>\n",
       "    <tr>\n",
       "      <th>141</th>\n",
       "      <td>1019</td>\n",
       "      <td>ultra</td>\n",
       "      <td>10</td>\n",
       "      <td>10.0</td>\n",
       "      <td>92.06</td>\n",
       "      <td>8.0</td>\n",
       "      <td>621.63</td>\n",
       "      <td>1950</td>\n",
       "      <td>1950.0</td>\n",
       "    </tr>\n",
       "    <tr>\n",
       "      <th>2103</th>\n",
       "      <td>1337</td>\n",
       "      <td>smart</td>\n",
       "      <td>2</td>\n",
       "      <td>19.0</td>\n",
       "      <td>150.49</td>\n",
       "      <td>6.0</td>\n",
       "      <td>18306.12</td>\n",
       "      <td>550</td>\n",
       "      <td>1150.0</td>\n",
       "    </tr>\n",
       "    <tr>\n",
       "      <th>698</th>\n",
       "      <td>1113</td>\n",
       "      <td>smart</td>\n",
       "      <td>3</td>\n",
       "      <td>76.0</td>\n",
       "      <td>497.55</td>\n",
       "      <td>43.0</td>\n",
       "      <td>17208.37</td>\n",
       "      <td>550</td>\n",
       "      <td>950.0</td>\n",
       "    </tr>\n",
       "    <tr>\n",
       "      <th>167</th>\n",
       "      <td>1025</td>\n",
       "      <td>smart</td>\n",
       "      <td>9</td>\n",
       "      <td>69.0</td>\n",
       "      <td>485.90</td>\n",
       "      <td>16.0</td>\n",
       "      <td>9866.95</td>\n",
       "      <td>550</td>\n",
       "      <td>550.0</td>\n",
       "    </tr>\n",
       "    <tr>\n",
       "      <th>1278</th>\n",
       "      <td>1203</td>\n",
       "      <td>ultra</td>\n",
       "      <td>3</td>\n",
       "      <td>43.0</td>\n",
       "      <td>258.10</td>\n",
       "      <td>22.0</td>\n",
       "      <td>6676.01</td>\n",
       "      <td>1950</td>\n",
       "      <td>1950.0</td>\n",
       "    </tr>\n",
       "    <tr>\n",
       "      <th>1490</th>\n",
       "      <td>1239</td>\n",
       "      <td>smart</td>\n",
       "      <td>10</td>\n",
       "      <td>60.0</td>\n",
       "      <td>355.47</td>\n",
       "      <td>27.0</td>\n",
       "      <td>15877.71</td>\n",
       "      <td>550</td>\n",
       "      <td>750.0</td>\n",
       "    </tr>\n",
       "  </tbody>\n",
       "</table>\n",
       "</div>"
      ],
      "text/plain": [
       "      user_id tariff  month  number_of_calls  total_duration  \\\n",
       "931      1149  smart     11             37.0          265.38   \n",
       "1833     1292  ultra     10             35.0          311.38   \n",
       "2488     1393  smart     11             91.0          571.90   \n",
       "1711     1274  smart     11             69.0          451.14   \n",
       "141      1019  ultra     10             10.0           92.06   \n",
       "2103     1337  smart      2             19.0          150.49   \n",
       "698      1113  smart      3             76.0          497.55   \n",
       "167      1025  smart      9             69.0          485.90   \n",
       "1278     1203  ultra      3             43.0          258.10   \n",
       "1490     1239  smart     10             60.0          355.47   \n",
       "\n",
       "      number_of_messages  total_mb_used  rub_monthly_fee  revenue  \n",
       "931                 74.0       25087.48              550   2550.0  \n",
       "1833                 0.0       33272.81             1950   2400.0  \n",
       "2488                47.0       16154.13              550    750.0  \n",
       "1711                78.0       18234.22              550   1150.0  \n",
       "141                  8.0         621.63             1950   1950.0  \n",
       "2103                 6.0       18306.12              550   1150.0  \n",
       "698                 43.0       17208.37              550    950.0  \n",
       "167                 16.0        9866.95              550    550.0  \n",
       "1278                22.0        6676.01             1950   1950.0  \n",
       "1490                27.0       15877.71              550    750.0  "
      ]
     },
     "execution_count": 48,
     "metadata": {},
     "output_type": "execute_result"
    }
   ],
   "source": [
    "all_pivot = (all_pivot[['user_id', 'tariff', 'month', 'number_of_calls', \n",
    "                        'total_duration', 'number_of_messages', \n",
    "                        'total_mb_used', 'rub_monthly_fee', 'revenue']])\n",
    "all_pivot.sample(10)"
   ]
  },
  {
   "cell_type": "markdown",
   "metadata": {},
   "source": [
    "## Исследовательский анализ данных\n",
    "\n",
    "Опишем поведение клиентов оператора, исходя из выборки. Выясним, сколько минут разговора, сколько сообщений и какой объём интернет-трафика требуется пользователям каждого тарифа в месяц. Посчитаем:\n",
    " - среднее количество;\n",
    " - дисперсию;\n",
    " - стандартное отклонение. \n",
    " \n",
    "Напишем функцию, с помощью которой выведем сводную таблицу с описательной статистикой по каждой из услуг для двух пользовательских тарифов мобильного оператора, а также посторим для них гистограммы и диаграммы размаха."
   ]
  },
  {
   "cell_type": "code",
   "execution_count": 49,
   "metadata": {},
   "outputs": [],
   "source": [
    "def output_results(parameter, title):\n",
    "    \n",
    "    # вывод сводной таблицы\n",
    "    average_data = round(all_pivot.groupby('tariff').\n",
    "                        agg({parameter: [np.mean, np.median, np.var, np.std],\n",
    "                            }), 2)\n",
    "    \n",
    "    display(average_data)\n",
    "    \n",
    "    # вывод графиков\n",
    "    fig, axes = plt.subplots(1, 2, figsize=(20, 7))\n",
    "    \n",
    "    sns.histplot(data=all_pivot, x=parameter, hue=\"tariff\", ax=axes[0])\n",
    "    axes[0].set_title('Гистограмма', y=1.05, fontsize=18)\n",
    "    axes[0].set_xlabel(title, fontsize=14)\n",
    "    axes[0].set_ylabel('Частота встречаемости значения', fontsize=14)\n",
    "    plt.setp(axes[0].get_legend().get_texts(), fontsize='14') \n",
    "    plt.setp(axes[0].get_legend().get_title(), fontsize='16')\n",
    "\n",
    "    sns.boxplot(x='tariff', y=parameter, data=all_pivot, ax=axes[1])\n",
    "    axes[1].set_title('Диаграмма размаха', y=1.05, fontsize=18)\n",
    "    axes[1].set_xlabel('Тариф', fontsize=14)\n",
    "    axes[1].set_ylabel(title, fontsize=14)\n",
    "        \n",
    "    fig.suptitle(title, y=1.1, fontsize=24)\n",
    "\n",
    "\n",
    "    plt.tight_layout()\n",
    "    plt.show()"
   ]
  },
  {
   "cell_type": "code",
   "execution_count": 50,
   "metadata": {},
   "outputs": [
    {
     "data": {
      "text/html": [
       "<div>\n",
       "<style scoped>\n",
       "    .dataframe tbody tr th:only-of-type {\n",
       "        vertical-align: middle;\n",
       "    }\n",
       "\n",
       "    .dataframe tbody tr th {\n",
       "        vertical-align: top;\n",
       "    }\n",
       "\n",
       "    .dataframe thead tr th {\n",
       "        text-align: left;\n",
       "    }\n",
       "\n",
       "    .dataframe thead tr:last-of-type th {\n",
       "        text-align: right;\n",
       "    }\n",
       "</style>\n",
       "<table border=\"1\" class=\"dataframe\">\n",
       "  <thead>\n",
       "    <tr>\n",
       "      <th></th>\n",
       "      <th colspan=\"4\" halign=\"left\">total_duration</th>\n",
       "    </tr>\n",
       "    <tr>\n",
       "      <th></th>\n",
       "      <th>mean</th>\n",
       "      <th>median</th>\n",
       "      <th>var</th>\n",
       "      <th>std</th>\n",
       "    </tr>\n",
       "    <tr>\n",
       "      <th>tariff</th>\n",
       "      <th></th>\n",
       "      <th></th>\n",
       "      <th></th>\n",
       "      <th></th>\n",
       "    </tr>\n",
       "  </thead>\n",
       "  <tbody>\n",
       "    <tr>\n",
       "      <th>smart</th>\n",
       "      <td>394.43</td>\n",
       "      <td>397.98</td>\n",
       "      <td>32386.4</td>\n",
       "      <td>179.96</td>\n",
       "    </tr>\n",
       "    <tr>\n",
       "      <th>ultra</th>\n",
       "      <td>497.07</td>\n",
       "      <td>488.10</td>\n",
       "      <td>89942.5</td>\n",
       "      <td>299.90</td>\n",
       "    </tr>\n",
       "  </tbody>\n",
       "</table>\n",
       "</div>"
      ],
      "text/plain": [
       "       total_duration                         \n",
       "                 mean  median      var     std\n",
       "tariff                                        \n",
       "smart          394.43  397.98  32386.4  179.96\n",
       "ultra          497.07  488.10  89942.5  299.90"
      ]
     },
     "metadata": {},
     "output_type": "display_data"
    },
    {
     "data": {
      "image/png": "[encoded data removed]",
      "text/plain": [
       "<Figure size 1440x504 with 2 Axes>"
      ]
     },
     "metadata": {
      "needs_background": "light"
     },
     "output_type": "display_data"
    },
    {
     "data": {
      "text/html": [
       "<div>\n",
       "<style scoped>\n",
       "    .dataframe tbody tr th:only-of-type {\n",
       "        vertical-align: middle;\n",
       "    }\n",
       "\n",
       "    .dataframe tbody tr th {\n",
       "        vertical-align: top;\n",
       "    }\n",
       "\n",
       "    .dataframe thead tr th {\n",
       "        text-align: left;\n",
       "    }\n",
       "\n",
       "    .dataframe thead tr:last-of-type th {\n",
       "        text-align: right;\n",
       "    }\n",
       "</style>\n",
       "<table border=\"1\" class=\"dataframe\">\n",
       "  <thead>\n",
       "    <tr>\n",
       "      <th></th>\n",
       "      <th colspan=\"4\" halign=\"left\">number_of_messages</th>\n",
       "    </tr>\n",
       "    <tr>\n",
       "      <th></th>\n",
       "      <th>mean</th>\n",
       "      <th>median</th>\n",
       "      <th>var</th>\n",
       "      <th>std</th>\n",
       "    </tr>\n",
       "    <tr>\n",
       "      <th>tariff</th>\n",
       "      <th></th>\n",
       "      <th></th>\n",
       "      <th></th>\n",
       "      <th></th>\n",
       "    </tr>\n",
       "  </thead>\n",
       "  <tbody>\n",
       "    <tr>\n",
       "      <th>smart</th>\n",
       "      <td>33.38</td>\n",
       "      <td>28.0</td>\n",
       "      <td>796.81</td>\n",
       "      <td>28.23</td>\n",
       "    </tr>\n",
       "    <tr>\n",
       "      <th>ultra</th>\n",
       "      <td>49.36</td>\n",
       "      <td>38.0</td>\n",
       "      <td>2285.27</td>\n",
       "      <td>47.80</td>\n",
       "    </tr>\n",
       "  </tbody>\n",
       "</table>\n",
       "</div>"
      ],
      "text/plain": [
       "       number_of_messages                       \n",
       "                     mean median      var    std\n",
       "tariff                                          \n",
       "smart               33.38   28.0   796.81  28.23\n",
       "ultra               49.36   38.0  2285.27  47.80"
      ]
     },
     "metadata": {},
     "output_type": "display_data"
    },
    {
     "data": {
      "image/png": "[encoded data removed]",
      "text/plain": [
       "<Figure size 1440x504 with 2 Axes>"
      ]
     },
     "metadata": {
      "needs_background": "light"
     },
     "output_type": "display_data"
    },
    {
     "data": {
      "text/html": [
       "<div>\n",
       "<style scoped>\n",
       "    .dataframe tbody tr th:only-of-type {\n",
       "        vertical-align: middle;\n",
       "    }\n",
       "\n",
       "    .dataframe tbody tr th {\n",
       "        vertical-align: top;\n",
       "    }\n",
       "\n",
       "    .dataframe thead tr th {\n",
       "        text-align: left;\n",
       "    }\n",
       "\n",
       "    .dataframe thead tr:last-of-type th {\n",
       "        text-align: right;\n",
       "    }\n",
       "</style>\n",
       "<table border=\"1\" class=\"dataframe\">\n",
       "  <thead>\n",
       "    <tr>\n",
       "      <th></th>\n",
       "      <th colspan=\"4\" halign=\"left\">total_mb_used</th>\n",
       "    </tr>\n",
       "    <tr>\n",
       "      <th></th>\n",
       "      <th>mean</th>\n",
       "      <th>median</th>\n",
       "      <th>var</th>\n",
       "      <th>std</th>\n",
       "    </tr>\n",
       "    <tr>\n",
       "      <th>tariff</th>\n",
       "      <th></th>\n",
       "      <th></th>\n",
       "      <th></th>\n",
       "      <th></th>\n",
       "    </tr>\n",
       "  </thead>\n",
       "  <tbody>\n",
       "    <tr>\n",
       "      <th>smart</th>\n",
       "      <td>16208.39</td>\n",
       "      <td>16506.84</td>\n",
       "      <td>3.446250e+07</td>\n",
       "      <td>5870.48</td>\n",
       "    </tr>\n",
       "    <tr>\n",
       "      <th>ultra</th>\n",
       "      <td>19468.81</td>\n",
       "      <td>19308.01</td>\n",
       "      <td>1.017510e+08</td>\n",
       "      <td>10087.17</td>\n",
       "    </tr>\n",
       "  </tbody>\n",
       "</table>\n",
       "</div>"
      ],
      "text/plain": [
       "       total_mb_used                                  \n",
       "                mean    median           var       std\n",
       "tariff                                                \n",
       "smart       16208.39  16506.84  3.446250e+07   5870.48\n",
       "ultra       19468.81  19308.01  1.017510e+08  10087.17"
      ]
     },
     "metadata": {},
     "output_type": "display_data"
    },
    {
     "data": {
      "image/png": "[encoded data removed]",
      "text/plain": [
       "<Figure size 1440x504 with 2 Axes>"
      ]
     },
     "metadata": {
      "needs_background": "light"
     },
     "output_type": "display_data"
    }
   ],
   "source": [
    "parameters = ['total_duration', 'number_of_messages', 'total_mb_used']\n",
    "suptitles = ['Количество минут разговора', 'Количество сообщений', 'Объём интернет-трафика']\n",
    "for i, value in enumerate(parameters):\n",
    "    output_results(value, suptitles[i])"
   ]
  },
  {
   "cell_type": "markdown",
   "metadata": {},
   "source": [
    "**Выводы:**\n",
    "\n",
    " **1. Минуты разговора**\n",
    "\n",
    "Большинство пользователей тарифа \"Смарт\" не превышают установленного лимита по минутам разговора: при фиксированном пакете в 500 мин в среднем пользователь расходует около 400. Для тарифа \"Ультра\" признак распределен более широко: есть пользователи, которые расходуют больше 800 минут в месяц, в то же время многие и вовсе не пользуются мобильной связью.\n",
    "\n",
    "Медианное значение расхода минут/ включено в пакет:\n",
    " - тариф \"Смарт\" - 398/500;\n",
    " - тариф \"Ультра\" - 488/3000.\n",
    "\n",
    "**2. Количество сообщений**\n",
    "\n",
    "Тарифный план \"Смарт\" предусматривает небольшой пакет сообщений в размере 50 смс в противовес премиальному тарифу \"Ультра\", предлагающему своим клиентам пакет в 1000 смс. На гистограммах для обоих тарифов хорошо видны моды, соответствующие очень невысокому расходу сообщений. Как и в случае с минутами звонков, разброс потраченных смс клиентами премиального тарифа более широкий.\n",
    "\n",
    "Медианное значение расхода смс/ включено в пакет:\n",
    " - тариф \"Смарт\" - 28/50;\n",
    " - тариф \"Ультра\" - 19/1000.\n",
    "\n",
    "**3. Объём интернет-трафика**\n",
    "\n",
    "Медианное значение расхода интернет-трафика тарифа \"Смарт\" превышает установленный лимит в отличие от медианного расхода тарифа \"Ультра\". Как и для остальных услуг, разброс признака распределен более широко.\n",
    "\n",
    "Медианное значение расхода интернет-трафика/ включено в пакет:\n",
    " - тариф \"Смарт\" - 16/15;\n",
    " - тариф \"Ультра\" - 19/30."
   ]
  },
  {
   "cell_type": "markdown",
   "metadata": {},
   "source": [
    "## Проверка гипотез\n",
    "\n",
    "Проверим следующие гипотезы:\n",
    "\n",
    " - средняя выручка пользователей тарифов «Ультра» и «Смарт» различаются;\n",
    " - средняя выручка пользователи из Москвы отличается от выручки пользователей из других регионов.\n",
    "\n",
    "Проверка равенства средних двух генеральных совокупностей начинается с формулирования ***нулевой*** и ***альтернативной гипотез*** и задания уровня значимости ***α***:\n",
    "\n",
    "- $H_0$ - ***нулевая гипотеза*** - гипотеза об отсутствии статистически значимых различий в исследуемых совокупностях;\n",
    "- $H_1$ - ***альтернативная гипотеза*** - гипотеза о наличии статистически значимых различий в исследуемых совокупностях.\n",
    "\n",
    "Далее из двух генеральных совокупностей извлекаются выборки, для которых средние значения и стандартные отклонения, согласно ЦПТ, равняются средним значениям и стандартным отклонениям генеральных совокупностей. Затем оценивается вероятность того, что среднее выборки, взятой из одной генеральной совокупности, попадет в распределение средних другой совокупности. И если эта вероятность оказывается ниже установленного порогового значения, считается, что получить такой результат случайно было маловероятно, и нулевая гипотеза отвергается.\n",
    "\n",
    "### Гипотеза 1: о средней выручке тарифов\n",
    "\n",
    "1. Сформулируем нулевую и альтернативную гипотезы:\n",
    "\n",
    "- $H_0$ - средняя выручка пользователей тарифов «Ультра» и «Смарт» равны;\n",
    "- $H_1$ - средняя выручка пользователей тарифов «Ультра» и «Смарт» различаются.\n",
    "\n",
    "2. Зададим уровень статистической значимости, равным 0,05: ***α = 0,05***.\n",
    "\n",
    "3. Проверим гипотезу\n"
   ]
  },
  {
   "cell_type": "code",
   "execution_count": 51,
   "metadata": {},
   "outputs": [
    {
     "name": "stdout",
     "output_type": "stream",
     "text": [
      "p-значение:  1.5680720243601638e-77\n",
      "Отвергаем нулевую гипотезу\n"
     ]
    }
   ],
   "source": [
    "revenue_smart = (all_pivot[all_pivot['tariff']=='smart']\n",
    "                 .groupby('user_id')['revenue'].agg('median')) # сводная таблица со средней выручкой пользователй \"Смарт\"\n",
    "\n",
    "revenue_ultra = (all_pivot[all_pivot['tariff']=='ultra']\n",
    "                 .groupby('user_id')['revenue'].agg('median')) # сводная таблица со средней выручкой пользователй \"Ультра\"\n",
    "\n",
    "\n",
    "alpha = 0.05 # критический уровень статистической значимости\n",
    "\n",
    "results = st.ttest_ind(revenue_smart, \n",
    "             revenue_ultra,\n",
    "             equal_var = False)\n",
    "\n",
    "print('p-значение: ', results.pvalue)\n",
    "\n",
    "if results.pvalue < alpha:\n",
    "    print(\"Отвергаем нулевую гипотезу\")\n",
    "else:\n",
    "    print(\"Не получилось отвергнуть нулевую гипотезу\") "
   ]
  },
  {
   "cell_type": "markdown",
   "metadata": {},
   "source": [
    "Посмотрим описательную статистику по выручке пользователей обоих тарифов."
   ]
  },
  {
   "cell_type": "code",
   "execution_count": 52,
   "metadata": {},
   "outputs": [
    {
     "data": {
      "text/plain": [
       "'Описательная статистика по выручке пользователей тарифа \"Смарт\"'"
      ]
     },
     "metadata": {},
     "output_type": "display_data"
    },
    {
     "data": {
      "text/html": [
       "<div>\n",
       "<style scoped>\n",
       "    .dataframe tbody tr th:only-of-type {\n",
       "        vertical-align: middle;\n",
       "    }\n",
       "\n",
       "    .dataframe tbody tr th {\n",
       "        vertical-align: top;\n",
       "    }\n",
       "\n",
       "    .dataframe thead th {\n",
       "        text-align: right;\n",
       "    }\n",
       "</style>\n",
       "<table border=\"1\" class=\"dataframe\">\n",
       "  <thead>\n",
       "    <tr style=\"text-align: right;\">\n",
       "      <th></th>\n",
       "      <th>index</th>\n",
       "      <th>revenue</th>\n",
       "    </tr>\n",
       "  </thead>\n",
       "  <tbody>\n",
       "    <tr>\n",
       "      <th>0</th>\n",
       "      <td>count</td>\n",
       "      <td>2229.000000</td>\n",
       "    </tr>\n",
       "    <tr>\n",
       "      <th>1</th>\n",
       "      <td>mean</td>\n",
       "      <td>1147.756842</td>\n",
       "    </tr>\n",
       "    <tr>\n",
       "      <th>2</th>\n",
       "      <td>std</td>\n",
       "      <td>736.563904</td>\n",
       "    </tr>\n",
       "    <tr>\n",
       "      <th>3</th>\n",
       "      <td>min</td>\n",
       "      <td>550.000000</td>\n",
       "    </tr>\n",
       "    <tr>\n",
       "      <th>4</th>\n",
       "      <td>25%</td>\n",
       "      <td>550.000000</td>\n",
       "    </tr>\n",
       "    <tr>\n",
       "      <th>5</th>\n",
       "      <td>50%</td>\n",
       "      <td>950.000000</td>\n",
       "    </tr>\n",
       "    <tr>\n",
       "      <th>6</th>\n",
       "      <td>75%</td>\n",
       "      <td>1550.000000</td>\n",
       "    </tr>\n",
       "    <tr>\n",
       "      <th>7</th>\n",
       "      <td>max</td>\n",
       "      <td>5150.000000</td>\n",
       "    </tr>\n",
       "  </tbody>\n",
       "</table>\n",
       "</div>"
      ],
      "text/plain": [
       "   index      revenue\n",
       "0  count  2229.000000\n",
       "1   mean  1147.756842\n",
       "2    std   736.563904\n",
       "3    min   550.000000\n",
       "4    25%   550.000000\n",
       "5    50%   950.000000\n",
       "6    75%  1550.000000\n",
       "7    max  5150.000000"
      ]
     },
     "metadata": {},
     "output_type": "display_data"
    },
    {
     "data": {
      "text/plain": [
       "'Описательная статистика по выручке пользователей тарифа \"Ультра\"'"
      ]
     },
     "metadata": {},
     "output_type": "display_data"
    },
    {
     "data": {
      "text/html": [
       "<div>\n",
       "<style scoped>\n",
       "    .dataframe tbody tr th:only-of-type {\n",
       "        vertical-align: middle;\n",
       "    }\n",
       "\n",
       "    .dataframe tbody tr th {\n",
       "        vertical-align: top;\n",
       "    }\n",
       "\n",
       "    .dataframe thead th {\n",
       "        text-align: right;\n",
       "    }\n",
       "</style>\n",
       "<table border=\"1\" class=\"dataframe\">\n",
       "  <thead>\n",
       "    <tr style=\"text-align: right;\">\n",
       "      <th></th>\n",
       "      <th>index</th>\n",
       "      <th>revenue</th>\n",
       "    </tr>\n",
       "  </thead>\n",
       "  <tbody>\n",
       "    <tr>\n",
       "      <th>0</th>\n",
       "      <td>count</td>\n",
       "      <td>985.000000</td>\n",
       "    </tr>\n",
       "    <tr>\n",
       "      <th>1</th>\n",
       "      <td>mean</td>\n",
       "      <td>2070.152284</td>\n",
       "    </tr>\n",
       "    <tr>\n",
       "      <th>2</th>\n",
       "      <td>std</td>\n",
       "      <td>376.187114</td>\n",
       "    </tr>\n",
       "    <tr>\n",
       "      <th>3</th>\n",
       "      <td>min</td>\n",
       "      <td>1950.000000</td>\n",
       "    </tr>\n",
       "    <tr>\n",
       "      <th>4</th>\n",
       "      <td>25%</td>\n",
       "      <td>1950.000000</td>\n",
       "    </tr>\n",
       "    <tr>\n",
       "      <th>5</th>\n",
       "      <td>50%</td>\n",
       "      <td>1950.000000</td>\n",
       "    </tr>\n",
       "    <tr>\n",
       "      <th>6</th>\n",
       "      <td>75%</td>\n",
       "      <td>1950.000000</td>\n",
       "    </tr>\n",
       "    <tr>\n",
       "      <th>7</th>\n",
       "      <td>max</td>\n",
       "      <td>4800.000000</td>\n",
       "    </tr>\n",
       "  </tbody>\n",
       "</table>\n",
       "</div>"
      ],
      "text/plain": [
       "   index      revenue\n",
       "0  count   985.000000\n",
       "1   mean  2070.152284\n",
       "2    std   376.187114\n",
       "3    min  1950.000000\n",
       "4    25%  1950.000000\n",
       "5    50%  1950.000000\n",
       "6    75%  1950.000000\n",
       "7    max  4800.000000"
      ]
     },
     "metadata": {},
     "output_type": "display_data"
    }
   ],
   "source": [
    "display('Описательная статистика по выручке пользователей тарифа \"Смарт\"',\n",
    "        all_pivot[all_pivot['tariff']=='smart']['revenue'].describe().reset_index())\n",
    "display()\n",
    "display('Описательная статистика по выручке пользователей тарифа \"Ультра\"',\n",
    "        all_pivot[all_pivot['tariff']=='ultra']['revenue'].describe().reset_index())"
   ]
  },
  {
   "cell_type": "markdown",
   "metadata": {},
   "source": [
    "Для наглядности построим диаграммы размаха для средней выручки пользователей обоих тарифов:"
   ]
  },
  {
   "cell_type": "code",
   "execution_count": 53,
   "metadata": {},
   "outputs": [
    {
     "data": {
      "image/png": "[encoded data removed]",
      "text/plain": [
       "<Figure size 1440x504 with 2 Axes>"
      ]
     },
     "metadata": {
      "needs_background": "light"
     },
     "output_type": "display_data"
    }
   ],
   "source": [
    "def plot_graphs(parameter):\n",
    "    \n",
    "    fig, axes = plt.subplots(1, 2, figsize=(20, 7))\n",
    "\n",
    "    sns.histplot(data=all_pivot, x='revenue', hue=parameter, ax=axes[0])\n",
    "    axes[0].set_title('Гистограмма', y=1.05, fontsize=18)\n",
    "    axes[0].set_xlabel('Выручка', fontsize=14)\n",
    "    axes[0].set_ylabel('Частота встречаемости значения', fontsize=14)\n",
    "    plt.setp(axes[0].get_legend().get_texts(), fontsize='14') \n",
    "    plt.setp(axes[0].get_legend().get_title(), fontsize='16')\n",
    "\n",
    "    sns.boxplot(x=parameter, y='revenue', data=all_pivot, ax=axes[1])\n",
    "    axes[1].set_title('Диаграмма размаха', y=1.05, fontsize=18)\n",
    "    axes[1].set_xlabel('Тариф', fontsize=14)\n",
    "    axes[1].set_ylabel('Выручка', fontsize=14)\n",
    "\n",
    "    fig.suptitle('Выручка от пользоватлей', y=1.1, fontsize=24)\n",
    "\n",
    "    plt.tight_layout()\n",
    "    plt.show()\n",
    "    \n",
    "plot_graphs('tariff')"
   ]
  },
  {
   "cell_type": "markdown",
   "metadata": {},
   "source": [
    "**Вывод**\n",
    "\n",
    "Полученное значение p-value значительно меньше принятого уровня значимости значимости **α**, что дает основание отвергнуть нулевую гипотезу $H_0$. Как видно из диаграммы размаха, такая низка вероятность связана с тем, что 75% пользователей тарифа \"Смарт\" тратят меньше фиксированной абонентской платы тарифа \"Ультра\". Еще из таблицы с описательной статистикой по выручке можно заметить, что 3/4 пользователей тарифа \"Смарт\" не укладываются в стандартный пакет услуг. Большинство же пользователей тарифа \"Ультра\" не превышают установленных тарифных лимитов.\n",
    "\n",
    "\n",
    "### Гипотеза 2: о выручке пользователей разных регионов\n",
    "\n",
    "1. Сформулируем нулевую и альтернативную гипотезы:\n",
    "\n",
    "- $H_0$ - средняя выручка от пользователей из Москвы и выручка от пользователей из других регионов одинаковы;\n",
    "- $H_1$ - средняя выручка от пользователей из Москвы не равна выручке клиентов из регионов.\n",
    "\n",
    "2. Зададим уровень статистической значимости, равным 0,05: ***α = 0,05***.\n",
    "\n",
    "3. Проверим гипотезу\n",
    "\n",
    "Для начала добавим в итоговую таблицу `all_pivot` столбец, содержащий информацию о городах проживания пользователей. "
   ]
  },
  {
   "cell_type": "code",
   "execution_count": 54,
   "metadata": {},
   "outputs": [
    {
     "data": {
      "text/html": [
       "<div>\n",
       "<style scoped>\n",
       "    .dataframe tbody tr th:only-of-type {\n",
       "        vertical-align: middle;\n",
       "    }\n",
       "\n",
       "    .dataframe tbody tr th {\n",
       "        vertical-align: top;\n",
       "    }\n",
       "\n",
       "    .dataframe thead th {\n",
       "        text-align: right;\n",
       "    }\n",
       "</style>\n",
       "<table border=\"1\" class=\"dataframe\">\n",
       "  <thead>\n",
       "    <tr style=\"text-align: right;\">\n",
       "      <th></th>\n",
       "      <th>user_id</th>\n",
       "      <th>tariff</th>\n",
       "      <th>month</th>\n",
       "      <th>number_of_calls</th>\n",
       "      <th>total_duration</th>\n",
       "      <th>number_of_messages</th>\n",
       "      <th>total_mb_used</th>\n",
       "      <th>rub_monthly_fee</th>\n",
       "      <th>revenue</th>\n",
       "      <th>city</th>\n",
       "      <th>is_moscow</th>\n",
       "    </tr>\n",
       "  </thead>\n",
       "  <tbody>\n",
       "    <tr>\n",
       "      <th>566</th>\n",
       "      <td>1089</td>\n",
       "      <td>ultra</td>\n",
       "      <td>12</td>\n",
       "      <td>62.0</td>\n",
       "      <td>448.41</td>\n",
       "      <td>143.0</td>\n",
       "      <td>16369.41</td>\n",
       "      <td>1950</td>\n",
       "      <td>1950.0</td>\n",
       "      <td>иркутск</td>\n",
       "      <td>False</td>\n",
       "    </tr>\n",
       "    <tr>\n",
       "      <th>386</th>\n",
       "      <td>1061</td>\n",
       "      <td>smart</td>\n",
       "      <td>9</td>\n",
       "      <td>77.0</td>\n",
       "      <td>530.20</td>\n",
       "      <td>8.0</td>\n",
       "      <td>18582.97</td>\n",
       "      <td>550</td>\n",
       "      <td>1350.0</td>\n",
       "      <td>санкт-петербург</td>\n",
       "      <td>False</td>\n",
       "    </tr>\n",
       "    <tr>\n",
       "      <th>393</th>\n",
       "      <td>1063</td>\n",
       "      <td>ultra</td>\n",
       "      <td>5</td>\n",
       "      <td>120.0</td>\n",
       "      <td>666.90</td>\n",
       "      <td>0.0</td>\n",
       "      <td>21547.26</td>\n",
       "      <td>1950</td>\n",
       "      <td>1950.0</td>\n",
       "      <td>тула</td>\n",
       "      <td>False</td>\n",
       "    </tr>\n",
       "  </tbody>\n",
       "</table>\n",
       "</div>"
      ],
      "text/plain": [
       "     user_id tariff  month  number_of_calls  total_duration  \\\n",
       "566     1089  ultra     12             62.0          448.41   \n",
       "386     1061  smart      9             77.0          530.20   \n",
       "393     1063  ultra      5            120.0          666.90   \n",
       "\n",
       "     number_of_messages  total_mb_used  rub_monthly_fee  revenue  \\\n",
       "566               143.0       16369.41             1950   1950.0   \n",
       "386                 8.0       18582.97              550   1350.0   \n",
       "393                 0.0       21547.26             1950   1950.0   \n",
       "\n",
       "                city  is_moscow  \n",
       "566          иркутск      False  \n",
       "386  санкт-петербург      False  \n",
       "393             тула      False  "
      ]
     },
     "execution_count": 54,
     "metadata": {},
     "output_type": "execute_result"
    }
   ],
   "source": [
    "all_pivot = all_pivot.merge(users[['user_id', 'city']], how='left', on='user_id')\n",
    "all_pivot['is_moscow'] = all_pivot['city']=='москва'\n",
    "all_pivot.sample(3)"
   ]
  },
  {
   "cell_type": "code",
   "execution_count": 55,
   "metadata": {},
   "outputs": [
    {
     "name": "stdout",
     "output_type": "stream",
     "text": [
      "p-значение:  0.39708629391742856\n",
      "Не получилось отвергнуть нулевую гипотезу\n"
     ]
    }
   ],
   "source": [
    "revenue_moscow = (all_pivot[all_pivot['city']=='москва']\n",
    "                 .groupby('user_id')['revenue'].agg('median')) # сводная таблица со средней выручкой пользователй из Москвы\n",
    "\n",
    "revenue_regions = (all_pivot[all_pivot['city']!='москва']\n",
    "                 .groupby('user_id')['revenue'].agg('median')) # сводная таблица со средней выручкой пользователй из регионов\n",
    "\n",
    "alpha = 0.05 # критический уровень статистической значимости\n",
    "\n",
    "results = st.ttest_ind(revenue_moscow, \n",
    "             revenue_regions,\n",
    "             equal_var = False)\n",
    "\n",
    "print('p-значение: ', results.pvalue)\n",
    "\n",
    "if results.pvalue < alpha:\n",
    "    print(\"Отвергаем нулевую гипотезу\")\n",
    "else:\n",
    "    print(\"Не получилось отвергнуть нулевую гипотезу\") "
   ]
  },
  {
   "cell_type": "markdown",
   "metadata": {},
   "source": [
    "Посмотрим описательную статистику по выручке пользователей из Москвы и регионов."
   ]
  },
  {
   "cell_type": "code",
   "execution_count": 56,
   "metadata": {},
   "outputs": [
    {
     "data": {
      "text/plain": [
       "'Описательная статистика по выручке пользователей из Москвы'"
      ]
     },
     "metadata": {},
     "output_type": "display_data"
    },
    {
     "data": {
      "text/html": [
       "<div>\n",
       "<style scoped>\n",
       "    .dataframe tbody tr th:only-of-type {\n",
       "        vertical-align: middle;\n",
       "    }\n",
       "\n",
       "    .dataframe tbody tr th {\n",
       "        vertical-align: top;\n",
       "    }\n",
       "\n",
       "    .dataframe thead th {\n",
       "        text-align: right;\n",
       "    }\n",
       "</style>\n",
       "<table border=\"1\" class=\"dataframe\">\n",
       "  <thead>\n",
       "    <tr style=\"text-align: right;\">\n",
       "      <th></th>\n",
       "      <th>index</th>\n",
       "      <th>revenue</th>\n",
       "    </tr>\n",
       "  </thead>\n",
       "  <tbody>\n",
       "    <tr>\n",
       "      <th>0</th>\n",
       "      <td>count</td>\n",
       "      <td>611.000000</td>\n",
       "    </tr>\n",
       "    <tr>\n",
       "      <th>1</th>\n",
       "      <td>mean</td>\n",
       "      <td>1464.402619</td>\n",
       "    </tr>\n",
       "    <tr>\n",
       "      <th>2</th>\n",
       "      <td>std</td>\n",
       "      <td>750.517042</td>\n",
       "    </tr>\n",
       "    <tr>\n",
       "      <th>3</th>\n",
       "      <td>min</td>\n",
       "      <td>550.000000</td>\n",
       "    </tr>\n",
       "    <tr>\n",
       "      <th>4</th>\n",
       "      <td>25%</td>\n",
       "      <td>550.000000</td>\n",
       "    </tr>\n",
       "    <tr>\n",
       "      <th>5</th>\n",
       "      <td>50%</td>\n",
       "      <td>1750.000000</td>\n",
       "    </tr>\n",
       "    <tr>\n",
       "      <th>6</th>\n",
       "      <td>75%</td>\n",
       "      <td>1950.000000</td>\n",
       "    </tr>\n",
       "    <tr>\n",
       "      <th>7</th>\n",
       "      <td>max</td>\n",
       "      <td>4550.000000</td>\n",
       "    </tr>\n",
       "  </tbody>\n",
       "</table>\n",
       "</div>"
      ],
      "text/plain": [
       "   index      revenue\n",
       "0  count   611.000000\n",
       "1   mean  1464.402619\n",
       "2    std   750.517042\n",
       "3    min   550.000000\n",
       "4    25%   550.000000\n",
       "5    50%  1750.000000\n",
       "6    75%  1950.000000\n",
       "7    max  4550.000000"
      ]
     },
     "metadata": {},
     "output_type": "display_data"
    },
    {
     "data": {
      "text/plain": [
       "'Описательная статистика по выручке пользователей из регионов'"
      ]
     },
     "metadata": {},
     "output_type": "display_data"
    },
    {
     "data": {
      "text/html": [
       "<div>\n",
       "<style scoped>\n",
       "    .dataframe tbody tr th:only-of-type {\n",
       "        vertical-align: middle;\n",
       "    }\n",
       "\n",
       "    .dataframe tbody tr th {\n",
       "        vertical-align: top;\n",
       "    }\n",
       "\n",
       "    .dataframe thead th {\n",
       "        text-align: right;\n",
       "    }\n",
       "</style>\n",
       "<table border=\"1\" class=\"dataframe\">\n",
       "  <thead>\n",
       "    <tr style=\"text-align: right;\">\n",
       "      <th></th>\n",
       "      <th>index</th>\n",
       "      <th>revenue</th>\n",
       "    </tr>\n",
       "  </thead>\n",
       "  <tbody>\n",
       "    <tr>\n",
       "      <th>0</th>\n",
       "      <td>count</td>\n",
       "      <td>2603.000000</td>\n",
       "    </tr>\n",
       "    <tr>\n",
       "      <th>1</th>\n",
       "      <td>mean</td>\n",
       "      <td>1422.474068</td>\n",
       "    </tr>\n",
       "    <tr>\n",
       "      <th>2</th>\n",
       "      <td>std</td>\n",
       "      <td>780.415858</td>\n",
       "    </tr>\n",
       "    <tr>\n",
       "      <th>3</th>\n",
       "      <td>min</td>\n",
       "      <td>550.000000</td>\n",
       "    </tr>\n",
       "    <tr>\n",
       "      <th>4</th>\n",
       "      <td>25%</td>\n",
       "      <td>550.000000</td>\n",
       "    </tr>\n",
       "    <tr>\n",
       "      <th>5</th>\n",
       "      <td>50%</td>\n",
       "      <td>1350.000000</td>\n",
       "    </tr>\n",
       "    <tr>\n",
       "      <th>6</th>\n",
       "      <td>75%</td>\n",
       "      <td>1950.000000</td>\n",
       "    </tr>\n",
       "    <tr>\n",
       "      <th>7</th>\n",
       "      <td>max</td>\n",
       "      <td>5150.000000</td>\n",
       "    </tr>\n",
       "  </tbody>\n",
       "</table>\n",
       "</div>"
      ],
      "text/plain": [
       "   index      revenue\n",
       "0  count  2603.000000\n",
       "1   mean  1422.474068\n",
       "2    std   780.415858\n",
       "3    min   550.000000\n",
       "4    25%   550.000000\n",
       "5    50%  1350.000000\n",
       "6    75%  1950.000000\n",
       "7    max  5150.000000"
      ]
     },
     "metadata": {},
     "output_type": "display_data"
    }
   ],
   "source": [
    "display('Описательная статистика по выручке пользователей из Москвы', \n",
    "        all_pivot[all_pivot['city']=='москва']['revenue'].describe().reset_index())\n",
    "display()\n",
    "display('Описательная статистика по выручке пользователей из регионов', \n",
    "        all_pivot[all_pivot['city']!='москва']['revenue'].describe().reset_index())"
   ]
  },
  {
   "cell_type": "code",
   "execution_count": 57,
   "metadata": {},
   "outputs": [
    {
     "data": {
      "image/png": "[encoded data removed]",
      "text/plain": [
       "<Figure size 1440x504 with 2 Axes>"
      ]
     },
     "metadata": {
      "needs_background": "light"
     },
     "output_type": "display_data"
    }
   ],
   "source": [
    "plot_graphs('is_moscow')"
   ]
  },
  {
   "cell_type": "markdown",
   "metadata": {},
   "source": [
    "**Вывод**\n",
    "\n",
    "Полученное значение **p-value**, равное 0.397, больше принятого уровня значимости значимости **α**, что не дает оснований отвергнуть нулевую гипотезу $H_0$ о равенстве выручек от пользователей из Москвы и регионов. На гистограммах хорошо видны моды, соответствующие ежемесячной абоненсткой плате. Характер распределений выручки от пользователей Москвы и регионов схож.\n",
    "\n",
    "Итак, по результатам проведенных расчетов можно сделать следующие **выводы**:\n",
    "\n",
    "- Выручка от пользователей тарифов \"Смарт\" и \"Ультра\" отличаются;\n",
    "- Разница доходов от пользователей из Москвы и из регионов статистически не значима.\n",
    "\n",
    "## Общие выводы\n",
    "\n",
    "1. В ходе исследовательского анализа поведения пользователей двух тарифных планов \"Смарт\" и \"Ультра\" было обнаружено, что клиенты премиального тарифа имеют более разнообразный профиль расходов на мобильную связь, например, могут практически не пользоваться пакетом услуг, при этом продолжая платить высокую абонентскую плату. В целом, по основным показателям средняя активность пользователей тарифа \"Ультра\" выше:\n",
    "\n",
    "- Медианное значение расхода **минут разговора**/ включено в пакет:\n",
    "\n",
    " - тариф \"Смарт\" - 398/500;\n",
    " - тариф \"Ультра\" - 488/3000.\n",
    "\n",
    "- Медианное значение **количества сообщений**/ включено в пакет:\n",
    "\n",
    " - тариф \"Смарт\" - 28/50;\n",
    " - тариф \"Ультра\" - 19/1000.\n",
    "\n",
    "- Медианное значение **объёма интернет-трафика**/ включено в пакет:\n",
    " - тариф \"Смарт\" - 16/15;\n",
    " - тариф \"Ультра\" - 19/30. \n",
    "\n",
    "2. Пользователи тарифа \"Смарт\" часто не укладываются в стандартный пакет услуг. Однако, мало кому из выборки переход на тариф \"Ультра\" позволил бы сэкономить деньги.\n",
    "\n",
    "3. Объем пакетов минут и сообщений в тарифе \"Ультра\" избыточен - большинство пользователей не используют и половины. \n",
    "\n",
    "4. Наибольший доход в среднем приносят абоненты \"Ультра\", особенно учитывая то, что они редко пользуются тарифом полноценно.\n",
    "\n",
    "5. Разница доходов от пользователей из Москвы и из регионов статистически не значима."
   ]
  }
 ],
 "metadata": {
  "ExecuteTimeLog": [
   {
    "duration": 6566,
    "start_time": "2022-02-13T15:10:17.910Z"
   },
   {
    "duration": 100,
    "start_time": "2022-02-13T15:14:01.784Z"
   },
   {
    "duration": 544,
    "start_time": "2022-02-13T15:14:16.841Z"
   },
   {
    "duration": 8,
    "start_time": "2022-02-13T15:15:52.163Z"
   },
   {
    "duration": 85,
    "start_time": "2022-02-13T15:16:37.797Z"
   },
   {
    "duration": 100,
    "start_time": "2022-02-13T15:17:24.907Z"
   },
   {
    "duration": 714,
    "start_time": "2022-02-13T15:31:08.783Z"
   },
   {
    "duration": 412,
    "start_time": "2022-02-13T15:35:52.200Z"
   },
   {
    "duration": 1582,
    "start_time": "2022-02-13T15:38:23.249Z"
   },
   {
    "duration": 431,
    "start_time": "2022-02-13T15:39:14.573Z"
   },
   {
    "duration": 1408,
    "start_time": "2022-02-13T15:42:37.973Z"
   },
   {
    "duration": 12,
    "start_time": "2022-02-13T15:42:59.075Z"
   },
   {
    "duration": 12,
    "start_time": "2022-02-13T15:43:09.577Z"
   },
   {
    "duration": 1038,
    "start_time": "2022-02-13T15:43:12.381Z"
   },
   {
    "duration": 11,
    "start_time": "2022-02-13T15:43:22.126Z"
   },
   {
    "duration": 13,
    "start_time": "2022-02-13T15:43:31.470Z"
   },
   {
    "duration": 5906,
    "start_time": "2022-02-13T15:44:13.619Z"
   },
   {
    "duration": 524,
    "start_time": "2022-02-13T15:44:19.528Z"
   },
   {
    "duration": 8,
    "start_time": "2022-02-13T15:44:20.055Z"
   },
   {
    "duration": 419,
    "start_time": "2022-02-13T15:44:20.065Z"
   },
   {
    "duration": 914,
    "start_time": "2022-02-13T15:44:20.487Z"
   },
   {
    "duration": 325,
    "start_time": "2022-02-13T15:44:21.403Z"
   },
   {
    "duration": 454,
    "start_time": "2022-02-13T15:44:21.731Z"
   },
   {
    "duration": 107,
    "start_time": "2022-02-13T15:44:22.189Z"
   },
   {
    "duration": 244,
    "start_time": "2022-02-13T15:44:22.298Z"
   },
   {
    "duration": 463,
    "start_time": "2022-02-13T15:51:13.538Z"
   },
   {
    "duration": 148,
    "start_time": "2022-02-13T15:54:30.100Z"
   },
   {
    "duration": 5709,
    "start_time": "2022-02-13T15:55:10.386Z"
   },
   {
    "duration": 556,
    "start_time": "2022-02-13T15:55:16.098Z"
   },
   {
    "duration": 8,
    "start_time": "2022-02-13T15:55:16.657Z"
   },
   {
    "duration": 562,
    "start_time": "2022-02-13T15:55:16.669Z"
   },
   {
    "duration": 1031,
    "start_time": "2022-02-13T15:55:17.234Z"
   },
   {
    "duration": 342,
    "start_time": "2022-02-13T15:55:18.270Z"
   },
   {
    "duration": 538,
    "start_time": "2022-02-13T15:55:18.614Z"
   },
   {
    "duration": 88,
    "start_time": "2022-02-13T15:55:19.155Z"
   },
   {
    "duration": 995,
    "start_time": "2022-02-13T15:55:19.246Z"
   },
   {
    "duration": 156,
    "start_time": "2022-02-13T15:55:20.244Z"
   },
   {
    "duration": 144,
    "start_time": "2022-02-13T16:27:55.965Z"
   },
   {
    "duration": 20,
    "start_time": "2022-02-13T16:28:02.511Z"
   },
   {
    "duration": 19,
    "start_time": "2022-02-13T16:38:13.961Z"
   },
   {
    "duration": 32,
    "start_time": "2022-02-13T16:38:44.229Z"
   },
   {
    "duration": 20,
    "start_time": "2022-02-13T16:38:47.918Z"
   },
   {
    "duration": 34,
    "start_time": "2022-02-13T16:40:06.776Z"
   },
   {
    "duration": 48,
    "start_time": "2022-02-13T16:41:03.176Z"
   },
   {
    "duration": 5459,
    "start_time": "2022-02-13T16:41:32.835Z"
   },
   {
    "duration": 532,
    "start_time": "2022-02-13T16:41:38.297Z"
   },
   {
    "duration": 8,
    "start_time": "2022-02-13T16:41:38.833Z"
   },
   {
    "duration": 332,
    "start_time": "2022-02-13T16:41:38.843Z"
   },
   {
    "duration": 779,
    "start_time": "2022-02-13T16:41:39.178Z"
   },
   {
    "duration": 368,
    "start_time": "2022-02-13T16:41:39.960Z"
   },
   {
    "duration": 414,
    "start_time": "2022-02-13T16:41:40.331Z"
   },
   {
    "duration": 81,
    "start_time": "2022-02-13T16:41:40.748Z"
   },
   {
    "duration": 575,
    "start_time": "2022-02-13T16:41:40.831Z"
   },
   {
    "duration": 212,
    "start_time": "2022-02-13T16:41:41.409Z"
   },
   {
    "duration": 94,
    "start_time": "2022-02-13T16:41:41.624Z"
   },
   {
    "duration": 641,
    "start_time": "2022-02-13T16:43:09.412Z"
   },
   {
    "duration": 479,
    "start_time": "2022-02-13T16:43:14.826Z"
   },
   {
    "duration": 128,
    "start_time": "2022-02-13T16:43:19.408Z"
   },
   {
    "duration": 37,
    "start_time": "2022-02-13T16:43:23.190Z"
   },
   {
    "duration": 5150,
    "start_time": "2022-02-13T16:45:44.417Z"
   },
   {
    "duration": 539,
    "start_time": "2022-02-13T16:45:49.571Z"
   },
   {
    "duration": 10,
    "start_time": "2022-02-13T16:45:50.114Z"
   },
   {
    "duration": 373,
    "start_time": "2022-02-13T16:45:50.127Z"
   },
   {
    "duration": 859,
    "start_time": "2022-02-13T16:45:50.503Z"
   },
   {
    "duration": 379,
    "start_time": "2022-02-13T16:45:51.370Z"
   },
   {
    "duration": 472,
    "start_time": "2022-02-13T16:45:51.751Z"
   },
   {
    "duration": 96,
    "start_time": "2022-02-13T16:45:52.228Z"
   },
   {
    "duration": 524,
    "start_time": "2022-02-13T16:45:52.327Z"
   },
   {
    "duration": 221,
    "start_time": "2022-02-13T16:45:52.854Z"
   },
   {
    "duration": 43,
    "start_time": "2022-02-13T16:45:53.078Z"
   },
   {
    "duration": 686,
    "start_time": "2022-02-13T16:45:53.124Z"
   },
   {
    "duration": 27,
    "start_time": "2022-02-13T16:46:38.086Z"
   },
   {
    "duration": 305,
    "start_time": "2022-02-13T16:50:41.922Z"
   },
   {
    "duration": 57,
    "start_time": "2022-02-13T16:51:25.172Z"
   },
   {
    "duration": 17,
    "start_time": "2022-02-13T16:51:26.713Z"
   },
   {
    "duration": 18,
    "start_time": "2022-02-13T16:53:43.720Z"
   },
   {
    "duration": 51,
    "start_time": "2022-02-13T16:55:16.533Z"
   },
   {
    "duration": 62,
    "start_time": "2022-02-13T16:55:32.446Z"
   },
   {
    "duration": 41,
    "start_time": "2022-02-13T16:55:48.725Z"
   },
   {
    "duration": 21,
    "start_time": "2022-02-13T16:56:58.357Z"
   },
   {
    "duration": 51,
    "start_time": "2022-02-13T16:58:54.550Z"
   },
   {
    "duration": 48,
    "start_time": "2022-02-13T16:58:59.893Z"
   },
   {
    "duration": 5209,
    "start_time": "2022-02-13T17:00:16.956Z"
   },
   {
    "duration": 565,
    "start_time": "2022-02-13T17:00:22.169Z"
   },
   {
    "duration": 8,
    "start_time": "2022-02-13T17:00:22.737Z"
   },
   {
    "duration": 348,
    "start_time": "2022-02-13T17:00:22.748Z"
   },
   {
    "duration": 873,
    "start_time": "2022-02-13T17:00:23.099Z"
   },
   {
    "duration": 339,
    "start_time": "2022-02-13T17:00:23.975Z"
   },
   {
    "duration": 437,
    "start_time": "2022-02-13T17:00:24.317Z"
   },
   {
    "duration": 117,
    "start_time": "2022-02-13T17:00:24.758Z"
   },
   {
    "duration": 531,
    "start_time": "2022-02-13T17:00:24.877Z"
   },
   {
    "duration": 205,
    "start_time": "2022-02-13T17:00:25.411Z"
   },
   {
    "duration": 87,
    "start_time": "2022-02-13T17:00:25.619Z"
   },
   {
    "duration": 321,
    "start_time": "2022-02-13T17:00:25.709Z"
   },
   {
    "duration": 291,
    "start_time": "2022-02-13T17:00:26.032Z"
   },
   {
    "duration": 471,
    "start_time": "2022-02-13T17:04:34.247Z"
   },
   {
    "duration": 12,
    "start_time": "2022-02-13T17:04:39.494Z"
   },
   {
    "duration": 12,
    "start_time": "2022-02-13T17:10:09.889Z"
   },
   {
    "duration": 52,
    "start_time": "2022-02-13T17:12:22.644Z"
   },
   {
    "duration": 5524,
    "start_time": "2022-02-13T17:17:13.417Z"
   },
   {
    "duration": 536,
    "start_time": "2022-02-13T17:17:18.945Z"
   },
   {
    "duration": 8,
    "start_time": "2022-02-13T17:17:19.484Z"
   },
   {
    "duration": 292,
    "start_time": "2022-02-13T17:17:19.494Z"
   },
   {
    "duration": 798,
    "start_time": "2022-02-13T17:17:19.789Z"
   },
   {
    "duration": 363,
    "start_time": "2022-02-13T17:17:20.589Z"
   },
   {
    "duration": 466,
    "start_time": "2022-02-13T17:17:20.971Z"
   },
   {
    "duration": 92,
    "start_time": "2022-02-13T17:17:21.441Z"
   },
   {
    "duration": 580,
    "start_time": "2022-02-13T17:17:21.536Z"
   },
   {
    "duration": 219,
    "start_time": "2022-02-13T17:17:22.119Z"
   },
   {
    "duration": 206,
    "start_time": "2022-02-13T17:17:22.341Z"
   },
   {
    "duration": 166,
    "start_time": "2022-02-13T17:17:22.550Z"
   },
   {
    "duration": 389,
    "start_time": "2022-02-13T17:17:22.718Z"
   },
   {
    "duration": 611,
    "start_time": "2022-02-13T17:17:23.109Z"
   },
   {
    "duration": 5535,
    "start_time": "2022-02-13T17:18:45.764Z"
   },
   {
    "duration": 554,
    "start_time": "2022-02-13T17:18:51.302Z"
   },
   {
    "duration": 10,
    "start_time": "2022-02-13T17:18:51.860Z"
   },
   {
    "duration": 405,
    "start_time": "2022-02-13T17:18:51.874Z"
   },
   {
    "duration": 815,
    "start_time": "2022-02-13T17:18:52.282Z"
   },
   {
    "duration": 324,
    "start_time": "2022-02-13T17:18:53.100Z"
   },
   {
    "duration": 644,
    "start_time": "2022-02-13T17:18:53.426Z"
   },
   {
    "duration": 108,
    "start_time": "2022-02-13T17:18:54.076Z"
   },
   {
    "duration": 614,
    "start_time": "2022-02-13T17:18:54.187Z"
   },
   {
    "duration": 211,
    "start_time": "2022-02-13T17:18:54.803Z"
   },
   {
    "duration": 194,
    "start_time": "2022-02-13T17:18:55.017Z"
   },
   {
    "duration": 171,
    "start_time": "2022-02-13T17:18:55.215Z"
   },
   {
    "duration": 206,
    "start_time": "2022-02-13T17:18:55.389Z"
   },
   {
    "duration": 6966,
    "start_time": "2022-02-13T17:18:55.598Z"
   },
   {
    "duration": 38,
    "start_time": "2022-02-13T17:19:17.720Z"
   },
   {
    "duration": 23,
    "start_time": "2022-02-13T17:21:03.902Z"
   },
   {
    "duration": 49,
    "start_time": "2022-02-13T17:23:39.512Z"
   },
   {
    "duration": 12,
    "start_time": "2022-02-13T17:24:44.980Z"
   },
   {
    "duration": 654,
    "start_time": "2022-02-13T17:32:03.218Z"
   },
   {
    "duration": 33,
    "start_time": "2022-02-13T17:32:12.828Z"
   },
   {
    "duration": 33,
    "start_time": "2022-02-13T17:32:19.455Z"
   },
   {
    "duration": 459,
    "start_time": "2022-02-13T17:47:02.973Z"
   },
   {
    "duration": 5237,
    "start_time": "2022-02-13T17:48:32.298Z"
   },
   {
    "duration": 551,
    "start_time": "2022-02-13T17:48:37.538Z"
   },
   {
    "duration": 8,
    "start_time": "2022-02-13T17:48:38.093Z"
   },
   {
    "duration": 521,
    "start_time": "2022-02-13T17:48:38.105Z"
   },
   {
    "duration": 804,
    "start_time": "2022-02-13T17:48:38.629Z"
   },
   {
    "duration": 353,
    "start_time": "2022-02-13T17:48:39.435Z"
   },
   {
    "duration": 461,
    "start_time": "2022-02-13T17:48:39.791Z"
   },
   {
    "duration": 114,
    "start_time": "2022-02-13T17:48:40.256Z"
   },
   {
    "duration": 513,
    "start_time": "2022-02-13T17:48:40.373Z"
   },
   {
    "duration": 214,
    "start_time": "2022-02-13T17:48:40.889Z"
   },
   {
    "duration": 84,
    "start_time": "2022-02-13T17:48:41.106Z"
   },
   {
    "duration": 241,
    "start_time": "2022-02-13T17:48:41.192Z"
   },
   {
    "duration": 231,
    "start_time": "2022-02-13T17:48:41.435Z"
   },
   {
    "duration": 179,
    "start_time": "2022-02-13T17:48:41.668Z"
   },
   {
    "duration": 790,
    "start_time": "2022-02-13T17:48:41.850Z"
   },
   {
    "duration": 109,
    "start_time": "2022-02-13T17:48:42.535Z"
   },
   {
    "duration": 6,
    "start_time": "2022-02-13T17:49:49.707Z"
   },
   {
    "duration": 35,
    "start_time": "2022-02-13T17:49:55.499Z"
   },
   {
    "duration": 38,
    "start_time": "2022-02-13T17:53:57.118Z"
   },
   {
    "duration": 10,
    "start_time": "2022-02-13T17:55:28.030Z"
   },
   {
    "duration": 5414,
    "start_time": "2022-02-13T17:55:37.755Z"
   },
   {
    "duration": 578,
    "start_time": "2022-02-13T17:55:43.172Z"
   },
   {
    "duration": 7,
    "start_time": "2022-02-13T17:55:43.753Z"
   },
   {
    "duration": 430,
    "start_time": "2022-02-13T17:55:43.763Z"
   },
   {
    "duration": 1043,
    "start_time": "2022-02-13T17:55:44.196Z"
   },
   {
    "duration": 379,
    "start_time": "2022-02-13T17:55:45.242Z"
   },
   {
    "duration": 498,
    "start_time": "2022-02-13T17:55:45.624Z"
   },
   {
    "duration": 98,
    "start_time": "2022-02-13T17:55:46.126Z"
   },
   {
    "duration": 818,
    "start_time": "2022-02-13T17:55:46.227Z"
   },
   {
    "duration": 341,
    "start_time": "2022-02-13T17:55:47.048Z"
   },
   {
    "duration": 107,
    "start_time": "2022-02-13T17:55:47.393Z"
   },
   {
    "duration": 242,
    "start_time": "2022-02-13T17:55:47.504Z"
   },
   {
    "duration": 276,
    "start_time": "2022-02-13T17:55:47.748Z"
   },
   {
    "duration": 623,
    "start_time": "2022-02-13T17:55:48.027Z"
   },
   {
    "duration": 103,
    "start_time": "2022-02-13T17:55:48.550Z"
   },
   {
    "duration": 100,
    "start_time": "2022-02-13T17:55:48.555Z"
   },
   {
    "duration": 89,
    "start_time": "2022-02-13T17:55:48.567Z"
   },
   {
    "duration": 82,
    "start_time": "2022-02-13T17:55:48.575Z"
   },
   {
    "duration": 6344,
    "start_time": "2022-02-13T17:56:11.093Z"
   },
   {
    "duration": 789,
    "start_time": "2022-02-13T17:56:17.441Z"
   },
   {
    "duration": 13,
    "start_time": "2022-02-13T17:56:18.234Z"
   },
   {
    "duration": 344,
    "start_time": "2022-02-13T17:56:18.251Z"
   },
   {
    "duration": 772,
    "start_time": "2022-02-13T17:56:18.597Z"
   },
   {
    "duration": 357,
    "start_time": "2022-02-13T17:56:19.372Z"
   },
   {
    "duration": 482,
    "start_time": "2022-02-13T17:56:19.732Z"
   },
   {
    "duration": 105,
    "start_time": "2022-02-13T17:56:20.218Z"
   },
   {
    "duration": 651,
    "start_time": "2022-02-13T17:56:20.326Z"
   },
   {
    "duration": 258,
    "start_time": "2022-02-13T17:56:20.981Z"
   },
   {
    "duration": 271,
    "start_time": "2022-02-13T17:56:21.243Z"
   },
   {
    "duration": 244,
    "start_time": "2022-02-13T17:56:21.517Z"
   },
   {
    "duration": 196,
    "start_time": "2022-02-13T17:56:21.764Z"
   },
   {
    "duration": 280,
    "start_time": "2022-02-13T17:56:21.963Z"
   },
   {
    "duration": 213,
    "start_time": "2022-02-13T17:56:22.245Z"
   },
   {
    "duration": 970,
    "start_time": "2022-02-13T17:56:22.461Z"
   },
   {
    "duration": 103,
    "start_time": "2022-02-13T17:56:23.332Z"
   },
   {
    "duration": 96,
    "start_time": "2022-02-13T17:56:23.341Z"
   },
   {
    "duration": 459,
    "start_time": "2022-02-13T17:58:10.135Z"
   },
   {
    "duration": 566,
    "start_time": "2022-02-13T18:32:46.159Z"
   },
   {
    "duration": 441,
    "start_time": "2022-02-13T18:34:09.452Z"
   },
   {
    "duration": 483,
    "start_time": "2022-02-13T18:35:16.036Z"
   },
   {
    "duration": 479,
    "start_time": "2022-02-13T18:35:21.468Z"
   },
   {
    "duration": 445,
    "start_time": "2022-02-13T18:35:43.612Z"
   },
   {
    "duration": 446,
    "start_time": "2022-02-13T18:36:07.754Z"
   },
   {
    "duration": 453,
    "start_time": "2022-02-13T18:37:25.149Z"
   },
   {
    "duration": 31,
    "start_time": "2022-02-13T18:38:21.774Z"
   },
   {
    "duration": 18,
    "start_time": "2022-02-13T18:38:28.600Z"
   },
   {
    "duration": 34,
    "start_time": "2022-02-13T18:40:05.608Z"
   },
   {
    "duration": 45,
    "start_time": "2022-02-13T18:43:54.847Z"
   },
   {
    "duration": 7,
    "start_time": "2022-02-13T18:44:27.076Z"
   },
   {
    "duration": 8,
    "start_time": "2022-02-13T18:44:45.592Z"
   },
   {
    "duration": 101,
    "start_time": "2022-02-13T18:46:40.423Z"
   },
   {
    "duration": 92,
    "start_time": "2022-02-13T18:46:46.615Z"
   },
   {
    "duration": 285,
    "start_time": "2022-02-13T18:46:51.016Z"
   },
   {
    "duration": 95,
    "start_time": "2022-02-13T18:46:56.791Z"
   },
   {
    "duration": 6,
    "start_time": "2022-02-13T18:46:59.815Z"
   },
   {
    "duration": 33,
    "start_time": "2022-02-13T18:47:09.211Z"
   },
   {
    "duration": 5,
    "start_time": "2022-02-13T18:47:49.325Z"
   },
   {
    "duration": 37,
    "start_time": "2022-02-13T18:47:51.753Z"
   },
   {
    "duration": 9,
    "start_time": "2022-02-13T18:49:06.961Z"
   },
   {
    "duration": 34,
    "start_time": "2022-02-13T18:49:07.749Z"
   },
   {
    "duration": 6,
    "start_time": "2022-02-13T18:49:31.316Z"
   },
   {
    "duration": 59,
    "start_time": "2022-02-13T18:49:31.703Z"
   },
   {
    "duration": 12,
    "start_time": "2022-02-13T18:49:40.249Z"
   },
   {
    "duration": 82,
    "start_time": "2022-02-13T18:49:40.410Z"
   },
   {
    "duration": 284,
    "start_time": "2022-02-13T18:50:24.759Z"
   },
   {
    "duration": 83,
    "start_time": "2022-02-13T18:50:24.963Z"
   },
   {
    "duration": 18,
    "start_time": "2022-02-13T18:50:40.875Z"
   },
   {
    "duration": 123,
    "start_time": "2022-02-13T18:50:41.138Z"
   },
   {
    "duration": 42,
    "start_time": "2022-02-13T18:50:56.841Z"
   },
   {
    "duration": 8,
    "start_time": "2022-02-13T18:53:19.488Z"
   },
   {
    "duration": 9,
    "start_time": "2022-02-13T18:53:28.685Z"
   },
   {
    "duration": 2321,
    "start_time": "2022-02-13T18:57:58.325Z"
   },
   {
    "duration": 13,
    "start_time": "2022-02-13T19:00:00.467Z"
   },
   {
    "duration": 7,
    "start_time": "2022-02-13T19:00:35.618Z"
   },
   {
    "duration": 9,
    "start_time": "2022-02-13T19:01:09.417Z"
   },
   {
    "duration": 2088,
    "start_time": "2022-02-13T19:01:19.910Z"
   },
   {
    "duration": 1954,
    "start_time": "2022-02-13T19:04:46.186Z"
   },
   {
    "duration": 1960,
    "start_time": "2022-02-13T19:06:11.318Z"
   },
   {
    "duration": 7133,
    "start_time": "2022-02-13T19:06:40.672Z"
   },
   {
    "duration": 23,
    "start_time": "2022-02-13T19:07:12.917Z"
   },
   {
    "duration": 44,
    "start_time": "2022-02-13T19:07:16.071Z"
   },
   {
    "duration": 62,
    "start_time": "2022-02-13T19:07:23.819Z"
   },
   {
    "duration": 11,
    "start_time": "2022-02-13T19:08:16.653Z"
   },
   {
    "duration": 17,
    "start_time": "2022-02-13T19:09:23.593Z"
   },
   {
    "duration": 57,
    "start_time": "2022-02-13T19:09:37.489Z"
   },
   {
    "duration": 37,
    "start_time": "2022-02-13T19:09:44.743Z"
   },
   {
    "duration": 5414,
    "start_time": "2022-02-13T20:22:25.556Z"
   },
   {
    "duration": 637,
    "start_time": "2022-02-13T20:22:30.973Z"
   },
   {
    "duration": 8,
    "start_time": "2022-02-13T20:22:31.613Z"
   },
   {
    "duration": 323,
    "start_time": "2022-02-13T20:22:31.623Z"
   },
   {
    "duration": 811,
    "start_time": "2022-02-13T20:22:31.968Z"
   },
   {
    "duration": 362,
    "start_time": "2022-02-13T20:22:32.781Z"
   },
   {
    "duration": 476,
    "start_time": "2022-02-13T20:22:33.146Z"
   },
   {
    "duration": 103,
    "start_time": "2022-02-13T20:22:33.625Z"
   },
   {
    "duration": 615,
    "start_time": "2022-02-13T20:22:33.730Z"
   },
   {
    "duration": 228,
    "start_time": "2022-02-13T20:22:34.348Z"
   },
   {
    "duration": 104,
    "start_time": "2022-02-13T20:22:34.581Z"
   },
   {
    "duration": 152,
    "start_time": "2022-02-13T20:22:34.688Z"
   },
   {
    "duration": 209,
    "start_time": "2022-02-13T20:22:34.843Z"
   },
   {
    "duration": 293,
    "start_time": "2022-02-13T20:22:35.055Z"
   },
   {
    "duration": 567,
    "start_time": "2022-02-13T20:22:35.351Z"
   },
   {
    "duration": 37,
    "start_time": "2022-02-13T20:23:21.955Z"
   },
   {
    "duration": 5664,
    "start_time": "2022-02-13T20:27:31.155Z"
   },
   {
    "duration": 560,
    "start_time": "2022-02-13T20:27:36.823Z"
   },
   {
    "duration": 8,
    "start_time": "2022-02-13T20:27:37.388Z"
   },
   {
    "duration": 285,
    "start_time": "2022-02-13T20:27:37.399Z"
   },
   {
    "duration": 820,
    "start_time": "2022-02-13T20:27:37.687Z"
   },
   {
    "duration": 330,
    "start_time": "2022-02-13T20:27:38.510Z"
   },
   {
    "duration": 451,
    "start_time": "2022-02-13T20:27:38.842Z"
   },
   {
    "duration": 107,
    "start_time": "2022-02-13T20:27:39.296Z"
   },
   {
    "duration": 602,
    "start_time": "2022-02-13T20:27:39.406Z"
   },
   {
    "duration": 225,
    "start_time": "2022-02-13T20:27:40.011Z"
   },
   {
    "duration": 84,
    "start_time": "2022-02-13T20:27:40.238Z"
   },
   {
    "duration": 162,
    "start_time": "2022-02-13T20:27:40.326Z"
   },
   {
    "duration": 211,
    "start_time": "2022-02-13T20:27:40.491Z"
   },
   {
    "duration": 165,
    "start_time": "2022-02-13T20:27:40.704Z"
   },
   {
    "duration": 670,
    "start_time": "2022-02-13T20:27:40.872Z"
   },
   {
    "duration": 45,
    "start_time": "2022-02-13T20:27:41.544Z"
   },
   {
    "duration": 5325,
    "start_time": "2022-02-13T20:32:29.791Z"
   },
   {
    "duration": 552,
    "start_time": "2022-02-13T20:32:35.120Z"
   },
   {
    "duration": 9,
    "start_time": "2022-02-13T20:32:35.676Z"
   },
   {
    "duration": 389,
    "start_time": "2022-02-13T20:32:35.688Z"
   },
   {
    "duration": 770,
    "start_time": "2022-02-13T20:32:36.079Z"
   },
   {
    "duration": 359,
    "start_time": "2022-02-13T20:32:36.852Z"
   },
   {
    "duration": 450,
    "start_time": "2022-02-13T20:32:37.213Z"
   },
   {
    "duration": 118,
    "start_time": "2022-02-13T20:32:37.666Z"
   },
   {
    "duration": 582,
    "start_time": "2022-02-13T20:32:37.789Z"
   },
   {
    "duration": 222,
    "start_time": "2022-02-13T20:32:38.373Z"
   },
   {
    "duration": 156,
    "start_time": "2022-02-13T20:32:38.598Z"
   },
   {
    "duration": 267,
    "start_time": "2022-02-13T20:32:38.758Z"
   },
   {
    "duration": 307,
    "start_time": "2022-02-13T20:32:39.027Z"
   },
   {
    "duration": 247,
    "start_time": "2022-02-13T20:32:39.336Z"
   },
   {
    "duration": 665,
    "start_time": "2022-02-13T20:32:39.585Z"
   },
   {
    "duration": 46,
    "start_time": "2022-02-13T20:32:40.252Z"
   },
   {
    "duration": 5649,
    "start_time": "2022-02-13T20:33:27.894Z"
   },
   {
    "duration": 577,
    "start_time": "2022-02-13T20:33:33.546Z"
   },
   {
    "duration": 7,
    "start_time": "2022-02-13T20:33:34.126Z"
   },
   {
    "duration": 449,
    "start_time": "2022-02-13T20:33:34.136Z"
   },
   {
    "duration": 863,
    "start_time": "2022-02-13T20:33:34.588Z"
   },
   {
    "duration": 381,
    "start_time": "2022-02-13T20:33:35.453Z"
   },
   {
    "duration": 518,
    "start_time": "2022-02-13T20:33:35.837Z"
   },
   {
    "duration": 112,
    "start_time": "2022-02-13T20:33:36.359Z"
   },
   {
    "duration": 586,
    "start_time": "2022-02-13T20:33:36.474Z"
   },
   {
    "duration": 234,
    "start_time": "2022-02-13T20:33:37.063Z"
   },
   {
    "duration": 83,
    "start_time": "2022-02-13T20:33:37.299Z"
   },
   {
    "duration": 210,
    "start_time": "2022-02-13T20:33:37.385Z"
   },
   {
    "duration": 188,
    "start_time": "2022-02-13T20:33:37.597Z"
   },
   {
    "duration": 158,
    "start_time": "2022-02-13T20:33:37.787Z"
   },
   {
    "duration": 246,
    "start_time": "2022-02-13T20:33:37.948Z"
   },
   {
    "duration": 84,
    "start_time": "2022-02-13T20:33:38.113Z"
   },
   {
    "duration": 388,
    "start_time": "2022-02-13T20:33:57.542Z"
   },
   {
    "duration": 42,
    "start_time": "2022-02-13T20:34:00.251Z"
   },
   {
    "duration": 9,
    "start_time": "2022-02-13T20:35:27.278Z"
   },
   {
    "duration": 5630,
    "start_time": "2022-02-13T20:35:57.001Z"
   },
   {
    "duration": 588,
    "start_time": "2022-02-13T20:36:02.634Z"
   },
   {
    "duration": 9,
    "start_time": "2022-02-13T20:36:03.225Z"
   },
   {
    "duration": 481,
    "start_time": "2022-02-13T20:36:03.237Z"
   },
   {
    "duration": 958,
    "start_time": "2022-02-13T20:36:03.721Z"
   },
   {
    "duration": 355,
    "start_time": "2022-02-13T20:36:04.682Z"
   },
   {
    "duration": 475,
    "start_time": "2022-02-13T20:36:05.040Z"
   },
   {
    "duration": 101,
    "start_time": "2022-02-13T20:36:05.519Z"
   },
   {
    "duration": 678,
    "start_time": "2022-02-13T20:36:05.623Z"
   },
   {
    "duration": 245,
    "start_time": "2022-02-13T20:36:06.304Z"
   },
   {
    "duration": 217,
    "start_time": "2022-02-13T20:36:06.551Z"
   },
   {
    "duration": 238,
    "start_time": "2022-02-13T20:36:06.771Z"
   },
   {
    "duration": 222,
    "start_time": "2022-02-13T20:36:07.012Z"
   },
   {
    "duration": 230,
    "start_time": "2022-02-13T20:36:07.237Z"
   },
   {
    "duration": 660,
    "start_time": "2022-02-13T20:36:07.473Z"
   },
   {
    "duration": 19,
    "start_time": "2022-02-13T20:36:08.137Z"
   },
   {
    "duration": 22,
    "start_time": "2022-02-13T20:36:23.187Z"
   },
   {
    "duration": 170,
    "start_time": "2022-02-14T14:55:10.977Z"
   },
   {
    "duration": 3870,
    "start_time": "2022-02-14T15:01:29.583Z"
   },
   {
    "duration": 371,
    "start_time": "2022-02-14T15:01:33.456Z"
   },
   {
    "duration": 4,
    "start_time": "2022-02-14T15:01:33.829Z"
   },
   {
    "duration": 61,
    "start_time": "2022-02-14T15:01:33.835Z"
   },
   {
    "duration": 409,
    "start_time": "2022-02-14T15:01:33.897Z"
   },
   {
    "duration": 187,
    "start_time": "2022-02-14T15:01:34.308Z"
   },
   {
    "duration": 233,
    "start_time": "2022-02-14T15:01:34.496Z"
   },
   {
    "duration": 68,
    "start_time": "2022-02-14T15:01:34.731Z"
   },
   {
    "duration": 293,
    "start_time": "2022-02-14T15:01:34.801Z"
   },
   {
    "duration": 125,
    "start_time": "2022-02-14T15:01:35.096Z"
   },
   {
    "duration": 49,
    "start_time": "2022-02-14T15:01:35.223Z"
   },
   {
    "duration": 26,
    "start_time": "2022-02-14T15:01:35.274Z"
   },
   {
    "duration": 34,
    "start_time": "2022-02-14T15:01:35.301Z"
   },
   {
    "duration": 43,
    "start_time": "2022-02-14T15:01:35.337Z"
   },
   {
    "duration": 210,
    "start_time": "2022-02-14T15:01:35.381Z"
   },
   {
    "duration": 13,
    "start_time": "2022-02-14T15:01:35.593Z"
   },
   {
    "duration": 5,
    "start_time": "2022-02-14T15:02:54.205Z"
   },
   {
    "duration": 10251,
    "start_time": "2022-02-14T15:04:40.064Z"
   },
   {
    "duration": 3874,
    "start_time": "2022-02-14T15:05:32.441Z"
   },
   {
    "duration": 374,
    "start_time": "2022-02-14T15:05:36.317Z"
   },
   {
    "duration": 5,
    "start_time": "2022-02-14T15:05:36.693Z"
   },
   {
    "duration": 57,
    "start_time": "2022-02-14T15:05:36.700Z"
   },
   {
    "duration": 498,
    "start_time": "2022-02-14T15:05:36.759Z"
   },
   {
    "duration": 203,
    "start_time": "2022-02-14T15:05:37.259Z"
   },
   {
    "duration": 258,
    "start_time": "2022-02-14T15:05:37.464Z"
   },
   {
    "duration": 62,
    "start_time": "2022-02-14T15:05:37.724Z"
   },
   {
    "duration": 274,
    "start_time": "2022-02-14T15:05:37.789Z"
   },
   {
    "duration": 136,
    "start_time": "2022-02-14T15:05:38.066Z"
   },
   {
    "duration": 55,
    "start_time": "2022-02-14T15:05:38.203Z"
   },
   {
    "duration": 28,
    "start_time": "2022-02-14T15:05:38.260Z"
   },
   {
    "duration": 35,
    "start_time": "2022-02-14T15:05:38.290Z"
   },
   {
    "duration": 25,
    "start_time": "2022-02-14T15:05:38.327Z"
   },
   {
    "duration": 226,
    "start_time": "2022-02-14T15:05:38.353Z"
   },
   {
    "duration": 10970,
    "start_time": "2022-02-14T15:05:38.581Z"
   },
   {
    "duration": -446,
    "start_time": "2022-02-14T15:05:50.000Z"
   },
   {
    "duration": -459,
    "start_time": "2022-02-14T15:05:50.014Z"
   },
   {
    "duration": 3532,
    "start_time": "2022-02-14T15:06:57.797Z"
   },
   {
    "duration": 375,
    "start_time": "2022-02-14T15:07:01.331Z"
   },
   {
    "duration": 5,
    "start_time": "2022-02-14T15:07:01.708Z"
   },
   {
    "duration": 55,
    "start_time": "2022-02-14T15:07:01.715Z"
   },
   {
    "duration": 405,
    "start_time": "2022-02-14T15:07:01.772Z"
   },
   {
    "duration": 174,
    "start_time": "2022-02-14T15:07:02.178Z"
   },
   {
    "duration": 240,
    "start_time": "2022-02-14T15:07:02.354Z"
   },
   {
    "duration": 41,
    "start_time": "2022-02-14T15:07:02.596Z"
   },
   {
    "duration": 288,
    "start_time": "2022-02-14T15:07:02.639Z"
   },
   {
    "duration": 123,
    "start_time": "2022-02-14T15:07:02.929Z"
   },
   {
    "duration": 49,
    "start_time": "2022-02-14T15:07:03.053Z"
   },
   {
    "duration": 26,
    "start_time": "2022-02-14T15:07:03.104Z"
   },
   {
    "duration": 45,
    "start_time": "2022-02-14T15:07:03.132Z"
   },
   {
    "duration": 23,
    "start_time": "2022-02-14T15:07:03.178Z"
   },
   {
    "duration": 224,
    "start_time": "2022-02-14T15:07:03.203Z"
   },
   {
    "duration": 13,
    "start_time": "2022-02-14T15:07:03.429Z"
   },
   {
    "duration": 3815,
    "start_time": "2022-02-14T15:09:31.288Z"
   },
   {
    "duration": 457,
    "start_time": "2022-02-14T15:09:35.105Z"
   },
   {
    "duration": 6,
    "start_time": "2022-02-14T15:09:35.564Z"
   },
   {
    "duration": 63,
    "start_time": "2022-02-14T15:09:35.571Z"
   },
   {
    "duration": 514,
    "start_time": "2022-02-14T15:09:35.636Z"
   },
   {
    "duration": 225,
    "start_time": "2022-02-14T15:09:36.152Z"
   },
   {
    "duration": 319,
    "start_time": "2022-02-14T15:09:36.379Z"
   },
   {
    "duration": 74,
    "start_time": "2022-02-14T15:09:36.701Z"
   },
   {
    "duration": 295,
    "start_time": "2022-02-14T15:09:36.777Z"
   },
   {
    "duration": 152,
    "start_time": "2022-02-14T15:09:37.074Z"
   },
   {
    "duration": 57,
    "start_time": "2022-02-14T15:09:37.227Z"
   },
   {
    "duration": 29,
    "start_time": "2022-02-14T15:09:37.286Z"
   },
   {
    "duration": 35,
    "start_time": "2022-02-14T15:09:37.317Z"
   },
   {
    "duration": 40,
    "start_time": "2022-02-14T15:09:37.354Z"
   },
   {
    "duration": 256,
    "start_time": "2022-02-14T15:09:37.396Z"
   },
   {
    "duration": 25,
    "start_time": "2022-02-14T15:09:37.654Z"
   },
   {
    "duration": 6,
    "start_time": "2022-02-14T15:15:50.748Z"
   },
   {
    "duration": 7,
    "start_time": "2022-02-14T15:15:55.468Z"
   },
   {
    "duration": 11,
    "start_time": "2022-02-14T15:17:37.968Z"
   },
   {
    "duration": 10,
    "start_time": "2022-02-14T15:17:38.728Z"
   },
   {
    "duration": 8,
    "start_time": "2022-02-14T15:17:53.136Z"
   },
   {
    "duration": 9,
    "start_time": "2022-02-14T15:17:53.701Z"
   },
   {
    "duration": 15,
    "start_time": "2022-02-14T15:18:26.800Z"
   },
   {
    "duration": 11,
    "start_time": "2022-02-14T15:18:27.428Z"
   },
   {
    "duration": 918,
    "start_time": "2022-02-14T15:24:22.368Z"
   },
   {
    "duration": 527,
    "start_time": "2022-02-14T15:25:29.645Z"
   },
   {
    "duration": 427,
    "start_time": "2022-02-14T15:26:11.768Z"
   },
   {
    "duration": 389,
    "start_time": "2022-02-14T15:26:23.920Z"
   },
   {
    "duration": 345,
    "start_time": "2022-02-14T15:26:53.827Z"
   },
   {
    "duration": 388,
    "start_time": "2022-02-14T15:27:18.388Z"
   },
   {
    "duration": 744,
    "start_time": "2022-02-14T15:36:52.999Z"
   },
   {
    "duration": 1077,
    "start_time": "2022-02-14T15:37:03.428Z"
   },
   {
    "duration": 631,
    "start_time": "2022-02-14T15:37:53.888Z"
   },
   {
    "duration": 607,
    "start_time": "2022-02-14T15:38:49.448Z"
   },
   {
    "duration": 707,
    "start_time": "2022-02-14T15:39:01.576Z"
   },
   {
    "duration": 599,
    "start_time": "2022-02-14T15:40:30.689Z"
   },
   {
    "duration": 559,
    "start_time": "2022-02-14T15:41:51.868Z"
   },
   {
    "duration": 989,
    "start_time": "2022-02-14T15:42:04.690Z"
   },
   {
    "duration": 6850,
    "start_time": "2022-02-15T15:51:45.479Z"
   },
   {
    "duration": 692,
    "start_time": "2022-02-15T15:51:52.334Z"
   },
   {
    "duration": 10,
    "start_time": "2022-02-15T15:51:53.031Z"
   },
   {
    "duration": 178,
    "start_time": "2022-02-15T15:51:53.045Z"
   },
   {
    "duration": 932,
    "start_time": "2022-02-15T15:51:53.226Z"
   },
   {
    "duration": 548,
    "start_time": "2022-02-15T15:51:54.161Z"
   },
   {
    "duration": 677,
    "start_time": "2022-02-15T15:51:54.712Z"
   },
   {
    "duration": 147,
    "start_time": "2022-02-15T15:51:55.392Z"
   },
   {
    "duration": 475,
    "start_time": "2022-02-15T15:51:55.545Z"
   },
   {
    "duration": 224,
    "start_time": "2022-02-15T15:51:56.024Z"
   },
   {
    "duration": 91,
    "start_time": "2022-02-15T15:51:56.251Z"
   },
   {
    "duration": 44,
    "start_time": "2022-02-15T15:51:56.346Z"
   },
   {
    "duration": 77,
    "start_time": "2022-02-15T15:51:56.393Z"
   },
   {
    "duration": 65,
    "start_time": "2022-02-15T15:51:56.473Z"
   },
   {
    "duration": 696,
    "start_time": "2022-02-15T15:51:56.541Z"
   },
   {
    "duration": 32,
    "start_time": "2022-02-15T15:51:57.240Z"
   },
   {
    "duration": 25,
    "start_time": "2022-02-15T15:51:57.275Z"
   },
   {
    "duration": 14,
    "start_time": "2022-02-15T15:51:57.324Z"
   },
   {
    "duration": 1043,
    "start_time": "2022-02-15T15:51:57.341Z"
   },
   {
    "duration": 530,
    "start_time": "2022-02-15T15:51:58.387Z"
   },
   {
    "duration": 27,
    "start_time": "2022-02-15T15:53:30.890Z"
   },
   {
    "duration": 823,
    "start_time": "2022-02-15T15:54:36.130Z"
   },
   {
    "duration": 772,
    "start_time": "2022-02-15T15:54:45.291Z"
   },
   {
    "duration": 654,
    "start_time": "2022-02-15T15:56:48.384Z"
   },
   {
    "duration": 649,
    "start_time": "2022-02-15T15:56:56.713Z"
   },
   {
    "duration": 1214,
    "start_time": "2022-02-15T15:57:04.860Z"
   },
   {
    "duration": 1040,
    "start_time": "2022-02-15T15:57:16.857Z"
   },
   {
    "duration": 1132,
    "start_time": "2022-02-15T15:57:36.304Z"
   },
   {
    "duration": 950,
    "start_time": "2022-02-15T15:57:43.563Z"
   },
   {
    "duration": 1114,
    "start_time": "2022-02-15T15:57:54.252Z"
   },
   {
    "duration": 653,
    "start_time": "2022-02-15T15:58:03.742Z"
   },
   {
    "duration": 843,
    "start_time": "2022-02-15T15:58:22.883Z"
   },
   {
    "duration": 786,
    "start_time": "2022-02-15T16:09:55.814Z"
   },
   {
    "duration": 958,
    "start_time": "2022-02-15T16:10:03.565Z"
   },
   {
    "duration": 1058,
    "start_time": "2022-02-15T16:18:31.644Z"
   },
   {
    "duration": 954,
    "start_time": "2022-02-15T16:19:48.782Z"
   },
   {
    "duration": 995,
    "start_time": "2022-02-15T16:20:09.264Z"
   },
   {
    "duration": 1086,
    "start_time": "2022-02-15T16:21:27.365Z"
   },
   {
    "duration": 100,
    "start_time": "2022-02-15T16:22:08.895Z"
   },
   {
    "duration": 1137,
    "start_time": "2022-02-15T16:22:19.362Z"
   },
   {
    "duration": 1456,
    "start_time": "2022-02-15T16:27:49.885Z"
   },
   {
    "duration": 1878,
    "start_time": "2022-02-15T16:28:11.933Z"
   },
   {
    "duration": 1424,
    "start_time": "2022-02-15T16:28:27.934Z"
   },
   {
    "duration": 1178,
    "start_time": "2022-02-15T16:28:46.447Z"
   },
   {
    "duration": 1570,
    "start_time": "2022-02-15T16:29:34.831Z"
   },
   {
    "duration": 1256,
    "start_time": "2022-02-15T16:30:14.518Z"
   },
   {
    "duration": 3182,
    "start_time": "2022-02-15T16:30:59.663Z"
   },
   {
    "duration": 4972,
    "start_time": "2022-02-15T16:35:58.164Z"
   },
   {
    "duration": 711,
    "start_time": "2022-02-15T16:36:03.140Z"
   },
   {
    "duration": 10,
    "start_time": "2022-02-15T16:36:03.855Z"
   },
   {
    "duration": 156,
    "start_time": "2022-02-15T16:36:03.869Z"
   },
   {
    "duration": 589,
    "start_time": "2022-02-15T16:36:04.028Z"
   },
   {
    "duration": 286,
    "start_time": "2022-02-15T16:36:04.623Z"
   },
   {
    "duration": 379,
    "start_time": "2022-02-15T16:36:04.924Z"
   },
   {
    "duration": 119,
    "start_time": "2022-02-15T16:36:05.307Z"
   },
   {
    "duration": 650,
    "start_time": "2022-02-15T16:36:05.429Z"
   },
   {
    "duration": 322,
    "start_time": "2022-02-15T16:36:06.082Z"
   },
   {
    "duration": 91,
    "start_time": "2022-02-15T16:36:06.407Z"
   },
   {
    "duration": 72,
    "start_time": "2022-02-15T16:36:06.501Z"
   },
   {
    "duration": 63,
    "start_time": "2022-02-15T16:36:06.575Z"
   },
   {
    "duration": 39,
    "start_time": "2022-02-15T16:36:06.641Z"
   },
   {
    "duration": 733,
    "start_time": "2022-02-15T16:36:06.683Z"
   },
   {
    "duration": 26,
    "start_time": "2022-02-15T16:36:07.423Z"
   },
   {
    "duration": 29,
    "start_time": "2022-02-15T16:36:07.452Z"
   },
   {
    "duration": 1939,
    "start_time": "2022-02-15T16:36:07.484Z"
   },
   {
    "duration": -197,
    "start_time": "2022-02-15T16:36:09.623Z"
   },
   {
    "duration": 1026,
    "start_time": "2022-02-15T16:40:52.764Z"
   },
   {
    "duration": 1743,
    "start_time": "2022-02-15T16:41:40.315Z"
   },
   {
    "duration": 1567,
    "start_time": "2022-02-15T16:42:09.645Z"
   },
   {
    "duration": 1539,
    "start_time": "2022-02-15T16:42:40.163Z"
   },
   {
    "duration": 2162,
    "start_time": "2022-02-15T16:43:36.870Z"
   },
   {
    "duration": 2484,
    "start_time": "2022-02-15T16:44:21.509Z"
   },
   {
    "duration": 2820,
    "start_time": "2022-02-15T16:44:29.245Z"
   },
   {
    "duration": 2065,
    "start_time": "2022-02-15T16:48:11.007Z"
   },
   {
    "duration": 1925,
    "start_time": "2022-02-15T16:48:17.556Z"
   },
   {
    "duration": 2655,
    "start_time": "2022-02-15T16:48:45.788Z"
   },
   {
    "duration": 1880,
    "start_time": "2022-02-15T16:49:33.779Z"
   },
   {
    "duration": 2181,
    "start_time": "2022-02-15T16:49:45.854Z"
   },
   {
    "duration": 2851,
    "start_time": "2022-02-15T16:49:54.188Z"
   },
   {
    "duration": 1986,
    "start_time": "2022-02-15T16:53:58.667Z"
   },
   {
    "duration": 2103,
    "start_time": "2022-02-15T16:54:06.806Z"
   },
   {
    "duration": 2053,
    "start_time": "2022-02-15T16:54:38.784Z"
   },
   {
    "duration": 5356,
    "start_time": "2022-02-15T16:55:48.038Z"
   },
   {
    "duration": 2039,
    "start_time": "2022-02-15T16:56:07.498Z"
   },
   {
    "duration": 5159,
    "start_time": "2022-02-15T16:56:17.923Z"
   },
   {
    "duration": 3346,
    "start_time": "2022-02-15T16:56:23.085Z"
   },
   {
    "duration": 466,
    "start_time": "2022-02-15T16:56:26.435Z"
   },
   {
    "duration": 6,
    "start_time": "2022-02-15T16:56:26.904Z"
   },
   {
    "duration": 112,
    "start_time": "2022-02-15T16:56:26.913Z"
   },
   {
    "duration": 525,
    "start_time": "2022-02-15T16:56:27.028Z"
   },
   {
    "duration": 272,
    "start_time": "2022-02-15T16:56:27.556Z"
   },
   {
    "duration": 383,
    "start_time": "2022-02-15T16:56:27.831Z"
   },
   {
    "duration": 106,
    "start_time": "2022-02-15T16:56:28.217Z"
   },
   {
    "duration": 431,
    "start_time": "2022-02-15T16:56:28.326Z"
   },
   {
    "duration": 182,
    "start_time": "2022-02-15T16:56:28.759Z"
   },
   {
    "duration": 80,
    "start_time": "2022-02-15T16:56:28.944Z"
   },
   {
    "duration": 40,
    "start_time": "2022-02-15T16:56:29.027Z"
   },
   {
    "duration": 69,
    "start_time": "2022-02-15T16:56:29.069Z"
   },
   {
    "duration": 39,
    "start_time": "2022-02-15T16:56:29.140Z"
   },
   {
    "duration": 387,
    "start_time": "2022-02-15T16:56:29.181Z"
   },
   {
    "duration": 21,
    "start_time": "2022-02-15T16:56:29.571Z"
   },
   {
    "duration": 42,
    "start_time": "2022-02-15T16:56:29.595Z"
   },
   {
    "duration": 2096,
    "start_time": "2022-02-15T16:56:29.639Z"
   },
   {
    "duration": 1827,
    "start_time": "2022-02-15T16:59:34.780Z"
   },
   {
    "duration": 2342,
    "start_time": "2022-02-15T17:00:06.237Z"
   },
   {
    "duration": 3434,
    "start_time": "2022-02-15T17:00:32.810Z"
   },
   {
    "duration": 3362,
    "start_time": "2022-02-15T17:00:50.954Z"
   },
   {
    "duration": 3418,
    "start_time": "2022-02-15T17:01:19.215Z"
   },
   {
    "duration": 3712,
    "start_time": "2022-02-15T17:13:57.076Z"
   },
   {
    "duration": 1835,
    "start_time": "2022-02-15T17:16:20.956Z"
   },
   {
    "duration": 3647,
    "start_time": "2022-02-15T17:19:17.482Z"
   },
   {
    "duration": 7,
    "start_time": "2022-02-15T17:28:12.335Z"
   },
   {
    "duration": 1285,
    "start_time": "2022-02-15T17:28:43.428Z"
   },
   {
    "duration": 7,
    "start_time": "2022-02-15T17:29:03.530Z"
   },
   {
    "duration": 1684,
    "start_time": "2022-02-15T17:29:05.128Z"
   },
   {
    "duration": 7,
    "start_time": "2022-02-15T17:29:57.230Z"
   },
   {
    "duration": 1527,
    "start_time": "2022-02-15T17:30:00.359Z"
   },
   {
    "duration": 6,
    "start_time": "2022-02-15T17:30:11.415Z"
   },
   {
    "duration": 1335,
    "start_time": "2022-02-15T17:30:12.803Z"
   },
   {
    "duration": 6,
    "start_time": "2022-02-15T17:38:30.256Z"
   },
   {
    "duration": 1288,
    "start_time": "2022-02-15T17:38:32.259Z"
   },
   {
    "duration": 7,
    "start_time": "2022-02-15T17:38:41.849Z"
   },
   {
    "duration": 1580,
    "start_time": "2022-02-15T17:38:44.872Z"
   },
   {
    "duration": 10,
    "start_time": "2022-02-15T17:39:20.371Z"
   },
   {
    "duration": 1639,
    "start_time": "2022-02-15T17:39:20.384Z"
   },
   {
    "duration": 7,
    "start_time": "2022-02-15T17:39:27.236Z"
   },
   {
    "duration": 1297,
    "start_time": "2022-02-15T17:39:27.692Z"
   },
   {
    "duration": 7,
    "start_time": "2022-02-15T17:42:04.136Z"
   },
   {
    "duration": 1294,
    "start_time": "2022-02-15T17:42:04.842Z"
   },
   {
    "duration": 7,
    "start_time": "2022-02-15T17:42:49.280Z"
   },
   {
    "duration": 1291,
    "start_time": "2022-02-15T17:42:49.656Z"
   },
   {
    "duration": 7,
    "start_time": "2022-02-15T17:43:07.911Z"
   },
   {
    "duration": 2029,
    "start_time": "2022-02-15T17:43:10.403Z"
   },
   {
    "duration": 8,
    "start_time": "2022-02-15T17:43:18.519Z"
   },
   {
    "duration": 1293,
    "start_time": "2022-02-15T17:43:19.178Z"
   },
   {
    "duration": 7,
    "start_time": "2022-02-15T17:43:44.919Z"
   },
   {
    "duration": 1353,
    "start_time": "2022-02-15T17:43:45.792Z"
   },
   {
    "duration": 7,
    "start_time": "2022-02-15T17:44:04.675Z"
   },
   {
    "duration": 1278,
    "start_time": "2022-02-15T17:44:05.160Z"
   },
   {
    "duration": 9,
    "start_time": "2022-02-15T17:47:00.446Z"
   },
   {
    "duration": 1349,
    "start_time": "2022-02-15T17:47:01.376Z"
   },
   {
    "duration": 9,
    "start_time": "2022-02-15T17:47:33.212Z"
   },
   {
    "duration": 1347,
    "start_time": "2022-02-15T17:47:33.645Z"
   },
   {
    "duration": 4256,
    "start_time": "2022-02-15T19:21:21.602Z"
   },
   {
    "duration": 3107,
    "start_time": "2022-02-15T19:21:25.860Z"
   },
   {
    "duration": 372,
    "start_time": "2022-02-15T19:21:28.969Z"
   },
   {
    "duration": 4,
    "start_time": "2022-02-15T19:21:29.343Z"
   },
   {
    "duration": 51,
    "start_time": "2022-02-15T19:21:29.349Z"
   },
   {
    "duration": 401,
    "start_time": "2022-02-15T19:21:29.401Z"
   },
   {
    "duration": 185,
    "start_time": "2022-02-15T19:21:29.803Z"
   },
   {
    "duration": 272,
    "start_time": "2022-02-15T19:21:29.990Z"
   },
   {
    "duration": 68,
    "start_time": "2022-02-15T19:21:30.264Z"
   },
   {
    "duration": 260,
    "start_time": "2022-02-15T19:21:30.333Z"
   },
   {
    "duration": 117,
    "start_time": "2022-02-15T19:21:30.595Z"
   },
   {
    "duration": 47,
    "start_time": "2022-02-15T19:21:30.713Z"
   },
   {
    "duration": 26,
    "start_time": "2022-02-15T19:21:30.761Z"
   },
   {
    "duration": 45,
    "start_time": "2022-02-15T19:21:30.789Z"
   },
   {
    "duration": 22,
    "start_time": "2022-02-15T19:21:30.836Z"
   },
   {
    "duration": 217,
    "start_time": "2022-02-15T19:21:30.860Z"
   },
   {
    "duration": 14,
    "start_time": "2022-02-15T19:21:31.078Z"
   },
   {
    "duration": 16,
    "start_time": "2022-02-15T19:21:31.093Z"
   },
   {
    "duration": 21,
    "start_time": "2022-02-15T19:21:31.111Z"
   },
   {
    "duration": 1152,
    "start_time": "2022-02-15T19:21:31.134Z"
   },
   {
    "duration": -181,
    "start_time": "2022-02-15T19:21:32.469Z"
   },
   {
    "duration": 2639,
    "start_time": "2022-02-15T19:22:15.927Z"
   },
   {
    "duration": 77,
    "start_time": "2022-03-02T12:37:18.805Z"
   }
  ],
  "kernelspec": {
   "display_name": "Python 3 (ipykernel)",
   "language": "python",
   "name": "python3"
  },
  "language_info": {
   "codemirror_mode": {
    "name": "ipython",
    "version": 3
   },
   "file_extension": ".py",
   "mimetype": "text/x-python",
   "name": "python",
   "nbconvert_exporter": "python",
   "pygments_lexer": "ipython3",
   "version": "3.9.7"
  },
  "toc": {
   "base_numbering": 1,
   "nav_menu": {},
   "number_sections": true,
   "sideBar": true,
   "skip_h1_title": true,
   "title_cell": "Table of Contents",
   "title_sidebar": "Contents",
   "toc_cell": false,
   "toc_position": {},
   "toc_section_display": true,
   "toc_window_display": true
  }
 },
 "nbformat": 4,
 "nbformat_minor": 2
}
